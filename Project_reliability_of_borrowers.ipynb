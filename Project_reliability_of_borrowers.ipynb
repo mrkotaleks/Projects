{
 "cells": [
  {
   "cell_type": "markdown",
   "id": "e3e14be6",
   "metadata": {},
   "source": [
    "<div class=\"alert alert-success\">\n",
    "<font size=\"5\"><b>Комментарий ревьюера 3</b></font>\n",
    "\n",
    "Привет. Теперь все сделано отлично. Выводы реализованы правильно. Ты проделала классную работу, молодец. Поздравляю с ее завершением. Надеюсь, проект был интересен и поставлен. Продолжай в том же духе. Успехов в дальнейшем пути :)\n",
    "</div>"
   ]
  },
  {
   "cell_type": "markdown",
   "id": "7e4fe699",
   "metadata": {},
   "source": [
    "<div class=\"alert alert-info\">\n",
    "<font size=\"5\"><b>Комментарий ревьюера 2</b></font>\n",
    "\n",
    "Привет еще раз. Спасибо, что доделала работу. Оформление комментариев по работе сохраняется. Только обозначим, что это вторая итерация. \n",
    "\n",
    "</div>"
   ]
  },
  {
   "cell_type": "markdown",
   "id": "8278e3f9",
   "metadata": {},
   "source": [
    "<div class=\"alert alert-info\">\n",
    "<font size=\"5\"><b>Комментарий ревьюера</b></font>\n",
    "\n",
    "Привет, Александра! Спасибо, что прислала задание:) Меня зовут Слепцов Артем и я буду проверять твой проект) Ты проделала большую работу над проектом. Однако есть моменты, которые еще можно улучшить. Будет здорово, если ты, надеюсь, не против, если я буду на ты, будешь отвечать на комментарии и участвовать в диалоге. Если обращение на ты неприемлемо, то прошу сообщить. \n",
    "\n",
    "Мои комментарии обозначены пометкой **Комментарий ревьюера**. Далее в файле ты сможешь найти их в похожих ячейках:\n",
    "    \n",
    "<div class=\"alert alert-success\">Успех: Если фон комментария зелёный - всё сделано правильно. Рекомендации укажу таким же цветом;</div>\n",
    "        \n",
    "<div class=\"alert alert-warning\">Совет: Оранжевый - некритичные замечания;</div>\n",
    "        \n",
    "<div class=\"alert alert-danger\">Ошибка: Красный - нужно переделать. </div>\n",
    "        \n",
    "Не удаляй эти комментарии и постарайся учесть их в ходе выполнения данного проекта. Свои же комментарии ты можешь обозначать любым заметным способом. \n",
    "\n",
    "</div>"
   ]
  },
  {
   "cell_type": "markdown",
   "id": "386f2ae7",
   "metadata": {
    "deletable": false,
    "editable": false,
    "id": "386f2ae7"
   },
   "source": [
    "# Исследование надежности заемщиков\n"
   ]
  },
  {
   "cell_type": "markdown",
   "id": "ffe86f65",
   "metadata": {
    "deletable": false,
    "editable": false,
    "id": "ffe86f65"
   },
   "source": [
    "Во второй части проекта вы выполните шаги 3 и 4. Их вручную проверит ревьюер.\n",
    "Чтобы вам не пришлось писать код заново для шагов 1 и 2, мы добавили авторские решения в ячейки с кодом. \n",
    "\n"
   ]
  },
  {
   "cell_type": "markdown",
   "id": "26613308",
   "metadata": {
    "deletable": false,
    "editable": false,
    "id": "26613308"
   },
   "source": [
    "## Откройте таблицу и изучите общую информацию о данных"
   ]
  },
  {
   "cell_type": "markdown",
   "id": "3c9f838e",
   "metadata": {
    "deletable": false,
    "editable": false,
    "id": "3c9f838e"
   },
   "source": [
    "**Задание 1. Импортируйте библиотеку pandas. Считайте данные из csv-файла в датафрейм и сохраните в переменную `data`. Путь к файлу:**\n",
    "\n",
    "`/datasets/data.csv`"
   ]
  },
  {
   "cell_type": "markdown",
   "id": "2323ccca",
   "metadata": {},
   "source": [
    "<div class=\"alert alert-warning\">\n",
    "<font size=\"5\"><b>Комментарий ревьюера</b></font>\n",
    "\n",
    "Совет: Перед отправкой проекта рекомендую его перезапускать через Kernel => Restart & Run All.\n",
    "\n",
    "</div>"
   ]
  },
  {
   "cell_type": "code",
   "execution_count": 1,
   "id": "77a68a90",
   "metadata": {
    "deletable": false,
    "id": "77a68a90"
   },
   "outputs": [],
   "source": [
    "import pandas as pd\n",
    "\n",
    "try:\n",
    "    data = pd.read_csv('/datasets/data.csv')\n",
    "except:\n",
    "    data = pd.read_csv('https://code.s3.yandex.net/datasets/data.csv')"
   ]
  },
  {
   "cell_type": "markdown",
   "id": "45365635",
   "metadata": {
    "deletable": false,
    "editable": false,
    "id": "45365635"
   },
   "source": [
    "**Задание 2. Выведите первые 20 строчек датафрейма `data` на экран.**"
   ]
  },
  {
   "cell_type": "code",
   "execution_count": 2,
   "id": "b0451a9a",
   "metadata": {
    "deletable": false,
    "id": "b0451a9a",
    "outputId": "1a8f3ef2-d323-4ec2-ddf7-89670b5944c4",
    "scrolled": true
   },
   "outputs": [
    {
     "data": {
      "text/html": [
       "<div>\n",
       "<style scoped>\n",
       "    .dataframe tbody tr th:only-of-type {\n",
       "        vertical-align: middle;\n",
       "    }\n",
       "\n",
       "    .dataframe tbody tr th {\n",
       "        vertical-align: top;\n",
       "    }\n",
       "\n",
       "    .dataframe thead th {\n",
       "        text-align: right;\n",
       "    }\n",
       "</style>\n",
       "<table border=\"1\" class=\"dataframe\">\n",
       "  <thead>\n",
       "    <tr style=\"text-align: right;\">\n",
       "      <th></th>\n",
       "      <th>children</th>\n",
       "      <th>days_employed</th>\n",
       "      <th>dob_years</th>\n",
       "      <th>education</th>\n",
       "      <th>education_id</th>\n",
       "      <th>family_status</th>\n",
       "      <th>family_status_id</th>\n",
       "      <th>gender</th>\n",
       "      <th>income_type</th>\n",
       "      <th>debt</th>\n",
       "      <th>total_income</th>\n",
       "      <th>purpose</th>\n",
       "    </tr>\n",
       "  </thead>\n",
       "  <tbody>\n",
       "    <tr>\n",
       "      <th>0</th>\n",
       "      <td>1</td>\n",
       "      <td>-8437.673028</td>\n",
       "      <td>42</td>\n",
       "      <td>высшее</td>\n",
       "      <td>0</td>\n",
       "      <td>женат / замужем</td>\n",
       "      <td>0</td>\n",
       "      <td>F</td>\n",
       "      <td>сотрудник</td>\n",
       "      <td>0</td>\n",
       "      <td>253875.639453</td>\n",
       "      <td>покупка жилья</td>\n",
       "    </tr>\n",
       "    <tr>\n",
       "      <th>1</th>\n",
       "      <td>1</td>\n",
       "      <td>-4024.803754</td>\n",
       "      <td>36</td>\n",
       "      <td>среднее</td>\n",
       "      <td>1</td>\n",
       "      <td>женат / замужем</td>\n",
       "      <td>0</td>\n",
       "      <td>F</td>\n",
       "      <td>сотрудник</td>\n",
       "      <td>0</td>\n",
       "      <td>112080.014102</td>\n",
       "      <td>приобретение автомобиля</td>\n",
       "    </tr>\n",
       "    <tr>\n",
       "      <th>2</th>\n",
       "      <td>0</td>\n",
       "      <td>-5623.422610</td>\n",
       "      <td>33</td>\n",
       "      <td>Среднее</td>\n",
       "      <td>1</td>\n",
       "      <td>женат / замужем</td>\n",
       "      <td>0</td>\n",
       "      <td>M</td>\n",
       "      <td>сотрудник</td>\n",
       "      <td>0</td>\n",
       "      <td>145885.952297</td>\n",
       "      <td>покупка жилья</td>\n",
       "    </tr>\n",
       "    <tr>\n",
       "      <th>3</th>\n",
       "      <td>3</td>\n",
       "      <td>-4124.747207</td>\n",
       "      <td>32</td>\n",
       "      <td>среднее</td>\n",
       "      <td>1</td>\n",
       "      <td>женат / замужем</td>\n",
       "      <td>0</td>\n",
       "      <td>M</td>\n",
       "      <td>сотрудник</td>\n",
       "      <td>0</td>\n",
       "      <td>267628.550329</td>\n",
       "      <td>дополнительное образование</td>\n",
       "    </tr>\n",
       "    <tr>\n",
       "      <th>4</th>\n",
       "      <td>0</td>\n",
       "      <td>340266.072047</td>\n",
       "      <td>53</td>\n",
       "      <td>среднее</td>\n",
       "      <td>1</td>\n",
       "      <td>гражданский брак</td>\n",
       "      <td>1</td>\n",
       "      <td>F</td>\n",
       "      <td>пенсионер</td>\n",
       "      <td>0</td>\n",
       "      <td>158616.077870</td>\n",
       "      <td>сыграть свадьбу</td>\n",
       "    </tr>\n",
       "    <tr>\n",
       "      <th>5</th>\n",
       "      <td>0</td>\n",
       "      <td>-926.185831</td>\n",
       "      <td>27</td>\n",
       "      <td>высшее</td>\n",
       "      <td>0</td>\n",
       "      <td>гражданский брак</td>\n",
       "      <td>1</td>\n",
       "      <td>M</td>\n",
       "      <td>компаньон</td>\n",
       "      <td>0</td>\n",
       "      <td>255763.565419</td>\n",
       "      <td>покупка жилья</td>\n",
       "    </tr>\n",
       "    <tr>\n",
       "      <th>6</th>\n",
       "      <td>0</td>\n",
       "      <td>-2879.202052</td>\n",
       "      <td>43</td>\n",
       "      <td>высшее</td>\n",
       "      <td>0</td>\n",
       "      <td>женат / замужем</td>\n",
       "      <td>0</td>\n",
       "      <td>F</td>\n",
       "      <td>компаньон</td>\n",
       "      <td>0</td>\n",
       "      <td>240525.971920</td>\n",
       "      <td>операции с жильем</td>\n",
       "    </tr>\n",
       "    <tr>\n",
       "      <th>7</th>\n",
       "      <td>0</td>\n",
       "      <td>-152.779569</td>\n",
       "      <td>50</td>\n",
       "      <td>СРЕДНЕЕ</td>\n",
       "      <td>1</td>\n",
       "      <td>женат / замужем</td>\n",
       "      <td>0</td>\n",
       "      <td>M</td>\n",
       "      <td>сотрудник</td>\n",
       "      <td>0</td>\n",
       "      <td>135823.934197</td>\n",
       "      <td>образование</td>\n",
       "    </tr>\n",
       "    <tr>\n",
       "      <th>8</th>\n",
       "      <td>2</td>\n",
       "      <td>-6929.865299</td>\n",
       "      <td>35</td>\n",
       "      <td>ВЫСШЕЕ</td>\n",
       "      <td>0</td>\n",
       "      <td>гражданский брак</td>\n",
       "      <td>1</td>\n",
       "      <td>F</td>\n",
       "      <td>сотрудник</td>\n",
       "      <td>0</td>\n",
       "      <td>95856.832424</td>\n",
       "      <td>на проведение свадьбы</td>\n",
       "    </tr>\n",
       "    <tr>\n",
       "      <th>9</th>\n",
       "      <td>0</td>\n",
       "      <td>-2188.756445</td>\n",
       "      <td>41</td>\n",
       "      <td>среднее</td>\n",
       "      <td>1</td>\n",
       "      <td>женат / замужем</td>\n",
       "      <td>0</td>\n",
       "      <td>M</td>\n",
       "      <td>сотрудник</td>\n",
       "      <td>0</td>\n",
       "      <td>144425.938277</td>\n",
       "      <td>покупка жилья для семьи</td>\n",
       "    </tr>\n",
       "    <tr>\n",
       "      <th>10</th>\n",
       "      <td>2</td>\n",
       "      <td>-4171.483647</td>\n",
       "      <td>36</td>\n",
       "      <td>высшее</td>\n",
       "      <td>0</td>\n",
       "      <td>женат / замужем</td>\n",
       "      <td>0</td>\n",
       "      <td>M</td>\n",
       "      <td>компаньон</td>\n",
       "      <td>0</td>\n",
       "      <td>113943.491460</td>\n",
       "      <td>покупка недвижимости</td>\n",
       "    </tr>\n",
       "    <tr>\n",
       "      <th>11</th>\n",
       "      <td>0</td>\n",
       "      <td>-792.701887</td>\n",
       "      <td>40</td>\n",
       "      <td>среднее</td>\n",
       "      <td>1</td>\n",
       "      <td>женат / замужем</td>\n",
       "      <td>0</td>\n",
       "      <td>F</td>\n",
       "      <td>сотрудник</td>\n",
       "      <td>0</td>\n",
       "      <td>77069.234271</td>\n",
       "      <td>покупка коммерческой недвижимости</td>\n",
       "    </tr>\n",
       "    <tr>\n",
       "      <th>12</th>\n",
       "      <td>0</td>\n",
       "      <td>NaN</td>\n",
       "      <td>65</td>\n",
       "      <td>среднее</td>\n",
       "      <td>1</td>\n",
       "      <td>гражданский брак</td>\n",
       "      <td>1</td>\n",
       "      <td>M</td>\n",
       "      <td>пенсионер</td>\n",
       "      <td>0</td>\n",
       "      <td>NaN</td>\n",
       "      <td>сыграть свадьбу</td>\n",
       "    </tr>\n",
       "    <tr>\n",
       "      <th>13</th>\n",
       "      <td>0</td>\n",
       "      <td>-1846.641941</td>\n",
       "      <td>54</td>\n",
       "      <td>неоконченное высшее</td>\n",
       "      <td>2</td>\n",
       "      <td>женат / замужем</td>\n",
       "      <td>0</td>\n",
       "      <td>F</td>\n",
       "      <td>сотрудник</td>\n",
       "      <td>0</td>\n",
       "      <td>130458.228857</td>\n",
       "      <td>приобретение автомобиля</td>\n",
       "    </tr>\n",
       "    <tr>\n",
       "      <th>14</th>\n",
       "      <td>0</td>\n",
       "      <td>-1844.956182</td>\n",
       "      <td>56</td>\n",
       "      <td>высшее</td>\n",
       "      <td>0</td>\n",
       "      <td>гражданский брак</td>\n",
       "      <td>1</td>\n",
       "      <td>F</td>\n",
       "      <td>компаньон</td>\n",
       "      <td>1</td>\n",
       "      <td>165127.911772</td>\n",
       "      <td>покупка жилой недвижимости</td>\n",
       "    </tr>\n",
       "    <tr>\n",
       "      <th>15</th>\n",
       "      <td>1</td>\n",
       "      <td>-972.364419</td>\n",
       "      <td>26</td>\n",
       "      <td>среднее</td>\n",
       "      <td>1</td>\n",
       "      <td>женат / замужем</td>\n",
       "      <td>0</td>\n",
       "      <td>F</td>\n",
       "      <td>сотрудник</td>\n",
       "      <td>0</td>\n",
       "      <td>116820.904450</td>\n",
       "      <td>строительство собственной недвижимости</td>\n",
       "    </tr>\n",
       "    <tr>\n",
       "      <th>16</th>\n",
       "      <td>0</td>\n",
       "      <td>-1719.934226</td>\n",
       "      <td>35</td>\n",
       "      <td>среднее</td>\n",
       "      <td>1</td>\n",
       "      <td>женат / замужем</td>\n",
       "      <td>0</td>\n",
       "      <td>F</td>\n",
       "      <td>сотрудник</td>\n",
       "      <td>0</td>\n",
       "      <td>289202.704229</td>\n",
       "      <td>недвижимость</td>\n",
       "    </tr>\n",
       "    <tr>\n",
       "      <th>17</th>\n",
       "      <td>0</td>\n",
       "      <td>-2369.999720</td>\n",
       "      <td>33</td>\n",
       "      <td>высшее</td>\n",
       "      <td>0</td>\n",
       "      <td>гражданский брак</td>\n",
       "      <td>1</td>\n",
       "      <td>M</td>\n",
       "      <td>сотрудник</td>\n",
       "      <td>0</td>\n",
       "      <td>90410.586745</td>\n",
       "      <td>строительство недвижимости</td>\n",
       "    </tr>\n",
       "    <tr>\n",
       "      <th>18</th>\n",
       "      <td>0</td>\n",
       "      <td>400281.136913</td>\n",
       "      <td>53</td>\n",
       "      <td>среднее</td>\n",
       "      <td>1</td>\n",
       "      <td>вдовец / вдова</td>\n",
       "      <td>2</td>\n",
       "      <td>F</td>\n",
       "      <td>пенсионер</td>\n",
       "      <td>0</td>\n",
       "      <td>56823.777243</td>\n",
       "      <td>на покупку подержанного автомобиля</td>\n",
       "    </tr>\n",
       "    <tr>\n",
       "      <th>19</th>\n",
       "      <td>0</td>\n",
       "      <td>-10038.818549</td>\n",
       "      <td>48</td>\n",
       "      <td>СРЕДНЕЕ</td>\n",
       "      <td>1</td>\n",
       "      <td>в разводе</td>\n",
       "      <td>3</td>\n",
       "      <td>F</td>\n",
       "      <td>сотрудник</td>\n",
       "      <td>0</td>\n",
       "      <td>242831.107982</td>\n",
       "      <td>на покупку своего автомобиля</td>\n",
       "    </tr>\n",
       "  </tbody>\n",
       "</table>\n",
       "</div>"
      ],
      "text/plain": [
       "    children  days_employed  dob_years            education  education_id  \\\n",
       "0          1   -8437.673028         42               высшее             0   \n",
       "1          1   -4024.803754         36              среднее             1   \n",
       "2          0   -5623.422610         33              Среднее             1   \n",
       "3          3   -4124.747207         32              среднее             1   \n",
       "4          0  340266.072047         53              среднее             1   \n",
       "5          0    -926.185831         27               высшее             0   \n",
       "6          0   -2879.202052         43               высшее             0   \n",
       "7          0    -152.779569         50              СРЕДНЕЕ             1   \n",
       "8          2   -6929.865299         35               ВЫСШЕЕ             0   \n",
       "9          0   -2188.756445         41              среднее             1   \n",
       "10         2   -4171.483647         36               высшее             0   \n",
       "11         0    -792.701887         40              среднее             1   \n",
       "12         0            NaN         65              среднее             1   \n",
       "13         0   -1846.641941         54  неоконченное высшее             2   \n",
       "14         0   -1844.956182         56               высшее             0   \n",
       "15         1    -972.364419         26              среднее             1   \n",
       "16         0   -1719.934226         35              среднее             1   \n",
       "17         0   -2369.999720         33               высшее             0   \n",
       "18         0  400281.136913         53              среднее             1   \n",
       "19         0  -10038.818549         48              СРЕДНЕЕ             1   \n",
       "\n",
       "       family_status  family_status_id gender income_type  debt  \\\n",
       "0    женат / замужем                 0      F   сотрудник     0   \n",
       "1    женат / замужем                 0      F   сотрудник     0   \n",
       "2    женат / замужем                 0      M   сотрудник     0   \n",
       "3    женат / замужем                 0      M   сотрудник     0   \n",
       "4   гражданский брак                 1      F   пенсионер     0   \n",
       "5   гражданский брак                 1      M   компаньон     0   \n",
       "6    женат / замужем                 0      F   компаньон     0   \n",
       "7    женат / замужем                 0      M   сотрудник     0   \n",
       "8   гражданский брак                 1      F   сотрудник     0   \n",
       "9    женат / замужем                 0      M   сотрудник     0   \n",
       "10   женат / замужем                 0      M   компаньон     0   \n",
       "11   женат / замужем                 0      F   сотрудник     0   \n",
       "12  гражданский брак                 1      M   пенсионер     0   \n",
       "13   женат / замужем                 0      F   сотрудник     0   \n",
       "14  гражданский брак                 1      F   компаньон     1   \n",
       "15   женат / замужем                 0      F   сотрудник     0   \n",
       "16   женат / замужем                 0      F   сотрудник     0   \n",
       "17  гражданский брак                 1      M   сотрудник     0   \n",
       "18    вдовец / вдова                 2      F   пенсионер     0   \n",
       "19         в разводе                 3      F   сотрудник     0   \n",
       "\n",
       "     total_income                                 purpose  \n",
       "0   253875.639453                           покупка жилья  \n",
       "1   112080.014102                 приобретение автомобиля  \n",
       "2   145885.952297                           покупка жилья  \n",
       "3   267628.550329              дополнительное образование  \n",
       "4   158616.077870                         сыграть свадьбу  \n",
       "5   255763.565419                           покупка жилья  \n",
       "6   240525.971920                       операции с жильем  \n",
       "7   135823.934197                             образование  \n",
       "8    95856.832424                   на проведение свадьбы  \n",
       "9   144425.938277                 покупка жилья для семьи  \n",
       "10  113943.491460                    покупка недвижимости  \n",
       "11   77069.234271       покупка коммерческой недвижимости  \n",
       "12            NaN                         сыграть свадьбу  \n",
       "13  130458.228857                 приобретение автомобиля  \n",
       "14  165127.911772              покупка жилой недвижимости  \n",
       "15  116820.904450  строительство собственной недвижимости  \n",
       "16  289202.704229                            недвижимость  \n",
       "17   90410.586745              строительство недвижимости  \n",
       "18   56823.777243      на покупку подержанного автомобиля  \n",
       "19  242831.107982            на покупку своего автомобиля  "
      ]
     },
     "execution_count": 2,
     "metadata": {},
     "output_type": "execute_result"
    }
   ],
   "source": [
    "data.head(20)"
   ]
  },
  {
   "cell_type": "markdown",
   "id": "0ed8f27f",
   "metadata": {
    "deletable": false,
    "editable": false,
    "id": "0ed8f27f"
   },
   "source": [
    "**Задание 3. Выведите основную информацию о датафрейме с помощью метода `info()`.**"
   ]
  },
  {
   "cell_type": "code",
   "execution_count": 3,
   "id": "ab3f863b",
   "metadata": {
    "deletable": false,
    "id": "ab3f863b",
    "outputId": "15376089-8dad-46c9-b520-c05248d43158"
   },
   "outputs": [
    {
     "name": "stdout",
     "output_type": "stream",
     "text": [
      "<class 'pandas.core.frame.DataFrame'>\n",
      "RangeIndex: 21525 entries, 0 to 21524\n",
      "Data columns (total 12 columns):\n",
      " #   Column            Non-Null Count  Dtype  \n",
      "---  ------            --------------  -----  \n",
      " 0   children          21525 non-null  int64  \n",
      " 1   days_employed     19351 non-null  float64\n",
      " 2   dob_years         21525 non-null  int64  \n",
      " 3   education         21525 non-null  object \n",
      " 4   education_id      21525 non-null  int64  \n",
      " 5   family_status     21525 non-null  object \n",
      " 6   family_status_id  21525 non-null  int64  \n",
      " 7   gender            21525 non-null  object \n",
      " 8   income_type       21525 non-null  object \n",
      " 9   debt              21525 non-null  int64  \n",
      " 10  total_income      19351 non-null  float64\n",
      " 11  purpose           21525 non-null  object \n",
      "dtypes: float64(2), int64(5), object(5)\n",
      "memory usage: 2.0+ MB\n"
     ]
    }
   ],
   "source": [
    "data.info()"
   ]
  },
  {
   "cell_type": "markdown",
   "id": "60e3e22d",
   "metadata": {
    "deletable": false,
    "editable": false,
    "id": "60e3e22d"
   },
   "source": [
    "## Предобработка данных"
   ]
  },
  {
   "cell_type": "markdown",
   "id": "03dc170c",
   "metadata": {
    "deletable": false,
    "editable": false,
    "id": "03dc170c"
   },
   "source": [
    "### Удаление пропусков"
   ]
  },
  {
   "cell_type": "markdown",
   "id": "a4f54eef",
   "metadata": {
    "deletable": false,
    "editable": false,
    "id": "a4f54eef"
   },
   "source": [
    "**Задание 4. Выведите количество пропущенных значений для каждого столбца. Используйте комбинацию двух методов.**"
   ]
  },
  {
   "cell_type": "code",
   "execution_count": 4,
   "id": "2dc372b2",
   "metadata": {
    "deletable": false,
    "id": "2dc372b2",
    "outputId": "81f4d817-781c-465c-ed15-91ce4446810d"
   },
   "outputs": [
    {
     "data": {
      "text/plain": [
       "children               0\n",
       "days_employed       2174\n",
       "dob_years              0\n",
       "education              0\n",
       "education_id           0\n",
       "family_status          0\n",
       "family_status_id       0\n",
       "gender                 0\n",
       "income_type            0\n",
       "debt                   0\n",
       "total_income        2174\n",
       "purpose                0\n",
       "dtype: int64"
      ]
     },
     "execution_count": 4,
     "metadata": {},
     "output_type": "execute_result"
    }
   ],
   "source": [
    "data.isna().sum()"
   ]
  },
  {
   "cell_type": "markdown",
   "id": "14f011b1",
   "metadata": {
    "deletable": false,
    "editable": false,
    "id": "14f011b1"
   },
   "source": [
    "**Задание 5. В двух столбцах есть пропущенные значения. Один из них — `days_employed`. Пропуски в этом столбце вы обработаете на следующем этапе. Другой столбец с пропущенными значениями — `total_income` — хранит данные о доходах. На сумму дохода сильнее всего влияет тип занятости, поэтому заполнить пропуски в этом столбце нужно медианным значением по каждому типу из столбца `income_type`. Например, у человека с типом занятости `сотрудник` пропуск в столбце `total_income` должен быть заполнен медианным доходом среди всех записей с тем же типом.**"
   ]
  },
  {
   "cell_type": "code",
   "execution_count": 5,
   "id": "bdabfb6e",
   "metadata": {
    "deletable": false,
    "id": "bdabfb6e"
   },
   "outputs": [],
   "source": [
    "for t in data['income_type'].unique():\n",
    "    data.loc[(data['income_type'] == t) & (data['total_income'].isna()), 'total_income'] = \\\n",
    "    data.loc[(data['income_type'] == t), 'total_income'].median()"
   ]
  },
  {
   "cell_type": "markdown",
   "id": "5be34059",
   "metadata": {
    "deletable": false,
    "editable": false,
    "id": "5be34059"
   },
   "source": [
    "### Обработка аномальных значений"
   ]
  },
  {
   "cell_type": "markdown",
   "id": "a87606cb",
   "metadata": {
    "deletable": false,
    "editable": false,
    "id": "a87606cb"
   },
   "source": [
    "**Задание 6. В данных могут встречаться артефакты (аномалии) — значения, которые не отражают действительность и появились по какой-то ошибке. таким артефактом будет отрицательное количество дней трудового стажа в столбце `days_employed`. Для реальных данных это нормально. Обработайте значения в этом столбце: замените все отрицательные значения положительными с помощью метода `abs()`.**"
   ]
  },
  {
   "cell_type": "code",
   "execution_count": 6,
   "id": "020c46cc",
   "metadata": {
    "deletable": false,
    "id": "020c46cc"
   },
   "outputs": [],
   "source": [
    "data['days_employed'] = data['days_employed'].abs()"
   ]
  },
  {
   "cell_type": "markdown",
   "id": "45538a3a",
   "metadata": {
    "deletable": false,
    "editable": false,
    "id": "45538a3a"
   },
   "source": [
    "**Задание 7. Для каждого типа занятости выведите медианное значение трудового стажа `days_employed` в днях.**"
   ]
  },
  {
   "cell_type": "code",
   "execution_count": 7,
   "id": "cd3e6328",
   "metadata": {
    "deletable": false,
    "id": "cd3e6328",
    "outputId": "801ef80e-522b-4668-f34e-565af7432bcf"
   },
   "outputs": [
    {
     "data": {
      "text/plain": [
       "income_type\n",
       "безработный        366413.652744\n",
       "в декрете            3296.759962\n",
       "госслужащий          2689.368353\n",
       "компаньон            1547.382223\n",
       "пенсионер          365213.306266\n",
       "предприниматель       520.848083\n",
       "сотрудник            1574.202821\n",
       "студент               578.751554\n",
       "Name: days_employed, dtype: float64"
      ]
     },
     "execution_count": 7,
     "metadata": {},
     "output_type": "execute_result"
    }
   ],
   "source": [
    "data.groupby('income_type')['days_employed'].agg('median')"
   ]
  },
  {
   "cell_type": "markdown",
   "id": "90c5f058",
   "metadata": {
    "deletable": false,
    "editable": false,
    "id": "90c5f058"
   },
   "source": [
    "У двух типов (безработные и пенсионеры) получатся аномально большие значения. Исправить такие значения сложно, поэтому оставьте их как есть."
   ]
  },
  {
   "cell_type": "markdown",
   "id": "9652e50d",
   "metadata": {
    "deletable": false,
    "editable": false,
    "id": "9652e50d"
   },
   "source": [
    "**Задание 8. Выведите перечень уникальных значений столбца `children`.**"
   ]
  },
  {
   "cell_type": "code",
   "execution_count": 8,
   "id": "dbb37b8e",
   "metadata": {
    "deletable": false,
    "id": "dbb37b8e",
    "outputId": "6975b15c-7f95-4697-d16d-a0c79b657b03"
   },
   "outputs": [
    {
     "data": {
      "text/plain": [
       "array([ 1,  0,  3,  2, -1,  4, 20,  5])"
      ]
     },
     "execution_count": 8,
     "metadata": {},
     "output_type": "execute_result"
    }
   ],
   "source": [
    "data['children'].unique()"
   ]
  },
  {
   "cell_type": "markdown",
   "id": "2b8b0715",
   "metadata": {
    "deletable": false,
    "editable": false,
    "id": "2b8b0715"
   },
   "source": [
    "**Задание 9. В столбце `children` есть два аномальных значения. Удалите строки, в которых встречаются такие аномальные значения из датафрейма `data`.**"
   ]
  },
  {
   "cell_type": "code",
   "execution_count": 9,
   "id": "20009df8",
   "metadata": {
    "deletable": false,
    "id": "20009df8"
   },
   "outputs": [],
   "source": [
    "data = data[(data['children'] != -1) & (data['children'] != 20)]"
   ]
  },
  {
   "cell_type": "markdown",
   "id": "8c6ac9f1",
   "metadata": {
    "deletable": false,
    "editable": false,
    "id": "8c6ac9f1"
   },
   "source": [
    "**Задание 10. Ещё раз выведите перечень уникальных значений столбца `children`, чтобы убедиться, что артефакты удалены.**"
   ]
  },
  {
   "cell_type": "code",
   "execution_count": 10,
   "id": "07337b81",
   "metadata": {
    "deletable": false,
    "id": "07337b81",
    "outputId": "b2097101-d49d-44d9-901b-32a65c9463d1"
   },
   "outputs": [
    {
     "data": {
      "text/plain": [
       "array([1, 0, 3, 2, 4, 5])"
      ]
     },
     "execution_count": 10,
     "metadata": {},
     "output_type": "execute_result"
    }
   ],
   "source": [
    "data['children'].unique()"
   ]
  },
  {
   "cell_type": "markdown",
   "id": "ee3f52d4",
   "metadata": {
    "deletable": false,
    "editable": false,
    "id": "ee3f52d4"
   },
   "source": [
    "### Удаление пропусков (продолжение)"
   ]
  },
  {
   "cell_type": "markdown",
   "id": "a700b0e4",
   "metadata": {
    "deletable": false,
    "editable": false,
    "id": "a700b0e4"
   },
   "source": [
    "**Задание 11. Заполните пропуски в столбце `days_employed` медианными значениями по каждого типа занятости `income_type`.**"
   ]
  },
  {
   "cell_type": "code",
   "execution_count": 11,
   "id": "61946b83",
   "metadata": {
    "deletable": false,
    "id": "61946b83"
   },
   "outputs": [],
   "source": [
    "for t in data['income_type'].unique():\n",
    "    data.loc[(data['income_type'] == t) & (data['days_employed'].isna()), 'days_employed'] = \\\n",
    "    data.loc[(data['income_type'] == t), 'days_employed'].median()"
   ]
  },
  {
   "cell_type": "markdown",
   "id": "550dcd9b",
   "metadata": {
    "deletable": false,
    "editable": false,
    "id": "550dcd9b"
   },
   "source": [
    "**Задание 12. Убедитесь, что все пропуски заполнены. Проверьте себя и ещё раз выведите количество пропущенных значений для каждого столбца с помощью двух методов.**"
   ]
  },
  {
   "cell_type": "code",
   "execution_count": 12,
   "id": "937c7014",
   "metadata": {
    "deletable": false,
    "id": "937c7014",
    "outputId": "8da1e4e1-358e-4e87-98c9-f261bce0a7b2"
   },
   "outputs": [
    {
     "data": {
      "text/plain": [
       "children            0\n",
       "days_employed       0\n",
       "dob_years           0\n",
       "education           0\n",
       "education_id        0\n",
       "family_status       0\n",
       "family_status_id    0\n",
       "gender              0\n",
       "income_type         0\n",
       "debt                0\n",
       "total_income        0\n",
       "purpose             0\n",
       "dtype: int64"
      ]
     },
     "execution_count": 12,
     "metadata": {},
     "output_type": "execute_result"
    }
   ],
   "source": [
    "data.isna().sum()"
   ]
  },
  {
   "cell_type": "markdown",
   "id": "d522e295",
   "metadata": {
    "deletable": false,
    "editable": false,
    "id": "d522e295"
   },
   "source": [
    "### Изменение типов данных"
   ]
  },
  {
   "cell_type": "markdown",
   "id": "c229c581",
   "metadata": {
    "deletable": false,
    "editable": false,
    "id": "c229c581"
   },
   "source": [
    "**Задание 13. Замените вещественный тип данных в столбце `total_income` на целочисленный с помощью метода `astype()`.**"
   ]
  },
  {
   "cell_type": "code",
   "execution_count": 13,
   "id": "31036462",
   "metadata": {
    "deletable": false,
    "id": "31036462"
   },
   "outputs": [],
   "source": [
    "data['total_income'] = data['total_income'].astype(int)"
   ]
  },
  {
   "cell_type": "markdown",
   "id": "b8e3d1d9",
   "metadata": {
    "deletable": false,
    "editable": false,
    "id": "b8e3d1d9"
   },
   "source": [
    "### Обработка дубликатов"
   ]
  },
  {
   "cell_type": "markdown",
   "id": "9be53c49",
   "metadata": {
    "deletable": false,
    "editable": false,
    "id": "9be53c49"
   },
   "source": [
    "**Задание 14. Обработайте неявные дубликаты в столбце `education`. В этом столбце есть одни и те же значения, но записанные по-разному: с использованием заглавных и строчных букв. Приведите их к нижнему регистру.**"
   ]
  },
  {
   "cell_type": "code",
   "execution_count": 14,
   "id": "d89e73e1",
   "metadata": {
    "deletable": false,
    "id": "d89e73e1"
   },
   "outputs": [],
   "source": [
    "data['education'] = data['education'].str.lower()"
   ]
  },
  {
   "cell_type": "markdown",
   "id": "01d4500e",
   "metadata": {
    "deletable": false,
    "editable": false,
    "id": "01d4500e"
   },
   "source": [
    "**Задание 15. Выведите на экран количество строк-дубликатов в данных. Если такие строки присутствуют, удалите их.**"
   ]
  },
  {
   "cell_type": "code",
   "execution_count": 15,
   "id": "e10efb23",
   "metadata": {
    "deletable": false,
    "id": "e10efb23",
    "outputId": "9684deba-1934-42d1-99e1-cda61740f822"
   },
   "outputs": [
    {
     "data": {
      "text/plain": [
       "71"
      ]
     },
     "execution_count": 15,
     "metadata": {},
     "output_type": "execute_result"
    }
   ],
   "source": [
    "data.duplicated().sum()"
   ]
  },
  {
   "cell_type": "code",
   "execution_count": 16,
   "id": "df853f20",
   "metadata": {
    "deletable": false,
    "id": "df853f20"
   },
   "outputs": [],
   "source": [
    "data = data.drop_duplicates()"
   ]
  },
  {
   "cell_type": "markdown",
   "id": "627be38f",
   "metadata": {
    "deletable": false,
    "editable": false,
    "id": "627be38f"
   },
   "source": [
    "### Категоризация данных"
   ]
  },
  {
   "cell_type": "markdown",
   "id": "4684c3e0",
   "metadata": {
    "deletable": false,
    "editable": false,
    "id": "4684c3e0"
   },
   "source": [
    "**Задание 16. На основании диапазонов, указанных ниже, создайте в датафрейме `data` столбец `total_income_category` с категориями:**\n",
    "\n",
    "- 0–30000 — `'E'`;\n",
    "- 30001–50000 — `'D'`;\n",
    "- 50001–200000 — `'C'`;\n",
    "- 200001–1000000 — `'B'`;\n",
    "- 1000001 и выше — `'A'`.\n",
    "\n",
    "\n",
    "**Например, кредитополучателю с доходом 25000 нужно назначить категорию `'E'`, а клиенту, получающему 235000, — `'B'`. Используйте собственную функцию с именем `categorize_income()` и метод `apply()`.**"
   ]
  },
  {
   "cell_type": "code",
   "execution_count": 17,
   "id": "78965238",
   "metadata": {
    "deletable": false,
    "id": "78965238"
   },
   "outputs": [],
   "source": [
    "def categorize_income(income):\n",
    "    try:\n",
    "        if 0 <= income <= 30000:\n",
    "            return 'E'\n",
    "        elif 30001 <= income <= 50000:\n",
    "            return 'D'\n",
    "        elif 50001 <= income <= 200000:\n",
    "            return 'C'\n",
    "        elif 200001 <= income <= 1000000:\n",
    "            return 'B'\n",
    "        elif income >= 1000001:\n",
    "            return 'A'\n",
    "    except:\n",
    "        pass"
   ]
  },
  {
   "cell_type": "code",
   "execution_count": 18,
   "id": "0980ada1",
   "metadata": {
    "deletable": false,
    "id": "0980ada1"
   },
   "outputs": [],
   "source": [
    "data['total_income_category'] = data['total_income'].apply(categorize_income)"
   ]
  },
  {
   "cell_type": "markdown",
   "id": "9917bba0",
   "metadata": {
    "deletable": false,
    "editable": false,
    "id": "9917bba0"
   },
   "source": [
    "**Задание 17. Выведите на экран перечень уникальных целей взятия кредита из столбца `purpose`.**"
   ]
  },
  {
   "cell_type": "code",
   "execution_count": 19,
   "id": "ee07b65e",
   "metadata": {
    "deletable": false,
    "id": "ee07b65e",
    "outputId": "673c12d9-7d7e-4ae0-9812-c622c89dd244",
    "scrolled": true
   },
   "outputs": [
    {
     "data": {
      "text/plain": [
       "array(['покупка жилья', 'приобретение автомобиля',\n",
       "       'дополнительное образование', 'сыграть свадьбу',\n",
       "       'операции с жильем', 'образование', 'на проведение свадьбы',\n",
       "       'покупка жилья для семьи', 'покупка недвижимости',\n",
       "       'покупка коммерческой недвижимости', 'покупка жилой недвижимости',\n",
       "       'строительство собственной недвижимости', 'недвижимость',\n",
       "       'строительство недвижимости', 'на покупку подержанного автомобиля',\n",
       "       'на покупку своего автомобиля',\n",
       "       'операции с коммерческой недвижимостью',\n",
       "       'строительство жилой недвижимости', 'жилье',\n",
       "       'операции со своей недвижимостью', 'автомобили',\n",
       "       'заняться образованием', 'сделка с подержанным автомобилем',\n",
       "       'получение образования', 'автомобиль', 'свадьба',\n",
       "       'получение дополнительного образования', 'покупка своего жилья',\n",
       "       'операции с недвижимостью', 'получение высшего образования',\n",
       "       'свой автомобиль', 'сделка с автомобилем',\n",
       "       'профильное образование', 'высшее образование',\n",
       "       'покупка жилья для сдачи', 'на покупку автомобиля', 'ремонт жилью',\n",
       "       'заняться высшим образованием'], dtype=object)"
      ]
     },
     "execution_count": 19,
     "metadata": {},
     "output_type": "execute_result"
    }
   ],
   "source": [
    "data['purpose'].unique()"
   ]
  },
  {
   "cell_type": "markdown",
   "id": "52b79d56",
   "metadata": {
    "deletable": false,
    "editable": false,
    "id": "52b79d56"
   },
   "source": [
    "**Задание 18. Создайте функцию, которая на основании данных из столбца `purpose` сформирует новый столбец `purpose_category`, в который войдут следующие категории:**\n",
    "\n",
    "- `'операции с автомобилем'`,\n",
    "- `'операции с недвижимостью'`,\n",
    "- `'проведение свадьбы'`,\n",
    "- `'получение образования'`.\n",
    "\n",
    "**Например, если в столбце `purpose` находится подстрока `'на покупку автомобиля'`, то в столбце `purpose_category` должна появиться строка `'операции с автомобилем'`.**\n",
    "\n",
    "**Используйте собственную функцию с именем `categorize_purpose()` и метод `apply()`. Изучите данные в столбце `purpose` и определите, какие подстроки помогут вам правильно определить категорию.**"
   ]
  },
  {
   "cell_type": "code",
   "execution_count": 20,
   "id": "be41da5d",
   "metadata": {
    "deletable": false,
    "id": "be41da5d"
   },
   "outputs": [],
   "source": [
    "def categorize_purpose(row):\n",
    "    try:\n",
    "        if 'автом' in row:\n",
    "            return 'операции с автомобилем'\n",
    "        elif 'жил' in row or 'недвиж' in row:\n",
    "            return 'операции с недвижимостью'\n",
    "        elif 'свад' in row:\n",
    "            return 'проведение свадьбы'\n",
    "        elif 'образов' in row:\n",
    "            return 'получение образования'\n",
    "    except:\n",
    "        return 'нет категории'"
   ]
  },
  {
   "cell_type": "code",
   "execution_count": 21,
   "id": "94c4a19a",
   "metadata": {
    "deletable": false,
    "id": "94c4a19a"
   },
   "outputs": [],
   "source": [
    "data['purpose_category'] = data['purpose'].apply(categorize_purpose)"
   ]
  },
  {
   "cell_type": "markdown",
   "id": "3d596c34",
   "metadata": {
    "deletable": false,
    "editable": false,
    "id": "3d596c34"
   },
   "source": [
    "### Шаг 3. Исследуйте данные и ответьте на вопросы"
   ]
  },
  {
   "cell_type": "markdown",
   "id": "648db036",
   "metadata": {
    "deletable": false,
    "editable": false,
    "id": "648db036"
   },
   "source": [
    "#### 3.1 Есть ли зависимость между количеством детей и возвратом кредита в срок?"
   ]
  },
  {
   "cell_type": "code",
   "execution_count": 22,
   "id": "7fcff25e",
   "metadata": {
    "deletable": false,
    "id": "7fcff25e",
    "scrolled": true
   },
   "outputs": [
    {
     "name": "stdout",
     "output_type": "stream",
     "text": [
      "              debt\n",
      "              mean\n",
      "children          \n",
      "0         0.075438\n",
      "1         0.092346\n",
      "2         0.094542\n",
      "3         0.081818\n",
      "4         0.097561\n",
      "5         0.000000\n"
     ]
    }
   ],
   "source": [
    "data_children_debt = data.groupby(['children']).agg({'debt':['count'], 'debt':['sum'], 'debt':['mean']})\n",
    "print(data_children_debt)"
   ]
  },
  {
   "cell_type": "markdown",
   "id": "2eb9088e",
   "metadata": {
    "deletable": false,
    "id": "2eb9088e"
   },
   "source": [
    "**Вывод:**  Судя по таблице, реже всего возвращают долги семьи с 1,2-мя и 4 детьми. А семьи с 5-ю детьми вообше не имеют долгов. "
   ]
  },
  {
   "cell_type": "markdown",
   "id": "1b1910f7",
   "metadata": {},
   "source": [
    "<div class=\"alert alert-danger\">\n",
    "<font size=\"5\"><b>Комментарий ревьюера</b></font>\n",
    "\n",
    "Ошибка: Не вижу выведенной таблицы с долями должников в каждой группе выше. Пожалуйста, реализуй такую таблицу, ведь именно по ней мы и строим выводы.  \n",
    "\n",
    "</div>"
   ]
  },
  {
   "cell_type": "markdown",
   "id": "163bbd51",
   "metadata": {},
   "source": [
    "<div class=\"alert alert-success\">\n",
    "<font size=\"5\"><b>Комментарий ревьюера 2</b></font>\n",
    "\n",
    "Успех: Отлично, таблица есть. Вывод согласуется с налюдаемыми результатами. \n",
    "\n",
    "</div>"
   ]
  },
  {
   "cell_type": "markdown",
   "id": "74c9b3a7",
   "metadata": {
    "deletable": false,
    "editable": false,
    "id": "74c9b3a7"
   },
   "source": [
    "#### 3.2 Есть ли зависимость между семейным положением и возвратом кредита в срок?"
   ]
  },
  {
   "cell_type": "code",
   "execution_count": 23,
   "id": "8098ab3b",
   "metadata": {
    "deletable": false,
    "id": "8098ab3b",
    "scrolled": true
   },
   "outputs": [
    {
     "name": "stdout",
     "output_type": "stream",
     "text": [
      "                           debt\n",
      "                           mean\n",
      "family_status                  \n",
      "Не женат / не замужем  0.097639\n",
      "в разводе              0.070648\n",
      "вдовец / вдова         0.066246\n",
      "гражданский брак       0.093130\n",
      "женат / замужем        0.075606\n"
     ]
    }
   ],
   "source": [
    "family_status_debt = data.groupby(['family_status']).agg({'debt':['count'], 'debt':['sum'], 'debt':['mean']})\n",
    "print(family_status_debt)"
   ]
  },
  {
   "cell_type": "markdown",
   "id": "c389ca63",
   "metadata": {
    "deletable": false,
    "id": "c389ca63"
   },
   "source": [
    "**Вывод:** По данным, можно сделать вывод, что чаще всего возвращают долги овдовевшие супруги. А хуже всего обстоят дела у неженатых людей и у людей, живущих в гражданском браке."
   ]
  },
  {
   "cell_type": "markdown",
   "id": "f62f9958",
   "metadata": {},
   "source": [
    "<div class=\"alert alert-danger\">\n",
    "<font size=\"5\"><b>Комментарий ревьюера</b></font>\n",
    "\n",
    "Ошибка: Опять же выведи таблицу, по которой мы делаем выводы. По выводам: обрати внимание, что мы в таблице получаем долю должников в группах. Чемм она больше, тем хуже возврат кредита в данной группе. Учти это при исправлении выводов.  \n",
    "\n",
    "</div>"
   ]
  },
  {
   "cell_type": "markdown",
   "id": "7e5379f9",
   "metadata": {},
   "source": [
    "<div class=\"alert alert-success\">\n",
    "<font size=\"5\"><b>Комментарий ревьюера 2</b></font>\n",
    "\n",
    "Успех: Подумай над причинами получения такого результата. \n",
    "\n",
    "</div>"
   ]
  },
  {
   "cell_type": "markdown",
   "id": "9529de68",
   "metadata": {
    "deletable": false,
    "editable": false,
    "id": "9529de68"
   },
   "source": [
    "#### 3.3 Есть ли зависимость между уровнем дохода и возвратом кредита в срок?"
   ]
  },
  {
   "cell_type": "code",
   "execution_count": 24,
   "id": "8787f44a",
   "metadata": {
    "deletable": false,
    "id": "8787f44a",
    "scrolled": true
   },
   "outputs": [
    {
     "name": "stdout",
     "output_type": "stream",
     "text": [
      "                           mean\n",
      "total_income_category          \n",
      "A                      0.080000\n",
      "B                      0.070602\n",
      "C                      0.084982\n",
      "D                      0.060172\n",
      "E                      0.090909\n"
     ]
    }
   ],
   "source": [
    "data_income_debt = data.groupby(['total_income_category']).agg({'debt':['count'], 'debt':['sum'], 'debt':['mean']})\n",
    "data_pivot = data_income_debt.pivot_table(index='total_income_category', values='debt', aggfunc='sum')\n",
    "print(data_pivot)"
   ]
  },
  {
   "cell_type": "markdown",
   "id": "6dd14b57",
   "metadata": {
    "deletable": false,
    "id": "6dd14b57"
   },
   "source": [
    "**Вывод:** Люди, доход которых составляет до 30000 возвращают кредиты хуже всего. Лучше всего обстоят дела у людей с доходом 30001 - 50000. "
   ]
  },
  {
   "cell_type": "markdown",
   "id": "9d546709",
   "metadata": {},
   "source": [
    "<div class=\"alert alert-danger\">\n",
    "<font size=\"5\"><b>Комментарий ревьюера</b></font>\n",
    "\n",
    "Ошибка: Смотри, ты судишь по абсолютным значениям. Что это значит? Там, где больше людей имеют долг, те группы и опаснее для банка. Однако может быть так, что число должников в определенной группе 1000, а кредит брали 100000. Тогда процент должников в группе будет 1%. А в другой группе должников может быть 500, но кредит брали 1000 человек. Доля должников - 50%. Как думаешь, что невыгоднее для банка? Судить по абсолютным значениям мы не можем. Надо найти долю должников в каждой из групп, потом уже сравнить полученные результаты и сделать вывод о том, какая группа хуже всего возвращает кредит. \n",
    "\n",
    "</div>"
   ]
  },
  {
   "cell_type": "markdown",
   "id": "b53cf8e5",
   "metadata": {},
   "source": [
    "<div class=\"alert alert-success\">\n",
    "<font size=\"5\"><b>Комментарий ревьюера 2</b></font>\n",
    "\n",
    "Успех: 👍 \n",
    "</div>"
   ]
  },
  {
   "cell_type": "markdown",
   "id": "1dcc9b12",
   "metadata": {
    "deletable": false,
    "editable": false,
    "id": "1dcc9b12"
   },
   "source": [
    "#### 3.4 Как разные цели кредита влияют на его возврат в срок?"
   ]
  },
  {
   "cell_type": "code",
   "execution_count": 25,
   "id": "c602bc8b",
   "metadata": {
    "deletable": false,
    "id": "c602bc8b",
    "scrolled": false
   },
   "outputs": [
    {
     "data": {
      "text/html": [
       "<div>\n",
       "<style scoped>\n",
       "    .dataframe tbody tr th:only-of-type {\n",
       "        vertical-align: middle;\n",
       "    }\n",
       "\n",
       "    .dataframe tbody tr th {\n",
       "        vertical-align: top;\n",
       "    }\n",
       "\n",
       "    .dataframe thead th {\n",
       "        text-align: right;\n",
       "    }\n",
       "</style>\n",
       "<table border=\"1\" class=\"dataframe\">\n",
       "  <thead>\n",
       "    <tr style=\"text-align: right;\">\n",
       "      <th></th>\n",
       "      <th>mean</th>\n",
       "    </tr>\n",
       "    <tr>\n",
       "      <th>purpose_category</th>\n",
       "      <th></th>\n",
       "    </tr>\n",
       "  </thead>\n",
       "  <tbody>\n",
       "    <tr>\n",
       "      <th>операции с автомобилем</th>\n",
       "      <td>0.093480</td>\n",
       "    </tr>\n",
       "    <tr>\n",
       "      <th>операции с недвижимостью</th>\n",
       "      <td>0.072551</td>\n",
       "    </tr>\n",
       "    <tr>\n",
       "      <th>получение образования</th>\n",
       "      <td>0.092528</td>\n",
       "    </tr>\n",
       "    <tr>\n",
       "      <th>проведение свадьбы</th>\n",
       "      <td>0.079118</td>\n",
       "    </tr>\n",
       "  </tbody>\n",
       "</table>\n",
       "</div>"
      ],
      "text/plain": [
       "                              mean\n",
       "purpose_category                  \n",
       "операции с автомобилем    0.093480\n",
       "операции с недвижимостью  0.072551\n",
       "получение образования     0.092528\n",
       "проведение свадьбы        0.079118"
      ]
     },
     "metadata": {},
     "output_type": "display_data"
    }
   ],
   "source": [
    "data_purpose_debt = data.groupby(['purpose_category']).agg({'debt':['count'], 'debt':['sum'], 'debt':['mean']})\n",
    "data_pivot = data_purpose_debt.pivot_table(index='purpose_category', values='debt', aggfunc='sum')\n",
    "display(data_pivot) "
   ]
  },
  {
   "cell_type": "markdown",
   "id": "cf05ed63",
   "metadata": {
    "deletable": false,
    "id": "cf05ed63"
   },
   "source": [
    "**Вывод:** Большая доля людей без долгов те, кто берет кредиты на цели, касающиеся операций с недвижимостью и чуть отсают от них - на проведение свадеб. Хуже всего возвращают кредиты, свзанные с автомобилем."
   ]
  },
  {
   "cell_type": "markdown",
   "id": "6e348834",
   "metadata": {},
   "source": [
    "<div class=\"alert alert-danger\">\n",
    "<font size=\"5\"><b>Комментарий ревьюера</b></font>\n",
    "\n",
    "Ошибка: Аналогичные помарки. Пожалуйста, учти отмеченные ранее комментарии при исправлении и этого пункта. \n",
    "\n",
    "</div>"
   ]
  },
  {
   "cell_type": "markdown",
   "id": "fb6f706d",
   "metadata": {},
   "source": [
    "<div class=\"alert alert-success\">\n",
    "<font size=\"5\"><b>Комментарий ревьюера 2</b></font>\n",
    "\n",
    "Успех: Все правильно. Опять же подумай над возможными вариантами получения таких результатов. \n",
    "\n",
    "</div>"
   ]
  },
  {
   "cell_type": "markdown",
   "id": "46c1f10b",
   "metadata": {
    "deletable": false,
    "editable": false,
    "id": "46c1f10b"
   },
   "source": [
    "#### 3.5 Приведите возможные причины появления пропусков в исходных данных."
   ]
  },
  {
   "cell_type": "markdown",
   "id": "3697d2a9",
   "metadata": {
    "deletable": false,
    "id": "3697d2a9"
   },
   "source": [
    "*Ответ:* Ошибки появления пропусков: человеческий фактор, когда просто забыли проставить значения, технический сбой(например некорректное чтение форматов данных или перенос), иногда это просто значение(например 0=0)"
   ]
  },
  {
   "cell_type": "markdown",
   "id": "d5284aa6",
   "metadata": {},
   "source": [
    "<div class=\"alert alert-success\">\n",
    "<font size=\"5\"><b>Комментарий ревьюера</b></font>\n",
    "\n",
    "Успех: Да, вполне возможные причины. \n",
    "</div>"
   ]
  },
  {
   "cell_type": "markdown",
   "id": "3137d257",
   "metadata": {
    "deletable": false,
    "editable": false,
    "id": "3137d257"
   },
   "source": [
    "#### 3.6 Объясните, почему заполнить пропуски медианным значением — лучшее решение для количественных переменных."
   ]
  },
  {
   "cell_type": "markdown",
   "id": "cf40012a",
   "metadata": {
    "deletable": false,
    "id": "cf40012a"
   },
   "source": [
    "*Ответ:* Если у нас есть выборка из примерно одного числового диапозона и одно число в разы больше остальных - тогда медиана будет лучшим решением. Если у нас будет выборка из сильно \"скачущих\" значений - тогда медиана сможет верно заполнить пропуски, потому что на нее не будут влиять различные скачки и выбросы."
   ]
  },
  {
   "cell_type": "markdown",
   "id": "46bdf84c",
   "metadata": {},
   "source": [
    "<div class=\"alert alert-success\">\n",
    "<font size=\"5\"><b>Комментарий ревьюера</b></font>\n",
    "\n",
    "Успех: Все верно, медиана более устойчива к наличию выбросов в данных.\n",
    "\n",
    "</div>"
   ]
  },
  {
   "cell_type": "markdown",
   "id": "57bc304e",
   "metadata": {
    "deletable": false,
    "editable": false,
    "id": "57bc304e"
   },
   "source": [
    "### Шаг 4: общий вывод."
   ]
  },
  {
   "cell_type": "markdown",
   "id": "1ab75d1c",
   "metadata": {
    "deletable": false,
    "id": "1ab75d1c"
   },
   "source": [
    "Напишите ваш общий вывод."
   ]
  },
  {
   "cell_type": "markdown",
   "id": "0f8c370b",
   "metadata": {},
   "source": [
    "Для знакомства с таблицей мы загрузили ее в библиотеку и вывели первые 20 значений, чтобы понимать с чем нам предстоит иметь дело. Это дало нам представление о названиях столбцов и примерных данных, с которыми нам предстоит рабзобраться.  \n",
    "\n",
    "Далее с помощью метода info() мы узнали количество строк и столбцов и увидели типы данных. Для полноценной работы с таблицей нам необходимо выполнить пердобработку информации: \n",
    "- узнать и очистить таблицу от пропущенных значений и заменить их медианными\n",
    "- перевести все данные в положительный числовой результат\n",
    "- найти и обработать уникальные значения в нужных столбцах\n",
    "- проверить, что мы исправили все пропуски в данных\n",
    "\n",
    "Следующим шагом мы начинаем работать с дубликатами, чтобы они не искажали данные в таблице. Ищем и приводим дубликаты к единому регистру, при необходимости - удаляем. \n",
    "\n",
    "Так как в столбце доходов много уникальных значений, с помощью категоризации мы группируем их по предустановленным кагортам. Таким образом вся информация делится на 5 групп. \n",
    "\n",
    "Второй столбец, у которого много разных значений - purpose. Его мы группируем по типу цели, используя ключевые слова. Получаем 4 крупных цели. \n",
    "\n",
    "Далее нам становится намного проще работать и выявлять закономерности, которые могут пригодится для решения определенных задач.\n",
    "\n",
    "Первая задача - понять, есть ли зависимость между количеством детей и возвратом кредита в долг.\n",
    "Чтобы это определить, нам нужно сначала выделить кагорты людей с наличием кредита и детей. у нас получилось 6 групп: нет детей и группы от 1-го до 5-ти детей. Смотрим и видим, что реже всего возвращают долги семьи с 1,2-мя и 4 детьми. А семьи с 5-ю детьми вообше не имеют долгов.\n",
    "\n",
    "Следующая задача - сравнить семейное положение и наличие долгов.\n",
    "Здесь делаем все по аналогии с предыдущей задачей, но группируем уже по семейному положению (family_status). По полученным данным, можно сделать вывод, что чаще всего возвращают долги овдовевшие супруги. А хуже всего обстоят дела у неженатых людей и у людей, живущих в гражданском браке.\n",
    "\n",
    "Далее выясняем зависимость между уровнем дохода и возвратом кредита в срок.\n",
    "Первым шагом мы также группируем (уже по столбцу дохода)и применяем операции sum, count и mean для столбца долгов. Далее, используем сводные таблицы, чтобы построить таблицу из столбца дохода. Задаем ему значение и функцию. Итог: люди, доход которых составляет до 30000 возвращают кредиты хуже всего. Лучше всего обстоят дела у людей с доходом 30001 - 50000.\n",
    "\n",
    "В последнем задании определяем как разные цели кредита влияют на его возврат в срок. Делаем аналогично предыдущему, но группируем уже по столбцу цели и в сводной таблице тоже используем столбец цели. \n",
    "\n",
    "Большая доля людей без долгов те, кто берет кредиты на цели, касающиеся операций с недвижимостью и чуть отсают от них - на проведение свадеб. Хуже всего возвращают кредиты, свзанные с автомобилем."
   ]
  },
  {
   "cell_type": "markdown",
   "id": "3847cb1a",
   "metadata": {},
   "source": [
    "<div class=\"alert alert-danger\">\n",
    "<font size=\"5\"><b>Комментарий ревьюера</b></font>\n",
    "\n",
    "Ошибка: Выше приведены выводы о том, что мы делали. Это хорошо. Но основа любого вывода - это полученные результаты, которые мы получили. Исправь все блоки анализа выше, после чего опиши тут основные итоги работы. \n",
    "\n",
    "</div>"
   ]
  },
  {
   "cell_type": "markdown",
   "id": "79d2a5c0",
   "metadata": {},
   "source": [
    "<div class=\"alert alert-danger\">\n",
    "<font size=\"5\"><b>Комментарий ревьюера 2</b></font>\n",
    "\n",
    "Ошибка: Выше все сделано отлично. Но есть один момент. Смотри, основа любой работы - это полученные результаты в ходе ее проведения. Представь, что ты руководитель, и поручаешь выполнение работы вывше сотруднику. В итогах работы ты хочешь увидеть четкую зависимость того, как указанные факторы влияют на возврат кредитов. Все проведенные операции в ходе работы второстепенны, главное - полученный результат. Именно его и стоит описать. Т.е. берем признак числа детей и расписываем, как он влияет на возврат. С остальными параметрами стоит поступить также. Пожалуйста, сформируй вывод по результатам работы. \n",
    "\n",
    "</div>"
   ]
  },
  {
   "cell_type": "markdown",
   "id": "a33d5ee1",
   "metadata": {},
   "source": [
    "<div class=\"alert alert-info\">\n",
    "<font size=\"5\"><b>Комментарий ревьюера</b></font>\n",
    "\n",
    "Ты проделала большую работу, молодец! Однако критичные помарки все же есть. Надеюсь, оставленные комментарии помогут тебе в их исправлении. Буду рад ответить на возникающие вопросы. Жду твою работу :)\n",
    "\n",
    "</div>"
   ]
  },
  {
   "cell_type": "markdown",
   "id": "4f3ed5d8",
   "metadata": {},
   "source": [
    "<div class=\"alert alert-info\">\n",
    "<font size=\"5\"><b>Комментарий ревьюера 2</b></font>\n",
    "\n",
    "Пожалуйста, исправь отмеченный выше комментарий. Буду ждать твой проект :)\n",
    "\n",
    "</div>"
   ]
  }
 ],
 "metadata": {
  "ExecuteTimeLog": [
   {
    "duration": 13,
    "start_time": "2024-03-26T20:39:21.973Z"
   },
   {
    "duration": 4,
    "start_time": "2024-03-26T20:39:25.107Z"
   },
   {
    "duration": 3,
    "start_time": "2024-03-26T20:39:31.189Z"
   },
   {
    "duration": 3,
    "start_time": "2024-03-26T20:39:33.140Z"
   },
   {
    "duration": 4,
    "start_time": "2024-03-26T20:39:35.410Z"
   },
   {
    "duration": 77,
    "start_time": "2024-03-26T20:39:37.988Z"
   },
   {
    "duration": 9,
    "start_time": "2024-03-26T20:46:35.426Z"
   },
   {
    "duration": 7,
    "start_time": "2024-03-26T20:46:54.834Z"
   },
   {
    "duration": 8,
    "start_time": "2024-03-26T20:47:03.615Z"
   },
   {
    "duration": 6,
    "start_time": "2024-03-26T20:47:11.274Z"
   },
   {
    "duration": 8,
    "start_time": "2024-03-26T20:47:12.100Z"
   },
   {
    "duration": 7,
    "start_time": "2024-03-26T20:47:16.439Z"
   },
   {
    "duration": 6,
    "start_time": "2024-03-26T20:47:18.837Z"
   },
   {
    "duration": 7,
    "start_time": "2024-03-26T20:47:30.877Z"
   },
   {
    "duration": 7,
    "start_time": "2024-03-26T20:47:35.535Z"
   },
   {
    "duration": 6,
    "start_time": "2024-03-26T20:47:36.326Z"
   },
   {
    "duration": 6,
    "start_time": "2024-03-26T20:48:48.168Z"
   },
   {
    "duration": 6,
    "start_time": "2024-03-26T20:48:55.042Z"
   },
   {
    "duration": 7,
    "start_time": "2024-03-26T20:49:30.176Z"
   },
   {
    "duration": 6,
    "start_time": "2024-03-26T20:49:31.390Z"
   },
   {
    "duration": 7,
    "start_time": "2024-03-26T20:49:44.303Z"
   },
   {
    "duration": 7,
    "start_time": "2024-03-26T20:49:45.097Z"
   },
   {
    "duration": 6,
    "start_time": "2024-03-26T20:49:48.334Z"
   },
   {
    "duration": 6,
    "start_time": "2024-03-26T20:49:57.276Z"
   },
   {
    "duration": 6,
    "start_time": "2024-03-26T20:49:59.124Z"
   },
   {
    "duration": 8,
    "start_time": "2024-03-26T20:50:04.338Z"
   },
   {
    "duration": 7,
    "start_time": "2024-03-26T20:52:27.524Z"
   },
   {
    "duration": 7,
    "start_time": "2024-03-26T20:52:31.688Z"
   },
   {
    "duration": 7,
    "start_time": "2024-03-26T20:52:32.457Z"
   },
   {
    "duration": 7,
    "start_time": "2024-03-26T20:54:55.206Z"
   },
   {
    "duration": 692,
    "start_time": "2024-03-26T20:55:01.909Z"
   },
   {
    "duration": 30,
    "start_time": "2024-03-26T20:55:02.602Z"
   },
   {
    "duration": 16,
    "start_time": "2024-03-26T20:55:02.634Z"
   },
   {
    "duration": 16,
    "start_time": "2024-03-26T20:55:02.652Z"
   },
   {
    "duration": 56,
    "start_time": "2024-03-26T20:55:02.670Z"
   },
   {
    "duration": 4,
    "start_time": "2024-03-26T20:55:02.728Z"
   },
   {
    "duration": 10,
    "start_time": "2024-03-26T20:55:02.733Z"
   },
   {
    "duration": 6,
    "start_time": "2024-03-26T20:55:02.745Z"
   },
   {
    "duration": 33,
    "start_time": "2024-03-26T20:55:02.752Z"
   },
   {
    "duration": 18,
    "start_time": "2024-03-26T20:55:02.788Z"
   },
   {
    "duration": 36,
    "start_time": "2024-03-26T20:55:02.808Z"
   },
   {
    "duration": 13,
    "start_time": "2024-03-26T20:55:02.845Z"
   },
   {
    "duration": 4,
    "start_time": "2024-03-26T20:55:02.860Z"
   },
   {
    "duration": 34,
    "start_time": "2024-03-26T20:55:02.865Z"
   },
   {
    "duration": 28,
    "start_time": "2024-03-26T20:55:02.901Z"
   },
   {
    "duration": 18,
    "start_time": "2024-03-26T20:55:02.930Z"
   },
   {
    "duration": 4,
    "start_time": "2024-03-26T20:55:02.949Z"
   },
   {
    "duration": 33,
    "start_time": "2024-03-26T20:55:02.954Z"
   },
   {
    "duration": 8,
    "start_time": "2024-03-26T20:55:02.988Z"
   },
   {
    "duration": 4,
    "start_time": "2024-03-26T20:55:02.998Z"
   },
   {
    "duration": 13,
    "start_time": "2024-03-26T20:55:03.004Z"
   },
   {
    "duration": 38,
    "start_time": "2024-03-26T20:55:03.019Z"
   },
   {
    "duration": 0,
    "start_time": "2024-03-26T20:55:03.081Z"
   },
   {
    "duration": 0,
    "start_time": "2024-03-26T20:55:03.083Z"
   },
   {
    "duration": 0,
    "start_time": "2024-03-26T20:55:03.084Z"
   },
   {
    "duration": 9,
    "start_time": "2024-03-26T20:55:24.080Z"
   },
   {
    "duration": 9,
    "start_time": "2024-03-26T20:55:55.962Z"
   },
   {
    "duration": 8,
    "start_time": "2024-03-26T20:56:00.467Z"
   },
   {
    "duration": 79,
    "start_time": "2024-03-26T20:56:05.454Z"
   },
   {
    "duration": 17,
    "start_time": "2024-03-26T20:56:05.534Z"
   },
   {
    "duration": 35,
    "start_time": "2024-03-26T20:56:05.553Z"
   },
   {
    "duration": 12,
    "start_time": "2024-03-26T20:56:05.591Z"
   },
   {
    "duration": 64,
    "start_time": "2024-03-26T20:56:05.605Z"
   },
   {
    "duration": 4,
    "start_time": "2024-03-26T20:56:05.671Z"
   },
   {
    "duration": 22,
    "start_time": "2024-03-26T20:56:05.677Z"
   },
   {
    "duration": 22,
    "start_time": "2024-03-26T20:56:05.701Z"
   },
   {
    "duration": 21,
    "start_time": "2024-03-26T20:56:05.725Z"
   },
   {
    "duration": 32,
    "start_time": "2024-03-26T20:56:05.748Z"
   },
   {
    "duration": 57,
    "start_time": "2024-03-26T20:56:05.782Z"
   },
   {
    "duration": 20,
    "start_time": "2024-03-26T20:56:05.841Z"
   },
   {
    "duration": 21,
    "start_time": "2024-03-26T20:56:05.863Z"
   },
   {
    "duration": 40,
    "start_time": "2024-03-26T20:56:05.886Z"
   },
   {
    "duration": 37,
    "start_time": "2024-03-26T20:56:05.928Z"
   },
   {
    "duration": 20,
    "start_time": "2024-03-26T20:56:05.966Z"
   },
   {
    "duration": 4,
    "start_time": "2024-03-26T20:56:05.987Z"
   },
   {
    "duration": 38,
    "start_time": "2024-03-26T20:56:05.993Z"
   },
   {
    "duration": 25,
    "start_time": "2024-03-26T20:56:06.032Z"
   },
   {
    "duration": 16,
    "start_time": "2024-03-26T20:56:06.059Z"
   },
   {
    "duration": 41,
    "start_time": "2024-03-26T20:56:06.077Z"
   },
   {
    "duration": 10,
    "start_time": "2024-03-26T20:56:06.120Z"
   },
   {
    "duration": 0,
    "start_time": "2024-03-26T20:56:06.132Z"
   },
   {
    "duration": 0,
    "start_time": "2024-03-26T20:56:06.133Z"
   },
   {
    "duration": 0,
    "start_time": "2024-03-26T20:56:06.134Z"
   },
   {
    "duration": 14,
    "start_time": "2024-03-26T20:56:14.941Z"
   },
   {
    "duration": 11,
    "start_time": "2024-03-26T20:56:26.467Z"
   },
   {
    "duration": 9,
    "start_time": "2024-03-26T20:57:05.562Z"
   },
   {
    "duration": 14,
    "start_time": "2024-03-26T20:57:08.950Z"
   },
   {
    "duration": 9,
    "start_time": "2024-03-26T20:57:10.617Z"
   },
   {
    "duration": 10,
    "start_time": "2024-03-26T20:57:12.323Z"
   },
   {
    "duration": 3,
    "start_time": "2024-03-26T20:57:36.252Z"
   },
   {
    "duration": 50,
    "start_time": "2024-03-26T20:58:15.017Z"
   },
   {
    "duration": 485,
    "start_time": "2024-03-26T20:58:24.213Z"
   },
   {
    "duration": 23,
    "start_time": "2024-03-26T20:58:24.700Z"
   },
   {
    "duration": 17,
    "start_time": "2024-03-26T20:58:24.724Z"
   },
   {
    "duration": 11,
    "start_time": "2024-03-26T20:58:24.743Z"
   },
   {
    "duration": 59,
    "start_time": "2024-03-26T20:58:24.756Z"
   },
   {
    "duration": 4,
    "start_time": "2024-03-26T20:58:24.817Z"
   },
   {
    "duration": 13,
    "start_time": "2024-03-26T20:58:24.822Z"
   },
   {
    "duration": 4,
    "start_time": "2024-03-26T20:58:24.837Z"
   },
   {
    "duration": 9,
    "start_time": "2024-03-26T20:58:24.842Z"
   },
   {
    "duration": 5,
    "start_time": "2024-03-26T20:58:24.881Z"
   },
   {
    "duration": 39,
    "start_time": "2024-03-26T20:58:24.888Z"
   },
   {
    "duration": 10,
    "start_time": "2024-03-26T20:58:24.929Z"
   },
   {
    "duration": 4,
    "start_time": "2024-03-26T20:58:24.941Z"
   },
   {
    "duration": 38,
    "start_time": "2024-03-26T20:58:24.946Z"
   },
   {
    "duration": 20,
    "start_time": "2024-03-26T20:58:24.986Z"
   },
   {
    "duration": 17,
    "start_time": "2024-03-26T20:58:25.007Z"
   },
   {
    "duration": 3,
    "start_time": "2024-03-26T20:58:25.026Z"
   },
   {
    "duration": 13,
    "start_time": "2024-03-26T20:58:25.031Z"
   },
   {
    "duration": 15,
    "start_time": "2024-03-26T20:58:25.046Z"
   },
   {
    "duration": 4,
    "start_time": "2024-03-26T20:58:25.082Z"
   },
   {
    "duration": 23,
    "start_time": "2024-03-26T20:58:25.087Z"
   },
   {
    "duration": 20,
    "start_time": "2024-03-26T20:58:25.111Z"
   },
   {
    "duration": 2,
    "start_time": "2024-03-26T20:58:25.133Z"
   },
   {
    "duration": 5,
    "start_time": "2024-03-26T20:58:25.136Z"
   },
   {
    "duration": 4,
    "start_time": "2024-03-26T20:58:25.143Z"
   },
   {
    "duration": 34,
    "start_time": "2024-03-26T20:58:47.548Z"
   },
   {
    "duration": 8,
    "start_time": "2024-03-26T20:58:50.713Z"
   },
   {
    "duration": 12,
    "start_time": "2024-03-26T20:58:51.569Z"
   },
   {
    "duration": 82,
    "start_time": "2024-03-26T20:58:59.684Z"
   },
   {
    "duration": 17,
    "start_time": "2024-03-26T20:58:59.768Z"
   },
   {
    "duration": 17,
    "start_time": "2024-03-26T20:58:59.786Z"
   },
   {
    "duration": 12,
    "start_time": "2024-03-26T20:58:59.805Z"
   },
   {
    "duration": 70,
    "start_time": "2024-03-26T20:58:59.818Z"
   },
   {
    "duration": 7,
    "start_time": "2024-03-26T20:58:59.891Z"
   },
   {
    "duration": 14,
    "start_time": "2024-03-26T20:58:59.901Z"
   },
   {
    "duration": 5,
    "start_time": "2024-03-26T20:58:59.917Z"
   },
   {
    "duration": 6,
    "start_time": "2024-03-26T20:58:59.924Z"
   },
   {
    "duration": 7,
    "start_time": "2024-03-26T20:58:59.933Z"
   },
   {
    "duration": 81,
    "start_time": "2024-03-26T20:58:59.942Z"
   },
   {
    "duration": 11,
    "start_time": "2024-03-26T20:59:00.025Z"
   },
   {
    "duration": 42,
    "start_time": "2024-03-26T20:59:00.037Z"
   },
   {
    "duration": 38,
    "start_time": "2024-03-26T20:59:00.081Z"
   },
   {
    "duration": 52,
    "start_time": "2024-03-26T20:59:00.120Z"
   },
   {
    "duration": 26,
    "start_time": "2024-03-26T20:59:00.173Z"
   },
   {
    "duration": 18,
    "start_time": "2024-03-26T20:59:00.201Z"
   },
   {
    "duration": 72,
    "start_time": "2024-03-26T20:59:00.220Z"
   },
   {
    "duration": 31,
    "start_time": "2024-03-26T20:59:00.293Z"
   },
   {
    "duration": 35,
    "start_time": "2024-03-26T20:59:00.326Z"
   },
   {
    "duration": 75,
    "start_time": "2024-03-26T20:59:00.362Z"
   },
   {
    "duration": 40,
    "start_time": "2024-03-26T20:59:00.438Z"
   },
   {
    "duration": 0,
    "start_time": "2024-03-26T20:59:00.479Z"
   },
   {
    "duration": 0,
    "start_time": "2024-03-26T20:59:00.481Z"
   },
   {
    "duration": 0,
    "start_time": "2024-03-26T20:59:00.482Z"
   },
   {
    "duration": 90,
    "start_time": "2024-03-26T20:59:45.194Z"
   },
   {
    "duration": 18,
    "start_time": "2024-03-26T20:59:45.286Z"
   },
   {
    "duration": 44,
    "start_time": "2024-03-26T20:59:45.306Z"
   },
   {
    "duration": 21,
    "start_time": "2024-03-26T20:59:45.353Z"
   },
   {
    "duration": 51,
    "start_time": "2024-03-26T20:59:45.378Z"
   },
   {
    "duration": 4,
    "start_time": "2024-03-26T20:59:45.431Z"
   },
   {
    "duration": 31,
    "start_time": "2024-03-26T20:59:45.436Z"
   },
   {
    "duration": 37,
    "start_time": "2024-03-26T20:59:45.469Z"
   },
   {
    "duration": 24,
    "start_time": "2024-03-26T20:59:45.507Z"
   },
   {
    "duration": 28,
    "start_time": "2024-03-26T20:59:45.533Z"
   },
   {
    "duration": 57,
    "start_time": "2024-03-26T20:59:45.563Z"
   },
   {
    "duration": 10,
    "start_time": "2024-03-26T20:59:45.622Z"
   },
   {
    "duration": 29,
    "start_time": "2024-03-26T20:59:45.634Z"
   },
   {
    "duration": 27,
    "start_time": "2024-03-26T20:59:45.665Z"
   },
   {
    "duration": 20,
    "start_time": "2024-03-26T20:59:45.694Z"
   },
   {
    "duration": 19,
    "start_time": "2024-03-26T20:59:45.716Z"
   },
   {
    "duration": 9,
    "start_time": "2024-03-26T20:59:45.737Z"
   },
   {
    "duration": 24,
    "start_time": "2024-03-26T20:59:45.748Z"
   },
   {
    "duration": 29,
    "start_time": "2024-03-26T20:59:45.774Z"
   },
   {
    "duration": 31,
    "start_time": "2024-03-26T20:59:45.804Z"
   },
   {
    "duration": 29,
    "start_time": "2024-03-26T20:59:45.836Z"
   },
   {
    "duration": 47,
    "start_time": "2024-03-26T20:59:45.867Z"
   },
   {
    "duration": 2,
    "start_time": "2024-03-26T20:59:45.916Z"
   },
   {
    "duration": 25,
    "start_time": "2024-03-26T20:59:45.919Z"
   },
   {
    "duration": 4,
    "start_time": "2024-03-26T20:59:45.946Z"
   },
   {
    "duration": 12,
    "start_time": "2024-03-26T21:01:52.544Z"
   },
   {
    "duration": 9,
    "start_time": "2024-03-26T21:02:10.277Z"
   },
   {
    "duration": 9,
    "start_time": "2024-03-26T21:02:13.445Z"
   },
   {
    "duration": 84,
    "start_time": "2024-03-26T21:02:16.727Z"
   },
   {
    "duration": 16,
    "start_time": "2024-03-26T21:02:16.813Z"
   },
   {
    "duration": 28,
    "start_time": "2024-03-26T21:02:16.830Z"
   },
   {
    "duration": 13,
    "start_time": "2024-03-26T21:02:16.860Z"
   },
   {
    "duration": 45,
    "start_time": "2024-03-26T21:02:16.875Z"
   },
   {
    "duration": 4,
    "start_time": "2024-03-26T21:02:16.921Z"
   },
   {
    "duration": 12,
    "start_time": "2024-03-26T21:02:16.927Z"
   },
   {
    "duration": 12,
    "start_time": "2024-03-26T21:02:16.940Z"
   },
   {
    "duration": 7,
    "start_time": "2024-03-26T21:02:16.953Z"
   },
   {
    "duration": 6,
    "start_time": "2024-03-26T21:02:16.981Z"
   },
   {
    "duration": 38,
    "start_time": "2024-03-26T21:02:16.989Z"
   },
   {
    "duration": 18,
    "start_time": "2024-03-26T21:02:17.029Z"
   },
   {
    "duration": 5,
    "start_time": "2024-03-26T21:02:17.049Z"
   },
   {
    "duration": 43,
    "start_time": "2024-03-26T21:02:17.055Z"
   },
   {
    "duration": 23,
    "start_time": "2024-03-26T21:02:17.100Z"
   },
   {
    "duration": 19,
    "start_time": "2024-03-26T21:02:17.124Z"
   },
   {
    "duration": 4,
    "start_time": "2024-03-26T21:02:17.144Z"
   },
   {
    "duration": 35,
    "start_time": "2024-03-26T21:02:17.149Z"
   },
   {
    "duration": 7,
    "start_time": "2024-03-26T21:02:17.185Z"
   },
   {
    "duration": 4,
    "start_time": "2024-03-26T21:02:17.193Z"
   },
   {
    "duration": 12,
    "start_time": "2024-03-26T21:02:17.198Z"
   },
   {
    "duration": 12,
    "start_time": "2024-03-26T21:02:17.211Z"
   },
   {
    "duration": 0,
    "start_time": "2024-03-26T21:02:17.225Z"
   },
   {
    "duration": 0,
    "start_time": "2024-03-26T21:02:17.226Z"
   },
   {
    "duration": 0,
    "start_time": "2024-03-26T21:02:17.227Z"
   },
   {
    "duration": 472,
    "start_time": "2024-03-26T21:02:56.320Z"
   },
   {
    "duration": 23,
    "start_time": "2024-03-26T21:02:56.794Z"
   },
   {
    "duration": 17,
    "start_time": "2024-03-26T21:02:56.819Z"
   },
   {
    "duration": 10,
    "start_time": "2024-03-26T21:02:56.838Z"
   },
   {
    "duration": 61,
    "start_time": "2024-03-26T21:02:56.850Z"
   },
   {
    "duration": 4,
    "start_time": "2024-03-26T21:02:56.913Z"
   },
   {
    "duration": 26,
    "start_time": "2024-03-26T21:02:56.919Z"
   },
   {
    "duration": 6,
    "start_time": "2024-03-26T21:02:56.946Z"
   },
   {
    "duration": 8,
    "start_time": "2024-03-26T21:02:56.954Z"
   },
   {
    "duration": 41,
    "start_time": "2024-03-26T21:02:56.963Z"
   },
   {
    "duration": 63,
    "start_time": "2024-03-26T21:02:57.006Z"
   },
   {
    "duration": 12,
    "start_time": "2024-03-26T21:02:57.071Z"
   },
   {
    "duration": 4,
    "start_time": "2024-03-26T21:02:57.085Z"
   },
   {
    "duration": 12,
    "start_time": "2024-03-26T21:02:57.092Z"
   },
   {
    "duration": 21,
    "start_time": "2024-03-26T21:02:57.106Z"
   },
   {
    "duration": 18,
    "start_time": "2024-03-26T21:02:57.128Z"
   },
   {
    "duration": 4,
    "start_time": "2024-03-26T21:02:57.147Z"
   },
   {
    "duration": 12,
    "start_time": "2024-03-26T21:02:57.181Z"
   },
   {
    "duration": 7,
    "start_time": "2024-03-26T21:02:57.194Z"
   },
   {
    "duration": 4,
    "start_time": "2024-03-26T21:02:57.202Z"
   },
   {
    "duration": 10,
    "start_time": "2024-03-26T21:02:57.207Z"
   },
   {
    "duration": 93,
    "start_time": "2024-03-26T21:02:57.219Z"
   },
   {
    "duration": 0,
    "start_time": "2024-03-26T21:02:57.313Z"
   },
   {
    "duration": 0,
    "start_time": "2024-03-26T21:02:57.314Z"
   },
   {
    "duration": 0,
    "start_time": "2024-03-26T21:02:57.316Z"
   },
   {
    "duration": 77,
    "start_time": "2024-03-26T21:04:07.283Z"
   },
   {
    "duration": 15,
    "start_time": "2024-03-26T21:04:07.362Z"
   },
   {
    "duration": 16,
    "start_time": "2024-03-26T21:04:07.381Z"
   },
   {
    "duration": 11,
    "start_time": "2024-03-26T21:04:07.400Z"
   },
   {
    "duration": 36,
    "start_time": "2024-03-26T21:04:07.413Z"
   },
   {
    "duration": 32,
    "start_time": "2024-03-26T21:04:07.451Z"
   },
   {
    "duration": 10,
    "start_time": "2024-03-26T21:04:07.485Z"
   },
   {
    "duration": 6,
    "start_time": "2024-03-26T21:04:07.497Z"
   },
   {
    "duration": 6,
    "start_time": "2024-03-26T21:04:07.505Z"
   },
   {
    "duration": 4,
    "start_time": "2024-03-26T21:04:07.514Z"
   },
   {
    "duration": 68,
    "start_time": "2024-03-26T21:04:07.520Z"
   },
   {
    "duration": 12,
    "start_time": "2024-03-26T21:04:07.590Z"
   },
   {
    "duration": 3,
    "start_time": "2024-03-26T21:04:07.604Z"
   },
   {
    "duration": 18,
    "start_time": "2024-03-26T21:04:07.608Z"
   },
   {
    "duration": 24,
    "start_time": "2024-03-26T21:04:07.628Z"
   },
   {
    "duration": 32,
    "start_time": "2024-03-26T21:04:07.653Z"
   },
   {
    "duration": 4,
    "start_time": "2024-03-26T21:04:07.687Z"
   },
   {
    "duration": 13,
    "start_time": "2024-03-26T21:04:07.693Z"
   },
   {
    "duration": 7,
    "start_time": "2024-03-26T21:04:07.708Z"
   },
   {
    "duration": 4,
    "start_time": "2024-03-26T21:04:07.717Z"
   },
   {
    "duration": 10,
    "start_time": "2024-03-26T21:04:07.723Z"
   },
   {
    "duration": 47,
    "start_time": "2024-03-26T21:04:07.735Z"
   },
   {
    "duration": 3,
    "start_time": "2024-03-26T21:04:07.784Z"
   },
   {
    "duration": 4,
    "start_time": "2024-03-26T21:04:07.788Z"
   },
   {
    "duration": 3,
    "start_time": "2024-03-26T21:04:07.793Z"
   },
   {
    "duration": 86,
    "start_time": "2024-03-26T21:05:03.885Z"
   },
   {
    "duration": 14,
    "start_time": "2024-03-26T21:05:03.973Z"
   },
   {
    "duration": 15,
    "start_time": "2024-03-26T21:05:03.988Z"
   },
   {
    "duration": 10,
    "start_time": "2024-03-26T21:05:04.005Z"
   },
   {
    "duration": 37,
    "start_time": "2024-03-26T21:05:04.016Z"
   },
   {
    "duration": 3,
    "start_time": "2024-03-26T21:05:04.054Z"
   },
   {
    "duration": 30,
    "start_time": "2024-03-26T21:05:04.058Z"
   },
   {
    "duration": 14,
    "start_time": "2024-03-26T21:05:04.090Z"
   },
   {
    "duration": 8,
    "start_time": "2024-03-26T21:05:04.105Z"
   },
   {
    "duration": 4,
    "start_time": "2024-03-26T21:05:04.176Z"
   },
   {
    "duration": 38,
    "start_time": "2024-03-26T21:05:04.182Z"
   },
   {
    "duration": 10,
    "start_time": "2024-03-26T21:05:04.221Z"
   },
   {
    "duration": 4,
    "start_time": "2024-03-26T21:05:04.233Z"
   },
   {
    "duration": 11,
    "start_time": "2024-03-26T21:05:04.239Z"
   },
   {
    "duration": 41,
    "start_time": "2024-03-26T21:05:04.251Z"
   },
   {
    "duration": 17,
    "start_time": "2024-03-26T21:05:04.294Z"
   },
   {
    "duration": 3,
    "start_time": "2024-03-26T21:05:04.313Z"
   },
   {
    "duration": 13,
    "start_time": "2024-03-26T21:05:04.317Z"
   },
   {
    "duration": 14,
    "start_time": "2024-03-26T21:05:04.331Z"
   },
   {
    "duration": 12,
    "start_time": "2024-03-26T21:05:04.346Z"
   },
   {
    "duration": 22,
    "start_time": "2024-03-26T21:05:04.360Z"
   },
   {
    "duration": 10,
    "start_time": "2024-03-26T21:05:04.383Z"
   },
   {
    "duration": 2,
    "start_time": "2024-03-26T21:05:04.395Z"
   },
   {
    "duration": 16,
    "start_time": "2024-03-26T21:05:04.398Z"
   },
   {
    "duration": 9,
    "start_time": "2024-03-26T21:05:04.415Z"
   },
   {
    "duration": 74,
    "start_time": "2024-03-26T21:05:36.709Z"
   },
   {
    "duration": 15,
    "start_time": "2024-03-26T21:05:36.785Z"
   },
   {
    "duration": 61,
    "start_time": "2024-03-26T21:05:36.802Z"
   },
   {
    "duration": 39,
    "start_time": "2024-03-26T21:05:36.865Z"
   },
   {
    "duration": 55,
    "start_time": "2024-03-26T21:05:36.906Z"
   },
   {
    "duration": 13,
    "start_time": "2024-03-26T21:05:36.963Z"
   },
   {
    "duration": 37,
    "start_time": "2024-03-26T21:05:36.978Z"
   },
   {
    "duration": 34,
    "start_time": "2024-03-26T21:05:37.017Z"
   },
   {
    "duration": 43,
    "start_time": "2024-03-26T21:05:37.052Z"
   },
   {
    "duration": 37,
    "start_time": "2024-03-26T21:05:37.096Z"
   },
   {
    "duration": 45,
    "start_time": "2024-03-26T21:05:37.134Z"
   },
   {
    "duration": 10,
    "start_time": "2024-03-26T21:05:37.181Z"
   },
   {
    "duration": 22,
    "start_time": "2024-03-26T21:05:37.192Z"
   },
   {
    "duration": 36,
    "start_time": "2024-03-26T21:05:37.217Z"
   },
   {
    "duration": 39,
    "start_time": "2024-03-26T21:05:37.255Z"
   },
   {
    "duration": 34,
    "start_time": "2024-03-26T21:05:37.296Z"
   },
   {
    "duration": 5,
    "start_time": "2024-03-26T21:05:37.332Z"
   },
   {
    "duration": 43,
    "start_time": "2024-03-26T21:05:37.339Z"
   },
   {
    "duration": 26,
    "start_time": "2024-03-26T21:05:37.384Z"
   },
   {
    "duration": 34,
    "start_time": "2024-03-26T21:05:37.412Z"
   },
   {
    "duration": 32,
    "start_time": "2024-03-26T21:05:37.447Z"
   },
   {
    "duration": 41,
    "start_time": "2024-03-26T21:05:37.480Z"
   },
   {
    "duration": 31,
    "start_time": "2024-03-26T21:05:37.523Z"
   },
   {
    "duration": 26,
    "start_time": "2024-03-26T21:05:37.556Z"
   },
   {
    "duration": 41,
    "start_time": "2024-03-26T21:05:37.583Z"
   },
   {
    "duration": 77,
    "start_time": "2024-03-26T21:06:20.792Z"
   },
   {
    "duration": 17,
    "start_time": "2024-03-26T21:06:20.871Z"
   },
   {
    "duration": 23,
    "start_time": "2024-03-26T21:06:20.890Z"
   },
   {
    "duration": 11,
    "start_time": "2024-03-26T21:06:20.915Z"
   },
   {
    "duration": 57,
    "start_time": "2024-03-26T21:06:20.927Z"
   },
   {
    "duration": 2,
    "start_time": "2024-03-26T21:06:20.986Z"
   },
   {
    "duration": 20,
    "start_time": "2024-03-26T21:06:20.990Z"
   },
   {
    "duration": 4,
    "start_time": "2024-03-26T21:06:21.012Z"
   },
   {
    "duration": 10,
    "start_time": "2024-03-26T21:06:21.017Z"
   },
   {
    "duration": 4,
    "start_time": "2024-03-26T21:06:21.030Z"
   },
   {
    "duration": 47,
    "start_time": "2024-03-26T21:06:21.035Z"
   },
   {
    "duration": 10,
    "start_time": "2024-03-26T21:06:21.084Z"
   },
   {
    "duration": 3,
    "start_time": "2024-03-26T21:06:21.096Z"
   },
   {
    "duration": 11,
    "start_time": "2024-03-26T21:06:21.100Z"
   },
   {
    "duration": 23,
    "start_time": "2024-03-26T21:06:21.112Z"
   },
   {
    "duration": 17,
    "start_time": "2024-03-26T21:06:21.137Z"
   },
   {
    "duration": 4,
    "start_time": "2024-03-26T21:06:21.155Z"
   },
   {
    "duration": 12,
    "start_time": "2024-03-26T21:06:21.181Z"
   },
   {
    "duration": 5,
    "start_time": "2024-03-26T21:06:21.194Z"
   },
   {
    "duration": 4,
    "start_time": "2024-03-26T21:06:21.201Z"
   },
   {
    "duration": 10,
    "start_time": "2024-03-26T21:06:21.206Z"
   },
   {
    "duration": 8,
    "start_time": "2024-03-26T21:06:21.217Z"
   },
   {
    "duration": 2,
    "start_time": "2024-03-26T21:06:21.226Z"
   },
   {
    "duration": 4,
    "start_time": "2024-03-26T21:06:21.229Z"
   },
   {
    "duration": 4,
    "start_time": "2024-03-26T21:06:21.234Z"
   },
   {
    "duration": 99,
    "start_time": "2024-03-26T21:07:14.344Z"
   },
   {
    "duration": 16,
    "start_time": "2024-03-26T21:07:14.445Z"
   },
   {
    "duration": 30,
    "start_time": "2024-03-26T21:07:14.463Z"
   },
   {
    "duration": 18,
    "start_time": "2024-03-26T21:07:14.495Z"
   },
   {
    "duration": 39,
    "start_time": "2024-03-26T21:07:14.515Z"
   },
   {
    "duration": 3,
    "start_time": "2024-03-26T21:07:14.556Z"
   },
   {
    "duration": 28,
    "start_time": "2024-03-26T21:07:14.561Z"
   },
   {
    "duration": 5,
    "start_time": "2024-03-26T21:07:14.591Z"
   },
   {
    "duration": 20,
    "start_time": "2024-03-26T21:07:14.598Z"
   },
   {
    "duration": 6,
    "start_time": "2024-03-26T21:07:14.622Z"
   },
   {
    "duration": 52,
    "start_time": "2024-03-26T21:07:14.630Z"
   },
   {
    "duration": 11,
    "start_time": "2024-03-26T21:07:14.684Z"
   },
   {
    "duration": 5,
    "start_time": "2024-03-26T21:07:14.697Z"
   },
   {
    "duration": 11,
    "start_time": "2024-03-26T21:07:14.704Z"
   },
   {
    "duration": 21,
    "start_time": "2024-03-26T21:07:14.716Z"
   },
   {
    "duration": 50,
    "start_time": "2024-03-26T21:07:14.738Z"
   },
   {
    "duration": 3,
    "start_time": "2024-03-26T21:07:14.790Z"
   },
   {
    "duration": 13,
    "start_time": "2024-03-26T21:07:14.794Z"
   },
   {
    "duration": 8,
    "start_time": "2024-03-26T21:07:14.808Z"
   },
   {
    "duration": 4,
    "start_time": "2024-03-26T21:07:14.817Z"
   },
   {
    "duration": 12,
    "start_time": "2024-03-26T21:07:14.823Z"
   },
   {
    "duration": 11,
    "start_time": "2024-03-26T21:07:14.837Z"
   },
   {
    "duration": 33,
    "start_time": "2024-03-26T21:07:14.850Z"
   },
   {
    "duration": 3,
    "start_time": "2024-03-26T21:07:14.885Z"
   },
   {
    "duration": 13,
    "start_time": "2024-03-26T21:07:14.889Z"
   },
   {
    "duration": 88,
    "start_time": "2024-03-26T21:22:24.574Z"
   },
   {
    "duration": 17,
    "start_time": "2024-03-26T21:22:24.664Z"
   },
   {
    "duration": 34,
    "start_time": "2024-03-26T21:22:24.683Z"
   },
   {
    "duration": 11,
    "start_time": "2024-03-26T21:22:24.719Z"
   },
   {
    "duration": 55,
    "start_time": "2024-03-26T21:22:24.732Z"
   },
   {
    "duration": 4,
    "start_time": "2024-03-26T21:22:24.789Z"
   },
   {
    "duration": 35,
    "start_time": "2024-03-26T21:22:24.794Z"
   },
   {
    "duration": 17,
    "start_time": "2024-03-26T21:22:24.831Z"
   },
   {
    "duration": 28,
    "start_time": "2024-03-26T21:22:24.850Z"
   },
   {
    "duration": 10,
    "start_time": "2024-03-26T21:22:24.880Z"
   },
   {
    "duration": 51,
    "start_time": "2024-03-26T21:22:24.892Z"
   },
   {
    "duration": 11,
    "start_time": "2024-03-26T21:22:24.944Z"
   },
   {
    "duration": 12,
    "start_time": "2024-03-26T21:22:24.957Z"
   },
   {
    "duration": 42,
    "start_time": "2024-03-26T21:22:24.971Z"
   },
   {
    "duration": 45,
    "start_time": "2024-03-26T21:22:25.015Z"
   },
   {
    "duration": 27,
    "start_time": "2024-03-26T21:22:25.061Z"
   },
   {
    "duration": 3,
    "start_time": "2024-03-26T21:22:25.090Z"
   },
   {
    "duration": 20,
    "start_time": "2024-03-26T21:22:25.095Z"
   },
   {
    "duration": 15,
    "start_time": "2024-03-26T21:22:25.116Z"
   },
   {
    "duration": 11,
    "start_time": "2024-03-26T21:22:25.133Z"
   },
   {
    "duration": 25,
    "start_time": "2024-03-26T21:22:25.146Z"
   },
   {
    "duration": 38,
    "start_time": "2024-03-26T21:22:25.173Z"
   },
   {
    "duration": 13,
    "start_time": "2024-03-26T21:22:25.212Z"
   },
   {
    "duration": 4,
    "start_time": "2024-03-26T21:22:25.227Z"
   },
   {
    "duration": 18,
    "start_time": "2024-03-26T21:22:25.233Z"
   },
   {
    "duration": 614,
    "start_time": "2024-03-27T10:48:18.468Z"
   },
   {
    "duration": 22,
    "start_time": "2024-03-27T10:48:19.084Z"
   },
   {
    "duration": 14,
    "start_time": "2024-03-27T10:48:19.107Z"
   },
   {
    "duration": 14,
    "start_time": "2024-03-27T10:48:19.123Z"
   },
   {
    "duration": 57,
    "start_time": "2024-03-27T10:48:19.139Z"
   },
   {
    "duration": 4,
    "start_time": "2024-03-27T10:48:19.198Z"
   },
   {
    "duration": 28,
    "start_time": "2024-03-27T10:48:19.203Z"
   },
   {
    "duration": 9,
    "start_time": "2024-03-27T10:48:19.233Z"
   },
   {
    "duration": 25,
    "start_time": "2024-03-27T10:48:19.243Z"
   },
   {
    "duration": 40,
    "start_time": "2024-03-27T10:48:19.271Z"
   },
   {
    "duration": 40,
    "start_time": "2024-03-27T10:48:19.313Z"
   },
   {
    "duration": 10,
    "start_time": "2024-03-27T10:48:19.355Z"
   },
   {
    "duration": 7,
    "start_time": "2024-03-27T10:48:19.367Z"
   },
   {
    "duration": 32,
    "start_time": "2024-03-27T10:48:19.376Z"
   },
   {
    "duration": 24,
    "start_time": "2024-03-27T10:48:19.409Z"
   },
   {
    "duration": 17,
    "start_time": "2024-03-27T10:48:19.435Z"
   },
   {
    "duration": 3,
    "start_time": "2024-03-27T10:48:19.453Z"
   },
   {
    "duration": 15,
    "start_time": "2024-03-27T10:48:19.458Z"
   },
   {
    "duration": 26,
    "start_time": "2024-03-27T10:48:19.475Z"
   },
   {
    "duration": 16,
    "start_time": "2024-03-27T10:48:19.503Z"
   },
   {
    "duration": 26,
    "start_time": "2024-03-27T10:48:19.521Z"
   },
   {
    "duration": 36,
    "start_time": "2024-03-27T10:48:19.549Z"
   },
   {
    "duration": 10,
    "start_time": "2024-03-27T10:48:19.587Z"
   },
   {
    "duration": 23,
    "start_time": "2024-03-27T10:48:19.599Z"
   },
   {
    "duration": 2,
    "start_time": "2024-03-27T10:48:19.624Z"
   },
   {
    "duration": 14,
    "start_time": "2024-03-27T10:49:02.688Z"
   },
   {
    "duration": 13,
    "start_time": "2024-03-27T10:49:04.340Z"
   },
   {
    "duration": 17,
    "start_time": "2024-03-27T10:49:05.801Z"
   },
   {
    "duration": 3,
    "start_time": "2024-03-27T10:52:46.254Z"
   },
   {
    "duration": 3,
    "start_time": "2024-03-27T10:52:47.782Z"
   },
   {
    "duration": 3,
    "start_time": "2024-03-27T10:52:49.222Z"
   },
   {
    "duration": 3,
    "start_time": "2024-03-27T10:52:51.561Z"
   },
   {
    "duration": 2,
    "start_time": "2024-03-27T10:52:52.620Z"
   },
   {
    "duration": 3,
    "start_time": "2024-03-27T10:57:41.665Z"
   },
   {
    "duration": 333,
    "start_time": "2024-03-27T10:57:42.579Z"
   },
   {
    "duration": 3,
    "start_time": "2024-03-27T10:57:50.274Z"
   },
   {
    "duration": 353,
    "start_time": "2024-03-27T10:57:50.279Z"
   },
   {
    "duration": 0,
    "start_time": "2024-03-27T10:57:50.634Z"
   },
   {
    "duration": 75,
    "start_time": "2024-03-27T10:57:54.989Z"
   },
   {
    "duration": 15,
    "start_time": "2024-03-27T10:57:55.066Z"
   },
   {
    "duration": 22,
    "start_time": "2024-03-27T10:57:55.083Z"
   },
   {
    "duration": 10,
    "start_time": "2024-03-27T10:57:55.106Z"
   },
   {
    "duration": 59,
    "start_time": "2024-03-27T10:57:55.118Z"
   },
   {
    "duration": 3,
    "start_time": "2024-03-27T10:57:55.178Z"
   },
   {
    "duration": 10,
    "start_time": "2024-03-27T10:57:55.183Z"
   },
   {
    "duration": 4,
    "start_time": "2024-03-27T10:57:55.195Z"
   },
   {
    "duration": 9,
    "start_time": "2024-03-27T10:57:55.200Z"
   },
   {
    "duration": 4,
    "start_time": "2024-03-27T10:57:55.212Z"
   },
   {
    "duration": 59,
    "start_time": "2024-03-27T10:57:55.217Z"
   },
   {
    "duration": 10,
    "start_time": "2024-03-27T10:57:55.278Z"
   },
   {
    "duration": 41,
    "start_time": "2024-03-27T10:57:55.289Z"
   },
   {
    "duration": 11,
    "start_time": "2024-03-27T10:57:55.331Z"
   },
   {
    "duration": 19,
    "start_time": "2024-03-27T10:57:55.344Z"
   },
   {
    "duration": 18,
    "start_time": "2024-03-27T10:57:55.364Z"
   },
   {
    "duration": 5,
    "start_time": "2024-03-27T10:57:55.383Z"
   },
   {
    "duration": 35,
    "start_time": "2024-03-27T10:57:55.390Z"
   },
   {
    "duration": 26,
    "start_time": "2024-03-27T10:57:55.427Z"
   },
   {
    "duration": 5,
    "start_time": "2024-03-27T10:57:55.455Z"
   },
   {
    "duration": 16,
    "start_time": "2024-03-27T10:57:55.462Z"
   },
   {
    "duration": 15,
    "start_time": "2024-03-27T10:57:55.480Z"
   },
   {
    "duration": 14,
    "start_time": "2024-03-27T10:57:55.497Z"
   },
   {
    "duration": 3,
    "start_time": "2024-03-27T10:57:55.513Z"
   },
   {
    "duration": 287,
    "start_time": "2024-03-27T10:57:55.517Z"
   },
   {
    "duration": 0,
    "start_time": "2024-03-27T10:57:55.806Z"
   },
   {
    "duration": 0,
    "start_time": "2024-03-27T10:57:55.808Z"
   },
   {
    "duration": 75,
    "start_time": "2024-03-27T10:58:01.565Z"
   },
   {
    "duration": 15,
    "start_time": "2024-03-27T10:58:01.642Z"
   },
   {
    "duration": 43,
    "start_time": "2024-03-27T10:58:01.659Z"
   },
   {
    "duration": 30,
    "start_time": "2024-03-27T10:58:01.703Z"
   },
   {
    "duration": 79,
    "start_time": "2024-03-27T10:58:01.735Z"
   },
   {
    "duration": 4,
    "start_time": "2024-03-27T10:58:01.816Z"
   },
   {
    "duration": 51,
    "start_time": "2024-03-27T10:58:01.821Z"
   },
   {
    "duration": 41,
    "start_time": "2024-03-27T10:58:01.874Z"
   },
   {
    "duration": 78,
    "start_time": "2024-03-27T10:58:01.917Z"
   },
   {
    "duration": 40,
    "start_time": "2024-03-27T10:58:01.997Z"
   },
   {
    "duration": 70,
    "start_time": "2024-03-27T10:58:02.039Z"
   },
   {
    "duration": 45,
    "start_time": "2024-03-27T10:58:02.111Z"
   },
   {
    "duration": 28,
    "start_time": "2024-03-27T10:58:02.158Z"
   },
   {
    "duration": 60,
    "start_time": "2024-03-27T10:58:02.189Z"
   },
   {
    "duration": 76,
    "start_time": "2024-03-27T10:58:02.251Z"
   },
   {
    "duration": 19,
    "start_time": "2024-03-27T10:58:02.329Z"
   },
   {
    "duration": 43,
    "start_time": "2024-03-27T10:58:02.350Z"
   },
   {
    "duration": 32,
    "start_time": "2024-03-27T10:58:02.395Z"
   },
   {
    "duration": 11,
    "start_time": "2024-03-27T10:58:02.429Z"
   },
   {
    "duration": 14,
    "start_time": "2024-03-27T10:58:02.441Z"
   },
   {
    "duration": 30,
    "start_time": "2024-03-27T10:58:02.457Z"
   },
   {
    "duration": 30,
    "start_time": "2024-03-27T10:58:02.488Z"
   },
   {
    "duration": 12,
    "start_time": "2024-03-27T10:58:02.519Z"
   },
   {
    "duration": 37,
    "start_time": "2024-03-27T10:58:02.532Z"
   },
   {
    "duration": 360,
    "start_time": "2024-03-27T10:58:02.571Z"
   },
   {
    "duration": 0,
    "start_time": "2024-03-27T10:58:02.933Z"
   },
   {
    "duration": 0,
    "start_time": "2024-03-27T10:58:02.934Z"
   },
   {
    "duration": 71,
    "start_time": "2024-03-27T10:58:50.693Z"
   },
   {
    "duration": 15,
    "start_time": "2024-03-27T10:58:50.767Z"
   },
   {
    "duration": 16,
    "start_time": "2024-03-27T10:58:50.784Z"
   },
   {
    "duration": 10,
    "start_time": "2024-03-27T10:58:50.803Z"
   },
   {
    "duration": 62,
    "start_time": "2024-03-27T10:58:50.815Z"
   },
   {
    "duration": 3,
    "start_time": "2024-03-27T10:58:50.879Z"
   },
   {
    "duration": 14,
    "start_time": "2024-03-27T10:58:50.883Z"
   },
   {
    "duration": 6,
    "start_time": "2024-03-27T10:58:50.898Z"
   },
   {
    "duration": 16,
    "start_time": "2024-03-27T10:58:50.905Z"
   },
   {
    "duration": 4,
    "start_time": "2024-03-27T10:58:50.924Z"
   },
   {
    "duration": 36,
    "start_time": "2024-03-27T10:58:50.929Z"
   },
   {
    "duration": 10,
    "start_time": "2024-03-27T10:58:50.966Z"
   },
   {
    "duration": 3,
    "start_time": "2024-03-27T10:58:50.978Z"
   },
   {
    "duration": 15,
    "start_time": "2024-03-27T10:58:50.982Z"
   },
   {
    "duration": 19,
    "start_time": "2024-03-27T10:58:50.998Z"
   },
   {
    "duration": 15,
    "start_time": "2024-03-27T10:58:51.019Z"
   },
   {
    "duration": 4,
    "start_time": "2024-03-27T10:58:51.035Z"
   },
   {
    "duration": 33,
    "start_time": "2024-03-27T10:58:51.040Z"
   },
   {
    "duration": 18,
    "start_time": "2024-03-27T10:58:51.074Z"
   },
   {
    "duration": 4,
    "start_time": "2024-03-27T10:58:51.093Z"
   },
   {
    "duration": 22,
    "start_time": "2024-03-27T10:58:51.099Z"
   },
   {
    "duration": 14,
    "start_time": "2024-03-27T10:58:51.122Z"
   },
   {
    "duration": 9,
    "start_time": "2024-03-27T10:58:51.137Z"
   },
   {
    "duration": 22,
    "start_time": "2024-03-27T10:58:51.148Z"
   },
   {
    "duration": 1054,
    "start_time": "2024-03-27T10:58:51.172Z"
   },
   {
    "duration": 0,
    "start_time": "2024-03-27T10:58:52.227Z"
   },
   {
    "duration": 0,
    "start_time": "2024-03-27T10:58:52.228Z"
   },
   {
    "duration": 71,
    "start_time": "2024-03-27T10:59:05.227Z"
   },
   {
    "duration": 14,
    "start_time": "2024-03-27T10:59:05.300Z"
   },
   {
    "duration": 27,
    "start_time": "2024-03-27T10:59:05.316Z"
   },
   {
    "duration": 14,
    "start_time": "2024-03-27T10:59:05.345Z"
   },
   {
    "duration": 57,
    "start_time": "2024-03-27T10:59:05.361Z"
   },
   {
    "duration": 4,
    "start_time": "2024-03-27T10:59:05.419Z"
   },
   {
    "duration": 32,
    "start_time": "2024-03-27T10:59:05.424Z"
   },
   {
    "duration": 5,
    "start_time": "2024-03-27T10:59:05.457Z"
   },
   {
    "duration": 9,
    "start_time": "2024-03-27T10:59:05.464Z"
   },
   {
    "duration": 25,
    "start_time": "2024-03-27T10:59:05.476Z"
   },
   {
    "duration": 35,
    "start_time": "2024-03-27T10:59:05.503Z"
   },
   {
    "duration": 10,
    "start_time": "2024-03-27T10:59:05.539Z"
   },
   {
    "duration": 6,
    "start_time": "2024-03-27T10:59:05.550Z"
   },
   {
    "duration": 15,
    "start_time": "2024-03-27T10:59:05.557Z"
   },
   {
    "duration": 26,
    "start_time": "2024-03-27T10:59:05.573Z"
   },
   {
    "duration": 18,
    "start_time": "2024-03-27T10:59:05.601Z"
   },
   {
    "duration": 4,
    "start_time": "2024-03-27T10:59:05.620Z"
   },
   {
    "duration": 22,
    "start_time": "2024-03-27T10:59:05.625Z"
   },
   {
    "duration": 16,
    "start_time": "2024-03-27T10:59:05.649Z"
   },
   {
    "duration": 4,
    "start_time": "2024-03-27T10:59:05.667Z"
   },
   {
    "duration": 11,
    "start_time": "2024-03-27T10:59:05.672Z"
   },
   {
    "duration": 8,
    "start_time": "2024-03-27T10:59:05.684Z"
   },
   {
    "duration": 8,
    "start_time": "2024-03-27T10:59:05.693Z"
   },
   {
    "duration": 15,
    "start_time": "2024-03-27T10:59:05.703Z"
   },
   {
    "duration": 1026,
    "start_time": "2024-03-27T10:59:05.720Z"
   },
   {
    "duration": 0,
    "start_time": "2024-03-27T10:59:06.748Z"
   },
   {
    "duration": 0,
    "start_time": "2024-03-27T10:59:06.750Z"
   },
   {
    "duration": 1035,
    "start_time": "2024-03-27T10:59:09.325Z"
   },
   {
    "duration": 1204,
    "start_time": "2024-03-27T10:59:12.106Z"
   },
   {
    "duration": 4,
    "start_time": "2024-03-27T10:59:18.703Z"
   },
   {
    "duration": 4,
    "start_time": "2024-03-27T10:59:21.512Z"
   },
   {
    "duration": 5,
    "start_time": "2024-03-27T10:59:23.853Z"
   },
   {
    "duration": 71,
    "start_time": "2024-03-27T11:03:36.129Z"
   },
   {
    "duration": 15,
    "start_time": "2024-03-27T11:03:36.201Z"
   },
   {
    "duration": 16,
    "start_time": "2024-03-27T11:03:36.217Z"
   },
   {
    "duration": 10,
    "start_time": "2024-03-27T11:03:36.235Z"
   },
   {
    "duration": 51,
    "start_time": "2024-03-27T11:03:36.246Z"
   },
   {
    "duration": 3,
    "start_time": "2024-03-27T11:03:36.298Z"
   },
   {
    "duration": 10,
    "start_time": "2024-03-27T11:03:36.303Z"
   },
   {
    "duration": 4,
    "start_time": "2024-03-27T11:03:36.314Z"
   },
   {
    "duration": 6,
    "start_time": "2024-03-27T11:03:36.319Z"
   },
   {
    "duration": 4,
    "start_time": "2024-03-27T11:03:36.328Z"
   },
   {
    "duration": 61,
    "start_time": "2024-03-27T11:03:36.333Z"
   },
   {
    "duration": 11,
    "start_time": "2024-03-27T11:03:36.396Z"
   },
   {
    "duration": 4,
    "start_time": "2024-03-27T11:03:36.408Z"
   },
   {
    "duration": 12,
    "start_time": "2024-03-27T11:03:36.413Z"
   },
   {
    "duration": 19,
    "start_time": "2024-03-27T11:03:36.426Z"
   },
   {
    "duration": 18,
    "start_time": "2024-03-27T11:03:36.465Z"
   },
   {
    "duration": 4,
    "start_time": "2024-03-27T11:03:36.485Z"
   },
   {
    "duration": 16,
    "start_time": "2024-03-27T11:03:36.491Z"
   },
   {
    "duration": 6,
    "start_time": "2024-03-27T11:03:36.508Z"
   },
   {
    "duration": 4,
    "start_time": "2024-03-27T11:03:36.515Z"
   },
   {
    "duration": 23,
    "start_time": "2024-03-27T11:03:36.520Z"
   },
   {
    "duration": 24,
    "start_time": "2024-03-27T11:03:36.545Z"
   },
   {
    "duration": 10,
    "start_time": "2024-03-27T11:03:36.570Z"
   },
   {
    "duration": 20,
    "start_time": "2024-03-27T11:03:36.581Z"
   },
   {
    "duration": 3,
    "start_time": "2024-03-27T11:03:36.603Z"
   },
   {
    "duration": 6,
    "start_time": "2024-03-27T11:03:36.608Z"
   },
   {
    "duration": 72,
    "start_time": "2024-03-27T11:03:54.401Z"
   },
   {
    "duration": 21,
    "start_time": "2024-03-27T11:03:54.476Z"
   },
   {
    "duration": 21,
    "start_time": "2024-03-27T11:03:54.499Z"
   },
   {
    "duration": 11,
    "start_time": "2024-03-27T11:03:54.522Z"
   },
   {
    "duration": 57,
    "start_time": "2024-03-27T11:03:54.534Z"
   },
   {
    "duration": 3,
    "start_time": "2024-03-27T11:03:54.593Z"
   },
   {
    "duration": 25,
    "start_time": "2024-03-27T11:03:54.598Z"
   },
   {
    "duration": 11,
    "start_time": "2024-03-27T11:03:54.625Z"
   },
   {
    "duration": 21,
    "start_time": "2024-03-27T11:03:54.637Z"
   },
   {
    "duration": 18,
    "start_time": "2024-03-27T11:03:54.661Z"
   },
   {
    "duration": 43,
    "start_time": "2024-03-27T11:03:54.680Z"
   },
   {
    "duration": 17,
    "start_time": "2024-03-27T11:03:54.724Z"
   },
   {
    "duration": 15,
    "start_time": "2024-03-27T11:03:54.742Z"
   },
   {
    "duration": 29,
    "start_time": "2024-03-27T11:03:54.758Z"
   },
   {
    "duration": 19,
    "start_time": "2024-03-27T11:03:54.789Z"
   },
   {
    "duration": 18,
    "start_time": "2024-03-27T11:03:54.810Z"
   },
   {
    "duration": 4,
    "start_time": "2024-03-27T11:03:54.830Z"
   },
   {
    "duration": 24,
    "start_time": "2024-03-27T11:03:54.835Z"
   },
   {
    "duration": 15,
    "start_time": "2024-03-27T11:03:54.861Z"
   },
   {
    "duration": 23,
    "start_time": "2024-03-27T11:03:54.878Z"
   },
   {
    "duration": 27,
    "start_time": "2024-03-27T11:03:54.902Z"
   },
   {
    "duration": 18,
    "start_time": "2024-03-27T11:03:54.931Z"
   },
   {
    "duration": 9,
    "start_time": "2024-03-27T11:03:54.951Z"
   },
   {
    "duration": 24,
    "start_time": "2024-03-27T11:03:54.962Z"
   },
   {
    "duration": 3,
    "start_time": "2024-03-27T11:03:54.987Z"
   },
   {
    "duration": 19,
    "start_time": "2024-03-27T11:03:54.991Z"
   },
   {
    "duration": 75,
    "start_time": "2024-03-27T11:04:51.629Z"
   },
   {
    "duration": 15,
    "start_time": "2024-03-27T11:04:51.707Z"
   },
   {
    "duration": 19,
    "start_time": "2024-03-27T11:04:51.724Z"
   },
   {
    "duration": 26,
    "start_time": "2024-03-27T11:04:51.744Z"
   },
   {
    "duration": 64,
    "start_time": "2024-03-27T11:04:51.773Z"
   },
   {
    "duration": 5,
    "start_time": "2024-03-27T11:04:51.839Z"
   },
   {
    "duration": 24,
    "start_time": "2024-03-27T11:04:51.845Z"
   },
   {
    "duration": 17,
    "start_time": "2024-03-27T11:04:51.871Z"
   },
   {
    "duration": 17,
    "start_time": "2024-03-27T11:04:51.890Z"
   },
   {
    "duration": 15,
    "start_time": "2024-03-27T11:04:51.909Z"
   },
   {
    "duration": 43,
    "start_time": "2024-03-27T11:04:51.926Z"
   },
   {
    "duration": 11,
    "start_time": "2024-03-27T11:04:51.970Z"
   },
   {
    "duration": 6,
    "start_time": "2024-03-27T11:04:51.983Z"
   },
   {
    "duration": 13,
    "start_time": "2024-03-27T11:04:51.992Z"
   },
   {
    "duration": 45,
    "start_time": "2024-03-27T11:04:52.007Z"
   },
   {
    "duration": 29,
    "start_time": "2024-03-27T11:04:52.054Z"
   },
   {
    "duration": 5,
    "start_time": "2024-03-27T11:04:52.084Z"
   },
   {
    "duration": 41,
    "start_time": "2024-03-27T11:04:52.091Z"
   },
   {
    "duration": 15,
    "start_time": "2024-03-27T11:04:52.134Z"
   },
   {
    "duration": 7,
    "start_time": "2024-03-27T11:04:52.151Z"
   },
   {
    "duration": 16,
    "start_time": "2024-03-27T11:04:52.159Z"
   },
   {
    "duration": 9,
    "start_time": "2024-03-27T11:04:52.177Z"
   },
   {
    "duration": 16,
    "start_time": "2024-03-27T11:04:52.187Z"
   },
   {
    "duration": 20,
    "start_time": "2024-03-27T11:04:52.205Z"
   },
   {
    "duration": 3,
    "start_time": "2024-03-27T11:04:52.227Z"
   },
   {
    "duration": 10,
    "start_time": "2024-03-27T11:05:16.237Z"
   },
   {
    "duration": 76,
    "start_time": "2024-03-27T11:05:19.561Z"
   },
   {
    "duration": 15,
    "start_time": "2024-03-27T11:05:19.639Z"
   },
   {
    "duration": 20,
    "start_time": "2024-03-27T11:05:19.656Z"
   },
   {
    "duration": 15,
    "start_time": "2024-03-27T11:05:19.678Z"
   },
   {
    "duration": 37,
    "start_time": "2024-03-27T11:05:19.695Z"
   },
   {
    "duration": 8,
    "start_time": "2024-03-27T11:05:19.734Z"
   },
   {
    "duration": 23,
    "start_time": "2024-03-27T11:05:19.745Z"
   },
   {
    "duration": 9,
    "start_time": "2024-03-27T11:05:19.770Z"
   },
   {
    "duration": 8,
    "start_time": "2024-03-27T11:05:19.782Z"
   },
   {
    "duration": 5,
    "start_time": "2024-03-27T11:05:19.794Z"
   },
   {
    "duration": 78,
    "start_time": "2024-03-27T11:05:19.801Z"
   },
   {
    "duration": 15,
    "start_time": "2024-03-27T11:05:19.881Z"
   },
   {
    "duration": 19,
    "start_time": "2024-03-27T11:05:19.898Z"
   },
   {
    "duration": 23,
    "start_time": "2024-03-27T11:05:19.919Z"
   },
   {
    "duration": 27,
    "start_time": "2024-03-27T11:05:19.944Z"
   },
   {
    "duration": 18,
    "start_time": "2024-03-27T11:05:19.973Z"
   },
   {
    "duration": 4,
    "start_time": "2024-03-27T11:05:19.992Z"
   },
   {
    "duration": 23,
    "start_time": "2024-03-27T11:05:19.998Z"
   },
   {
    "duration": 17,
    "start_time": "2024-03-27T11:05:20.023Z"
   },
   {
    "duration": 6,
    "start_time": "2024-03-27T11:05:20.042Z"
   },
   {
    "duration": 33,
    "start_time": "2024-03-27T11:05:20.050Z"
   },
   {
    "duration": 13,
    "start_time": "2024-03-27T11:05:20.085Z"
   },
   {
    "duration": 10,
    "start_time": "2024-03-27T11:05:20.099Z"
   },
   {
    "duration": 12,
    "start_time": "2024-03-27T11:05:20.111Z"
   },
   {
    "duration": 0,
    "start_time": "2024-03-27T11:05:20.125Z"
   },
   {
    "duration": 23,
    "start_time": "2024-03-27T11:06:02.399Z"
   },
   {
    "duration": 24,
    "start_time": "2024-03-27T11:09:02.356Z"
   },
   {
    "duration": 71,
    "start_time": "2024-03-27T11:09:16.089Z"
   },
   {
    "duration": 16,
    "start_time": "2024-03-27T11:09:16.162Z"
   },
   {
    "duration": 17,
    "start_time": "2024-03-27T11:09:16.179Z"
   },
   {
    "duration": 16,
    "start_time": "2024-03-27T11:09:16.198Z"
   },
   {
    "duration": 75,
    "start_time": "2024-03-27T11:09:16.216Z"
   },
   {
    "duration": 4,
    "start_time": "2024-03-27T11:09:16.293Z"
   },
   {
    "duration": 20,
    "start_time": "2024-03-27T11:09:16.299Z"
   },
   {
    "duration": 14,
    "start_time": "2024-03-27T11:09:16.321Z"
   },
   {
    "duration": 10,
    "start_time": "2024-03-27T11:09:16.337Z"
   },
   {
    "duration": 17,
    "start_time": "2024-03-27T11:09:16.351Z"
   },
   {
    "duration": 44,
    "start_time": "2024-03-27T11:09:16.369Z"
   },
   {
    "duration": 11,
    "start_time": "2024-03-27T11:09:16.415Z"
   },
   {
    "duration": 14,
    "start_time": "2024-03-27T11:09:16.428Z"
   },
   {
    "duration": 22,
    "start_time": "2024-03-27T11:09:16.444Z"
   },
   {
    "duration": 29,
    "start_time": "2024-03-27T11:09:16.468Z"
   },
   {
    "duration": 18,
    "start_time": "2024-03-27T11:09:16.499Z"
   },
   {
    "duration": 4,
    "start_time": "2024-03-27T11:09:16.518Z"
   },
   {
    "duration": 12,
    "start_time": "2024-03-27T11:09:16.523Z"
   },
   {
    "duration": 8,
    "start_time": "2024-03-27T11:09:16.537Z"
   },
   {
    "duration": 3,
    "start_time": "2024-03-27T11:09:16.546Z"
   },
   {
    "duration": 8,
    "start_time": "2024-03-27T11:09:16.565Z"
   },
   {
    "duration": 27,
    "start_time": "2024-03-27T11:09:16.575Z"
   },
   {
    "duration": 11,
    "start_time": "2024-03-27T11:09:16.604Z"
   },
   {
    "duration": 24,
    "start_time": "2024-03-27T11:09:16.616Z"
   },
   {
    "duration": 0,
    "start_time": "2024-03-27T11:09:16.642Z"
   },
   {
    "duration": 90,
    "start_time": "2024-03-27T11:10:50.959Z"
   },
   {
    "duration": 22,
    "start_time": "2024-03-27T11:10:51.051Z"
   },
   {
    "duration": 34,
    "start_time": "2024-03-27T11:10:51.075Z"
   },
   {
    "duration": 16,
    "start_time": "2024-03-27T11:10:51.110Z"
   },
   {
    "duration": 40,
    "start_time": "2024-03-27T11:10:51.129Z"
   },
   {
    "duration": 3,
    "start_time": "2024-03-27T11:10:51.171Z"
   },
   {
    "duration": 21,
    "start_time": "2024-03-27T11:10:51.175Z"
   },
   {
    "duration": 11,
    "start_time": "2024-03-27T11:10:51.198Z"
   },
   {
    "duration": 12,
    "start_time": "2024-03-27T11:10:51.211Z"
   },
   {
    "duration": 10,
    "start_time": "2024-03-27T11:10:51.224Z"
   },
   {
    "duration": 39,
    "start_time": "2024-03-27T11:10:51.236Z"
   },
   {
    "duration": 10,
    "start_time": "2024-03-27T11:10:51.277Z"
   },
   {
    "duration": 4,
    "start_time": "2024-03-27T11:10:51.288Z"
   },
   {
    "duration": 12,
    "start_time": "2024-03-27T11:10:51.294Z"
   },
   {
    "duration": 76,
    "start_time": "2024-03-27T11:10:51.307Z"
   },
   {
    "duration": 16,
    "start_time": "2024-03-27T11:10:51.385Z"
   },
   {
    "duration": 4,
    "start_time": "2024-03-27T11:10:51.403Z"
   },
   {
    "duration": 14,
    "start_time": "2024-03-27T11:10:51.408Z"
   },
   {
    "duration": 7,
    "start_time": "2024-03-27T11:10:51.423Z"
   },
   {
    "duration": 6,
    "start_time": "2024-03-27T11:10:51.431Z"
   },
   {
    "duration": 31,
    "start_time": "2024-03-27T11:10:51.439Z"
   },
   {
    "duration": 10,
    "start_time": "2024-03-27T11:10:51.472Z"
   },
   {
    "duration": 12,
    "start_time": "2024-03-27T11:10:51.484Z"
   },
   {
    "duration": 31,
    "start_time": "2024-03-27T11:10:51.498Z"
   },
   {
    "duration": 0,
    "start_time": "2024-03-27T11:10:51.531Z"
   },
   {
    "duration": 72,
    "start_time": "2024-03-27T11:11:28.516Z"
   },
   {
    "duration": 14,
    "start_time": "2024-03-27T11:11:28.590Z"
   },
   {
    "duration": 14,
    "start_time": "2024-03-27T11:11:28.605Z"
   },
   {
    "duration": 9,
    "start_time": "2024-03-27T11:11:28.621Z"
   },
   {
    "duration": 50,
    "start_time": "2024-03-27T11:11:28.631Z"
   },
   {
    "duration": 3,
    "start_time": "2024-03-27T11:11:28.682Z"
   },
   {
    "duration": 9,
    "start_time": "2024-03-27T11:11:28.687Z"
   },
   {
    "duration": 4,
    "start_time": "2024-03-27T11:11:28.697Z"
   },
   {
    "duration": 7,
    "start_time": "2024-03-27T11:11:28.702Z"
   },
   {
    "duration": 4,
    "start_time": "2024-03-27T11:11:28.711Z"
   },
   {
    "duration": 55,
    "start_time": "2024-03-27T11:11:28.716Z"
   },
   {
    "duration": 10,
    "start_time": "2024-03-27T11:11:28.773Z"
   },
   {
    "duration": 3,
    "start_time": "2024-03-27T11:11:28.784Z"
   },
   {
    "duration": 10,
    "start_time": "2024-03-27T11:11:28.788Z"
   },
   {
    "duration": 15,
    "start_time": "2024-03-27T11:11:28.800Z"
   },
   {
    "duration": 16,
    "start_time": "2024-03-27T11:11:28.816Z"
   },
   {
    "duration": 31,
    "start_time": "2024-03-27T11:11:28.834Z"
   },
   {
    "duration": 10,
    "start_time": "2024-03-27T11:11:28.867Z"
   },
   {
    "duration": 13,
    "start_time": "2024-03-27T11:11:28.878Z"
   },
   {
    "duration": 3,
    "start_time": "2024-03-27T11:11:28.894Z"
   },
   {
    "duration": 11,
    "start_time": "2024-03-27T11:11:28.899Z"
   },
   {
    "duration": 13,
    "start_time": "2024-03-27T11:11:28.912Z"
   },
   {
    "duration": 41,
    "start_time": "2024-03-27T11:11:28.927Z"
   },
   {
    "duration": 35,
    "start_time": "2024-03-27T11:11:28.969Z"
   },
   {
    "duration": 3,
    "start_time": "2024-03-27T11:11:29.005Z"
   },
   {
    "duration": 81,
    "start_time": "2024-03-27T11:12:40.873Z"
   },
   {
    "duration": 14,
    "start_time": "2024-03-27T11:12:40.956Z"
   },
   {
    "duration": 27,
    "start_time": "2024-03-27T11:12:40.972Z"
   },
   {
    "duration": 15,
    "start_time": "2024-03-27T11:12:41.001Z"
   },
   {
    "duration": 34,
    "start_time": "2024-03-27T11:12:41.018Z"
   },
   {
    "duration": 4,
    "start_time": "2024-03-27T11:12:41.054Z"
   },
   {
    "duration": 8,
    "start_time": "2024-03-27T11:12:41.065Z"
   },
   {
    "duration": 13,
    "start_time": "2024-03-27T11:12:41.074Z"
   },
   {
    "duration": 14,
    "start_time": "2024-03-27T11:12:41.089Z"
   },
   {
    "duration": 12,
    "start_time": "2024-03-27T11:12:41.106Z"
   },
   {
    "duration": 55,
    "start_time": "2024-03-27T11:12:41.120Z"
   },
   {
    "duration": 11,
    "start_time": "2024-03-27T11:12:41.176Z"
   },
   {
    "duration": 4,
    "start_time": "2024-03-27T11:12:41.189Z"
   },
   {
    "duration": 12,
    "start_time": "2024-03-27T11:12:41.194Z"
   },
   {
    "duration": 17,
    "start_time": "2024-03-27T11:12:41.208Z"
   },
   {
    "duration": 58,
    "start_time": "2024-03-27T11:12:41.227Z"
   },
   {
    "duration": 5,
    "start_time": "2024-03-27T11:12:41.287Z"
   },
   {
    "duration": 11,
    "start_time": "2024-03-27T11:12:41.294Z"
   },
   {
    "duration": 5,
    "start_time": "2024-03-27T11:12:41.307Z"
   },
   {
    "duration": 4,
    "start_time": "2024-03-27T11:12:41.313Z"
   },
   {
    "duration": 10,
    "start_time": "2024-03-27T11:12:41.318Z"
   },
   {
    "duration": 7,
    "start_time": "2024-03-27T11:12:41.329Z"
   },
   {
    "duration": 36,
    "start_time": "2024-03-27T11:12:41.338Z"
   },
   {
    "duration": 1093,
    "start_time": "2024-03-27T11:12:41.375Z"
   },
   {
    "duration": 0,
    "start_time": "2024-03-27T11:12:42.470Z"
   },
   {
    "duration": 573,
    "start_time": "2024-03-29T11:52:58.973Z"
   },
   {
    "duration": 20,
    "start_time": "2024-03-29T11:52:59.548Z"
   },
   {
    "duration": 22,
    "start_time": "2024-03-29T11:52:59.569Z"
   },
   {
    "duration": 33,
    "start_time": "2024-03-29T11:52:59.593Z"
   },
   {
    "duration": 53,
    "start_time": "2024-03-29T11:52:59.627Z"
   },
   {
    "duration": 3,
    "start_time": "2024-03-29T11:52:59.681Z"
   },
   {
    "duration": 25,
    "start_time": "2024-03-29T11:52:59.685Z"
   },
   {
    "duration": 21,
    "start_time": "2024-03-29T11:52:59.711Z"
   },
   {
    "duration": 30,
    "start_time": "2024-03-29T11:52:59.733Z"
   },
   {
    "duration": 17,
    "start_time": "2024-03-29T11:52:59.766Z"
   },
   {
    "duration": 46,
    "start_time": "2024-03-29T11:52:59.784Z"
   },
   {
    "duration": 14,
    "start_time": "2024-03-29T11:52:59.832Z"
   },
   {
    "duration": 28,
    "start_time": "2024-03-29T11:52:59.847Z"
   },
   {
    "duration": 40,
    "start_time": "2024-03-29T11:52:59.877Z"
   },
   {
    "duration": 40,
    "start_time": "2024-03-29T11:52:59.919Z"
   },
   {
    "duration": 21,
    "start_time": "2024-03-29T11:52:59.961Z"
   },
   {
    "duration": 13,
    "start_time": "2024-03-29T11:52:59.984Z"
   },
   {
    "duration": 75,
    "start_time": "2024-03-29T11:52:59.998Z"
   },
   {
    "duration": 34,
    "start_time": "2024-03-29T11:53:00.075Z"
   },
   {
    "duration": 29,
    "start_time": "2024-03-29T11:53:00.111Z"
   },
   {
    "duration": 122,
    "start_time": "2024-03-29T11:53:00.142Z"
   },
   {
    "duration": 51,
    "start_time": "2024-03-29T11:53:00.265Z"
   },
   {
    "duration": 40,
    "start_time": "2024-03-29T11:53:00.318Z"
   },
   {
    "duration": 1233,
    "start_time": "2024-03-29T11:53:00.360Z"
   },
   {
    "duration": 0,
    "start_time": "2024-03-29T11:53:01.595Z"
   },
   {
    "duration": 69,
    "start_time": "2024-03-29T11:54:12.330Z"
   },
   {
    "duration": 14,
    "start_time": "2024-03-29T11:54:12.401Z"
   },
   {
    "duration": 14,
    "start_time": "2024-03-29T11:54:12.416Z"
   },
   {
    "duration": 21,
    "start_time": "2024-03-29T11:54:12.431Z"
   },
   {
    "duration": 33,
    "start_time": "2024-03-29T11:54:12.453Z"
   },
   {
    "duration": 4,
    "start_time": "2024-03-29T11:54:12.487Z"
   },
   {
    "duration": 9,
    "start_time": "2024-03-29T11:54:12.493Z"
   },
   {
    "duration": 5,
    "start_time": "2024-03-29T11:54:12.504Z"
   },
   {
    "duration": 7,
    "start_time": "2024-03-29T11:54:12.545Z"
   },
   {
    "duration": 5,
    "start_time": "2024-03-29T11:54:12.554Z"
   },
   {
    "duration": 35,
    "start_time": "2024-03-29T11:54:12.561Z"
   },
   {
    "duration": 11,
    "start_time": "2024-03-29T11:54:12.598Z"
   },
   {
    "duration": 4,
    "start_time": "2024-03-29T11:54:12.646Z"
   },
   {
    "duration": 13,
    "start_time": "2024-03-29T11:54:12.651Z"
   },
   {
    "duration": 19,
    "start_time": "2024-03-29T11:54:12.665Z"
   },
   {
    "duration": 17,
    "start_time": "2024-03-29T11:54:12.686Z"
   },
   {
    "duration": 4,
    "start_time": "2024-03-29T11:54:12.704Z"
   },
   {
    "duration": 11,
    "start_time": "2024-03-29T11:54:12.745Z"
   },
   {
    "duration": 8,
    "start_time": "2024-03-29T11:54:12.758Z"
   },
   {
    "duration": 4,
    "start_time": "2024-03-29T11:54:12.767Z"
   },
   {
    "duration": 17,
    "start_time": "2024-03-29T11:54:12.773Z"
   },
   {
    "duration": 11,
    "start_time": "2024-03-29T11:54:12.792Z"
   },
   {
    "duration": 44,
    "start_time": "2024-03-29T11:54:12.805Z"
   },
   {
    "duration": 23,
    "start_time": "2024-03-29T11:54:12.851Z"
   },
   {
    "duration": 2,
    "start_time": "2024-03-29T11:54:12.876Z"
   },
   {
    "duration": 71,
    "start_time": "2024-03-29T11:57:29.218Z"
   },
   {
    "duration": 14,
    "start_time": "2024-03-29T11:57:29.291Z"
   },
   {
    "duration": 14,
    "start_time": "2024-03-29T11:57:29.306Z"
   },
   {
    "duration": 32,
    "start_time": "2024-03-29T11:57:29.321Z"
   },
   {
    "duration": 34,
    "start_time": "2024-03-29T11:57:29.354Z"
   },
   {
    "duration": 3,
    "start_time": "2024-03-29T11:57:29.390Z"
   },
   {
    "duration": 9,
    "start_time": "2024-03-29T11:57:29.394Z"
   },
   {
    "duration": 4,
    "start_time": "2024-03-29T11:57:29.404Z"
   },
   {
    "duration": 37,
    "start_time": "2024-03-29T11:57:29.409Z"
   },
   {
    "duration": 7,
    "start_time": "2024-03-29T11:57:29.447Z"
   },
   {
    "duration": 42,
    "start_time": "2024-03-29T11:57:29.456Z"
   },
   {
    "duration": 9,
    "start_time": "2024-03-29T11:57:29.500Z"
   },
   {
    "duration": 6,
    "start_time": "2024-03-29T11:57:29.510Z"
   },
   {
    "duration": 11,
    "start_time": "2024-03-29T11:57:29.546Z"
   },
   {
    "duration": 19,
    "start_time": "2024-03-29T11:57:29.558Z"
   },
   {
    "duration": 17,
    "start_time": "2024-03-29T11:57:29.578Z"
   },
   {
    "duration": 3,
    "start_time": "2024-03-29T11:57:29.597Z"
   },
   {
    "duration": 44,
    "start_time": "2024-03-29T11:57:29.601Z"
   },
   {
    "duration": 6,
    "start_time": "2024-03-29T11:57:29.646Z"
   },
   {
    "duration": 3,
    "start_time": "2024-03-29T11:57:29.653Z"
   },
   {
    "duration": 9,
    "start_time": "2024-03-29T11:57:29.658Z"
   },
   {
    "duration": 7,
    "start_time": "2024-03-29T11:57:29.669Z"
   },
   {
    "duration": 16,
    "start_time": "2024-03-29T11:57:29.677Z"
   },
   {
    "duration": 56,
    "start_time": "2024-03-29T11:57:29.695Z"
   },
   {
    "duration": 2,
    "start_time": "2024-03-29T11:57:29.753Z"
   },
   {
    "duration": 70,
    "start_time": "2024-03-29T11:58:12.738Z"
   },
   {
    "duration": 14,
    "start_time": "2024-03-29T11:58:12.809Z"
   },
   {
    "duration": 22,
    "start_time": "2024-03-29T11:58:12.824Z"
   },
   {
    "duration": 9,
    "start_time": "2024-03-29T11:58:12.847Z"
   },
   {
    "duration": 30,
    "start_time": "2024-03-29T11:58:12.859Z"
   },
   {
    "duration": 3,
    "start_time": "2024-03-29T11:58:12.891Z"
   },
   {
    "duration": 18,
    "start_time": "2024-03-29T11:58:12.895Z"
   },
   {
    "duration": 5,
    "start_time": "2024-03-29T11:58:12.945Z"
   },
   {
    "duration": 7,
    "start_time": "2024-03-29T11:58:12.953Z"
   },
   {
    "duration": 5,
    "start_time": "2024-03-29T11:58:12.962Z"
   },
   {
    "duration": 40,
    "start_time": "2024-03-29T11:58:12.968Z"
   },
   {
    "duration": 12,
    "start_time": "2024-03-29T11:58:13.044Z"
   },
   {
    "duration": 5,
    "start_time": "2024-03-29T11:58:13.058Z"
   },
   {
    "duration": 13,
    "start_time": "2024-03-29T11:58:13.066Z"
   },
   {
    "duration": 38,
    "start_time": "2024-03-29T11:58:13.081Z"
   },
   {
    "duration": 48,
    "start_time": "2024-03-29T11:58:13.120Z"
   },
   {
    "duration": 4,
    "start_time": "2024-03-29T11:58:13.170Z"
   },
   {
    "duration": 18,
    "start_time": "2024-03-29T11:58:13.176Z"
   },
   {
    "duration": 7,
    "start_time": "2024-03-29T11:58:13.196Z"
   },
   {
    "duration": 4,
    "start_time": "2024-03-29T11:58:13.205Z"
   },
   {
    "duration": 14,
    "start_time": "2024-03-29T11:58:13.245Z"
   },
   {
    "duration": 16,
    "start_time": "2024-03-29T11:58:13.260Z"
   },
   {
    "duration": 9,
    "start_time": "2024-03-29T11:58:13.278Z"
   },
   {
    "duration": 65,
    "start_time": "2024-03-29T11:58:13.288Z"
   },
   {
    "duration": 0,
    "start_time": "2024-03-29T11:58:13.354Z"
   },
   {
    "duration": 71,
    "start_time": "2024-03-29T11:58:24.194Z"
   },
   {
    "duration": 14,
    "start_time": "2024-03-29T11:58:24.267Z"
   },
   {
    "duration": 15,
    "start_time": "2024-03-29T11:58:24.282Z"
   },
   {
    "duration": 9,
    "start_time": "2024-03-29T11:58:24.299Z"
   },
   {
    "duration": 63,
    "start_time": "2024-03-29T11:58:24.309Z"
   },
   {
    "duration": 3,
    "start_time": "2024-03-29T11:58:24.374Z"
   },
   {
    "duration": 13,
    "start_time": "2024-03-29T11:58:24.378Z"
   },
   {
    "duration": 16,
    "start_time": "2024-03-29T11:58:24.392Z"
   },
   {
    "duration": 6,
    "start_time": "2024-03-29T11:58:24.409Z"
   },
   {
    "duration": 4,
    "start_time": "2024-03-29T11:58:24.417Z"
   },
   {
    "duration": 43,
    "start_time": "2024-03-29T11:58:24.445Z"
   },
   {
    "duration": 10,
    "start_time": "2024-03-29T11:58:24.490Z"
   },
   {
    "duration": 14,
    "start_time": "2024-03-29T11:58:24.501Z"
   },
   {
    "duration": 10,
    "start_time": "2024-03-29T11:58:24.516Z"
   },
   {
    "duration": 29,
    "start_time": "2024-03-29T11:58:24.527Z"
   },
   {
    "duration": 15,
    "start_time": "2024-03-29T11:58:24.558Z"
   },
   {
    "duration": 3,
    "start_time": "2024-03-29T11:58:24.574Z"
   },
   {
    "duration": 25,
    "start_time": "2024-03-29T11:58:24.579Z"
   },
   {
    "duration": 8,
    "start_time": "2024-03-29T11:58:24.605Z"
   },
   {
    "duration": 3,
    "start_time": "2024-03-29T11:58:24.615Z"
   },
   {
    "duration": 26,
    "start_time": "2024-03-29T11:58:24.620Z"
   },
   {
    "duration": 22,
    "start_time": "2024-03-29T11:58:24.648Z"
   },
   {
    "duration": 9,
    "start_time": "2024-03-29T11:58:24.671Z"
   },
   {
    "duration": 28,
    "start_time": "2024-03-29T11:58:24.682Z"
   },
   {
    "duration": 0,
    "start_time": "2024-03-29T11:58:24.712Z"
   },
   {
    "duration": 71,
    "start_time": "2024-03-29T11:58:38.539Z"
   },
   {
    "duration": 13,
    "start_time": "2024-03-29T11:58:38.612Z"
   },
   {
    "duration": 30,
    "start_time": "2024-03-29T11:58:38.626Z"
   },
   {
    "duration": 16,
    "start_time": "2024-03-29T11:58:38.659Z"
   },
   {
    "duration": 34,
    "start_time": "2024-03-29T11:58:38.676Z"
   },
   {
    "duration": 33,
    "start_time": "2024-03-29T11:58:38.712Z"
   },
   {
    "duration": 7,
    "start_time": "2024-03-29T11:58:38.747Z"
   },
   {
    "duration": 7,
    "start_time": "2024-03-29T11:58:38.756Z"
   },
   {
    "duration": 11,
    "start_time": "2024-03-29T11:58:38.764Z"
   },
   {
    "duration": 6,
    "start_time": "2024-03-29T11:58:38.777Z"
   },
   {
    "duration": 66,
    "start_time": "2024-03-29T11:58:38.785Z"
   },
   {
    "duration": 9,
    "start_time": "2024-03-29T11:58:38.853Z"
   },
   {
    "duration": 8,
    "start_time": "2024-03-29T11:58:38.863Z"
   },
   {
    "duration": 11,
    "start_time": "2024-03-29T11:58:38.872Z"
   },
   {
    "duration": 24,
    "start_time": "2024-03-29T11:58:38.884Z"
   },
   {
    "duration": 39,
    "start_time": "2024-03-29T11:58:38.909Z"
   },
   {
    "duration": 3,
    "start_time": "2024-03-29T11:58:38.950Z"
   },
   {
    "duration": 12,
    "start_time": "2024-03-29T11:58:38.954Z"
   },
   {
    "duration": 8,
    "start_time": "2024-03-29T11:58:38.968Z"
   },
   {
    "duration": 9,
    "start_time": "2024-03-29T11:58:38.977Z"
   },
   {
    "duration": 11,
    "start_time": "2024-03-29T11:58:38.988Z"
   },
   {
    "duration": 49,
    "start_time": "2024-03-29T11:58:39.001Z"
   },
   {
    "duration": 8,
    "start_time": "2024-03-29T11:58:39.052Z"
   },
   {
    "duration": 37,
    "start_time": "2024-03-29T11:58:39.061Z"
   },
   {
    "duration": 2,
    "start_time": "2024-03-29T11:58:39.101Z"
   },
   {
    "duration": 73,
    "start_time": "2024-03-29T12:01:42.155Z"
   },
   {
    "duration": 15,
    "start_time": "2024-03-29T12:01:42.229Z"
   },
   {
    "duration": 23,
    "start_time": "2024-03-29T12:01:42.246Z"
   },
   {
    "duration": 13,
    "start_time": "2024-03-29T12:01:42.272Z"
   },
   {
    "duration": 61,
    "start_time": "2024-03-29T12:01:42.287Z"
   },
   {
    "duration": 3,
    "start_time": "2024-03-29T12:01:42.350Z"
   },
   {
    "duration": 11,
    "start_time": "2024-03-29T12:01:42.355Z"
   },
   {
    "duration": 5,
    "start_time": "2024-03-29T12:01:42.367Z"
   },
   {
    "duration": 8,
    "start_time": "2024-03-29T12:01:42.373Z"
   },
   {
    "duration": 4,
    "start_time": "2024-03-29T12:01:42.383Z"
   },
   {
    "duration": 79,
    "start_time": "2024-03-29T12:01:42.389Z"
   },
   {
    "duration": 10,
    "start_time": "2024-03-29T12:01:42.470Z"
   },
   {
    "duration": 3,
    "start_time": "2024-03-29T12:01:42.482Z"
   },
   {
    "duration": 10,
    "start_time": "2024-03-29T12:01:42.487Z"
   },
   {
    "duration": 53,
    "start_time": "2024-03-29T12:01:42.499Z"
   },
   {
    "duration": 18,
    "start_time": "2024-03-29T12:01:42.553Z"
   },
   {
    "duration": 3,
    "start_time": "2024-03-29T12:01:42.573Z"
   },
   {
    "duration": 11,
    "start_time": "2024-03-29T12:01:42.577Z"
   },
   {
    "duration": 5,
    "start_time": "2024-03-29T12:01:42.590Z"
   },
   {
    "duration": 6,
    "start_time": "2024-03-29T12:01:42.596Z"
   },
   {
    "duration": 18,
    "start_time": "2024-03-29T12:01:42.646Z"
   },
   {
    "duration": 9,
    "start_time": "2024-03-29T12:01:42.665Z"
   },
   {
    "duration": 14,
    "start_time": "2024-03-29T12:01:42.676Z"
   },
   {
    "duration": 1123,
    "start_time": "2024-03-29T12:01:42.692Z"
   },
   {
    "duration": 0,
    "start_time": "2024-03-29T12:01:43.817Z"
   },
   {
    "duration": 84,
    "start_time": "2024-03-29T12:02:06.656Z"
   },
   {
    "duration": 15,
    "start_time": "2024-03-29T12:02:06.741Z"
   },
   {
    "duration": 15,
    "start_time": "2024-03-29T12:02:06.757Z"
   },
   {
    "duration": 14,
    "start_time": "2024-03-29T12:02:06.774Z"
   },
   {
    "duration": 70,
    "start_time": "2024-03-29T12:02:06.789Z"
   },
   {
    "duration": 3,
    "start_time": "2024-03-29T12:02:06.860Z"
   },
   {
    "duration": 12,
    "start_time": "2024-03-29T12:02:06.865Z"
   },
   {
    "duration": 5,
    "start_time": "2024-03-29T12:02:06.878Z"
   },
   {
    "duration": 17,
    "start_time": "2024-03-29T12:02:06.884Z"
   },
   {
    "duration": 14,
    "start_time": "2024-03-29T12:02:06.904Z"
   },
   {
    "duration": 71,
    "start_time": "2024-03-29T12:02:06.920Z"
   },
   {
    "duration": 10,
    "start_time": "2024-03-29T12:02:06.993Z"
   },
   {
    "duration": 3,
    "start_time": "2024-03-29T12:02:07.004Z"
   },
   {
    "duration": 37,
    "start_time": "2024-03-29T12:02:07.009Z"
   },
   {
    "duration": 23,
    "start_time": "2024-03-29T12:02:07.048Z"
   },
   {
    "duration": 17,
    "start_time": "2024-03-29T12:02:07.072Z"
   },
   {
    "duration": 3,
    "start_time": "2024-03-29T12:02:07.090Z"
   },
   {
    "duration": 18,
    "start_time": "2024-03-29T12:02:07.095Z"
   },
   {
    "duration": 32,
    "start_time": "2024-03-29T12:02:07.114Z"
   },
   {
    "duration": 6,
    "start_time": "2024-03-29T12:02:07.147Z"
   },
   {
    "duration": 22,
    "start_time": "2024-03-29T12:02:07.154Z"
   },
   {
    "duration": 26,
    "start_time": "2024-03-29T12:02:07.178Z"
   },
   {
    "duration": 25,
    "start_time": "2024-03-29T12:02:07.206Z"
   },
   {
    "duration": 38,
    "start_time": "2024-03-29T12:02:07.232Z"
   },
   {
    "duration": 2,
    "start_time": "2024-03-29T12:02:07.271Z"
   },
   {
    "duration": 72,
    "start_time": "2024-03-29T12:02:35.202Z"
   },
   {
    "duration": 15,
    "start_time": "2024-03-29T12:02:35.275Z"
   },
   {
    "duration": 18,
    "start_time": "2024-03-29T12:02:35.291Z"
   },
   {
    "duration": 39,
    "start_time": "2024-03-29T12:02:35.311Z"
   },
   {
    "duration": 35,
    "start_time": "2024-03-29T12:02:35.352Z"
   },
   {
    "duration": 4,
    "start_time": "2024-03-29T12:02:35.388Z"
   },
   {
    "duration": 14,
    "start_time": "2024-03-29T12:02:35.394Z"
   },
   {
    "duration": 5,
    "start_time": "2024-03-29T12:02:35.444Z"
   },
   {
    "duration": 19,
    "start_time": "2024-03-29T12:02:35.450Z"
   },
   {
    "duration": 16,
    "start_time": "2024-03-29T12:02:35.472Z"
   },
   {
    "duration": 39,
    "start_time": "2024-03-29T12:02:35.490Z"
   },
   {
    "duration": 11,
    "start_time": "2024-03-29T12:02:35.530Z"
   },
   {
    "duration": 18,
    "start_time": "2024-03-29T12:02:35.545Z"
   },
   {
    "duration": 32,
    "start_time": "2024-03-29T12:02:35.565Z"
   },
   {
    "duration": 18,
    "start_time": "2024-03-29T12:02:35.599Z"
   },
   {
    "duration": 17,
    "start_time": "2024-03-29T12:02:35.618Z"
   },
   {
    "duration": 7,
    "start_time": "2024-03-29T12:02:35.636Z"
   },
   {
    "duration": 23,
    "start_time": "2024-03-29T12:02:35.645Z"
   },
   {
    "duration": 15,
    "start_time": "2024-03-29T12:02:35.669Z"
   },
   {
    "duration": 3,
    "start_time": "2024-03-29T12:02:35.685Z"
   },
   {
    "duration": 10,
    "start_time": "2024-03-29T12:02:35.690Z"
   },
   {
    "duration": 8,
    "start_time": "2024-03-29T12:02:35.701Z"
   },
   {
    "duration": 9,
    "start_time": "2024-03-29T12:02:35.710Z"
   },
   {
    "duration": 20,
    "start_time": "2024-03-29T12:02:35.744Z"
   },
   {
    "duration": 2,
    "start_time": "2024-03-29T12:02:35.765Z"
   },
   {
    "duration": 72,
    "start_time": "2024-03-29T12:03:50.507Z"
   },
   {
    "duration": 16,
    "start_time": "2024-03-29T12:03:50.580Z"
   },
   {
    "duration": 19,
    "start_time": "2024-03-29T12:03:50.597Z"
   },
   {
    "duration": 31,
    "start_time": "2024-03-29T12:03:50.618Z"
   },
   {
    "duration": 35,
    "start_time": "2024-03-29T12:03:50.651Z"
   },
   {
    "duration": 3,
    "start_time": "2024-03-29T12:03:50.687Z"
   },
   {
    "duration": 9,
    "start_time": "2024-03-29T12:03:50.691Z"
   },
   {
    "duration": 3,
    "start_time": "2024-03-29T12:03:50.702Z"
   },
   {
    "duration": 43,
    "start_time": "2024-03-29T12:03:50.706Z"
   },
   {
    "duration": 16,
    "start_time": "2024-03-29T12:03:50.752Z"
   },
   {
    "duration": 42,
    "start_time": "2024-03-29T12:03:50.769Z"
   },
   {
    "duration": 9,
    "start_time": "2024-03-29T12:03:50.813Z"
   },
   {
    "duration": 37,
    "start_time": "2024-03-29T12:03:50.824Z"
   },
   {
    "duration": 14,
    "start_time": "2024-03-29T12:03:50.862Z"
   },
   {
    "duration": 22,
    "start_time": "2024-03-29T12:03:50.877Z"
   },
   {
    "duration": 16,
    "start_time": "2024-03-29T12:03:50.900Z"
   },
   {
    "duration": 3,
    "start_time": "2024-03-29T12:03:50.917Z"
   },
   {
    "duration": 11,
    "start_time": "2024-03-29T12:03:50.922Z"
   },
   {
    "duration": 5,
    "start_time": "2024-03-29T12:03:50.944Z"
   },
   {
    "duration": 4,
    "start_time": "2024-03-29T12:03:50.951Z"
   },
   {
    "duration": 12,
    "start_time": "2024-03-29T12:03:50.956Z"
   },
   {
    "duration": 18,
    "start_time": "2024-03-29T12:03:50.969Z"
   },
   {
    "duration": 8,
    "start_time": "2024-03-29T12:03:50.989Z"
   },
   {
    "duration": 9,
    "start_time": "2024-03-29T12:03:50.999Z"
   },
   {
    "duration": 0,
    "start_time": "2024-03-29T12:03:51.010Z"
   },
   {
    "duration": 71,
    "start_time": "2024-03-29T12:03:59.252Z"
   },
   {
    "duration": 13,
    "start_time": "2024-03-29T12:03:59.325Z"
   },
   {
    "duration": 18,
    "start_time": "2024-03-29T12:03:59.339Z"
   },
   {
    "duration": 9,
    "start_time": "2024-03-29T12:03:59.358Z"
   },
   {
    "duration": 35,
    "start_time": "2024-03-29T12:03:59.369Z"
   },
   {
    "duration": 3,
    "start_time": "2024-03-29T12:03:59.406Z"
   },
   {
    "duration": 35,
    "start_time": "2024-03-29T12:03:59.411Z"
   },
   {
    "duration": 6,
    "start_time": "2024-03-29T12:03:59.447Z"
   },
   {
    "duration": 33,
    "start_time": "2024-03-29T12:03:59.455Z"
   },
   {
    "duration": 5,
    "start_time": "2024-03-29T12:03:59.491Z"
   },
   {
    "duration": 39,
    "start_time": "2024-03-29T12:03:59.498Z"
   },
   {
    "duration": 15,
    "start_time": "2024-03-29T12:03:59.538Z"
   },
   {
    "duration": 19,
    "start_time": "2024-03-29T12:03:59.554Z"
   },
   {
    "duration": 34,
    "start_time": "2024-03-29T12:03:59.575Z"
   },
   {
    "duration": 38,
    "start_time": "2024-03-29T12:03:59.610Z"
   },
   {
    "duration": 21,
    "start_time": "2024-03-29T12:03:59.649Z"
   },
   {
    "duration": 3,
    "start_time": "2024-03-29T12:03:59.672Z"
   },
   {
    "duration": 21,
    "start_time": "2024-03-29T12:03:59.676Z"
   },
   {
    "duration": 17,
    "start_time": "2024-03-29T12:03:59.699Z"
   },
   {
    "duration": 7,
    "start_time": "2024-03-29T12:03:59.717Z"
   },
   {
    "duration": 19,
    "start_time": "2024-03-29T12:03:59.726Z"
   },
   {
    "duration": 13,
    "start_time": "2024-03-29T12:03:59.746Z"
   },
   {
    "duration": 17,
    "start_time": "2024-03-29T12:03:59.760Z"
   },
   {
    "duration": 8,
    "start_time": "2024-03-29T12:03:59.779Z"
   },
   {
    "duration": 15,
    "start_time": "2024-03-29T12:03:59.788Z"
   },
   {
    "duration": 14,
    "start_time": "2024-03-29T12:04:26.782Z"
   },
   {
    "duration": 78,
    "start_time": "2024-03-29T12:05:29.153Z"
   },
   {
    "duration": 14,
    "start_time": "2024-03-29T12:05:29.233Z"
   },
   {
    "duration": 28,
    "start_time": "2024-03-29T12:05:29.248Z"
   },
   {
    "duration": 10,
    "start_time": "2024-03-29T12:05:29.278Z"
   },
   {
    "duration": 60,
    "start_time": "2024-03-29T12:05:29.290Z"
   },
   {
    "duration": 4,
    "start_time": "2024-03-29T12:05:29.351Z"
   },
   {
    "duration": 11,
    "start_time": "2024-03-29T12:05:29.356Z"
   },
   {
    "duration": 5,
    "start_time": "2024-03-29T12:05:29.369Z"
   },
   {
    "duration": 8,
    "start_time": "2024-03-29T12:05:29.375Z"
   },
   {
    "duration": 16,
    "start_time": "2024-03-29T12:05:29.385Z"
   },
   {
    "duration": 100,
    "start_time": "2024-03-29T12:05:29.402Z"
   },
   {
    "duration": 10,
    "start_time": "2024-03-29T12:05:29.504Z"
   },
   {
    "duration": 7,
    "start_time": "2024-03-29T12:05:29.515Z"
   },
   {
    "duration": 29,
    "start_time": "2024-03-29T12:05:29.524Z"
   },
   {
    "duration": 20,
    "start_time": "2024-03-29T12:05:29.554Z"
   },
   {
    "duration": 16,
    "start_time": "2024-03-29T12:05:29.575Z"
   },
   {
    "duration": 3,
    "start_time": "2024-03-29T12:05:29.593Z"
   },
   {
    "duration": 11,
    "start_time": "2024-03-29T12:05:29.598Z"
   },
   {
    "duration": 39,
    "start_time": "2024-03-29T12:05:29.610Z"
   },
   {
    "duration": 4,
    "start_time": "2024-03-29T12:05:29.650Z"
   },
   {
    "duration": 10,
    "start_time": "2024-03-29T12:05:29.655Z"
   },
   {
    "duration": 15,
    "start_time": "2024-03-29T12:05:29.666Z"
   },
   {
    "duration": 12,
    "start_time": "2024-03-29T12:05:29.682Z"
   },
   {
    "duration": 64,
    "start_time": "2024-03-29T12:05:29.695Z"
   },
   {
    "duration": 3,
    "start_time": "2024-03-29T12:05:29.761Z"
   },
   {
    "duration": 1104,
    "start_time": "2024-03-29T12:12:33.673Z"
   },
   {
    "duration": 69,
    "start_time": "2024-03-29T12:12:43.926Z"
   },
   {
    "duration": 13,
    "start_time": "2024-03-29T12:12:43.997Z"
   },
   {
    "duration": 38,
    "start_time": "2024-03-29T12:12:44.011Z"
   },
   {
    "duration": 15,
    "start_time": "2024-03-29T12:12:44.052Z"
   },
   {
    "duration": 40,
    "start_time": "2024-03-29T12:12:44.068Z"
   },
   {
    "duration": 3,
    "start_time": "2024-03-29T12:12:44.109Z"
   },
   {
    "duration": 13,
    "start_time": "2024-03-29T12:12:44.113Z"
   },
   {
    "duration": 19,
    "start_time": "2024-03-29T12:12:44.127Z"
   },
   {
    "duration": 6,
    "start_time": "2024-03-29T12:12:44.148Z"
   },
   {
    "duration": 6,
    "start_time": "2024-03-29T12:12:44.157Z"
   },
   {
    "duration": 35,
    "start_time": "2024-03-29T12:12:44.164Z"
   },
   {
    "duration": 9,
    "start_time": "2024-03-29T12:12:44.200Z"
   },
   {
    "duration": 37,
    "start_time": "2024-03-29T12:12:44.210Z"
   },
   {
    "duration": 15,
    "start_time": "2024-03-29T12:12:44.248Z"
   },
   {
    "duration": 19,
    "start_time": "2024-03-29T12:12:44.265Z"
   },
   {
    "duration": 16,
    "start_time": "2024-03-29T12:12:44.285Z"
   },
   {
    "duration": 3,
    "start_time": "2024-03-29T12:12:44.303Z"
   },
   {
    "duration": 43,
    "start_time": "2024-03-29T12:12:44.307Z"
   },
   {
    "duration": 5,
    "start_time": "2024-03-29T12:12:44.351Z"
   },
   {
    "duration": 29,
    "start_time": "2024-03-29T12:12:44.357Z"
   },
   {
    "duration": 21,
    "start_time": "2024-03-29T12:12:44.387Z"
   },
   {
    "duration": 13,
    "start_time": "2024-03-29T12:12:44.410Z"
   },
   {
    "duration": 19,
    "start_time": "2024-03-29T12:12:44.424Z"
   },
   {
    "duration": 21,
    "start_time": "2024-03-29T12:12:44.444Z"
   },
   {
    "duration": 1062,
    "start_time": "2024-03-29T12:12:44.466Z"
   },
   {
    "duration": 0,
    "start_time": "2024-03-29T12:12:45.530Z"
   },
   {
    "duration": 5,
    "start_time": "2024-03-29T12:12:59.816Z"
   },
   {
    "duration": 70,
    "start_time": "2024-03-29T12:13:04.793Z"
   },
   {
    "duration": 13,
    "start_time": "2024-03-29T12:13:04.865Z"
   },
   {
    "duration": 22,
    "start_time": "2024-03-29T12:13:04.880Z"
   },
   {
    "duration": 21,
    "start_time": "2024-03-29T12:13:04.904Z"
   },
   {
    "duration": 43,
    "start_time": "2024-03-29T12:13:04.927Z"
   },
   {
    "duration": 3,
    "start_time": "2024-03-29T12:13:04.971Z"
   },
   {
    "duration": 8,
    "start_time": "2024-03-29T12:13:04.976Z"
   },
   {
    "duration": 3,
    "start_time": "2024-03-29T12:13:04.986Z"
   },
   {
    "duration": 11,
    "start_time": "2024-03-29T12:13:04.991Z"
   },
   {
    "duration": 4,
    "start_time": "2024-03-29T12:13:05.004Z"
   },
   {
    "duration": 70,
    "start_time": "2024-03-29T12:13:05.009Z"
   },
   {
    "duration": 9,
    "start_time": "2024-03-29T12:13:05.081Z"
   },
   {
    "duration": 3,
    "start_time": "2024-03-29T12:13:05.091Z"
   },
   {
    "duration": 11,
    "start_time": "2024-03-29T12:13:05.095Z"
   },
   {
    "duration": 50,
    "start_time": "2024-03-29T12:13:05.108Z"
   },
   {
    "duration": 15,
    "start_time": "2024-03-29T12:13:05.159Z"
   },
   {
    "duration": 3,
    "start_time": "2024-03-29T12:13:05.175Z"
   },
   {
    "duration": 11,
    "start_time": "2024-03-29T12:13:05.179Z"
   },
   {
    "duration": 5,
    "start_time": "2024-03-29T12:13:05.191Z"
   },
   {
    "duration": 6,
    "start_time": "2024-03-29T12:13:05.197Z"
   },
   {
    "duration": 43,
    "start_time": "2024-03-29T12:13:05.204Z"
   },
   {
    "duration": 8,
    "start_time": "2024-03-29T12:13:05.248Z"
   },
   {
    "duration": 8,
    "start_time": "2024-03-29T12:13:05.258Z"
   },
   {
    "duration": 36,
    "start_time": "2024-03-29T12:13:05.268Z"
   },
   {
    "duration": 7,
    "start_time": "2024-03-29T12:13:05.305Z"
   },
   {
    "duration": 0,
    "start_time": "2024-03-29T12:13:05.345Z"
   },
   {
    "duration": 69,
    "start_time": "2024-03-29T12:14:51.078Z"
   },
   {
    "duration": 14,
    "start_time": "2024-03-29T12:14:51.149Z"
   },
   {
    "duration": 37,
    "start_time": "2024-03-29T12:14:51.165Z"
   },
   {
    "duration": 9,
    "start_time": "2024-03-29T12:14:51.204Z"
   },
   {
    "duration": 44,
    "start_time": "2024-03-29T12:14:51.214Z"
   },
   {
    "duration": 3,
    "start_time": "2024-03-29T12:14:51.259Z"
   },
   {
    "duration": 27,
    "start_time": "2024-03-29T12:14:51.263Z"
   },
   {
    "duration": 6,
    "start_time": "2024-03-29T12:14:51.292Z"
   },
   {
    "duration": 16,
    "start_time": "2024-03-29T12:14:51.299Z"
   },
   {
    "duration": 9,
    "start_time": "2024-03-29T12:14:51.317Z"
   },
   {
    "duration": 49,
    "start_time": "2024-03-29T12:14:51.327Z"
   },
   {
    "duration": 9,
    "start_time": "2024-03-29T12:14:51.378Z"
   },
   {
    "duration": 4,
    "start_time": "2024-03-29T12:14:51.389Z"
   },
   {
    "duration": 14,
    "start_time": "2024-03-29T12:14:51.395Z"
   },
   {
    "duration": 48,
    "start_time": "2024-03-29T12:14:51.411Z"
   },
   {
    "duration": 17,
    "start_time": "2024-03-29T12:14:51.460Z"
   },
   {
    "duration": 4,
    "start_time": "2024-03-29T12:14:51.479Z"
   },
   {
    "duration": 19,
    "start_time": "2024-03-29T12:14:51.484Z"
   },
   {
    "duration": 21,
    "start_time": "2024-03-29T12:14:51.504Z"
   },
   {
    "duration": 24,
    "start_time": "2024-03-29T12:14:51.526Z"
   },
   {
    "duration": 33,
    "start_time": "2024-03-29T12:14:51.552Z"
   },
   {
    "duration": 15,
    "start_time": "2024-03-29T12:14:51.586Z"
   },
   {
    "duration": 32,
    "start_time": "2024-03-29T12:14:51.603Z"
   },
   {
    "duration": 24,
    "start_time": "2024-03-29T12:14:51.636Z"
   },
   {
    "duration": 13,
    "start_time": "2024-03-29T12:14:51.661Z"
   },
   {
    "duration": 50,
    "start_time": "2024-03-29T12:14:51.675Z"
   },
   {
    "duration": 70,
    "start_time": "2024-03-29T12:15:22.515Z"
   },
   {
    "duration": 13,
    "start_time": "2024-03-29T12:15:22.587Z"
   },
   {
    "duration": 23,
    "start_time": "2024-03-29T12:15:22.601Z"
   },
   {
    "duration": 22,
    "start_time": "2024-03-29T12:15:22.626Z"
   },
   {
    "duration": 55,
    "start_time": "2024-03-29T12:15:22.649Z"
   },
   {
    "duration": 3,
    "start_time": "2024-03-29T12:15:22.706Z"
   },
   {
    "duration": 11,
    "start_time": "2024-03-29T12:15:22.710Z"
   },
   {
    "duration": 4,
    "start_time": "2024-03-29T12:15:22.722Z"
   },
   {
    "duration": 18,
    "start_time": "2024-03-29T12:15:22.727Z"
   },
   {
    "duration": 4,
    "start_time": "2024-03-29T12:15:22.747Z"
   },
   {
    "duration": 39,
    "start_time": "2024-03-29T12:15:22.752Z"
   },
   {
    "duration": 9,
    "start_time": "2024-03-29T12:15:22.793Z"
   },
   {
    "duration": 12,
    "start_time": "2024-03-29T12:15:22.803Z"
   },
   {
    "duration": 33,
    "start_time": "2024-03-29T12:15:22.816Z"
   },
   {
    "duration": 27,
    "start_time": "2024-03-29T12:15:22.850Z"
   },
   {
    "duration": 15,
    "start_time": "2024-03-29T12:15:22.878Z"
   },
   {
    "duration": 3,
    "start_time": "2024-03-29T12:15:22.895Z"
   },
   {
    "duration": 13,
    "start_time": "2024-03-29T12:15:22.899Z"
   },
   {
    "duration": 10,
    "start_time": "2024-03-29T12:15:22.913Z"
   },
   {
    "duration": 3,
    "start_time": "2024-03-29T12:15:22.945Z"
   },
   {
    "duration": 11,
    "start_time": "2024-03-29T12:15:22.949Z"
   },
   {
    "duration": 25,
    "start_time": "2024-03-29T12:15:22.961Z"
   },
   {
    "duration": 17,
    "start_time": "2024-03-29T12:15:22.987Z"
   },
   {
    "duration": 20,
    "start_time": "2024-03-29T12:15:23.006Z"
   },
   {
    "duration": 19,
    "start_time": "2024-03-29T12:15:23.027Z"
   },
   {
    "duration": 16,
    "start_time": "2024-03-29T12:15:23.048Z"
   },
   {
    "duration": 69,
    "start_time": "2024-03-29T12:15:33.039Z"
   },
   {
    "duration": 14,
    "start_time": "2024-03-29T12:15:33.109Z"
   },
   {
    "duration": 27,
    "start_time": "2024-03-29T12:15:33.124Z"
   },
   {
    "duration": 17,
    "start_time": "2024-03-29T12:15:33.152Z"
   },
   {
    "duration": 39,
    "start_time": "2024-03-29T12:15:33.172Z"
   },
   {
    "duration": 4,
    "start_time": "2024-03-29T12:15:33.212Z"
   },
   {
    "duration": 34,
    "start_time": "2024-03-29T12:15:33.218Z"
   },
   {
    "duration": 21,
    "start_time": "2024-03-29T12:15:33.254Z"
   },
   {
    "duration": 32,
    "start_time": "2024-03-29T12:15:33.277Z"
   },
   {
    "duration": 21,
    "start_time": "2024-03-29T12:15:33.310Z"
   },
   {
    "duration": 58,
    "start_time": "2024-03-29T12:15:33.333Z"
   },
   {
    "duration": 12,
    "start_time": "2024-03-29T12:15:33.393Z"
   },
   {
    "duration": 33,
    "start_time": "2024-03-29T12:15:33.406Z"
   },
   {
    "duration": 34,
    "start_time": "2024-03-29T12:15:33.441Z"
   },
   {
    "duration": 39,
    "start_time": "2024-03-29T12:15:33.477Z"
   },
   {
    "duration": 22,
    "start_time": "2024-03-29T12:15:33.518Z"
   },
   {
    "duration": 7,
    "start_time": "2024-03-29T12:15:33.542Z"
   },
   {
    "duration": 49,
    "start_time": "2024-03-29T12:15:33.550Z"
   },
   {
    "duration": 11,
    "start_time": "2024-03-29T12:15:33.601Z"
   },
   {
    "duration": 18,
    "start_time": "2024-03-29T12:15:33.614Z"
   },
   {
    "duration": 27,
    "start_time": "2024-03-29T12:15:33.633Z"
   },
   {
    "duration": 33,
    "start_time": "2024-03-29T12:15:33.662Z"
   },
   {
    "duration": 21,
    "start_time": "2024-03-29T12:15:33.697Z"
   },
   {
    "duration": 37,
    "start_time": "2024-03-29T12:15:33.720Z"
   },
   {
    "duration": 12,
    "start_time": "2024-03-29T12:15:33.758Z"
   },
   {
    "duration": 35,
    "start_time": "2024-03-29T12:15:33.771Z"
   },
   {
    "duration": 77,
    "start_time": "2024-03-29T12:15:56.166Z"
   },
   {
    "duration": 15,
    "start_time": "2024-03-29T12:15:56.245Z"
   },
   {
    "duration": 29,
    "start_time": "2024-03-29T12:15:56.262Z"
   },
   {
    "duration": 11,
    "start_time": "2024-03-29T12:15:56.294Z"
   },
   {
    "duration": 74,
    "start_time": "2024-03-29T12:15:56.306Z"
   },
   {
    "duration": 3,
    "start_time": "2024-03-29T12:15:56.382Z"
   },
   {
    "duration": 21,
    "start_time": "2024-03-29T12:15:56.386Z"
   },
   {
    "duration": 13,
    "start_time": "2024-03-29T12:15:56.408Z"
   },
   {
    "duration": 23,
    "start_time": "2024-03-29T12:15:56.423Z"
   },
   {
    "duration": 4,
    "start_time": "2024-03-29T12:15:56.450Z"
   },
   {
    "duration": 40,
    "start_time": "2024-03-29T12:15:56.456Z"
   },
   {
    "duration": 12,
    "start_time": "2024-03-29T12:15:56.497Z"
   },
   {
    "duration": 34,
    "start_time": "2024-03-29T12:15:56.511Z"
   },
   {
    "duration": 18,
    "start_time": "2024-03-29T12:15:56.547Z"
   },
   {
    "duration": 31,
    "start_time": "2024-03-29T12:15:56.567Z"
   },
   {
    "duration": 32,
    "start_time": "2024-03-29T12:15:56.600Z"
   },
   {
    "duration": 4,
    "start_time": "2024-03-29T12:15:56.633Z"
   },
   {
    "duration": 32,
    "start_time": "2024-03-29T12:15:56.638Z"
   },
   {
    "duration": 17,
    "start_time": "2024-03-29T12:15:56.671Z"
   },
   {
    "duration": 10,
    "start_time": "2024-03-29T12:15:56.689Z"
   },
   {
    "duration": 21,
    "start_time": "2024-03-29T12:15:56.700Z"
   },
   {
    "duration": 18,
    "start_time": "2024-03-29T12:15:56.723Z"
   },
   {
    "duration": 34,
    "start_time": "2024-03-29T12:15:56.742Z"
   },
   {
    "duration": 32,
    "start_time": "2024-03-29T12:15:56.778Z"
   },
   {
    "duration": 531,
    "start_time": "2024-03-29T12:15:56.811Z"
   },
   {
    "duration": 0,
    "start_time": "2024-03-29T12:15:57.343Z"
   },
   {
    "duration": 72,
    "start_time": "2024-03-29T12:16:14.829Z"
   },
   {
    "duration": 14,
    "start_time": "2024-03-29T12:16:14.903Z"
   },
   {
    "duration": 39,
    "start_time": "2024-03-29T12:16:14.919Z"
   },
   {
    "duration": 11,
    "start_time": "2024-03-29T12:16:14.959Z"
   },
   {
    "duration": 42,
    "start_time": "2024-03-29T12:16:14.973Z"
   },
   {
    "duration": 3,
    "start_time": "2024-03-29T12:16:15.017Z"
   },
   {
    "duration": 33,
    "start_time": "2024-03-29T12:16:15.044Z"
   },
   {
    "duration": 41,
    "start_time": "2024-03-29T12:16:15.079Z"
   },
   {
    "duration": 155,
    "start_time": "2024-03-29T12:16:15.122Z"
   },
   {
    "duration": 40,
    "start_time": "2024-03-29T12:16:15.279Z"
   },
   {
    "duration": 110,
    "start_time": "2024-03-29T12:16:15.321Z"
   },
   {
    "duration": 25,
    "start_time": "2024-03-29T12:16:15.433Z"
   },
   {
    "duration": 53,
    "start_time": "2024-03-29T12:16:15.460Z"
   },
   {
    "duration": 37,
    "start_time": "2024-03-29T12:16:15.516Z"
   },
   {
    "duration": 88,
    "start_time": "2024-03-29T12:16:15.555Z"
   },
   {
    "duration": 31,
    "start_time": "2024-03-29T12:16:15.645Z"
   },
   {
    "duration": 4,
    "start_time": "2024-03-29T12:16:15.677Z"
   },
   {
    "duration": 18,
    "start_time": "2024-03-29T12:16:15.682Z"
   },
   {
    "duration": 13,
    "start_time": "2024-03-29T12:16:15.701Z"
   },
   {
    "duration": 11,
    "start_time": "2024-03-29T12:16:15.715Z"
   },
   {
    "duration": 22,
    "start_time": "2024-03-29T12:16:15.728Z"
   },
   {
    "duration": 34,
    "start_time": "2024-03-29T12:16:15.752Z"
   },
   {
    "duration": 45,
    "start_time": "2024-03-29T12:16:15.787Z"
   },
   {
    "duration": 24,
    "start_time": "2024-03-29T12:16:15.833Z"
   },
   {
    "duration": 8,
    "start_time": "2024-03-29T12:16:15.858Z"
   },
   {
    "duration": 12,
    "start_time": "2024-03-29T12:16:15.867Z"
   },
   {
    "duration": 71,
    "start_time": "2024-03-29T12:18:17.923Z"
   },
   {
    "duration": 14,
    "start_time": "2024-03-29T12:18:17.996Z"
   },
   {
    "duration": 35,
    "start_time": "2024-03-29T12:18:18.012Z"
   },
   {
    "duration": 10,
    "start_time": "2024-03-29T12:18:18.048Z"
   },
   {
    "duration": 33,
    "start_time": "2024-03-29T12:18:18.061Z"
   },
   {
    "duration": 3,
    "start_time": "2024-03-29T12:18:18.096Z"
   },
   {
    "duration": 8,
    "start_time": "2024-03-29T12:18:18.101Z"
   },
   {
    "duration": 6,
    "start_time": "2024-03-29T12:18:18.146Z"
   },
   {
    "duration": 13,
    "start_time": "2024-03-29T12:18:18.154Z"
   },
   {
    "duration": 20,
    "start_time": "2024-03-29T12:18:18.168Z"
   },
   {
    "duration": 36,
    "start_time": "2024-03-29T12:18:18.189Z"
   },
   {
    "duration": 23,
    "start_time": "2024-03-29T12:18:18.227Z"
   },
   {
    "duration": 4,
    "start_time": "2024-03-29T12:18:18.251Z"
   },
   {
    "duration": 11,
    "start_time": "2024-03-29T12:18:18.257Z"
   },
   {
    "duration": 19,
    "start_time": "2024-03-29T12:18:18.269Z"
   },
   {
    "duration": 60,
    "start_time": "2024-03-29T12:18:18.290Z"
   },
   {
    "duration": 4,
    "start_time": "2024-03-29T12:18:18.351Z"
   },
   {
    "duration": 19,
    "start_time": "2024-03-29T12:18:18.356Z"
   },
   {
    "duration": 6,
    "start_time": "2024-03-29T12:18:18.377Z"
   },
   {
    "duration": 4,
    "start_time": "2024-03-29T12:18:18.384Z"
   },
   {
    "duration": 12,
    "start_time": "2024-03-29T12:18:18.389Z"
   },
   {
    "duration": 44,
    "start_time": "2024-03-29T12:18:18.402Z"
   },
   {
    "duration": 10,
    "start_time": "2024-03-29T12:18:18.447Z"
   },
   {
    "duration": 21,
    "start_time": "2024-03-29T12:18:18.458Z"
   },
   {
    "duration": 5,
    "start_time": "2024-03-29T12:18:18.481Z"
   },
   {
    "duration": 6,
    "start_time": "2024-03-29T12:18:18.488Z"
   },
   {
    "duration": 0,
    "start_time": "2024-03-29T12:18:18.495Z"
   },
   {
    "duration": 72,
    "start_time": "2024-03-29T12:18:27.264Z"
   },
   {
    "duration": 14,
    "start_time": "2024-03-29T12:18:27.338Z"
   },
   {
    "duration": 14,
    "start_time": "2024-03-29T12:18:27.353Z"
   },
   {
    "duration": 10,
    "start_time": "2024-03-29T12:18:27.369Z"
   },
   {
    "duration": 65,
    "start_time": "2024-03-29T12:18:27.380Z"
   },
   {
    "duration": 4,
    "start_time": "2024-03-29T12:18:27.446Z"
   },
   {
    "duration": 13,
    "start_time": "2024-03-29T12:18:27.451Z"
   },
   {
    "duration": 4,
    "start_time": "2024-03-29T12:18:27.466Z"
   },
   {
    "duration": 5,
    "start_time": "2024-03-29T12:18:27.472Z"
   },
   {
    "duration": 5,
    "start_time": "2024-03-29T12:18:27.479Z"
   },
   {
    "duration": 84,
    "start_time": "2024-03-29T12:18:27.486Z"
   },
   {
    "duration": 10,
    "start_time": "2024-03-29T12:18:27.571Z"
   },
   {
    "duration": 4,
    "start_time": "2024-03-29T12:18:27.582Z"
   },
   {
    "duration": 11,
    "start_time": "2024-03-29T12:18:27.587Z"
   },
   {
    "duration": 46,
    "start_time": "2024-03-29T12:18:27.600Z"
   },
   {
    "duration": 19,
    "start_time": "2024-03-29T12:18:27.648Z"
   },
   {
    "duration": 3,
    "start_time": "2024-03-29T12:18:27.669Z"
   },
   {
    "duration": 16,
    "start_time": "2024-03-29T12:18:27.673Z"
   },
   {
    "duration": 9,
    "start_time": "2024-03-29T12:18:27.691Z"
   },
   {
    "duration": 3,
    "start_time": "2024-03-29T12:18:27.702Z"
   },
   {
    "duration": 54,
    "start_time": "2024-03-29T12:18:27.706Z"
   },
   {
    "duration": 18,
    "start_time": "2024-03-29T12:18:27.762Z"
   },
   {
    "duration": 9,
    "start_time": "2024-03-29T12:18:27.782Z"
   },
   {
    "duration": 22,
    "start_time": "2024-03-29T12:18:27.792Z"
   },
   {
    "duration": 5,
    "start_time": "2024-03-29T12:18:27.816Z"
   },
   {
    "duration": 55,
    "start_time": "2024-03-29T12:18:27.846Z"
   },
   {
    "duration": 0,
    "start_time": "2024-03-29T12:18:27.903Z"
   },
   {
    "duration": 71,
    "start_time": "2024-03-29T12:18:34.923Z"
   },
   {
    "duration": 14,
    "start_time": "2024-03-29T12:18:34.996Z"
   },
   {
    "duration": 34,
    "start_time": "2024-03-29T12:18:35.011Z"
   },
   {
    "duration": 10,
    "start_time": "2024-03-29T12:18:35.046Z"
   },
   {
    "duration": 51,
    "start_time": "2024-03-29T12:18:35.058Z"
   },
   {
    "duration": 3,
    "start_time": "2024-03-29T12:18:35.111Z"
   },
   {
    "duration": 41,
    "start_time": "2024-03-29T12:18:35.115Z"
   },
   {
    "duration": 26,
    "start_time": "2024-03-29T12:18:35.158Z"
   },
   {
    "duration": 19,
    "start_time": "2024-03-29T12:18:35.186Z"
   },
   {
    "duration": 24,
    "start_time": "2024-03-29T12:18:35.207Z"
   },
   {
    "duration": 52,
    "start_time": "2024-03-29T12:18:35.233Z"
   },
   {
    "duration": 9,
    "start_time": "2024-03-29T12:18:35.287Z"
   },
   {
    "duration": 17,
    "start_time": "2024-03-29T12:18:35.298Z"
   },
   {
    "duration": 15,
    "start_time": "2024-03-29T12:18:35.317Z"
   },
   {
    "duration": 33,
    "start_time": "2024-03-29T12:18:35.334Z"
   },
   {
    "duration": 35,
    "start_time": "2024-03-29T12:18:35.368Z"
   },
   {
    "duration": 3,
    "start_time": "2024-03-29T12:18:35.405Z"
   },
   {
    "duration": 31,
    "start_time": "2024-03-29T12:18:35.409Z"
   },
   {
    "duration": 27,
    "start_time": "2024-03-29T12:18:35.441Z"
   },
   {
    "duration": 7,
    "start_time": "2024-03-29T12:18:35.470Z"
   },
   {
    "duration": 17,
    "start_time": "2024-03-29T12:18:35.478Z"
   },
   {
    "duration": 18,
    "start_time": "2024-03-29T12:18:35.496Z"
   },
   {
    "duration": 17,
    "start_time": "2024-03-29T12:18:35.516Z"
   },
   {
    "duration": 37,
    "start_time": "2024-03-29T12:18:35.534Z"
   },
   {
    "duration": 5,
    "start_time": "2024-03-29T12:18:35.572Z"
   },
   {
    "duration": 24,
    "start_time": "2024-03-29T12:18:35.578Z"
   },
   {
    "duration": 0,
    "start_time": "2024-03-29T12:18:35.603Z"
   },
   {
    "duration": 77,
    "start_time": "2024-03-29T12:19:30.780Z"
   },
   {
    "duration": 26,
    "start_time": "2024-03-29T12:19:30.859Z"
   },
   {
    "duration": 50,
    "start_time": "2024-03-29T12:19:30.887Z"
   },
   {
    "duration": 39,
    "start_time": "2024-03-29T12:19:30.939Z"
   },
   {
    "duration": 160,
    "start_time": "2024-03-29T12:19:30.980Z"
   },
   {
    "duration": 14,
    "start_time": "2024-03-29T12:19:31.142Z"
   },
   {
    "duration": 65,
    "start_time": "2024-03-29T12:19:31.157Z"
   },
   {
    "duration": 53,
    "start_time": "2024-03-29T12:19:31.224Z"
   },
   {
    "duration": 123,
    "start_time": "2024-03-29T12:19:31.279Z"
   },
   {
    "duration": 96,
    "start_time": "2024-03-29T12:19:31.404Z"
   },
   {
    "duration": 73,
    "start_time": "2024-03-29T12:19:31.502Z"
   },
   {
    "duration": 41,
    "start_time": "2024-03-29T12:19:31.577Z"
   },
   {
    "duration": 31,
    "start_time": "2024-03-29T12:19:31.619Z"
   },
   {
    "duration": 37,
    "start_time": "2024-03-29T12:19:31.652Z"
   },
   {
    "duration": 66,
    "start_time": "2024-03-29T12:19:31.690Z"
   },
   {
    "duration": 83,
    "start_time": "2024-03-29T12:19:31.758Z"
   },
   {
    "duration": 12,
    "start_time": "2024-03-29T12:19:31.843Z"
   },
   {
    "duration": 39,
    "start_time": "2024-03-29T12:19:31.856Z"
   },
   {
    "duration": 31,
    "start_time": "2024-03-29T12:19:31.897Z"
   },
   {
    "duration": 11,
    "start_time": "2024-03-29T12:19:31.930Z"
   },
   {
    "duration": 40,
    "start_time": "2024-03-29T12:19:31.943Z"
   },
   {
    "duration": 40,
    "start_time": "2024-03-29T12:19:31.985Z"
   },
   {
    "duration": 29,
    "start_time": "2024-03-29T12:19:32.026Z"
   },
   {
    "duration": 43,
    "start_time": "2024-03-29T12:19:32.058Z"
   },
   {
    "duration": 16,
    "start_time": "2024-03-29T12:19:32.103Z"
   },
   {
    "duration": 24,
    "start_time": "2024-03-29T12:19:32.120Z"
   },
   {
    "duration": 0,
    "start_time": "2024-03-29T12:19:32.146Z"
   },
   {
    "duration": 72,
    "start_time": "2024-03-29T12:23:02.831Z"
   },
   {
    "duration": 15,
    "start_time": "2024-03-29T12:23:02.905Z"
   },
   {
    "duration": 33,
    "start_time": "2024-03-29T12:23:02.922Z"
   },
   {
    "duration": 26,
    "start_time": "2024-03-29T12:23:02.957Z"
   },
   {
    "duration": 47,
    "start_time": "2024-03-29T12:23:02.985Z"
   },
   {
    "duration": 3,
    "start_time": "2024-03-29T12:23:03.033Z"
   },
   {
    "duration": 11,
    "start_time": "2024-03-29T12:23:03.038Z"
   },
   {
    "duration": 18,
    "start_time": "2024-03-29T12:23:03.050Z"
   },
   {
    "duration": 5,
    "start_time": "2024-03-29T12:23:03.070Z"
   },
   {
    "duration": 8,
    "start_time": "2024-03-29T12:23:03.078Z"
   },
   {
    "duration": 37,
    "start_time": "2024-03-29T12:23:03.088Z"
   },
   {
    "duration": 29,
    "start_time": "2024-03-29T12:23:03.126Z"
   },
   {
    "duration": 6,
    "start_time": "2024-03-29T12:23:03.157Z"
   },
   {
    "duration": 23,
    "start_time": "2024-03-29T12:23:03.165Z"
   },
   {
    "duration": 24,
    "start_time": "2024-03-29T12:23:03.190Z"
   },
   {
    "duration": 40,
    "start_time": "2024-03-29T12:23:03.215Z"
   },
   {
    "duration": 3,
    "start_time": "2024-03-29T12:23:03.257Z"
   },
   {
    "duration": 23,
    "start_time": "2024-03-29T12:23:03.261Z"
   },
   {
    "duration": 14,
    "start_time": "2024-03-29T12:23:03.285Z"
   },
   {
    "duration": 21,
    "start_time": "2024-03-29T12:23:03.301Z"
   },
   {
    "duration": 19,
    "start_time": "2024-03-29T12:23:03.323Z"
   },
   {
    "duration": 17,
    "start_time": "2024-03-29T12:23:03.343Z"
   },
   {
    "duration": 14,
    "start_time": "2024-03-29T12:23:03.361Z"
   },
   {
    "duration": 20,
    "start_time": "2024-03-29T12:23:03.377Z"
   },
   {
    "duration": 7,
    "start_time": "2024-03-29T12:23:03.398Z"
   },
   {
    "duration": 19,
    "start_time": "2024-03-29T12:23:03.406Z"
   },
   {
    "duration": 0,
    "start_time": "2024-03-29T12:23:03.427Z"
   },
   {
    "duration": 71,
    "start_time": "2024-03-29T12:24:29.529Z"
   },
   {
    "duration": 13,
    "start_time": "2024-03-29T12:24:29.602Z"
   },
   {
    "duration": 29,
    "start_time": "2024-03-29T12:24:29.616Z"
   },
   {
    "duration": 9,
    "start_time": "2024-03-29T12:24:29.647Z"
   },
   {
    "duration": 33,
    "start_time": "2024-03-29T12:24:29.657Z"
   },
   {
    "duration": 3,
    "start_time": "2024-03-29T12:24:29.691Z"
   },
   {
    "duration": 19,
    "start_time": "2024-03-29T12:24:29.695Z"
   },
   {
    "duration": 31,
    "start_time": "2024-03-29T12:24:29.715Z"
   },
   {
    "duration": 5,
    "start_time": "2024-03-29T12:24:29.747Z"
   },
   {
    "duration": 14,
    "start_time": "2024-03-29T12:24:29.754Z"
   },
   {
    "duration": 51,
    "start_time": "2024-03-29T12:24:29.770Z"
   },
   {
    "duration": 9,
    "start_time": "2024-03-29T12:24:29.822Z"
   },
   {
    "duration": 14,
    "start_time": "2024-03-29T12:24:29.832Z"
   },
   {
    "duration": 22,
    "start_time": "2024-03-29T12:24:29.847Z"
   },
   {
    "duration": 35,
    "start_time": "2024-03-29T12:24:29.870Z"
   },
   {
    "duration": 16,
    "start_time": "2024-03-29T12:24:29.907Z"
   },
   {
    "duration": 3,
    "start_time": "2024-03-29T12:24:29.924Z"
   },
   {
    "duration": 24,
    "start_time": "2024-03-29T12:24:29.928Z"
   },
   {
    "duration": 19,
    "start_time": "2024-03-29T12:24:29.953Z"
   },
   {
    "duration": 16,
    "start_time": "2024-03-29T12:24:29.974Z"
   },
   {
    "duration": 36,
    "start_time": "2024-03-29T12:24:29.992Z"
   },
   {
    "duration": 39,
    "start_time": "2024-03-29T12:24:30.029Z"
   },
   {
    "duration": 50,
    "start_time": "2024-03-29T12:24:30.069Z"
   },
   {
    "duration": 2353,
    "start_time": "2024-03-29T12:24:30.121Z"
   },
   {
    "duration": 8,
    "start_time": "2024-03-29T12:24:32.475Z"
   },
   {
    "duration": 24,
    "start_time": "2024-03-29T12:24:32.484Z"
   },
   {
    "duration": 0,
    "start_time": "2024-03-29T12:24:32.510Z"
   },
   {
    "duration": 72,
    "start_time": "2024-03-29T12:25:02.060Z"
   },
   {
    "duration": 13,
    "start_time": "2024-03-29T12:25:02.133Z"
   },
   {
    "duration": 26,
    "start_time": "2024-03-29T12:25:02.148Z"
   },
   {
    "duration": 18,
    "start_time": "2024-03-29T12:25:02.176Z"
   },
   {
    "duration": 45,
    "start_time": "2024-03-29T12:25:02.195Z"
   },
   {
    "duration": 3,
    "start_time": "2024-03-29T12:25:02.241Z"
   },
   {
    "duration": 14,
    "start_time": "2024-03-29T12:25:02.246Z"
   },
   {
    "duration": 9,
    "start_time": "2024-03-29T12:25:02.262Z"
   },
   {
    "duration": 11,
    "start_time": "2024-03-29T12:25:02.272Z"
   },
   {
    "duration": 18,
    "start_time": "2024-03-29T12:25:02.285Z"
   },
   {
    "duration": 46,
    "start_time": "2024-03-29T12:25:02.305Z"
   },
   {
    "duration": 9,
    "start_time": "2024-03-29T12:25:02.353Z"
   },
   {
    "duration": 23,
    "start_time": "2024-03-29T12:25:02.364Z"
   },
   {
    "duration": 31,
    "start_time": "2024-03-29T12:25:02.388Z"
   },
   {
    "duration": 26,
    "start_time": "2024-03-29T12:25:02.421Z"
   },
   {
    "duration": 17,
    "start_time": "2024-03-29T12:25:02.448Z"
   },
   {
    "duration": 4,
    "start_time": "2024-03-29T12:25:02.466Z"
   },
   {
    "duration": 67,
    "start_time": "2024-03-29T12:25:02.471Z"
   },
   {
    "duration": 52,
    "start_time": "2024-03-29T12:25:02.540Z"
   },
   {
    "duration": 4,
    "start_time": "2024-03-29T12:25:02.594Z"
   },
   {
    "duration": 58,
    "start_time": "2024-03-29T12:25:02.599Z"
   },
   {
    "duration": 36,
    "start_time": "2024-03-29T12:25:02.659Z"
   },
   {
    "duration": 16,
    "start_time": "2024-03-29T12:25:02.696Z"
   },
   {
    "duration": 2233,
    "start_time": "2024-03-29T12:25:02.713Z"
   },
   {
    "duration": 7,
    "start_time": "2024-03-29T12:25:04.947Z"
   },
   {
    "duration": 9,
    "start_time": "2024-03-29T12:25:04.955Z"
   },
   {
    "duration": 0,
    "start_time": "2024-03-29T12:25:04.965Z"
   },
   {
    "duration": 70,
    "start_time": "2024-03-29T12:25:40.999Z"
   },
   {
    "duration": 13,
    "start_time": "2024-03-29T12:25:41.071Z"
   },
   {
    "duration": 18,
    "start_time": "2024-03-29T12:25:41.085Z"
   },
   {
    "duration": 10,
    "start_time": "2024-03-29T12:25:41.104Z"
   },
   {
    "duration": 56,
    "start_time": "2024-03-29T12:25:41.115Z"
   },
   {
    "duration": 3,
    "start_time": "2024-03-29T12:25:41.172Z"
   },
   {
    "duration": 11,
    "start_time": "2024-03-29T12:25:41.177Z"
   },
   {
    "duration": 7,
    "start_time": "2024-03-29T12:25:41.190Z"
   },
   {
    "duration": 14,
    "start_time": "2024-03-29T12:25:41.198Z"
   },
   {
    "duration": 20,
    "start_time": "2024-03-29T12:25:41.215Z"
   },
   {
    "duration": 34,
    "start_time": "2024-03-29T12:25:41.245Z"
   },
   {
    "duration": 11,
    "start_time": "2024-03-29T12:25:41.280Z"
   },
   {
    "duration": 4,
    "start_time": "2024-03-29T12:25:41.293Z"
   },
   {
    "duration": 46,
    "start_time": "2024-03-29T12:25:41.299Z"
   },
   {
    "duration": 19,
    "start_time": "2024-03-29T12:25:41.347Z"
   },
   {
    "duration": 18,
    "start_time": "2024-03-29T12:25:41.367Z"
   },
   {
    "duration": 4,
    "start_time": "2024-03-29T12:25:41.387Z"
   },
   {
    "duration": 15,
    "start_time": "2024-03-29T12:25:41.392Z"
   },
   {
    "duration": 40,
    "start_time": "2024-03-29T12:25:41.408Z"
   },
   {
    "duration": 3,
    "start_time": "2024-03-29T12:25:41.449Z"
   },
   {
    "duration": 23,
    "start_time": "2024-03-29T12:25:41.453Z"
   },
   {
    "duration": 15,
    "start_time": "2024-03-29T12:25:41.478Z"
   },
   {
    "duration": 8,
    "start_time": "2024-03-29T12:25:41.495Z"
   },
   {
    "duration": 2264,
    "start_time": "2024-03-29T12:25:41.505Z"
   },
   {
    "duration": 5,
    "start_time": "2024-03-29T12:25:43.770Z"
   },
   {
    "duration": 7,
    "start_time": "2024-03-29T12:25:43.777Z"
   },
   {
    "duration": 0,
    "start_time": "2024-03-29T12:25:43.785Z"
   },
   {
    "duration": 71,
    "start_time": "2024-03-29T12:25:48.361Z"
   },
   {
    "duration": 14,
    "start_time": "2024-03-29T12:25:48.433Z"
   },
   {
    "duration": 14,
    "start_time": "2024-03-29T12:25:48.448Z"
   },
   {
    "duration": 26,
    "start_time": "2024-03-29T12:25:48.463Z"
   },
   {
    "duration": 31,
    "start_time": "2024-03-29T12:25:48.491Z"
   },
   {
    "duration": 22,
    "start_time": "2024-03-29T12:25:48.523Z"
   },
   {
    "duration": 7,
    "start_time": "2024-03-29T12:25:48.546Z"
   },
   {
    "duration": 10,
    "start_time": "2024-03-29T12:25:48.554Z"
   },
   {
    "duration": 39,
    "start_time": "2024-03-29T12:25:48.566Z"
   },
   {
    "duration": 18,
    "start_time": "2024-03-29T12:25:48.608Z"
   },
   {
    "duration": 57,
    "start_time": "2024-03-29T12:25:48.627Z"
   },
   {
    "duration": 9,
    "start_time": "2024-03-29T12:25:48.686Z"
   },
   {
    "duration": 9,
    "start_time": "2024-03-29T12:25:48.696Z"
   },
   {
    "duration": 35,
    "start_time": "2024-03-29T12:25:48.706Z"
   },
   {
    "duration": 35,
    "start_time": "2024-03-29T12:25:48.742Z"
   },
   {
    "duration": 20,
    "start_time": "2024-03-29T12:25:48.779Z"
   },
   {
    "duration": 4,
    "start_time": "2024-03-29T12:25:48.800Z"
   },
   {
    "duration": 37,
    "start_time": "2024-03-29T12:25:48.805Z"
   },
   {
    "duration": 50,
    "start_time": "2024-03-29T12:25:48.843Z"
   },
   {
    "duration": 25,
    "start_time": "2024-03-29T12:25:48.894Z"
   },
   {
    "duration": 20,
    "start_time": "2024-03-29T12:25:48.920Z"
   },
   {
    "duration": 29,
    "start_time": "2024-03-29T12:25:48.941Z"
   },
   {
    "duration": 27,
    "start_time": "2024-03-29T12:25:48.972Z"
   },
   {
    "duration": 2460,
    "start_time": "2024-03-29T12:25:49.001Z"
   },
   {
    "duration": 6,
    "start_time": "2024-03-29T12:25:51.462Z"
   },
   {
    "duration": 36,
    "start_time": "2024-03-29T12:25:51.469Z"
   },
   {
    "duration": 0,
    "start_time": "2024-03-29T12:25:51.507Z"
   },
   {
    "duration": 72,
    "start_time": "2024-03-29T12:26:35.250Z"
   },
   {
    "duration": 14,
    "start_time": "2024-03-29T12:26:35.323Z"
   },
   {
    "duration": 14,
    "start_time": "2024-03-29T12:26:35.338Z"
   },
   {
    "duration": 13,
    "start_time": "2024-03-29T12:26:35.354Z"
   },
   {
    "duration": 32,
    "start_time": "2024-03-29T12:26:35.368Z"
   },
   {
    "duration": 3,
    "start_time": "2024-03-29T12:26:35.402Z"
   },
   {
    "duration": 43,
    "start_time": "2024-03-29T12:26:35.406Z"
   },
   {
    "duration": 4,
    "start_time": "2024-03-29T12:26:35.451Z"
   },
   {
    "duration": 13,
    "start_time": "2024-03-29T12:26:35.456Z"
   },
   {
    "duration": 4,
    "start_time": "2024-03-29T12:26:35.471Z"
   },
   {
    "duration": 46,
    "start_time": "2024-03-29T12:26:35.477Z"
   },
   {
    "duration": 30,
    "start_time": "2024-03-29T12:26:35.525Z"
   },
   {
    "duration": 3,
    "start_time": "2024-03-29T12:26:35.557Z"
   },
   {
    "duration": 13,
    "start_time": "2024-03-29T12:26:35.562Z"
   },
   {
    "duration": 16,
    "start_time": "2024-03-29T12:26:35.577Z"
   },
   {
    "duration": 52,
    "start_time": "2024-03-29T12:26:35.594Z"
   },
   {
    "duration": 3,
    "start_time": "2024-03-29T12:26:35.647Z"
   },
   {
    "duration": 18,
    "start_time": "2024-03-29T12:26:35.651Z"
   },
   {
    "duration": 6,
    "start_time": "2024-03-29T12:26:35.670Z"
   },
   {
    "duration": 3,
    "start_time": "2024-03-29T12:26:35.678Z"
   },
   {
    "duration": 9,
    "start_time": "2024-03-29T12:26:35.682Z"
   },
   {
    "duration": 10,
    "start_time": "2024-03-29T12:26:35.693Z"
   },
   {
    "duration": 41,
    "start_time": "2024-03-29T12:26:35.704Z"
   },
   {
    "duration": 2308,
    "start_time": "2024-03-29T12:26:35.746Z"
   },
   {
    "duration": 4,
    "start_time": "2024-03-29T12:26:38.056Z"
   },
   {
    "duration": 35,
    "start_time": "2024-03-29T12:26:38.061Z"
   },
   {
    "duration": 0,
    "start_time": "2024-03-29T12:26:38.098Z"
   },
   {
    "duration": 74,
    "start_time": "2024-03-29T12:27:15.648Z"
   },
   {
    "duration": 13,
    "start_time": "2024-03-29T12:27:15.724Z"
   },
   {
    "duration": 16,
    "start_time": "2024-03-29T12:27:15.739Z"
   },
   {
    "duration": 9,
    "start_time": "2024-03-29T12:27:15.757Z"
   },
   {
    "duration": 33,
    "start_time": "2024-03-29T12:27:15.767Z"
   },
   {
    "duration": 3,
    "start_time": "2024-03-29T12:27:15.802Z"
   },
   {
    "duration": 51,
    "start_time": "2024-03-29T12:27:15.806Z"
   },
   {
    "duration": 10,
    "start_time": "2024-03-29T12:27:15.858Z"
   },
   {
    "duration": 8,
    "start_time": "2024-03-29T12:27:15.870Z"
   },
   {
    "duration": 5,
    "start_time": "2024-03-29T12:27:15.881Z"
   },
   {
    "duration": 40,
    "start_time": "2024-03-29T12:27:15.888Z"
   },
   {
    "duration": 10,
    "start_time": "2024-03-29T12:27:15.944Z"
   },
   {
    "duration": 3,
    "start_time": "2024-03-29T12:27:15.955Z"
   },
   {
    "duration": 16,
    "start_time": "2024-03-29T12:27:15.959Z"
   },
   {
    "duration": 16,
    "start_time": "2024-03-29T12:27:15.976Z"
   },
   {
    "duration": 16,
    "start_time": "2024-03-29T12:27:15.993Z"
   },
   {
    "duration": 37,
    "start_time": "2024-03-29T12:27:16.010Z"
   },
   {
    "duration": 13,
    "start_time": "2024-03-29T12:27:16.048Z"
   },
   {
    "duration": 10,
    "start_time": "2024-03-29T12:27:16.062Z"
   },
   {
    "duration": 4,
    "start_time": "2024-03-29T12:27:16.073Z"
   },
   {
    "duration": 14,
    "start_time": "2024-03-29T12:27:16.078Z"
   },
   {
    "duration": 13,
    "start_time": "2024-03-29T12:27:16.093Z"
   },
   {
    "duration": 41,
    "start_time": "2024-03-29T12:27:16.108Z"
   },
   {
    "duration": 48,
    "start_time": "2024-03-29T12:27:16.151Z"
   },
   {
    "duration": 0,
    "start_time": "2024-03-29T12:27:16.201Z"
   },
   {
    "duration": 0,
    "start_time": "2024-03-29T12:27:16.202Z"
   },
   {
    "duration": 0,
    "start_time": "2024-03-29T12:27:16.204Z"
   },
   {
    "duration": 74,
    "start_time": "2024-03-29T12:27:25.506Z"
   },
   {
    "duration": 15,
    "start_time": "2024-03-29T12:27:25.582Z"
   },
   {
    "duration": 15,
    "start_time": "2024-03-29T12:27:25.598Z"
   },
   {
    "duration": 17,
    "start_time": "2024-03-29T12:27:25.615Z"
   },
   {
    "duration": 33,
    "start_time": "2024-03-29T12:27:25.645Z"
   },
   {
    "duration": 3,
    "start_time": "2024-03-29T12:27:25.679Z"
   },
   {
    "duration": 18,
    "start_time": "2024-03-29T12:27:25.684Z"
   },
   {
    "duration": 3,
    "start_time": "2024-03-29T12:27:25.704Z"
   },
   {
    "duration": 7,
    "start_time": "2024-03-29T12:27:25.708Z"
   },
   {
    "duration": 4,
    "start_time": "2024-03-29T12:27:25.716Z"
   },
   {
    "duration": 32,
    "start_time": "2024-03-29T12:27:25.744Z"
   },
   {
    "duration": 9,
    "start_time": "2024-03-29T12:27:25.778Z"
   },
   {
    "duration": 9,
    "start_time": "2024-03-29T12:27:25.788Z"
   },
   {
    "duration": 11,
    "start_time": "2024-03-29T12:27:25.800Z"
   },
   {
    "duration": 42,
    "start_time": "2024-03-29T12:27:25.812Z"
   },
   {
    "duration": 17,
    "start_time": "2024-03-29T12:27:25.855Z"
   },
   {
    "duration": 4,
    "start_time": "2024-03-29T12:27:25.874Z"
   },
   {
    "duration": 15,
    "start_time": "2024-03-29T12:27:25.879Z"
   },
   {
    "duration": 51,
    "start_time": "2024-03-29T12:27:25.896Z"
   },
   {
    "duration": 3,
    "start_time": "2024-03-29T12:27:25.949Z"
   },
   {
    "duration": 16,
    "start_time": "2024-03-29T12:27:25.954Z"
   },
   {
    "duration": 15,
    "start_time": "2024-03-29T12:27:25.972Z"
   },
   {
    "duration": 11,
    "start_time": "2024-03-29T12:27:25.989Z"
   },
   {
    "duration": 2276,
    "start_time": "2024-03-29T12:27:26.002Z"
   },
   {
    "duration": 5,
    "start_time": "2024-03-29T12:27:28.279Z"
   },
   {
    "duration": 12,
    "start_time": "2024-03-29T12:27:28.285Z"
   },
   {
    "duration": 0,
    "start_time": "2024-03-29T12:27:28.298Z"
   },
   {
    "duration": 72,
    "start_time": "2024-03-29T12:33:25.567Z"
   },
   {
    "duration": 14,
    "start_time": "2024-03-29T12:33:25.641Z"
   },
   {
    "duration": 20,
    "start_time": "2024-03-29T12:33:25.656Z"
   },
   {
    "duration": 13,
    "start_time": "2024-03-29T12:33:25.678Z"
   },
   {
    "duration": 77,
    "start_time": "2024-03-29T12:33:25.692Z"
   },
   {
    "duration": 4,
    "start_time": "2024-03-29T12:33:25.770Z"
   },
   {
    "duration": 10,
    "start_time": "2024-03-29T12:33:25.775Z"
   },
   {
    "duration": 5,
    "start_time": "2024-03-29T12:33:25.787Z"
   },
   {
    "duration": 9,
    "start_time": "2024-03-29T12:33:25.793Z"
   },
   {
    "duration": 42,
    "start_time": "2024-03-29T12:33:25.805Z"
   },
   {
    "duration": 37,
    "start_time": "2024-03-29T12:33:25.849Z"
   },
   {
    "duration": 11,
    "start_time": "2024-03-29T12:33:25.888Z"
   },
   {
    "duration": 7,
    "start_time": "2024-03-29T12:33:25.902Z"
   },
   {
    "duration": 13,
    "start_time": "2024-03-29T12:33:25.944Z"
   },
   {
    "duration": 19,
    "start_time": "2024-03-29T12:33:25.959Z"
   },
   {
    "duration": 18,
    "start_time": "2024-03-29T12:33:25.980Z"
   },
   {
    "duration": 4,
    "start_time": "2024-03-29T12:33:26.000Z"
   },
   {
    "duration": 49,
    "start_time": "2024-03-29T12:33:26.005Z"
   },
   {
    "duration": 19,
    "start_time": "2024-03-29T12:33:26.056Z"
   },
   {
    "duration": 19,
    "start_time": "2024-03-29T12:33:26.076Z"
   },
   {
    "duration": 15,
    "start_time": "2024-03-29T12:33:26.096Z"
   },
   {
    "duration": 11,
    "start_time": "2024-03-29T12:33:26.112Z"
   },
   {
    "duration": 9,
    "start_time": "2024-03-29T12:33:26.124Z"
   },
   {
    "duration": 2233,
    "start_time": "2024-03-29T12:33:26.145Z"
   },
   {
    "duration": 9,
    "start_time": "2024-03-29T12:33:28.380Z"
   },
   {
    "duration": 0,
    "start_time": "2024-03-29T12:33:28.391Z"
   },
   {
    "duration": 71,
    "start_time": "2024-03-29T12:35:37.461Z"
   },
   {
    "duration": 14,
    "start_time": "2024-03-29T12:35:37.534Z"
   },
   {
    "duration": 20,
    "start_time": "2024-03-29T12:35:37.549Z"
   },
   {
    "duration": 9,
    "start_time": "2024-03-29T12:35:37.571Z"
   },
   {
    "duration": 35,
    "start_time": "2024-03-29T12:35:37.582Z"
   },
   {
    "duration": 26,
    "start_time": "2024-03-29T12:35:37.619Z"
   },
   {
    "duration": 13,
    "start_time": "2024-03-29T12:35:37.646Z"
   },
   {
    "duration": 14,
    "start_time": "2024-03-29T12:35:37.661Z"
   },
   {
    "duration": 31,
    "start_time": "2024-03-29T12:35:37.676Z"
   },
   {
    "duration": 36,
    "start_time": "2024-03-29T12:35:37.709Z"
   },
   {
    "duration": 37,
    "start_time": "2024-03-29T12:35:37.746Z"
   },
   {
    "duration": 9,
    "start_time": "2024-03-29T12:35:37.785Z"
   },
   {
    "duration": 5,
    "start_time": "2024-03-29T12:35:37.795Z"
   },
   {
    "duration": 16,
    "start_time": "2024-03-29T12:35:37.802Z"
   },
   {
    "duration": 37,
    "start_time": "2024-03-29T12:35:37.819Z"
   },
   {
    "duration": 16,
    "start_time": "2024-03-29T12:35:37.857Z"
   },
   {
    "duration": 3,
    "start_time": "2024-03-29T12:35:37.874Z"
   },
   {
    "duration": 22,
    "start_time": "2024-03-29T12:35:37.879Z"
   },
   {
    "duration": 7,
    "start_time": "2024-03-29T12:35:37.902Z"
   },
   {
    "duration": 4,
    "start_time": "2024-03-29T12:35:37.911Z"
   },
   {
    "duration": 11,
    "start_time": "2024-03-29T12:35:37.945Z"
   },
   {
    "duration": 11,
    "start_time": "2024-03-29T12:35:37.957Z"
   },
   {
    "duration": 12,
    "start_time": "2024-03-29T12:35:37.969Z"
   },
   {
    "duration": 2396,
    "start_time": "2024-03-29T12:35:37.983Z"
   },
   {
    "duration": 7,
    "start_time": "2024-03-29T12:35:40.380Z"
   },
   {
    "duration": 0,
    "start_time": "2024-03-29T12:35:40.389Z"
   },
   {
    "duration": 70,
    "start_time": "2024-03-29T12:35:42.339Z"
   },
   {
    "duration": 14,
    "start_time": "2024-03-29T12:35:42.411Z"
   },
   {
    "duration": 26,
    "start_time": "2024-03-29T12:35:42.426Z"
   },
   {
    "duration": 10,
    "start_time": "2024-03-29T12:35:42.454Z"
   },
   {
    "duration": 36,
    "start_time": "2024-03-29T12:35:42.465Z"
   },
   {
    "duration": 3,
    "start_time": "2024-03-29T12:35:42.503Z"
   },
   {
    "duration": 38,
    "start_time": "2024-03-29T12:35:42.508Z"
   },
   {
    "duration": 5,
    "start_time": "2024-03-29T12:35:42.547Z"
   },
   {
    "duration": 7,
    "start_time": "2024-03-29T12:35:42.554Z"
   },
   {
    "duration": 5,
    "start_time": "2024-03-29T12:35:42.564Z"
   },
   {
    "duration": 33,
    "start_time": "2024-03-29T12:35:42.571Z"
   },
   {
    "duration": 47,
    "start_time": "2024-03-29T12:35:42.606Z"
   },
   {
    "duration": 3,
    "start_time": "2024-03-29T12:35:42.654Z"
   },
   {
    "duration": 11,
    "start_time": "2024-03-29T12:35:42.658Z"
   },
   {
    "duration": 17,
    "start_time": "2024-03-29T12:35:42.671Z"
   },
   {
    "duration": 16,
    "start_time": "2024-03-29T12:35:42.689Z"
   },
   {
    "duration": 39,
    "start_time": "2024-03-29T12:35:42.706Z"
   },
   {
    "duration": 12,
    "start_time": "2024-03-29T12:35:42.747Z"
   },
   {
    "duration": 6,
    "start_time": "2024-03-29T12:35:42.760Z"
   },
   {
    "duration": 3,
    "start_time": "2024-03-29T12:35:42.767Z"
   },
   {
    "duration": 13,
    "start_time": "2024-03-29T12:35:42.771Z"
   },
   {
    "duration": 9,
    "start_time": "2024-03-29T12:35:42.785Z"
   },
   {
    "duration": 54,
    "start_time": "2024-03-29T12:35:42.796Z"
   },
   {
    "duration": 2252,
    "start_time": "2024-03-29T12:35:42.851Z"
   },
   {
    "duration": 8,
    "start_time": "2024-03-29T12:35:45.144Z"
   },
   {
    "duration": 0,
    "start_time": "2024-03-29T12:35:45.154Z"
   },
   {
    "duration": 71,
    "start_time": "2024-03-29T12:35:52.331Z"
   },
   {
    "duration": 19,
    "start_time": "2024-03-29T12:35:52.404Z"
   },
   {
    "duration": 34,
    "start_time": "2024-03-29T12:35:52.425Z"
   },
   {
    "duration": 53,
    "start_time": "2024-03-29T12:35:52.461Z"
   },
   {
    "duration": 54,
    "start_time": "2024-03-29T12:35:52.516Z"
   },
   {
    "duration": 3,
    "start_time": "2024-03-29T12:35:52.572Z"
   },
   {
    "duration": 22,
    "start_time": "2024-03-29T12:35:52.576Z"
   },
   {
    "duration": 3,
    "start_time": "2024-03-29T12:35:52.600Z"
   },
   {
    "duration": 7,
    "start_time": "2024-03-29T12:35:52.604Z"
   },
   {
    "duration": 4,
    "start_time": "2024-03-29T12:35:52.613Z"
   },
   {
    "duration": 54,
    "start_time": "2024-03-29T12:35:52.618Z"
   },
   {
    "duration": 10,
    "start_time": "2024-03-29T12:35:52.673Z"
   },
   {
    "duration": 5,
    "start_time": "2024-03-29T12:35:52.684Z"
   },
   {
    "duration": 20,
    "start_time": "2024-03-29T12:35:52.690Z"
   },
   {
    "duration": 35,
    "start_time": "2024-03-29T12:35:52.711Z"
   },
   {
    "duration": 15,
    "start_time": "2024-03-29T12:35:52.748Z"
   },
   {
    "duration": 9,
    "start_time": "2024-03-29T12:35:52.765Z"
   },
   {
    "duration": 22,
    "start_time": "2024-03-29T12:35:52.775Z"
   },
   {
    "duration": 9,
    "start_time": "2024-03-29T12:35:52.798Z"
   },
   {
    "duration": 10,
    "start_time": "2024-03-29T12:35:52.809Z"
   },
   {
    "duration": 25,
    "start_time": "2024-03-29T12:35:52.821Z"
   },
   {
    "duration": 19,
    "start_time": "2024-03-29T12:35:52.848Z"
   },
   {
    "duration": 14,
    "start_time": "2024-03-29T12:35:52.868Z"
   },
   {
    "duration": 2323,
    "start_time": "2024-03-29T12:35:52.883Z"
   },
   {
    "duration": 8,
    "start_time": "2024-03-29T12:35:55.244Z"
   },
   {
    "duration": 0,
    "start_time": "2024-03-29T12:35:55.254Z"
   },
   {
    "duration": 70,
    "start_time": "2024-03-29T12:36:25.173Z"
   },
   {
    "duration": 13,
    "start_time": "2024-03-29T12:36:25.245Z"
   },
   {
    "duration": 14,
    "start_time": "2024-03-29T12:36:25.260Z"
   },
   {
    "duration": 9,
    "start_time": "2024-03-29T12:36:25.276Z"
   },
   {
    "duration": 79,
    "start_time": "2024-03-29T12:36:25.286Z"
   },
   {
    "duration": 3,
    "start_time": "2024-03-29T12:36:25.367Z"
   },
   {
    "duration": 11,
    "start_time": "2024-03-29T12:36:25.371Z"
   },
   {
    "duration": 5,
    "start_time": "2024-03-29T12:36:25.383Z"
   },
   {
    "duration": 5,
    "start_time": "2024-03-29T12:36:25.389Z"
   },
   {
    "duration": 4,
    "start_time": "2024-03-29T12:36:25.396Z"
   },
   {
    "duration": 73,
    "start_time": "2024-03-29T12:36:25.401Z"
   },
   {
    "duration": 17,
    "start_time": "2024-03-29T12:36:25.476Z"
   },
   {
    "duration": 14,
    "start_time": "2024-03-29T12:36:25.495Z"
   },
   {
    "duration": 39,
    "start_time": "2024-03-29T12:36:25.511Z"
   },
   {
    "duration": 20,
    "start_time": "2024-03-29T12:36:25.552Z"
   },
   {
    "duration": 19,
    "start_time": "2024-03-29T12:36:25.574Z"
   },
   {
    "duration": 4,
    "start_time": "2024-03-29T12:36:25.594Z"
   },
   {
    "duration": 13,
    "start_time": "2024-03-29T12:36:25.599Z"
   },
   {
    "duration": 33,
    "start_time": "2024-03-29T12:36:25.614Z"
   },
   {
    "duration": 3,
    "start_time": "2024-03-29T12:36:25.648Z"
   },
   {
    "duration": 17,
    "start_time": "2024-03-29T12:36:25.652Z"
   },
   {
    "duration": 8,
    "start_time": "2024-03-29T12:36:25.670Z"
   },
   {
    "duration": 10,
    "start_time": "2024-03-29T12:36:25.680Z"
   },
   {
    "duration": 2377,
    "start_time": "2024-03-29T12:36:25.691Z"
   },
   {
    "duration": 7,
    "start_time": "2024-03-29T12:36:28.069Z"
   },
   {
    "duration": 0,
    "start_time": "2024-03-29T12:36:28.077Z"
   },
   {
    "duration": 73,
    "start_time": "2024-03-29T12:38:45.511Z"
   },
   {
    "duration": 16,
    "start_time": "2024-03-29T12:38:45.586Z"
   },
   {
    "duration": 21,
    "start_time": "2024-03-29T12:38:45.603Z"
   },
   {
    "duration": 28,
    "start_time": "2024-03-29T12:38:45.626Z"
   },
   {
    "duration": 34,
    "start_time": "2024-03-29T12:38:45.655Z"
   },
   {
    "duration": 4,
    "start_time": "2024-03-29T12:38:45.690Z"
   },
   {
    "duration": 22,
    "start_time": "2024-03-29T12:38:45.695Z"
   },
   {
    "duration": 27,
    "start_time": "2024-03-29T12:38:45.718Z"
   },
   {
    "duration": 5,
    "start_time": "2024-03-29T12:38:45.747Z"
   },
   {
    "duration": 24,
    "start_time": "2024-03-29T12:38:45.754Z"
   },
   {
    "duration": 41,
    "start_time": "2024-03-29T12:38:45.779Z"
   },
   {
    "duration": 9,
    "start_time": "2024-03-29T12:38:45.822Z"
   },
   {
    "duration": 9,
    "start_time": "2024-03-29T12:38:45.832Z"
   },
   {
    "duration": 10,
    "start_time": "2024-03-29T12:38:45.845Z"
   },
   {
    "duration": 24,
    "start_time": "2024-03-29T12:38:45.856Z"
   },
   {
    "duration": 15,
    "start_time": "2024-03-29T12:38:45.882Z"
   },
   {
    "duration": 4,
    "start_time": "2024-03-29T12:38:45.898Z"
   },
   {
    "duration": 25,
    "start_time": "2024-03-29T12:38:45.903Z"
   },
   {
    "duration": 5,
    "start_time": "2024-03-29T12:38:45.946Z"
   },
   {
    "duration": 12,
    "start_time": "2024-03-29T12:38:45.952Z"
   },
   {
    "duration": 17,
    "start_time": "2024-03-29T12:38:45.965Z"
   },
   {
    "duration": 25,
    "start_time": "2024-03-29T12:38:45.984Z"
   },
   {
    "duration": 15,
    "start_time": "2024-03-29T12:38:46.011Z"
   },
   {
    "duration": 59,
    "start_time": "2024-03-29T12:38:46.028Z"
   },
   {
    "duration": 0,
    "start_time": "2024-03-29T12:38:46.088Z"
   },
   {
    "duration": 0,
    "start_time": "2024-03-29T12:38:46.089Z"
   },
   {
    "duration": 73,
    "start_time": "2024-03-29T12:38:54.757Z"
   },
   {
    "duration": 14,
    "start_time": "2024-03-29T12:38:54.832Z"
   },
   {
    "duration": 17,
    "start_time": "2024-03-29T12:38:54.848Z"
   },
   {
    "duration": 9,
    "start_time": "2024-03-29T12:38:54.867Z"
   },
   {
    "duration": 33,
    "start_time": "2024-03-29T12:38:54.878Z"
   },
   {
    "duration": 3,
    "start_time": "2024-03-29T12:38:54.913Z"
   },
   {
    "duration": 34,
    "start_time": "2024-03-29T12:38:54.917Z"
   },
   {
    "duration": 4,
    "start_time": "2024-03-29T12:38:54.953Z"
   },
   {
    "duration": 6,
    "start_time": "2024-03-29T12:38:54.958Z"
   },
   {
    "duration": 4,
    "start_time": "2024-03-29T12:38:54.966Z"
   },
   {
    "duration": 84,
    "start_time": "2024-03-29T12:38:54.971Z"
   },
   {
    "duration": 12,
    "start_time": "2024-03-29T12:38:55.057Z"
   },
   {
    "duration": 3,
    "start_time": "2024-03-29T12:38:55.070Z"
   },
   {
    "duration": 14,
    "start_time": "2024-03-29T12:38:55.075Z"
   },
   {
    "duration": 18,
    "start_time": "2024-03-29T12:38:55.090Z"
   },
   {
    "duration": 52,
    "start_time": "2024-03-29T12:38:55.110Z"
   },
   {
    "duration": 5,
    "start_time": "2024-03-29T12:38:55.163Z"
   },
   {
    "duration": 14,
    "start_time": "2024-03-29T12:38:55.169Z"
   },
   {
    "duration": 7,
    "start_time": "2024-03-29T12:38:55.184Z"
   },
   {
    "duration": 4,
    "start_time": "2024-03-29T12:38:55.193Z"
   },
   {
    "duration": 50,
    "start_time": "2024-03-29T12:38:55.198Z"
   },
   {
    "duration": 10,
    "start_time": "2024-03-29T12:38:55.250Z"
   },
   {
    "duration": 12,
    "start_time": "2024-03-29T12:38:55.261Z"
   },
   {
    "duration": 48,
    "start_time": "2024-03-29T12:38:55.275Z"
   },
   {
    "duration": 0,
    "start_time": "2024-03-29T12:38:55.324Z"
   },
   {
    "duration": 0,
    "start_time": "2024-03-29T12:38:55.326Z"
   },
   {
    "duration": 72,
    "start_time": "2024-03-29T12:39:05.459Z"
   },
   {
    "duration": 14,
    "start_time": "2024-03-29T12:39:05.533Z"
   },
   {
    "duration": 15,
    "start_time": "2024-03-29T12:39:05.548Z"
   },
   {
    "duration": 15,
    "start_time": "2024-03-29T12:39:05.565Z"
   },
   {
    "duration": 47,
    "start_time": "2024-03-29T12:39:05.582Z"
   },
   {
    "duration": 3,
    "start_time": "2024-03-29T12:39:05.645Z"
   },
   {
    "duration": 53,
    "start_time": "2024-03-29T12:39:05.650Z"
   },
   {
    "duration": 79,
    "start_time": "2024-03-29T12:39:05.704Z"
   },
   {
    "duration": 22,
    "start_time": "2024-03-29T12:39:05.784Z"
   },
   {
    "duration": 18,
    "start_time": "2024-03-29T12:39:05.809Z"
   },
   {
    "duration": 81,
    "start_time": "2024-03-29T12:39:05.829Z"
   },
   {
    "duration": 10,
    "start_time": "2024-03-29T12:39:05.911Z"
   },
   {
    "duration": 18,
    "start_time": "2024-03-29T12:39:05.922Z"
   },
   {
    "duration": 32,
    "start_time": "2024-03-29T12:39:05.941Z"
   },
   {
    "duration": 23,
    "start_time": "2024-03-29T12:39:05.974Z"
   },
   {
    "duration": 24,
    "start_time": "2024-03-29T12:39:05.998Z"
   },
   {
    "duration": 3,
    "start_time": "2024-03-29T12:39:06.024Z"
   },
   {
    "duration": 12,
    "start_time": "2024-03-29T12:39:06.028Z"
   },
   {
    "duration": 6,
    "start_time": "2024-03-29T12:39:06.041Z"
   },
   {
    "duration": 23,
    "start_time": "2024-03-29T12:39:06.048Z"
   },
   {
    "duration": 21,
    "start_time": "2024-03-29T12:39:06.072Z"
   },
   {
    "duration": 10,
    "start_time": "2024-03-29T12:39:06.095Z"
   },
   {
    "duration": 9,
    "start_time": "2024-03-29T12:39:06.107Z"
   },
   {
    "duration": 2256,
    "start_time": "2024-03-29T12:39:06.117Z"
   },
   {
    "duration": 2,
    "start_time": "2024-03-29T12:39:08.374Z"
   },
   {
    "duration": 72,
    "start_time": "2024-03-29T12:39:36.695Z"
   },
   {
    "duration": 14,
    "start_time": "2024-03-29T12:39:36.768Z"
   },
   {
    "duration": 17,
    "start_time": "2024-03-29T12:39:36.783Z"
   },
   {
    "duration": 10,
    "start_time": "2024-03-29T12:39:36.802Z"
   },
   {
    "duration": 34,
    "start_time": "2024-03-29T12:39:36.845Z"
   },
   {
    "duration": 3,
    "start_time": "2024-03-29T12:39:36.880Z"
   },
   {
    "duration": 21,
    "start_time": "2024-03-29T12:39:36.885Z"
   },
   {
    "duration": 15,
    "start_time": "2024-03-29T12:39:36.908Z"
   },
   {
    "duration": 6,
    "start_time": "2024-03-29T12:39:36.924Z"
   },
   {
    "duration": 15,
    "start_time": "2024-03-29T12:39:36.932Z"
   },
   {
    "duration": 33,
    "start_time": "2024-03-29T12:39:36.948Z"
   },
   {
    "duration": 9,
    "start_time": "2024-03-29T12:39:36.983Z"
   },
   {
    "duration": 21,
    "start_time": "2024-03-29T12:39:36.993Z"
   },
   {
    "duration": 34,
    "start_time": "2024-03-29T12:39:37.016Z"
   },
   {
    "duration": 24,
    "start_time": "2024-03-29T12:39:37.052Z"
   },
   {
    "duration": 23,
    "start_time": "2024-03-29T12:39:37.078Z"
   },
   {
    "duration": 4,
    "start_time": "2024-03-29T12:39:37.103Z"
   },
   {
    "duration": 16,
    "start_time": "2024-03-29T12:39:37.108Z"
   },
   {
    "duration": 24,
    "start_time": "2024-03-29T12:39:37.125Z"
   },
   {
    "duration": 3,
    "start_time": "2024-03-29T12:39:37.150Z"
   },
   {
    "duration": 21,
    "start_time": "2024-03-29T12:39:37.155Z"
   },
   {
    "duration": 8,
    "start_time": "2024-03-29T12:39:37.177Z"
   },
   {
    "duration": 9,
    "start_time": "2024-03-29T12:39:37.186Z"
   },
   {
    "duration": 2364,
    "start_time": "2024-03-29T12:39:37.197Z"
   },
   {
    "duration": 3,
    "start_time": "2024-03-29T12:39:39.562Z"
   },
   {
    "duration": 70,
    "start_time": "2024-03-29T12:39:56.982Z"
   },
   {
    "duration": 14,
    "start_time": "2024-03-29T12:39:57.054Z"
   },
   {
    "duration": 15,
    "start_time": "2024-03-29T12:39:57.069Z"
   },
   {
    "duration": 9,
    "start_time": "2024-03-29T12:39:57.086Z"
   },
   {
    "duration": 69,
    "start_time": "2024-03-29T12:39:57.096Z"
   },
   {
    "duration": 4,
    "start_time": "2024-03-29T12:39:57.166Z"
   },
   {
    "duration": 16,
    "start_time": "2024-03-29T12:39:57.171Z"
   },
   {
    "duration": 5,
    "start_time": "2024-03-29T12:39:57.188Z"
   },
   {
    "duration": 5,
    "start_time": "2024-03-29T12:39:57.194Z"
   },
   {
    "duration": 5,
    "start_time": "2024-03-29T12:39:57.201Z"
   },
   {
    "duration": 71,
    "start_time": "2024-03-29T12:39:57.208Z"
   },
   {
    "duration": 18,
    "start_time": "2024-03-29T12:39:57.280Z"
   },
   {
    "duration": 3,
    "start_time": "2024-03-29T12:39:57.300Z"
   },
   {
    "duration": 43,
    "start_time": "2024-03-29T12:39:57.305Z"
   },
   {
    "duration": 26,
    "start_time": "2024-03-29T12:39:57.350Z"
   },
   {
    "duration": 25,
    "start_time": "2024-03-29T12:39:57.377Z"
   },
   {
    "duration": 5,
    "start_time": "2024-03-29T12:39:57.404Z"
   },
   {
    "duration": 44,
    "start_time": "2024-03-29T12:39:57.410Z"
   },
   {
    "duration": 10,
    "start_time": "2024-03-29T12:39:57.455Z"
   },
   {
    "duration": 3,
    "start_time": "2024-03-29T12:39:57.466Z"
   },
   {
    "duration": 9,
    "start_time": "2024-03-29T12:39:57.471Z"
   },
   {
    "duration": 9,
    "start_time": "2024-03-29T12:39:57.481Z"
   },
   {
    "duration": 10,
    "start_time": "2024-03-29T12:39:57.492Z"
   },
   {
    "duration": 13,
    "start_time": "2024-03-29T12:39:57.545Z"
   },
   {
    "duration": 0,
    "start_time": "2024-03-29T12:39:57.560Z"
   },
   {
    "duration": 70,
    "start_time": "2024-03-29T12:40:15.722Z"
   },
   {
    "duration": 13,
    "start_time": "2024-03-29T12:40:15.794Z"
   },
   {
    "duration": 19,
    "start_time": "2024-03-29T12:40:15.809Z"
   },
   {
    "duration": 9,
    "start_time": "2024-03-29T12:40:15.845Z"
   },
   {
    "duration": 42,
    "start_time": "2024-03-29T12:40:15.855Z"
   },
   {
    "duration": 2,
    "start_time": "2024-03-29T12:40:15.899Z"
   },
   {
    "duration": 18,
    "start_time": "2024-03-29T12:40:15.903Z"
   },
   {
    "duration": 4,
    "start_time": "2024-03-29T12:40:15.922Z"
   },
   {
    "duration": 17,
    "start_time": "2024-03-29T12:40:15.928Z"
   },
   {
    "duration": 4,
    "start_time": "2024-03-29T12:40:15.947Z"
   },
   {
    "duration": 55,
    "start_time": "2024-03-29T12:40:15.952Z"
   },
   {
    "duration": 9,
    "start_time": "2024-03-29T12:40:16.009Z"
   },
   {
    "duration": 3,
    "start_time": "2024-03-29T12:40:16.020Z"
   },
   {
    "duration": 27,
    "start_time": "2024-03-29T12:40:16.024Z"
   },
   {
    "duration": 19,
    "start_time": "2024-03-29T12:40:16.053Z"
   },
   {
    "duration": 17,
    "start_time": "2024-03-29T12:40:16.074Z"
   },
   {
    "duration": 8,
    "start_time": "2024-03-29T12:40:16.092Z"
   },
   {
    "duration": 13,
    "start_time": "2024-03-29T12:40:16.101Z"
   },
   {
    "duration": 30,
    "start_time": "2024-03-29T12:40:16.115Z"
   },
   {
    "duration": 3,
    "start_time": "2024-03-29T12:40:16.147Z"
   },
   {
    "duration": 13,
    "start_time": "2024-03-29T12:40:16.152Z"
   },
   {
    "duration": 10,
    "start_time": "2024-03-29T12:40:16.166Z"
   },
   {
    "duration": 11,
    "start_time": "2024-03-29T12:40:16.177Z"
   },
   {
    "duration": 53,
    "start_time": "2024-03-29T12:40:16.189Z"
   },
   {
    "duration": 0,
    "start_time": "2024-03-29T12:40:16.244Z"
   },
   {
    "duration": 72,
    "start_time": "2024-03-29T12:40:21.359Z"
   },
   {
    "duration": 14,
    "start_time": "2024-03-29T12:40:21.433Z"
   },
   {
    "duration": 17,
    "start_time": "2024-03-29T12:40:21.449Z"
   },
   {
    "duration": 13,
    "start_time": "2024-03-29T12:40:21.468Z"
   },
   {
    "duration": 67,
    "start_time": "2024-03-29T12:40:21.483Z"
   },
   {
    "duration": 3,
    "start_time": "2024-03-29T12:40:21.552Z"
   },
   {
    "duration": 11,
    "start_time": "2024-03-29T12:40:21.556Z"
   },
   {
    "duration": 6,
    "start_time": "2024-03-29T12:40:21.568Z"
   },
   {
    "duration": 15,
    "start_time": "2024-03-29T12:40:21.576Z"
   },
   {
    "duration": 13,
    "start_time": "2024-03-29T12:40:21.593Z"
   },
   {
    "duration": 49,
    "start_time": "2024-03-29T12:40:21.607Z"
   },
   {
    "duration": 10,
    "start_time": "2024-03-29T12:40:21.658Z"
   },
   {
    "duration": 26,
    "start_time": "2024-03-29T12:40:21.669Z"
   },
   {
    "duration": 21,
    "start_time": "2024-03-29T12:40:21.696Z"
   },
   {
    "duration": 27,
    "start_time": "2024-03-29T12:40:21.719Z"
   },
   {
    "duration": 16,
    "start_time": "2024-03-29T12:40:21.747Z"
   },
   {
    "duration": 3,
    "start_time": "2024-03-29T12:40:21.765Z"
   },
   {
    "duration": 25,
    "start_time": "2024-03-29T12:40:21.769Z"
   },
   {
    "duration": 5,
    "start_time": "2024-03-29T12:40:21.796Z"
   },
   {
    "duration": 13,
    "start_time": "2024-03-29T12:40:21.802Z"
   },
   {
    "duration": 29,
    "start_time": "2024-03-29T12:40:21.816Z"
   },
   {
    "duration": 13,
    "start_time": "2024-03-29T12:40:21.846Z"
   },
   {
    "duration": 35,
    "start_time": "2024-03-29T12:40:21.860Z"
   },
   {
    "duration": 12,
    "start_time": "2024-03-29T12:40:21.897Z"
   },
   {
    "duration": 0,
    "start_time": "2024-03-29T12:40:21.910Z"
   },
   {
    "duration": 75,
    "start_time": "2024-03-29T12:40:39.429Z"
   },
   {
    "duration": 15,
    "start_time": "2024-03-29T12:40:39.506Z"
   },
   {
    "duration": 31,
    "start_time": "2024-03-29T12:40:39.522Z"
   },
   {
    "duration": 9,
    "start_time": "2024-03-29T12:40:39.555Z"
   },
   {
    "duration": 36,
    "start_time": "2024-03-29T12:40:39.566Z"
   },
   {
    "duration": 3,
    "start_time": "2024-03-29T12:40:39.604Z"
   },
   {
    "duration": 42,
    "start_time": "2024-03-29T12:40:39.608Z"
   },
   {
    "duration": 12,
    "start_time": "2024-03-29T12:40:39.652Z"
   },
   {
    "duration": 8,
    "start_time": "2024-03-29T12:40:39.666Z"
   },
   {
    "duration": 5,
    "start_time": "2024-03-29T12:40:39.677Z"
   },
   {
    "duration": 76,
    "start_time": "2024-03-29T12:40:39.683Z"
   },
   {
    "duration": 9,
    "start_time": "2024-03-29T12:40:39.760Z"
   },
   {
    "duration": 7,
    "start_time": "2024-03-29T12:40:39.770Z"
   },
   {
    "duration": 24,
    "start_time": "2024-03-29T12:40:39.779Z"
   },
   {
    "duration": 32,
    "start_time": "2024-03-29T12:40:39.804Z"
   },
   {
    "duration": 17,
    "start_time": "2024-03-29T12:40:39.845Z"
   },
   {
    "duration": 3,
    "start_time": "2024-03-29T12:40:39.863Z"
   },
   {
    "duration": 16,
    "start_time": "2024-03-29T12:40:39.868Z"
   },
   {
    "duration": 21,
    "start_time": "2024-03-29T12:40:39.886Z"
   },
   {
    "duration": 7,
    "start_time": "2024-03-29T12:40:39.909Z"
   },
   {
    "duration": 23,
    "start_time": "2024-03-29T12:40:39.918Z"
   },
   {
    "duration": 19,
    "start_time": "2024-03-29T12:40:39.942Z"
   },
   {
    "duration": 9,
    "start_time": "2024-03-29T12:40:39.962Z"
   },
   {
    "duration": 16,
    "start_time": "2024-03-29T12:40:39.972Z"
   },
   {
    "duration": 13,
    "start_time": "2024-03-29T12:40:39.989Z"
   },
   {
    "duration": 0,
    "start_time": "2024-03-29T12:40:40.003Z"
   },
   {
    "duration": 71,
    "start_time": "2024-03-29T12:45:48.649Z"
   },
   {
    "duration": 13,
    "start_time": "2024-03-29T12:45:48.722Z"
   },
   {
    "duration": 18,
    "start_time": "2024-03-29T12:45:48.736Z"
   },
   {
    "duration": 13,
    "start_time": "2024-03-29T12:45:48.756Z"
   },
   {
    "duration": 50,
    "start_time": "2024-03-29T12:45:48.771Z"
   },
   {
    "duration": 3,
    "start_time": "2024-03-29T12:45:48.822Z"
   },
   {
    "duration": 8,
    "start_time": "2024-03-29T12:45:48.845Z"
   },
   {
    "duration": 18,
    "start_time": "2024-03-29T12:45:48.855Z"
   },
   {
    "duration": 9,
    "start_time": "2024-03-29T12:45:48.874Z"
   },
   {
    "duration": 8,
    "start_time": "2024-03-29T12:45:48.884Z"
   },
   {
    "duration": 64,
    "start_time": "2024-03-29T12:45:48.894Z"
   },
   {
    "duration": 10,
    "start_time": "2024-03-29T12:45:48.960Z"
   },
   {
    "duration": 9,
    "start_time": "2024-03-29T12:45:48.971Z"
   },
   {
    "duration": 29,
    "start_time": "2024-03-29T12:45:48.983Z"
   },
   {
    "duration": 49,
    "start_time": "2024-03-29T12:45:49.013Z"
   },
   {
    "duration": 21,
    "start_time": "2024-03-29T12:45:49.064Z"
   },
   {
    "duration": 12,
    "start_time": "2024-03-29T12:45:49.086Z"
   },
   {
    "duration": 41,
    "start_time": "2024-03-29T12:45:49.099Z"
   },
   {
    "duration": 17,
    "start_time": "2024-03-29T12:45:49.142Z"
   },
   {
    "duration": 18,
    "start_time": "2024-03-29T12:45:49.161Z"
   },
   {
    "duration": 43,
    "start_time": "2024-03-29T12:45:49.181Z"
   },
   {
    "duration": 61,
    "start_time": "2024-03-29T12:45:49.226Z"
   },
   {
    "duration": 93,
    "start_time": "2024-03-29T12:45:49.288Z"
   },
   {
    "duration": 2309,
    "start_time": "2024-03-29T12:45:49.383Z"
   },
   {
    "duration": 3,
    "start_time": "2024-03-29T12:45:51.693Z"
   },
   {
    "duration": 72,
    "start_time": "2024-03-29T12:48:02.038Z"
   },
   {
    "duration": 18,
    "start_time": "2024-03-29T12:48:02.112Z"
   },
   {
    "duration": 53,
    "start_time": "2024-03-29T12:48:02.132Z"
   },
   {
    "duration": 35,
    "start_time": "2024-03-29T12:48:02.187Z"
   },
   {
    "duration": 54,
    "start_time": "2024-03-29T12:48:02.223Z"
   },
   {
    "duration": 56,
    "start_time": "2024-03-29T12:48:02.278Z"
   },
   {
    "duration": 35,
    "start_time": "2024-03-29T12:48:02.336Z"
   },
   {
    "duration": 62,
    "start_time": "2024-03-29T12:48:02.373Z"
   },
   {
    "duration": 55,
    "start_time": "2024-03-29T12:48:02.437Z"
   },
   {
    "duration": 30,
    "start_time": "2024-03-29T12:48:02.495Z"
   },
   {
    "duration": 57,
    "start_time": "2024-03-29T12:48:02.526Z"
   },
   {
    "duration": 22,
    "start_time": "2024-03-29T12:48:02.585Z"
   },
   {
    "duration": 23,
    "start_time": "2024-03-29T12:48:02.609Z"
   },
   {
    "duration": 25,
    "start_time": "2024-03-29T12:48:02.634Z"
   },
   {
    "duration": 29,
    "start_time": "2024-03-29T12:48:02.661Z"
   },
   {
    "duration": 24,
    "start_time": "2024-03-29T12:48:02.691Z"
   },
   {
    "duration": 30,
    "start_time": "2024-03-29T12:48:02.717Z"
   },
   {
    "duration": 42,
    "start_time": "2024-03-29T12:48:02.749Z"
   },
   {
    "duration": 25,
    "start_time": "2024-03-29T12:48:02.792Z"
   },
   {
    "duration": 28,
    "start_time": "2024-03-29T12:48:02.818Z"
   },
   {
    "duration": 17,
    "start_time": "2024-03-29T12:48:02.848Z"
   },
   {
    "duration": 13,
    "start_time": "2024-03-29T12:48:02.866Z"
   },
   {
    "duration": 19,
    "start_time": "2024-03-29T12:48:02.880Z"
   },
   {
    "duration": 2286,
    "start_time": "2024-03-29T12:48:02.900Z"
   },
   {
    "duration": 3,
    "start_time": "2024-03-29T12:48:05.187Z"
   },
   {
    "duration": 73,
    "start_time": "2024-03-29T12:49:43.659Z"
   },
   {
    "duration": 14,
    "start_time": "2024-03-29T12:49:43.734Z"
   },
   {
    "duration": 19,
    "start_time": "2024-03-29T12:49:43.749Z"
   },
   {
    "duration": 10,
    "start_time": "2024-03-29T12:49:43.770Z"
   },
   {
    "duration": 64,
    "start_time": "2024-03-29T12:49:43.781Z"
   },
   {
    "duration": 4,
    "start_time": "2024-03-29T12:49:43.846Z"
   },
   {
    "duration": 7,
    "start_time": "2024-03-29T12:49:43.851Z"
   },
   {
    "duration": 17,
    "start_time": "2024-03-29T12:49:43.860Z"
   },
   {
    "duration": 9,
    "start_time": "2024-03-29T12:49:43.879Z"
   },
   {
    "duration": 5,
    "start_time": "2024-03-29T12:49:43.891Z"
   },
   {
    "duration": 61,
    "start_time": "2024-03-29T12:49:43.898Z"
   },
   {
    "duration": 9,
    "start_time": "2024-03-29T12:49:43.961Z"
   },
   {
    "duration": 4,
    "start_time": "2024-03-29T12:49:43.972Z"
   },
   {
    "duration": 10,
    "start_time": "2024-03-29T12:49:43.977Z"
   },
   {
    "duration": 17,
    "start_time": "2024-03-29T12:49:43.989Z"
   },
   {
    "duration": 49,
    "start_time": "2024-03-29T12:49:44.007Z"
   },
   {
    "duration": 3,
    "start_time": "2024-03-29T12:49:44.058Z"
   },
   {
    "duration": 19,
    "start_time": "2024-03-29T12:49:44.063Z"
   },
   {
    "duration": 7,
    "start_time": "2024-03-29T12:49:44.083Z"
   },
   {
    "duration": 4,
    "start_time": "2024-03-29T12:49:44.092Z"
   },
   {
    "duration": 48,
    "start_time": "2024-03-29T12:49:44.098Z"
   },
   {
    "duration": 19,
    "start_time": "2024-03-29T12:49:44.147Z"
   },
   {
    "duration": 9,
    "start_time": "2024-03-29T12:49:44.168Z"
   },
   {
    "duration": 76,
    "start_time": "2024-03-29T12:49:44.178Z"
   },
   {
    "duration": 0,
    "start_time": "2024-03-29T12:49:44.256Z"
   },
   {
    "duration": 0,
    "start_time": "2024-03-29T12:49:44.258Z"
   },
   {
    "duration": 70,
    "start_time": "2024-03-29T12:50:35.988Z"
   },
   {
    "duration": 13,
    "start_time": "2024-03-29T12:50:36.060Z"
   },
   {
    "duration": 18,
    "start_time": "2024-03-29T12:50:36.074Z"
   },
   {
    "duration": 11,
    "start_time": "2024-03-29T12:50:36.093Z"
   },
   {
    "duration": 58,
    "start_time": "2024-03-29T12:50:36.106Z"
   },
   {
    "duration": 3,
    "start_time": "2024-03-29T12:50:36.165Z"
   },
   {
    "duration": 9,
    "start_time": "2024-03-29T12:50:36.170Z"
   },
   {
    "duration": 6,
    "start_time": "2024-03-29T12:50:36.180Z"
   },
   {
    "duration": 6,
    "start_time": "2024-03-29T12:50:36.187Z"
   },
   {
    "duration": 4,
    "start_time": "2024-03-29T12:50:36.194Z"
   },
   {
    "duration": 59,
    "start_time": "2024-03-29T12:50:36.199Z"
   },
   {
    "duration": 10,
    "start_time": "2024-03-29T12:50:36.260Z"
   },
   {
    "duration": 4,
    "start_time": "2024-03-29T12:50:36.271Z"
   },
   {
    "duration": 10,
    "start_time": "2024-03-29T12:50:36.277Z"
   },
   {
    "duration": 18,
    "start_time": "2024-03-29T12:50:36.288Z"
   },
   {
    "duration": 43,
    "start_time": "2024-03-29T12:50:36.308Z"
   },
   {
    "duration": 3,
    "start_time": "2024-03-29T12:50:36.353Z"
   },
   {
    "duration": 25,
    "start_time": "2024-03-29T12:50:36.357Z"
   },
   {
    "duration": 7,
    "start_time": "2024-03-29T12:50:36.383Z"
   },
   {
    "duration": 3,
    "start_time": "2024-03-29T12:50:36.391Z"
   },
   {
    "duration": 19,
    "start_time": "2024-03-29T12:50:36.395Z"
   },
   {
    "duration": 23,
    "start_time": "2024-03-29T12:50:36.415Z"
   },
   {
    "duration": 16,
    "start_time": "2024-03-29T12:50:36.440Z"
   },
   {
    "duration": 2201,
    "start_time": "2024-03-29T12:50:36.457Z"
   },
   {
    "duration": 3,
    "start_time": "2024-03-29T12:50:38.659Z"
   },
   {
    "duration": 71,
    "start_time": "2024-03-29T12:51:21.475Z"
   },
   {
    "duration": 14,
    "start_time": "2024-03-29T12:51:21.547Z"
   },
   {
    "duration": 14,
    "start_time": "2024-03-29T12:51:21.562Z"
   },
   {
    "duration": 9,
    "start_time": "2024-03-29T12:51:21.578Z"
   },
   {
    "duration": 39,
    "start_time": "2024-03-29T12:51:21.589Z"
   },
   {
    "duration": 3,
    "start_time": "2024-03-29T12:51:21.644Z"
   },
   {
    "duration": 14,
    "start_time": "2024-03-29T12:51:21.649Z"
   },
   {
    "duration": 11,
    "start_time": "2024-03-29T12:51:21.665Z"
   },
   {
    "duration": 11,
    "start_time": "2024-03-29T12:51:21.678Z"
   },
   {
    "duration": 8,
    "start_time": "2024-03-29T12:51:21.690Z"
   },
   {
    "duration": 34,
    "start_time": "2024-03-29T12:51:21.699Z"
   },
   {
    "duration": 17,
    "start_time": "2024-03-29T12:51:21.734Z"
   },
   {
    "duration": 8,
    "start_time": "2024-03-29T12:51:21.752Z"
   },
   {
    "duration": 10,
    "start_time": "2024-03-29T12:51:21.762Z"
   },
   {
    "duration": 36,
    "start_time": "2024-03-29T12:51:21.773Z"
   },
   {
    "duration": 17,
    "start_time": "2024-03-29T12:51:21.810Z"
   },
   {
    "duration": 3,
    "start_time": "2024-03-29T12:51:21.828Z"
   },
   {
    "duration": 19,
    "start_time": "2024-03-29T12:51:21.833Z"
   },
   {
    "duration": 7,
    "start_time": "2024-03-29T12:51:21.854Z"
   },
   {
    "duration": 4,
    "start_time": "2024-03-29T12:51:21.863Z"
   },
   {
    "duration": 10,
    "start_time": "2024-03-29T12:51:21.868Z"
   },
   {
    "duration": 13,
    "start_time": "2024-03-29T12:51:21.879Z"
   },
   {
    "duration": 51,
    "start_time": "2024-03-29T12:51:21.894Z"
   },
   {
    "duration": 831,
    "start_time": "2024-03-29T12:51:21.947Z"
   },
   {
    "duration": 0,
    "start_time": "2024-03-29T12:51:22.779Z"
   },
   {
    "duration": 71,
    "start_time": "2024-03-29T12:51:40.137Z"
   },
   {
    "duration": 14,
    "start_time": "2024-03-29T12:51:40.209Z"
   },
   {
    "duration": 24,
    "start_time": "2024-03-29T12:51:40.224Z"
   },
   {
    "duration": 9,
    "start_time": "2024-03-29T12:51:40.249Z"
   },
   {
    "duration": 32,
    "start_time": "2024-03-29T12:51:40.259Z"
   },
   {
    "duration": 3,
    "start_time": "2024-03-29T12:51:40.293Z"
   },
   {
    "duration": 9,
    "start_time": "2024-03-29T12:51:40.297Z"
   },
   {
    "duration": 6,
    "start_time": "2024-03-29T12:51:40.308Z"
   },
   {
    "duration": 6,
    "start_time": "2024-03-29T12:51:40.346Z"
   },
   {
    "duration": 3,
    "start_time": "2024-03-29T12:51:40.356Z"
   },
   {
    "duration": 42,
    "start_time": "2024-03-29T12:51:40.361Z"
   },
   {
    "duration": 41,
    "start_time": "2024-03-29T12:51:40.404Z"
   },
   {
    "duration": 4,
    "start_time": "2024-03-29T12:51:40.447Z"
   },
   {
    "duration": 11,
    "start_time": "2024-03-29T12:51:40.452Z"
   },
   {
    "duration": 26,
    "start_time": "2024-03-29T12:51:40.465Z"
   },
   {
    "duration": 18,
    "start_time": "2024-03-29T12:51:40.492Z"
   },
   {
    "duration": 33,
    "start_time": "2024-03-29T12:51:40.512Z"
   },
   {
    "duration": 22,
    "start_time": "2024-03-29T12:51:40.546Z"
   },
   {
    "duration": 20,
    "start_time": "2024-03-29T12:51:40.570Z"
   },
   {
    "duration": 22,
    "start_time": "2024-03-29T12:51:40.592Z"
   },
   {
    "duration": 26,
    "start_time": "2024-03-29T12:51:40.616Z"
   },
   {
    "duration": 25,
    "start_time": "2024-03-29T12:51:40.644Z"
   },
   {
    "duration": 18,
    "start_time": "2024-03-29T12:51:40.670Z"
   },
   {
    "duration": 24,
    "start_time": "2024-03-29T12:51:40.689Z"
   },
   {
    "duration": 0,
    "start_time": "2024-03-29T12:51:40.714Z"
   },
   {
    "duration": 69,
    "start_time": "2024-03-29T12:51:48.436Z"
   },
   {
    "duration": 13,
    "start_time": "2024-03-29T12:51:48.507Z"
   },
   {
    "duration": 18,
    "start_time": "2024-03-29T12:51:48.521Z"
   },
   {
    "duration": 9,
    "start_time": "2024-03-29T12:51:48.545Z"
   },
   {
    "duration": 37,
    "start_time": "2024-03-29T12:51:48.556Z"
   },
   {
    "duration": 3,
    "start_time": "2024-03-29T12:51:48.594Z"
   },
   {
    "duration": 7,
    "start_time": "2024-03-29T12:51:48.599Z"
   },
   {
    "duration": 3,
    "start_time": "2024-03-29T12:51:48.608Z"
   },
   {
    "duration": 40,
    "start_time": "2024-03-29T12:51:48.612Z"
   },
   {
    "duration": 6,
    "start_time": "2024-03-29T12:51:48.655Z"
   },
   {
    "duration": 33,
    "start_time": "2024-03-29T12:51:48.662Z"
   },
   {
    "duration": 9,
    "start_time": "2024-03-29T12:51:48.697Z"
   },
   {
    "duration": 3,
    "start_time": "2024-03-29T12:51:48.707Z"
   },
   {
    "duration": 40,
    "start_time": "2024-03-29T12:51:48.711Z"
   },
   {
    "duration": 17,
    "start_time": "2024-03-29T12:51:48.752Z"
   },
   {
    "duration": 19,
    "start_time": "2024-03-29T12:51:48.770Z"
   },
   {
    "duration": 3,
    "start_time": "2024-03-29T12:51:48.790Z"
   },
   {
    "duration": 21,
    "start_time": "2024-03-29T12:51:48.794Z"
   },
   {
    "duration": 8,
    "start_time": "2024-03-29T12:51:48.816Z"
   },
   {
    "duration": 9,
    "start_time": "2024-03-29T12:51:48.825Z"
   },
   {
    "duration": 8,
    "start_time": "2024-03-29T12:51:48.845Z"
   },
   {
    "duration": 15,
    "start_time": "2024-03-29T12:51:48.854Z"
   },
   {
    "duration": 12,
    "start_time": "2024-03-29T12:51:48.870Z"
   },
   {
    "duration": 13,
    "start_time": "2024-03-29T12:51:48.884Z"
   },
   {
    "duration": 0,
    "start_time": "2024-03-29T12:51:48.898Z"
   },
   {
    "duration": 73,
    "start_time": "2024-03-29T15:37:21.702Z"
   },
   {
    "duration": 15,
    "start_time": "2024-03-29T15:37:21.777Z"
   },
   {
    "duration": 38,
    "start_time": "2024-03-29T15:37:21.793Z"
   },
   {
    "duration": 18,
    "start_time": "2024-03-29T15:37:21.832Z"
   },
   {
    "duration": 52,
    "start_time": "2024-03-29T15:37:21.852Z"
   },
   {
    "duration": 2,
    "start_time": "2024-03-29T15:37:21.906Z"
   },
   {
    "duration": 18,
    "start_time": "2024-03-29T15:37:21.910Z"
   },
   {
    "duration": 15,
    "start_time": "2024-03-29T15:37:21.930Z"
   },
   {
    "duration": 34,
    "start_time": "2024-03-29T15:37:21.946Z"
   },
   {
    "duration": 26,
    "start_time": "2024-03-29T15:37:21.982Z"
   },
   {
    "duration": 45,
    "start_time": "2024-03-29T15:37:22.009Z"
   },
   {
    "duration": 9,
    "start_time": "2024-03-29T15:37:22.056Z"
   },
   {
    "duration": 30,
    "start_time": "2024-03-29T15:37:22.066Z"
   },
   {
    "duration": 40,
    "start_time": "2024-03-29T15:37:22.099Z"
   },
   {
    "duration": 29,
    "start_time": "2024-03-29T15:37:22.140Z"
   },
   {
    "duration": 27,
    "start_time": "2024-03-29T15:37:22.170Z"
   },
   {
    "duration": 20,
    "start_time": "2024-03-29T15:37:22.198Z"
   },
   {
    "duration": 28,
    "start_time": "2024-03-29T15:37:22.220Z"
   },
   {
    "duration": 55,
    "start_time": "2024-03-29T15:37:22.249Z"
   },
   {
    "duration": 27,
    "start_time": "2024-03-29T15:37:22.305Z"
   },
   {
    "duration": 30,
    "start_time": "2024-03-29T15:37:22.333Z"
   },
   {
    "duration": 36,
    "start_time": "2024-03-29T15:37:22.364Z"
   },
   {
    "duration": 15,
    "start_time": "2024-03-29T15:37:22.402Z"
   },
   {
    "duration": 26,
    "start_time": "2024-03-29T15:37:22.419Z"
   },
   {
    "duration": 0,
    "start_time": "2024-03-29T15:37:22.447Z"
   },
   {
    "duration": 72,
    "start_time": "2024-03-29T15:40:16.250Z"
   },
   {
    "duration": 14,
    "start_time": "2024-03-29T15:40:16.323Z"
   },
   {
    "duration": 16,
    "start_time": "2024-03-29T15:40:16.338Z"
   },
   {
    "duration": 9,
    "start_time": "2024-03-29T15:40:16.355Z"
   },
   {
    "duration": 32,
    "start_time": "2024-03-29T15:40:16.366Z"
   },
   {
    "duration": 3,
    "start_time": "2024-03-29T15:40:16.399Z"
   },
   {
    "duration": 43,
    "start_time": "2024-03-29T15:40:16.403Z"
   },
   {
    "duration": 4,
    "start_time": "2024-03-29T15:40:16.447Z"
   },
   {
    "duration": 10,
    "start_time": "2024-03-29T15:40:16.452Z"
   },
   {
    "duration": 10,
    "start_time": "2024-03-29T15:40:16.463Z"
   },
   {
    "duration": 40,
    "start_time": "2024-03-29T15:40:16.475Z"
   },
   {
    "duration": 29,
    "start_time": "2024-03-29T15:40:16.517Z"
   },
   {
    "duration": 10,
    "start_time": "2024-03-29T15:40:16.547Z"
   },
   {
    "duration": 19,
    "start_time": "2024-03-29T15:40:16.559Z"
   },
   {
    "duration": 34,
    "start_time": "2024-03-29T15:40:16.579Z"
   },
   {
    "duration": 24,
    "start_time": "2024-03-29T15:40:16.614Z"
   },
   {
    "duration": 6,
    "start_time": "2024-03-29T15:40:16.639Z"
   },
   {
    "duration": 35,
    "start_time": "2024-03-29T15:40:16.647Z"
   },
   {
    "duration": 11,
    "start_time": "2024-03-29T15:40:16.683Z"
   },
   {
    "duration": 30,
    "start_time": "2024-03-29T15:40:16.696Z"
   },
   {
    "duration": 26,
    "start_time": "2024-03-29T15:40:16.727Z"
   },
   {
    "duration": 16,
    "start_time": "2024-03-29T15:40:16.755Z"
   },
   {
    "duration": 11,
    "start_time": "2024-03-29T15:40:16.772Z"
   },
   {
    "duration": 4,
    "start_time": "2024-03-29T15:40:16.784Z"
   },
   {
    "duration": 31,
    "start_time": "2024-03-29T15:40:16.789Z"
   },
   {
    "duration": 0,
    "start_time": "2024-03-29T15:40:16.821Z"
   },
   {
    "duration": 5,
    "start_time": "2024-03-29T15:40:37.547Z"
   },
   {
    "duration": 78,
    "start_time": "2024-03-29T15:40:42.000Z"
   },
   {
    "duration": 14,
    "start_time": "2024-03-29T15:40:42.079Z"
   },
   {
    "duration": 15,
    "start_time": "2024-03-29T15:40:42.094Z"
   },
   {
    "duration": 20,
    "start_time": "2024-03-29T15:40:42.110Z"
   },
   {
    "duration": 60,
    "start_time": "2024-03-29T15:40:42.132Z"
   },
   {
    "duration": 3,
    "start_time": "2024-03-29T15:40:42.194Z"
   },
   {
    "duration": 11,
    "start_time": "2024-03-29T15:40:42.198Z"
   },
   {
    "duration": 4,
    "start_time": "2024-03-29T15:40:42.210Z"
   },
   {
    "duration": 5,
    "start_time": "2024-03-29T15:40:42.245Z"
   },
   {
    "duration": 12,
    "start_time": "2024-03-29T15:40:42.251Z"
   },
   {
    "duration": 36,
    "start_time": "2024-03-29T15:40:42.265Z"
   },
   {
    "duration": 9,
    "start_time": "2024-03-29T15:40:42.303Z"
   },
   {
    "duration": 3,
    "start_time": "2024-03-29T15:40:42.313Z"
   },
   {
    "duration": 11,
    "start_time": "2024-03-29T15:40:42.344Z"
   },
   {
    "duration": 23,
    "start_time": "2024-03-29T15:40:42.356Z"
   },
   {
    "duration": 15,
    "start_time": "2024-03-29T15:40:42.381Z"
   },
   {
    "duration": 3,
    "start_time": "2024-03-29T15:40:42.397Z"
   },
   {
    "duration": 12,
    "start_time": "2024-03-29T15:40:42.401Z"
   },
   {
    "duration": 33,
    "start_time": "2024-03-29T15:40:42.414Z"
   },
   {
    "duration": 3,
    "start_time": "2024-03-29T15:40:42.448Z"
   },
   {
    "duration": 10,
    "start_time": "2024-03-29T15:40:42.452Z"
   },
   {
    "duration": 8,
    "start_time": "2024-03-29T15:40:42.463Z"
   },
   {
    "duration": 8,
    "start_time": "2024-03-29T15:40:42.472Z"
   },
   {
    "duration": 3,
    "start_time": "2024-03-29T15:40:42.482Z"
   },
   {
    "duration": 61,
    "start_time": "2024-03-29T15:40:42.486Z"
   },
   {
    "duration": 0,
    "start_time": "2024-03-29T15:40:42.549Z"
   },
   {
    "duration": 4,
    "start_time": "2024-03-29T15:40:48.026Z"
   },
   {
    "duration": 5,
    "start_time": "2024-03-29T15:40:51.671Z"
   },
   {
    "duration": 74,
    "start_time": "2024-03-29T15:41:25.872Z"
   },
   {
    "duration": 14,
    "start_time": "2024-03-29T15:41:25.947Z"
   },
   {
    "duration": 35,
    "start_time": "2024-03-29T15:41:25.962Z"
   },
   {
    "duration": 14,
    "start_time": "2024-03-29T15:41:26.000Z"
   },
   {
    "duration": 43,
    "start_time": "2024-03-29T15:41:26.015Z"
   },
   {
    "duration": 3,
    "start_time": "2024-03-29T15:41:26.060Z"
   },
   {
    "duration": 20,
    "start_time": "2024-03-29T15:41:26.064Z"
   },
   {
    "duration": 11,
    "start_time": "2024-03-29T15:41:26.085Z"
   },
   {
    "duration": 32,
    "start_time": "2024-03-29T15:41:26.097Z"
   },
   {
    "duration": 16,
    "start_time": "2024-03-29T15:41:26.131Z"
   },
   {
    "duration": 37,
    "start_time": "2024-03-29T15:41:26.148Z"
   },
   {
    "duration": 9,
    "start_time": "2024-03-29T15:41:26.187Z"
   },
   {
    "duration": 3,
    "start_time": "2024-03-29T15:41:26.198Z"
   },
   {
    "duration": 19,
    "start_time": "2024-03-29T15:41:26.203Z"
   },
   {
    "duration": 38,
    "start_time": "2024-03-29T15:41:26.223Z"
   },
   {
    "duration": 16,
    "start_time": "2024-03-29T15:41:26.262Z"
   },
   {
    "duration": 4,
    "start_time": "2024-03-29T15:41:26.279Z"
   },
   {
    "duration": 12,
    "start_time": "2024-03-29T15:41:26.284Z"
   },
   {
    "duration": 6,
    "start_time": "2024-03-29T15:41:26.297Z"
   },
   {
    "duration": 42,
    "start_time": "2024-03-29T15:41:26.304Z"
   },
   {
    "duration": 8,
    "start_time": "2024-03-29T15:41:26.348Z"
   },
   {
    "duration": 10,
    "start_time": "2024-03-29T15:41:26.357Z"
   },
   {
    "duration": 13,
    "start_time": "2024-03-29T15:41:26.368Z"
   },
   {
    "duration": 9,
    "start_time": "2024-03-29T15:41:26.382Z"
   },
   {
    "duration": 59,
    "start_time": "2024-03-29T15:41:26.393Z"
   },
   {
    "duration": 0,
    "start_time": "2024-03-29T15:41:26.454Z"
   },
   {
    "duration": 75,
    "start_time": "2024-03-29T15:42:39.080Z"
   },
   {
    "duration": 14,
    "start_time": "2024-03-29T15:42:39.156Z"
   },
   {
    "duration": 26,
    "start_time": "2024-03-29T15:42:39.171Z"
   },
   {
    "duration": 16,
    "start_time": "2024-03-29T15:42:39.198Z"
   },
   {
    "duration": 59,
    "start_time": "2024-03-29T15:42:39.215Z"
   },
   {
    "duration": 2,
    "start_time": "2024-03-29T15:42:39.276Z"
   },
   {
    "duration": 45,
    "start_time": "2024-03-29T15:42:39.280Z"
   },
   {
    "duration": 17,
    "start_time": "2024-03-29T15:42:39.327Z"
   },
   {
    "duration": 24,
    "start_time": "2024-03-29T15:42:39.346Z"
   },
   {
    "duration": 43,
    "start_time": "2024-03-29T15:42:39.372Z"
   },
   {
    "duration": 36,
    "start_time": "2024-03-29T15:42:39.416Z"
   },
   {
    "duration": 11,
    "start_time": "2024-03-29T15:42:39.453Z"
   },
   {
    "duration": 21,
    "start_time": "2024-03-29T15:42:39.466Z"
   },
   {
    "duration": 34,
    "start_time": "2024-03-29T15:42:39.488Z"
   },
   {
    "duration": 43,
    "start_time": "2024-03-29T15:42:39.523Z"
   },
   {
    "duration": 15,
    "start_time": "2024-03-29T15:42:39.567Z"
   },
   {
    "duration": 4,
    "start_time": "2024-03-29T15:42:39.584Z"
   },
   {
    "duration": 38,
    "start_time": "2024-03-29T15:42:39.589Z"
   },
   {
    "duration": 23,
    "start_time": "2024-03-29T15:42:39.628Z"
   },
   {
    "duration": 3,
    "start_time": "2024-03-29T15:42:39.652Z"
   },
   {
    "duration": 21,
    "start_time": "2024-03-29T15:42:39.657Z"
   },
   {
    "duration": 25,
    "start_time": "2024-03-29T15:42:39.679Z"
   },
   {
    "duration": 19,
    "start_time": "2024-03-29T15:42:39.705Z"
   },
   {
    "duration": 33,
    "start_time": "2024-03-29T15:42:39.725Z"
   },
   {
    "duration": 19,
    "start_time": "2024-03-29T15:42:39.759Z"
   },
   {
    "duration": 0,
    "start_time": "2024-03-29T15:42:39.779Z"
   },
   {
    "duration": 72,
    "start_time": "2024-03-29T15:44:40.628Z"
   },
   {
    "duration": 13,
    "start_time": "2024-03-29T15:44:40.702Z"
   },
   {
    "duration": 13,
    "start_time": "2024-03-29T15:44:40.717Z"
   },
   {
    "duration": 9,
    "start_time": "2024-03-29T15:44:40.745Z"
   },
   {
    "duration": 34,
    "start_time": "2024-03-29T15:44:40.756Z"
   },
   {
    "duration": 3,
    "start_time": "2024-03-29T15:44:40.791Z"
   },
   {
    "duration": 22,
    "start_time": "2024-03-29T15:44:40.795Z"
   },
   {
    "duration": 4,
    "start_time": "2024-03-29T15:44:40.818Z"
   },
   {
    "duration": 6,
    "start_time": "2024-03-29T15:44:40.845Z"
   },
   {
    "duration": 9,
    "start_time": "2024-03-29T15:44:40.852Z"
   },
   {
    "duration": 39,
    "start_time": "2024-03-29T15:44:40.863Z"
   },
   {
    "duration": 10,
    "start_time": "2024-03-29T15:44:40.903Z"
   },
   {
    "duration": 32,
    "start_time": "2024-03-29T15:44:40.914Z"
   },
   {
    "duration": 25,
    "start_time": "2024-03-29T15:44:40.949Z"
   },
   {
    "duration": 39,
    "start_time": "2024-03-29T15:44:40.975Z"
   },
   {
    "duration": 16,
    "start_time": "2024-03-29T15:44:41.015Z"
   },
   {
    "duration": 3,
    "start_time": "2024-03-29T15:44:41.033Z"
   },
   {
    "duration": 14,
    "start_time": "2024-03-29T15:44:41.037Z"
   },
   {
    "duration": 18,
    "start_time": "2024-03-29T15:44:41.052Z"
   },
   {
    "duration": 8,
    "start_time": "2024-03-29T15:44:41.071Z"
   },
   {
    "duration": 16,
    "start_time": "2024-03-29T15:44:41.080Z"
   },
   {
    "duration": 8,
    "start_time": "2024-03-29T15:44:41.097Z"
   },
   {
    "duration": 9,
    "start_time": "2024-03-29T15:44:41.106Z"
   },
   {
    "duration": 5,
    "start_time": "2024-03-29T15:44:41.116Z"
   },
   {
    "duration": 35,
    "start_time": "2024-03-29T15:44:41.122Z"
   },
   {
    "duration": 0,
    "start_time": "2024-03-29T15:44:41.159Z"
   },
   {
    "duration": 71,
    "start_time": "2024-03-29T15:48:07.301Z"
   },
   {
    "duration": 13,
    "start_time": "2024-03-29T15:48:07.374Z"
   },
   {
    "duration": 18,
    "start_time": "2024-03-29T15:48:07.389Z"
   },
   {
    "duration": 43,
    "start_time": "2024-03-29T15:48:07.410Z"
   },
   {
    "duration": 50,
    "start_time": "2024-03-29T15:48:07.455Z"
   },
   {
    "duration": 4,
    "start_time": "2024-03-29T15:48:07.506Z"
   },
   {
    "duration": 7,
    "start_time": "2024-03-29T15:48:07.511Z"
   },
   {
    "duration": 4,
    "start_time": "2024-03-29T15:48:07.520Z"
   },
   {
    "duration": 22,
    "start_time": "2024-03-29T15:48:07.525Z"
   },
   {
    "duration": 4,
    "start_time": "2024-03-29T15:48:07.550Z"
   },
   {
    "duration": 34,
    "start_time": "2024-03-29T15:48:07.555Z"
   },
   {
    "duration": 10,
    "start_time": "2024-03-29T15:48:07.590Z"
   },
   {
    "duration": 46,
    "start_time": "2024-03-29T15:48:07.601Z"
   },
   {
    "duration": 32,
    "start_time": "2024-03-29T15:48:07.648Z"
   },
   {
    "duration": 21,
    "start_time": "2024-03-29T15:48:07.682Z"
   },
   {
    "duration": 22,
    "start_time": "2024-03-29T15:48:07.705Z"
   },
   {
    "duration": 16,
    "start_time": "2024-03-29T15:48:07.729Z"
   },
   {
    "duration": 26,
    "start_time": "2024-03-29T15:48:07.747Z"
   },
   {
    "duration": 8,
    "start_time": "2024-03-29T15:48:07.774Z"
   },
   {
    "duration": 16,
    "start_time": "2024-03-29T15:48:07.783Z"
   },
   {
    "duration": 40,
    "start_time": "2024-03-29T15:48:07.800Z"
   },
   {
    "duration": 10,
    "start_time": "2024-03-29T15:48:07.841Z"
   },
   {
    "duration": 8,
    "start_time": "2024-03-29T15:48:07.853Z"
   },
   {
    "duration": 16,
    "start_time": "2024-03-29T15:48:07.862Z"
   },
   {
    "duration": 49,
    "start_time": "2024-03-29T15:48:07.879Z"
   },
   {
    "duration": 0,
    "start_time": "2024-03-29T15:48:07.930Z"
   },
   {
    "duration": 71,
    "start_time": "2024-03-29T15:48:23.297Z"
   },
   {
    "duration": 13,
    "start_time": "2024-03-29T15:48:23.370Z"
   },
   {
    "duration": 15,
    "start_time": "2024-03-29T15:48:23.385Z"
   },
   {
    "duration": 10,
    "start_time": "2024-03-29T15:48:23.402Z"
   },
   {
    "duration": 64,
    "start_time": "2024-03-29T15:48:23.413Z"
   },
   {
    "duration": 3,
    "start_time": "2024-03-29T15:48:23.479Z"
   },
   {
    "duration": 13,
    "start_time": "2024-03-29T15:48:23.484Z"
   },
   {
    "duration": 4,
    "start_time": "2024-03-29T15:48:23.498Z"
   },
   {
    "duration": 41,
    "start_time": "2024-03-29T15:48:23.504Z"
   },
   {
    "duration": 5,
    "start_time": "2024-03-29T15:48:23.547Z"
   },
   {
    "duration": 35,
    "start_time": "2024-03-29T15:48:23.554Z"
   },
   {
    "duration": 12,
    "start_time": "2024-03-29T15:48:23.590Z"
   },
   {
    "duration": 4,
    "start_time": "2024-03-29T15:48:23.604Z"
   },
   {
    "duration": 19,
    "start_time": "2024-03-29T15:48:23.645Z"
   },
   {
    "duration": 20,
    "start_time": "2024-03-29T15:48:23.666Z"
   },
   {
    "duration": 16,
    "start_time": "2024-03-29T15:48:23.688Z"
   },
   {
    "duration": 4,
    "start_time": "2024-03-29T15:48:23.705Z"
   },
   {
    "duration": 16,
    "start_time": "2024-03-29T15:48:23.745Z"
   },
   {
    "duration": 6,
    "start_time": "2024-03-29T15:48:23.762Z"
   },
   {
    "duration": 3,
    "start_time": "2024-03-29T15:48:23.769Z"
   },
   {
    "duration": 10,
    "start_time": "2024-03-29T15:48:23.773Z"
   },
   {
    "duration": 9,
    "start_time": "2024-03-29T15:48:23.784Z"
   },
   {
    "duration": 52,
    "start_time": "2024-03-29T15:48:23.795Z"
   },
   {
    "duration": 7,
    "start_time": "2024-03-29T15:48:23.849Z"
   },
   {
    "duration": 60,
    "start_time": "2024-03-29T15:48:23.858Z"
   },
   {
    "duration": 0,
    "start_time": "2024-03-29T15:48:23.920Z"
   },
   {
    "duration": 71,
    "start_time": "2024-03-29T15:48:49.390Z"
   },
   {
    "duration": 15,
    "start_time": "2024-03-29T15:48:49.462Z"
   },
   {
    "duration": 18,
    "start_time": "2024-03-29T15:48:49.478Z"
   },
   {
    "duration": 10,
    "start_time": "2024-03-29T15:48:49.498Z"
   },
   {
    "duration": 58,
    "start_time": "2024-03-29T15:48:49.509Z"
   },
   {
    "duration": 3,
    "start_time": "2024-03-29T15:48:49.569Z"
   },
   {
    "duration": 7,
    "start_time": "2024-03-29T15:48:49.573Z"
   },
   {
    "duration": 14,
    "start_time": "2024-03-29T15:48:49.582Z"
   },
   {
    "duration": 32,
    "start_time": "2024-03-29T15:48:49.597Z"
   },
   {
    "duration": 8,
    "start_time": "2024-03-29T15:48:49.631Z"
   },
   {
    "duration": 33,
    "start_time": "2024-03-29T15:48:49.644Z"
   },
   {
    "duration": 9,
    "start_time": "2024-03-29T15:48:49.679Z"
   },
   {
    "duration": 4,
    "start_time": "2024-03-29T15:48:49.690Z"
   },
   {
    "duration": 11,
    "start_time": "2024-03-29T15:48:49.696Z"
   },
   {
    "duration": 51,
    "start_time": "2024-03-29T15:48:49.708Z"
   },
   {
    "duration": 16,
    "start_time": "2024-03-29T15:48:49.761Z"
   },
   {
    "duration": 3,
    "start_time": "2024-03-29T15:48:49.778Z"
   },
   {
    "duration": 19,
    "start_time": "2024-03-29T15:48:49.782Z"
   },
   {
    "duration": 5,
    "start_time": "2024-03-29T15:48:49.802Z"
   },
   {
    "duration": 36,
    "start_time": "2024-03-29T15:48:49.809Z"
   },
   {
    "duration": 13,
    "start_time": "2024-03-29T15:48:49.847Z"
   },
   {
    "duration": 8,
    "start_time": "2024-03-29T15:48:49.861Z"
   },
   {
    "duration": 35,
    "start_time": "2024-03-29T15:48:49.870Z"
   },
   {
    "duration": 7,
    "start_time": "2024-03-29T15:48:49.906Z"
   },
   {
    "duration": 45,
    "start_time": "2024-03-29T15:48:49.914Z"
   },
   {
    "duration": 0,
    "start_time": "2024-03-29T15:48:49.960Z"
   },
   {
    "duration": 75,
    "start_time": "2024-03-29T15:49:11.659Z"
   },
   {
    "duration": 14,
    "start_time": "2024-03-29T15:49:11.736Z"
   },
   {
    "duration": 17,
    "start_time": "2024-03-29T15:49:11.751Z"
   },
   {
    "duration": 11,
    "start_time": "2024-03-29T15:49:11.769Z"
   },
   {
    "duration": 63,
    "start_time": "2024-03-29T15:49:11.783Z"
   },
   {
    "duration": 4,
    "start_time": "2024-03-29T15:49:11.847Z"
   },
   {
    "duration": 11,
    "start_time": "2024-03-29T15:49:11.853Z"
   },
   {
    "duration": 5,
    "start_time": "2024-03-29T15:49:11.866Z"
   },
   {
    "duration": 6,
    "start_time": "2024-03-29T15:49:11.873Z"
   },
   {
    "duration": 4,
    "start_time": "2024-03-29T15:49:11.881Z"
   },
   {
    "duration": 96,
    "start_time": "2024-03-29T15:49:11.887Z"
   },
   {
    "duration": 13,
    "start_time": "2024-03-29T15:49:11.985Z"
   },
   {
    "duration": 4,
    "start_time": "2024-03-29T15:49:11.999Z"
   },
   {
    "duration": 41,
    "start_time": "2024-03-29T15:49:12.006Z"
   },
   {
    "duration": 17,
    "start_time": "2024-03-29T15:49:12.048Z"
   },
   {
    "duration": 17,
    "start_time": "2024-03-29T15:49:12.066Z"
   },
   {
    "duration": 4,
    "start_time": "2024-03-29T15:49:12.084Z"
   },
   {
    "duration": 12,
    "start_time": "2024-03-29T15:49:12.089Z"
   },
   {
    "duration": 5,
    "start_time": "2024-03-29T15:49:12.102Z"
   },
   {
    "duration": 38,
    "start_time": "2024-03-29T15:49:12.108Z"
   },
   {
    "duration": 15,
    "start_time": "2024-03-29T15:49:12.147Z"
   },
   {
    "duration": 24,
    "start_time": "2024-03-29T15:49:12.163Z"
   },
   {
    "duration": 9,
    "start_time": "2024-03-29T15:49:12.188Z"
   },
   {
    "duration": 8,
    "start_time": "2024-03-29T15:49:12.198Z"
   },
   {
    "duration": 13,
    "start_time": "2024-03-29T15:49:12.207Z"
   },
   {
    "duration": 0,
    "start_time": "2024-03-29T15:49:12.221Z"
   },
   {
    "duration": 71,
    "start_time": "2024-03-29T15:50:25.353Z"
   },
   {
    "duration": 20,
    "start_time": "2024-03-29T15:50:25.426Z"
   },
   {
    "duration": 29,
    "start_time": "2024-03-29T15:50:25.448Z"
   },
   {
    "duration": 30,
    "start_time": "2024-03-29T15:50:25.479Z"
   },
   {
    "duration": 41,
    "start_time": "2024-03-29T15:50:25.511Z"
   },
   {
    "duration": 4,
    "start_time": "2024-03-29T15:50:25.553Z"
   },
   {
    "duration": 21,
    "start_time": "2024-03-29T15:50:25.558Z"
   },
   {
    "duration": 22,
    "start_time": "2024-03-29T15:50:25.580Z"
   },
   {
    "duration": 22,
    "start_time": "2024-03-29T15:50:25.603Z"
   },
   {
    "duration": 5,
    "start_time": "2024-03-29T15:50:25.626Z"
   },
   {
    "duration": 34,
    "start_time": "2024-03-29T15:50:25.632Z"
   },
   {
    "duration": 10,
    "start_time": "2024-03-29T15:50:25.668Z"
   },
   {
    "duration": 25,
    "start_time": "2024-03-29T15:50:25.679Z"
   },
   {
    "duration": 27,
    "start_time": "2024-03-29T15:50:25.706Z"
   },
   {
    "duration": 39,
    "start_time": "2024-03-29T15:50:25.734Z"
   },
   {
    "duration": 17,
    "start_time": "2024-03-29T15:50:25.775Z"
   },
   {
    "duration": 8,
    "start_time": "2024-03-29T15:50:25.794Z"
   },
   {
    "duration": 56,
    "start_time": "2024-03-29T15:50:25.803Z"
   },
   {
    "duration": 34,
    "start_time": "2024-03-29T15:50:25.860Z"
   },
   {
    "duration": 46,
    "start_time": "2024-03-29T15:50:25.896Z"
   },
   {
    "duration": 17,
    "start_time": "2024-03-29T15:50:25.943Z"
   },
   {
    "duration": 43,
    "start_time": "2024-03-29T15:50:25.961Z"
   },
   {
    "duration": 20,
    "start_time": "2024-03-29T15:50:26.005Z"
   },
   {
    "duration": 36,
    "start_time": "2024-03-29T15:50:26.027Z"
   },
   {
    "duration": 68,
    "start_time": "2024-03-29T15:50:26.064Z"
   },
   {
    "duration": 0,
    "start_time": "2024-03-29T15:50:26.133Z"
   },
   {
    "duration": 73,
    "start_time": "2024-03-29T15:51:03.805Z"
   },
   {
    "duration": 14,
    "start_time": "2024-03-29T15:51:03.880Z"
   },
   {
    "duration": 15,
    "start_time": "2024-03-29T15:51:03.895Z"
   },
   {
    "duration": 34,
    "start_time": "2024-03-29T15:51:03.912Z"
   },
   {
    "duration": 33,
    "start_time": "2024-03-29T15:51:03.947Z"
   },
   {
    "duration": 3,
    "start_time": "2024-03-29T15:51:03.982Z"
   },
   {
    "duration": 12,
    "start_time": "2024-03-29T15:51:03.987Z"
   },
   {
    "duration": 5,
    "start_time": "2024-03-29T15:51:04.001Z"
   },
   {
    "duration": 39,
    "start_time": "2024-03-29T15:51:04.008Z"
   },
   {
    "duration": 4,
    "start_time": "2024-03-29T15:51:04.050Z"
   },
   {
    "duration": 35,
    "start_time": "2024-03-29T15:51:04.055Z"
   },
   {
    "duration": 53,
    "start_time": "2024-03-29T15:51:04.092Z"
   },
   {
    "duration": 5,
    "start_time": "2024-03-29T15:51:04.146Z"
   },
   {
    "duration": 44,
    "start_time": "2024-03-29T15:51:04.152Z"
   },
   {
    "duration": 25,
    "start_time": "2024-03-29T15:51:04.198Z"
   },
   {
    "duration": 17,
    "start_time": "2024-03-29T15:51:04.225Z"
   },
   {
    "duration": 4,
    "start_time": "2024-03-29T15:51:04.244Z"
   },
   {
    "duration": 19,
    "start_time": "2024-03-29T15:51:04.249Z"
   },
   {
    "duration": 8,
    "start_time": "2024-03-29T15:51:04.270Z"
   },
   {
    "duration": 9,
    "start_time": "2024-03-29T15:51:04.279Z"
   },
   {
    "duration": 11,
    "start_time": "2024-03-29T15:51:04.290Z"
   },
   {
    "duration": 9,
    "start_time": "2024-03-29T15:51:04.303Z"
   },
   {
    "duration": 39,
    "start_time": "2024-03-29T15:51:04.313Z"
   },
   {
    "duration": 9,
    "start_time": "2024-03-29T15:51:04.353Z"
   },
   {
    "duration": 42,
    "start_time": "2024-03-29T15:51:04.363Z"
   },
   {
    "duration": 0,
    "start_time": "2024-03-29T15:51:04.406Z"
   },
   {
    "duration": 72,
    "start_time": "2024-03-29T15:51:46.308Z"
   },
   {
    "duration": 14,
    "start_time": "2024-03-29T15:51:46.381Z"
   },
   {
    "duration": 18,
    "start_time": "2024-03-29T15:51:46.396Z"
   },
   {
    "duration": 30,
    "start_time": "2024-03-29T15:51:46.415Z"
   },
   {
    "duration": 36,
    "start_time": "2024-03-29T15:51:46.447Z"
   },
   {
    "duration": 3,
    "start_time": "2024-03-29T15:51:46.484Z"
   },
   {
    "duration": 53,
    "start_time": "2024-03-29T15:51:46.488Z"
   },
   {
    "duration": 43,
    "start_time": "2024-03-29T15:51:46.543Z"
   },
   {
    "duration": 20,
    "start_time": "2024-03-29T15:51:46.587Z"
   },
   {
    "duration": 7,
    "start_time": "2024-03-29T15:51:46.608Z"
   },
   {
    "duration": 79,
    "start_time": "2024-03-29T15:51:46.616Z"
   },
   {
    "duration": 9,
    "start_time": "2024-03-29T15:51:46.697Z"
   },
   {
    "duration": 12,
    "start_time": "2024-03-29T15:51:46.708Z"
   },
   {
    "duration": 34,
    "start_time": "2024-03-29T15:51:46.722Z"
   },
   {
    "duration": 32,
    "start_time": "2024-03-29T15:51:46.757Z"
   },
   {
    "duration": 33,
    "start_time": "2024-03-29T15:51:46.791Z"
   },
   {
    "duration": 3,
    "start_time": "2024-03-29T15:51:46.826Z"
   },
   {
    "duration": 26,
    "start_time": "2024-03-29T15:51:46.830Z"
   },
   {
    "duration": 31,
    "start_time": "2024-03-29T15:51:46.858Z"
   },
   {
    "duration": 9,
    "start_time": "2024-03-29T15:51:46.890Z"
   },
   {
    "duration": 33,
    "start_time": "2024-03-29T15:51:46.900Z"
   },
   {
    "duration": 8,
    "start_time": "2024-03-29T15:51:46.934Z"
   },
   {
    "duration": 20,
    "start_time": "2024-03-29T15:51:46.944Z"
   },
   {
    "duration": 5,
    "start_time": "2024-03-29T15:51:46.965Z"
   },
   {
    "duration": 40,
    "start_time": "2024-03-29T15:51:46.971Z"
   },
   {
    "duration": 0,
    "start_time": "2024-03-29T15:51:47.012Z"
   },
   {
    "duration": 74,
    "start_time": "2024-03-29T15:59:55.755Z"
   },
   {
    "duration": 15,
    "start_time": "2024-03-29T15:59:55.831Z"
   },
   {
    "duration": 16,
    "start_time": "2024-03-29T15:59:55.847Z"
   },
   {
    "duration": 9,
    "start_time": "2024-03-29T15:59:55.865Z"
   },
   {
    "duration": 31,
    "start_time": "2024-03-29T15:59:55.876Z"
   },
   {
    "duration": 3,
    "start_time": "2024-03-29T15:59:55.909Z"
   },
   {
    "duration": 38,
    "start_time": "2024-03-29T15:59:55.913Z"
   },
   {
    "duration": 4,
    "start_time": "2024-03-29T15:59:55.953Z"
   },
   {
    "duration": 11,
    "start_time": "2024-03-29T15:59:55.958Z"
   },
   {
    "duration": 11,
    "start_time": "2024-03-29T15:59:55.971Z"
   },
   {
    "duration": 65,
    "start_time": "2024-03-29T15:59:55.984Z"
   },
   {
    "duration": 9,
    "start_time": "2024-03-29T15:59:56.051Z"
   },
   {
    "duration": 8,
    "start_time": "2024-03-29T15:59:56.062Z"
   },
   {
    "duration": 12,
    "start_time": "2024-03-29T15:59:56.071Z"
   },
   {
    "duration": 19,
    "start_time": "2024-03-29T15:59:56.084Z"
   },
   {
    "duration": 44,
    "start_time": "2024-03-29T15:59:56.105Z"
   },
   {
    "duration": 3,
    "start_time": "2024-03-29T15:59:56.150Z"
   },
   {
    "duration": 23,
    "start_time": "2024-03-29T15:59:56.155Z"
   },
   {
    "duration": 5,
    "start_time": "2024-03-29T15:59:56.179Z"
   },
   {
    "duration": 4,
    "start_time": "2024-03-29T15:59:56.185Z"
   },
   {
    "duration": 39,
    "start_time": "2024-03-29T15:59:56.190Z"
   },
   {
    "duration": 24,
    "start_time": "2024-03-29T15:59:56.231Z"
   },
   {
    "duration": 9,
    "start_time": "2024-03-29T15:59:56.256Z"
   },
   {
    "duration": 7,
    "start_time": "2024-03-29T15:59:56.266Z"
   },
   {
    "duration": 10,
    "start_time": "2024-03-29T15:59:56.274Z"
   },
   {
    "duration": 0,
    "start_time": "2024-03-29T15:59:56.285Z"
   },
   {
    "duration": 76,
    "start_time": "2024-03-29T16:00:04.560Z"
   },
   {
    "duration": 14,
    "start_time": "2024-03-29T16:00:04.638Z"
   },
   {
    "duration": 21,
    "start_time": "2024-03-29T16:00:04.653Z"
   },
   {
    "duration": 15,
    "start_time": "2024-03-29T16:00:04.676Z"
   },
   {
    "duration": 68,
    "start_time": "2024-03-29T16:00:04.693Z"
   },
   {
    "duration": 3,
    "start_time": "2024-03-29T16:00:04.763Z"
   },
   {
    "duration": 8,
    "start_time": "2024-03-29T16:00:04.767Z"
   },
   {
    "duration": 13,
    "start_time": "2024-03-29T16:00:04.777Z"
   },
   {
    "duration": 9,
    "start_time": "2024-03-29T16:00:04.791Z"
   },
   {
    "duration": 5,
    "start_time": "2024-03-29T16:00:04.802Z"
   },
   {
    "duration": 64,
    "start_time": "2024-03-29T16:00:04.808Z"
   },
   {
    "duration": 10,
    "start_time": "2024-03-29T16:00:04.873Z"
   },
   {
    "duration": 5,
    "start_time": "2024-03-29T16:00:04.884Z"
   },
   {
    "duration": 11,
    "start_time": "2024-03-29T16:00:04.890Z"
   },
   {
    "duration": 16,
    "start_time": "2024-03-29T16:00:04.902Z"
   },
   {
    "duration": 17,
    "start_time": "2024-03-29T16:00:04.946Z"
   },
   {
    "duration": 3,
    "start_time": "2024-03-29T16:00:04.964Z"
   },
   {
    "duration": 11,
    "start_time": "2024-03-29T16:00:04.969Z"
   },
   {
    "duration": 5,
    "start_time": "2024-03-29T16:00:04.982Z"
   },
   {
    "duration": 5,
    "start_time": "2024-03-29T16:00:04.988Z"
   },
   {
    "duration": 19,
    "start_time": "2024-03-29T16:00:04.995Z"
   },
   {
    "duration": 9,
    "start_time": "2024-03-29T16:00:05.044Z"
   },
   {
    "duration": 8,
    "start_time": "2024-03-29T16:00:05.055Z"
   },
   {
    "duration": 7,
    "start_time": "2024-03-29T16:00:05.065Z"
   },
   {
    "duration": 8,
    "start_time": "2024-03-29T16:00:05.073Z"
   },
   {
    "duration": 5,
    "start_time": "2024-03-29T16:00:05.082Z"
   },
   {
    "duration": 9,
    "start_time": "2024-03-29T16:00:22.033Z"
   },
   {
    "duration": 3245,
    "start_time": "2024-03-29T16:02:05.033Z"
   },
   {
    "duration": 72,
    "start_time": "2024-03-29T16:03:24.409Z"
   },
   {
    "duration": 14,
    "start_time": "2024-03-29T16:03:24.483Z"
   },
   {
    "duration": 15,
    "start_time": "2024-03-29T16:03:24.499Z"
   },
   {
    "duration": 33,
    "start_time": "2024-03-29T16:03:24.516Z"
   },
   {
    "duration": 33,
    "start_time": "2024-03-29T16:03:24.550Z"
   },
   {
    "duration": 4,
    "start_time": "2024-03-29T16:03:24.584Z"
   },
   {
    "duration": 11,
    "start_time": "2024-03-29T16:03:24.589Z"
   },
   {
    "duration": 3,
    "start_time": "2024-03-29T16:03:24.602Z"
   },
   {
    "duration": 41,
    "start_time": "2024-03-29T16:03:24.606Z"
   },
   {
    "duration": 4,
    "start_time": "2024-03-29T16:03:24.650Z"
   },
   {
    "duration": 36,
    "start_time": "2024-03-29T16:03:24.655Z"
   },
   {
    "duration": 10,
    "start_time": "2024-03-29T16:03:24.692Z"
   },
   {
    "duration": 3,
    "start_time": "2024-03-29T16:03:24.703Z"
   },
   {
    "duration": 44,
    "start_time": "2024-03-29T16:03:24.708Z"
   },
   {
    "duration": 16,
    "start_time": "2024-03-29T16:03:24.753Z"
   },
   {
    "duration": 16,
    "start_time": "2024-03-29T16:03:24.771Z"
   },
   {
    "duration": 3,
    "start_time": "2024-03-29T16:03:24.789Z"
   },
   {
    "duration": 10,
    "start_time": "2024-03-29T16:03:24.793Z"
   },
   {
    "duration": 42,
    "start_time": "2024-03-29T16:03:24.804Z"
   },
   {
    "duration": 3,
    "start_time": "2024-03-29T16:03:24.848Z"
   },
   {
    "duration": 10,
    "start_time": "2024-03-29T16:03:24.853Z"
   },
   {
    "duration": 8,
    "start_time": "2024-03-29T16:03:24.864Z"
   },
   {
    "duration": 9,
    "start_time": "2024-03-29T16:03:24.873Z"
   },
   {
    "duration": 7,
    "start_time": "2024-03-29T16:03:24.883Z"
   },
   {
    "duration": 1157,
    "start_time": "2024-03-29T16:03:24.891Z"
   },
   {
    "duration": 0,
    "start_time": "2024-03-29T16:03:26.049Z"
   },
   {
    "duration": 69,
    "start_time": "2024-03-29T16:03:49.530Z"
   },
   {
    "duration": 14,
    "start_time": "2024-03-29T16:03:49.601Z"
   },
   {
    "duration": 29,
    "start_time": "2024-03-29T16:03:49.616Z"
   },
   {
    "duration": 11,
    "start_time": "2024-03-29T16:03:49.647Z"
   },
   {
    "duration": 32,
    "start_time": "2024-03-29T16:03:49.660Z"
   },
   {
    "duration": 3,
    "start_time": "2024-03-29T16:03:49.694Z"
   },
   {
    "duration": 12,
    "start_time": "2024-03-29T16:03:49.698Z"
   },
   {
    "duration": 4,
    "start_time": "2024-03-29T16:03:49.712Z"
   },
   {
    "duration": 32,
    "start_time": "2024-03-29T16:03:49.717Z"
   },
   {
    "duration": 7,
    "start_time": "2024-03-29T16:03:49.751Z"
   },
   {
    "duration": 40,
    "start_time": "2024-03-29T16:03:49.760Z"
   },
   {
    "duration": 46,
    "start_time": "2024-03-29T16:03:49.802Z"
   },
   {
    "duration": 4,
    "start_time": "2024-03-29T16:03:49.850Z"
   },
   {
    "duration": 14,
    "start_time": "2024-03-29T16:03:49.857Z"
   },
   {
    "duration": 26,
    "start_time": "2024-03-29T16:03:49.872Z"
   },
   {
    "duration": 57,
    "start_time": "2024-03-29T16:03:49.900Z"
   },
   {
    "duration": 5,
    "start_time": "2024-03-29T16:03:49.958Z"
   },
   {
    "duration": 17,
    "start_time": "2024-03-29T16:03:49.964Z"
   },
   {
    "duration": 13,
    "start_time": "2024-03-29T16:03:49.982Z"
   },
   {
    "duration": 23,
    "start_time": "2024-03-29T16:03:49.996Z"
   },
   {
    "duration": 37,
    "start_time": "2024-03-29T16:03:50.021Z"
   },
   {
    "duration": 10,
    "start_time": "2024-03-29T16:03:50.059Z"
   },
   {
    "duration": 13,
    "start_time": "2024-03-29T16:03:50.070Z"
   },
   {
    "duration": 5,
    "start_time": "2024-03-29T16:03:50.085Z"
   },
   {
    "duration": 1052,
    "start_time": "2024-03-29T16:03:50.092Z"
   },
   {
    "duration": 0,
    "start_time": "2024-03-29T16:03:51.145Z"
   },
   {
    "duration": 73,
    "start_time": "2024-03-29T16:04:24.225Z"
   },
   {
    "duration": 14,
    "start_time": "2024-03-29T16:04:24.300Z"
   },
   {
    "duration": 30,
    "start_time": "2024-03-29T16:04:24.315Z"
   },
   {
    "duration": 11,
    "start_time": "2024-03-29T16:04:24.346Z"
   },
   {
    "duration": 32,
    "start_time": "2024-03-29T16:04:24.359Z"
   },
   {
    "duration": 4,
    "start_time": "2024-03-29T16:04:24.392Z"
   },
   {
    "duration": 10,
    "start_time": "2024-03-29T16:04:24.397Z"
   },
   {
    "duration": 37,
    "start_time": "2024-03-29T16:04:24.408Z"
   },
   {
    "duration": 6,
    "start_time": "2024-03-29T16:04:24.447Z"
   },
   {
    "duration": 4,
    "start_time": "2024-03-29T16:04:24.455Z"
   },
   {
    "duration": 37,
    "start_time": "2024-03-29T16:04:24.460Z"
   },
   {
    "duration": 9,
    "start_time": "2024-03-29T16:04:24.499Z"
   },
   {
    "duration": 4,
    "start_time": "2024-03-29T16:04:24.545Z"
   },
   {
    "duration": 11,
    "start_time": "2024-03-29T16:04:24.551Z"
   },
   {
    "duration": 84,
    "start_time": "2024-03-29T16:04:24.563Z"
   },
   {
    "duration": 18,
    "start_time": "2024-03-29T16:04:24.648Z"
   },
   {
    "duration": 3,
    "start_time": "2024-03-29T16:04:24.668Z"
   },
   {
    "duration": 15,
    "start_time": "2024-03-29T16:04:24.672Z"
   },
   {
    "duration": 8,
    "start_time": "2024-03-29T16:04:24.689Z"
   },
   {
    "duration": 4,
    "start_time": "2024-03-29T16:04:24.698Z"
   },
   {
    "duration": 45,
    "start_time": "2024-03-29T16:04:24.703Z"
   },
   {
    "duration": 10,
    "start_time": "2024-03-29T16:04:24.750Z"
   },
   {
    "duration": 9,
    "start_time": "2024-03-29T16:04:24.761Z"
   },
   {
    "duration": 6,
    "start_time": "2024-03-29T16:04:24.771Z"
   },
   {
    "duration": 6,
    "start_time": "2024-03-29T16:04:24.778Z"
   },
   {
    "duration": 2,
    "start_time": "2024-03-29T16:04:24.785Z"
   },
   {
    "duration": 72,
    "start_time": "2024-03-29T16:04:33.765Z"
   },
   {
    "duration": 14,
    "start_time": "2024-03-29T16:04:33.838Z"
   },
   {
    "duration": 16,
    "start_time": "2024-03-29T16:04:33.853Z"
   },
   {
    "duration": 12,
    "start_time": "2024-03-29T16:04:33.871Z"
   },
   {
    "duration": 66,
    "start_time": "2024-03-29T16:04:33.885Z"
   },
   {
    "duration": 3,
    "start_time": "2024-03-29T16:04:33.952Z"
   },
   {
    "duration": 11,
    "start_time": "2024-03-29T16:04:33.956Z"
   },
   {
    "duration": 4,
    "start_time": "2024-03-29T16:04:33.968Z"
   },
   {
    "duration": 7,
    "start_time": "2024-03-29T16:04:33.973Z"
   },
   {
    "duration": 14,
    "start_time": "2024-03-29T16:04:33.983Z"
   },
   {
    "duration": 65,
    "start_time": "2024-03-29T16:04:33.998Z"
   },
   {
    "duration": 9,
    "start_time": "2024-03-29T16:04:34.065Z"
   },
   {
    "duration": 17,
    "start_time": "2024-03-29T16:04:34.076Z"
   },
   {
    "duration": 11,
    "start_time": "2024-03-29T16:04:34.094Z"
   },
   {
    "duration": 20,
    "start_time": "2024-03-29T16:04:34.106Z"
   },
   {
    "duration": 32,
    "start_time": "2024-03-29T16:04:34.127Z"
   },
   {
    "duration": 3,
    "start_time": "2024-03-29T16:04:34.161Z"
   },
   {
    "duration": 13,
    "start_time": "2024-03-29T16:04:34.165Z"
   },
   {
    "duration": 9,
    "start_time": "2024-03-29T16:04:34.179Z"
   },
   {
    "duration": 4,
    "start_time": "2024-03-29T16:04:34.190Z"
   },
   {
    "duration": 15,
    "start_time": "2024-03-29T16:04:34.196Z"
   },
   {
    "duration": 42,
    "start_time": "2024-03-29T16:04:34.212Z"
   },
   {
    "duration": 12,
    "start_time": "2024-03-29T16:04:34.256Z"
   },
   {
    "duration": 6,
    "start_time": "2024-03-29T16:04:34.270Z"
   },
   {
    "duration": 6,
    "start_time": "2024-03-29T16:04:34.277Z"
   },
   {
    "duration": 3,
    "start_time": "2024-03-29T16:04:34.284Z"
   },
   {
    "duration": 72,
    "start_time": "2024-03-29T16:04:42.963Z"
   },
   {
    "duration": 15,
    "start_time": "2024-03-29T16:04:43.037Z"
   },
   {
    "duration": 21,
    "start_time": "2024-03-29T16:04:43.053Z"
   },
   {
    "duration": 18,
    "start_time": "2024-03-29T16:04:43.077Z"
   },
   {
    "duration": 55,
    "start_time": "2024-03-29T16:04:43.097Z"
   },
   {
    "duration": 3,
    "start_time": "2024-03-29T16:04:43.154Z"
   },
   {
    "duration": 20,
    "start_time": "2024-03-29T16:04:43.158Z"
   },
   {
    "duration": 11,
    "start_time": "2024-03-29T16:04:43.179Z"
   },
   {
    "duration": 17,
    "start_time": "2024-03-29T16:04:43.191Z"
   },
   {
    "duration": 7,
    "start_time": "2024-03-29T16:04:43.211Z"
   },
   {
    "duration": 50,
    "start_time": "2024-03-29T16:04:43.219Z"
   },
   {
    "duration": 9,
    "start_time": "2024-03-29T16:04:43.271Z"
   },
   {
    "duration": 8,
    "start_time": "2024-03-29T16:04:43.281Z"
   },
   {
    "duration": 12,
    "start_time": "2024-03-29T16:04:43.291Z"
   },
   {
    "duration": 43,
    "start_time": "2024-03-29T16:04:43.304Z"
   },
   {
    "duration": 18,
    "start_time": "2024-03-29T16:04:43.348Z"
   },
   {
    "duration": 4,
    "start_time": "2024-03-29T16:04:43.367Z"
   },
   {
    "duration": 13,
    "start_time": "2024-03-29T16:04:43.372Z"
   },
   {
    "duration": 5,
    "start_time": "2024-03-29T16:04:43.387Z"
   },
   {
    "duration": 19,
    "start_time": "2024-03-29T16:04:43.394Z"
   },
   {
    "duration": 34,
    "start_time": "2024-03-29T16:04:43.414Z"
   },
   {
    "duration": 10,
    "start_time": "2024-03-29T16:04:43.450Z"
   },
   {
    "duration": 15,
    "start_time": "2024-03-29T16:04:43.461Z"
   },
   {
    "duration": 8,
    "start_time": "2024-03-29T16:04:43.478Z"
   },
   {
    "duration": 12,
    "start_time": "2024-03-29T16:04:43.487Z"
   },
   {
    "duration": 9,
    "start_time": "2024-03-29T16:04:43.500Z"
   },
   {
    "duration": 72,
    "start_time": "2024-03-29T16:04:58.463Z"
   },
   {
    "duration": 15,
    "start_time": "2024-03-29T16:04:58.536Z"
   },
   {
    "duration": 16,
    "start_time": "2024-03-29T16:04:58.552Z"
   },
   {
    "duration": 10,
    "start_time": "2024-03-29T16:04:58.569Z"
   },
   {
    "duration": 65,
    "start_time": "2024-03-29T16:04:58.580Z"
   },
   {
    "duration": 4,
    "start_time": "2024-03-29T16:04:58.646Z"
   },
   {
    "duration": 23,
    "start_time": "2024-03-29T16:04:58.651Z"
   },
   {
    "duration": 8,
    "start_time": "2024-03-29T16:04:58.675Z"
   },
   {
    "duration": 11,
    "start_time": "2024-03-29T16:04:58.684Z"
   },
   {
    "duration": 10,
    "start_time": "2024-03-29T16:04:58.697Z"
   },
   {
    "duration": 51,
    "start_time": "2024-03-29T16:04:58.708Z"
   },
   {
    "duration": 9,
    "start_time": "2024-03-29T16:04:58.761Z"
   },
   {
    "duration": 17,
    "start_time": "2024-03-29T16:04:58.771Z"
   },
   {
    "duration": 23,
    "start_time": "2024-03-29T16:04:58.789Z"
   },
   {
    "duration": 26,
    "start_time": "2024-03-29T16:04:58.814Z"
   },
   {
    "duration": 17,
    "start_time": "2024-03-29T16:04:58.841Z"
   },
   {
    "duration": 4,
    "start_time": "2024-03-29T16:04:58.859Z"
   },
   {
    "duration": 16,
    "start_time": "2024-03-29T16:04:58.864Z"
   },
   {
    "duration": 5,
    "start_time": "2024-03-29T16:04:58.881Z"
   },
   {
    "duration": 4,
    "start_time": "2024-03-29T16:04:58.887Z"
   },
   {
    "duration": 12,
    "start_time": "2024-03-29T16:04:58.892Z"
   },
   {
    "duration": 39,
    "start_time": "2024-03-29T16:04:58.906Z"
   },
   {
    "duration": 9,
    "start_time": "2024-03-29T16:04:58.946Z"
   },
   {
    "duration": 11,
    "start_time": "2024-03-29T16:04:58.956Z"
   },
   {
    "duration": 1062,
    "start_time": "2024-03-29T16:04:58.968Z"
   },
   {
    "duration": 0,
    "start_time": "2024-03-29T16:05:00.031Z"
   },
   {
    "duration": 73,
    "start_time": "2024-03-29T16:05:55.817Z"
   },
   {
    "duration": 15,
    "start_time": "2024-03-29T16:05:55.892Z"
   },
   {
    "duration": 40,
    "start_time": "2024-03-29T16:05:55.908Z"
   },
   {
    "duration": 10,
    "start_time": "2024-03-29T16:05:55.950Z"
   },
   {
    "duration": 53,
    "start_time": "2024-03-29T16:05:55.962Z"
   },
   {
    "duration": 3,
    "start_time": "2024-03-29T16:05:56.017Z"
   },
   {
    "duration": 32,
    "start_time": "2024-03-29T16:05:56.021Z"
   },
   {
    "duration": 8,
    "start_time": "2024-03-29T16:05:56.055Z"
   },
   {
    "duration": 10,
    "start_time": "2024-03-29T16:05:56.065Z"
   },
   {
    "duration": 18,
    "start_time": "2024-03-29T16:05:56.078Z"
   },
   {
    "duration": 57,
    "start_time": "2024-03-29T16:05:56.098Z"
   },
   {
    "duration": 12,
    "start_time": "2024-03-29T16:05:56.156Z"
   },
   {
    "duration": 23,
    "start_time": "2024-03-29T16:05:56.170Z"
   },
   {
    "duration": 18,
    "start_time": "2024-03-29T16:05:56.195Z"
   },
   {
    "duration": 32,
    "start_time": "2024-03-29T16:05:56.215Z"
   },
   {
    "duration": 20,
    "start_time": "2024-03-29T16:05:56.249Z"
   },
   {
    "duration": 5,
    "start_time": "2024-03-29T16:05:56.270Z"
   },
   {
    "duration": 36,
    "start_time": "2024-03-29T16:05:56.276Z"
   },
   {
    "duration": 27,
    "start_time": "2024-03-29T16:05:56.314Z"
   },
   {
    "duration": 21,
    "start_time": "2024-03-29T16:05:56.343Z"
   },
   {
    "duration": 25,
    "start_time": "2024-03-29T16:05:56.365Z"
   },
   {
    "duration": 19,
    "start_time": "2024-03-29T16:05:56.391Z"
   },
   {
    "duration": 12,
    "start_time": "2024-03-29T16:05:56.411Z"
   },
   {
    "duration": 21,
    "start_time": "2024-03-29T16:05:56.424Z"
   },
   {
    "duration": 1072,
    "start_time": "2024-03-29T16:05:56.446Z"
   },
   {
    "duration": 0,
    "start_time": "2024-03-29T16:05:57.519Z"
   },
   {
    "duration": 71,
    "start_time": "2024-03-29T16:06:21.687Z"
   },
   {
    "duration": 14,
    "start_time": "2024-03-29T16:06:21.759Z"
   },
   {
    "duration": 21,
    "start_time": "2024-03-29T16:06:21.774Z"
   },
   {
    "duration": 9,
    "start_time": "2024-03-29T16:06:21.797Z"
   },
   {
    "duration": 59,
    "start_time": "2024-03-29T16:06:21.808Z"
   },
   {
    "duration": 3,
    "start_time": "2024-03-29T16:06:21.868Z"
   },
   {
    "duration": 17,
    "start_time": "2024-03-29T16:06:21.873Z"
   },
   {
    "duration": 4,
    "start_time": "2024-03-29T16:06:21.891Z"
   },
   {
    "duration": 6,
    "start_time": "2024-03-29T16:06:21.897Z"
   },
   {
    "duration": 6,
    "start_time": "2024-03-29T16:06:21.905Z"
   },
   {
    "duration": 34,
    "start_time": "2024-03-29T16:06:21.945Z"
   },
   {
    "duration": 12,
    "start_time": "2024-03-29T16:06:21.981Z"
   },
   {
    "duration": 6,
    "start_time": "2024-03-29T16:06:21.994Z"
   },
   {
    "duration": 46,
    "start_time": "2024-03-29T16:06:22.002Z"
   },
   {
    "duration": 16,
    "start_time": "2024-03-29T16:06:22.050Z"
   },
   {
    "duration": 15,
    "start_time": "2024-03-29T16:06:22.068Z"
   },
   {
    "duration": 3,
    "start_time": "2024-03-29T16:06:22.085Z"
   },
   {
    "duration": 13,
    "start_time": "2024-03-29T16:06:22.094Z"
   },
   {
    "duration": 38,
    "start_time": "2024-03-29T16:06:22.109Z"
   },
   {
    "duration": 3,
    "start_time": "2024-03-29T16:06:22.149Z"
   },
   {
    "duration": 14,
    "start_time": "2024-03-29T16:06:22.153Z"
   },
   {
    "duration": 12,
    "start_time": "2024-03-29T16:06:22.168Z"
   },
   {
    "duration": 11,
    "start_time": "2024-03-29T16:06:22.182Z"
   },
   {
    "duration": 6,
    "start_time": "2024-03-29T16:06:22.194Z"
   },
   {
    "duration": 1128,
    "start_time": "2024-03-29T16:06:22.202Z"
   },
   {
    "duration": 0,
    "start_time": "2024-03-29T16:06:23.332Z"
   },
   {
    "duration": 72,
    "start_time": "2024-03-29T16:06:44.326Z"
   },
   {
    "duration": 13,
    "start_time": "2024-03-29T16:06:44.400Z"
   },
   {
    "duration": 31,
    "start_time": "2024-03-29T16:06:44.415Z"
   },
   {
    "duration": 10,
    "start_time": "2024-03-29T16:06:44.448Z"
   },
   {
    "duration": 33,
    "start_time": "2024-03-29T16:06:44.459Z"
   },
   {
    "duration": 2,
    "start_time": "2024-03-29T16:06:44.494Z"
   },
   {
    "duration": 8,
    "start_time": "2024-03-29T16:06:44.498Z"
   },
   {
    "duration": 40,
    "start_time": "2024-03-29T16:06:44.507Z"
   },
   {
    "duration": 5,
    "start_time": "2024-03-29T16:06:44.549Z"
   },
   {
    "duration": 4,
    "start_time": "2024-03-29T16:06:44.556Z"
   },
   {
    "duration": 35,
    "start_time": "2024-03-29T16:06:44.562Z"
   },
   {
    "duration": 11,
    "start_time": "2024-03-29T16:06:44.598Z"
   },
   {
    "duration": 4,
    "start_time": "2024-03-29T16:06:44.646Z"
   },
   {
    "duration": 15,
    "start_time": "2024-03-29T16:06:44.652Z"
   },
   {
    "duration": 17,
    "start_time": "2024-03-29T16:06:44.668Z"
   },
   {
    "duration": 18,
    "start_time": "2024-03-29T16:06:44.686Z"
   },
   {
    "duration": 4,
    "start_time": "2024-03-29T16:06:44.744Z"
   },
   {
    "duration": 13,
    "start_time": "2024-03-29T16:06:44.749Z"
   },
   {
    "duration": 6,
    "start_time": "2024-03-29T16:06:44.764Z"
   },
   {
    "duration": 3,
    "start_time": "2024-03-29T16:06:44.772Z"
   },
   {
    "duration": 10,
    "start_time": "2024-03-29T16:06:44.776Z"
   },
   {
    "duration": 10,
    "start_time": "2024-03-29T16:06:44.787Z"
   },
   {
    "duration": 47,
    "start_time": "2024-03-29T16:06:44.798Z"
   },
   {
    "duration": 6,
    "start_time": "2024-03-29T16:06:44.846Z"
   },
   {
    "duration": 1099,
    "start_time": "2024-03-29T16:06:44.853Z"
   },
   {
    "duration": 0,
    "start_time": "2024-03-29T16:06:45.953Z"
   },
   {
    "duration": 581,
    "start_time": "2024-03-31T10:00:26.902Z"
   },
   {
    "duration": 23,
    "start_time": "2024-03-31T10:00:27.485Z"
   },
   {
    "duration": 16,
    "start_time": "2024-03-31T10:00:27.509Z"
   },
   {
    "duration": 32,
    "start_time": "2024-03-31T10:00:27.528Z"
   },
   {
    "duration": 38,
    "start_time": "2024-03-31T10:00:27.561Z"
   },
   {
    "duration": 3,
    "start_time": "2024-03-31T10:00:27.600Z"
   },
   {
    "duration": 8,
    "start_time": "2024-03-31T10:00:27.605Z"
   },
   {
    "duration": 6,
    "start_time": "2024-03-31T10:00:27.615Z"
   },
   {
    "duration": 15,
    "start_time": "2024-03-31T10:00:27.658Z"
   },
   {
    "duration": 5,
    "start_time": "2024-03-31T10:00:27.677Z"
   },
   {
    "duration": 47,
    "start_time": "2024-03-31T10:00:27.683Z"
   },
   {
    "duration": 27,
    "start_time": "2024-03-31T10:00:27.732Z"
   },
   {
    "duration": 14,
    "start_time": "2024-03-31T10:00:27.761Z"
   },
   {
    "duration": 28,
    "start_time": "2024-03-31T10:00:27.776Z"
   },
   {
    "duration": 50,
    "start_time": "2024-03-31T10:00:27.805Z"
   },
   {
    "duration": 33,
    "start_time": "2024-03-31T10:00:27.856Z"
   },
   {
    "duration": 3,
    "start_time": "2024-03-31T10:00:27.891Z"
   },
   {
    "duration": 28,
    "start_time": "2024-03-31T10:00:27.895Z"
   },
   {
    "duration": 27,
    "start_time": "2024-03-31T10:00:27.924Z"
   },
   {
    "duration": 15,
    "start_time": "2024-03-31T10:00:27.953Z"
   },
   {
    "duration": 43,
    "start_time": "2024-03-31T10:00:27.970Z"
   },
   {
    "duration": 17,
    "start_time": "2024-03-31T10:00:28.015Z"
   },
   {
    "duration": 30,
    "start_time": "2024-03-31T10:00:28.034Z"
   },
   {
    "duration": 12,
    "start_time": "2024-03-31T10:00:28.065Z"
   },
   {
    "duration": 1210,
    "start_time": "2024-03-31T10:00:28.078Z"
   },
   {
    "duration": 0,
    "start_time": "2024-03-31T10:00:29.290Z"
   },
   {
    "duration": 89,
    "start_time": "2024-03-31T10:00:39.731Z"
   },
   {
    "duration": 37,
    "start_time": "2024-03-31T10:00:39.822Z"
   },
   {
    "duration": 15,
    "start_time": "2024-03-31T10:00:39.861Z"
   },
   {
    "duration": 13,
    "start_time": "2024-03-31T10:00:39.878Z"
   },
   {
    "duration": 71,
    "start_time": "2024-03-31T10:00:39.892Z"
   },
   {
    "duration": 3,
    "start_time": "2024-03-31T10:00:39.965Z"
   },
   {
    "duration": 12,
    "start_time": "2024-03-31T10:00:39.970Z"
   },
   {
    "duration": 5,
    "start_time": "2024-03-31T10:00:39.984Z"
   },
   {
    "duration": 6,
    "start_time": "2024-03-31T10:00:39.990Z"
   },
   {
    "duration": 20,
    "start_time": "2024-03-31T10:00:39.999Z"
   },
   {
    "duration": 68,
    "start_time": "2024-03-31T10:00:40.021Z"
   },
   {
    "duration": 10,
    "start_time": "2024-03-31T10:00:40.091Z"
   },
   {
    "duration": 12,
    "start_time": "2024-03-31T10:00:40.102Z"
   },
   {
    "duration": 13,
    "start_time": "2024-03-31T10:00:40.115Z"
   },
   {
    "duration": 49,
    "start_time": "2024-03-31T10:00:40.129Z"
   },
   {
    "duration": 17,
    "start_time": "2024-03-31T10:00:40.180Z"
   },
   {
    "duration": 3,
    "start_time": "2024-03-31T10:00:40.199Z"
   },
   {
    "duration": 14,
    "start_time": "2024-03-31T10:00:40.203Z"
   },
   {
    "duration": 43,
    "start_time": "2024-03-31T10:00:40.218Z"
   },
   {
    "duration": 3,
    "start_time": "2024-03-31T10:00:40.263Z"
   },
   {
    "duration": 11,
    "start_time": "2024-03-31T10:00:40.267Z"
   },
   {
    "duration": 4,
    "start_time": "2024-03-31T10:00:40.280Z"
   },
   {
    "duration": 4,
    "start_time": "2024-03-31T10:00:40.286Z"
   },
   {
    "duration": 6,
    "start_time": "2024-03-31T10:00:40.292Z"
   },
   {
    "duration": 1159,
    "start_time": "2024-03-31T10:00:40.300Z"
   },
   {
    "duration": 0,
    "start_time": "2024-03-31T10:00:41.460Z"
   },
   {
    "duration": 71,
    "start_time": "2024-03-31T10:01:11.560Z"
   },
   {
    "duration": 14,
    "start_time": "2024-03-31T10:01:11.633Z"
   },
   {
    "duration": 24,
    "start_time": "2024-03-31T10:01:11.649Z"
   },
   {
    "duration": 14,
    "start_time": "2024-03-31T10:01:11.675Z"
   },
   {
    "duration": 69,
    "start_time": "2024-03-31T10:01:11.691Z"
   },
   {
    "duration": 4,
    "start_time": "2024-03-31T10:01:11.762Z"
   },
   {
    "duration": 13,
    "start_time": "2024-03-31T10:01:11.768Z"
   },
   {
    "duration": 14,
    "start_time": "2024-03-31T10:01:11.783Z"
   },
   {
    "duration": 10,
    "start_time": "2024-03-31T10:01:11.799Z"
   },
   {
    "duration": 9,
    "start_time": "2024-03-31T10:01:11.810Z"
   },
   {
    "duration": 73,
    "start_time": "2024-03-31T10:01:11.821Z"
   },
   {
    "duration": 13,
    "start_time": "2024-03-31T10:01:11.896Z"
   },
   {
    "duration": 4,
    "start_time": "2024-03-31T10:01:11.911Z"
   },
   {
    "duration": 44,
    "start_time": "2024-03-31T10:01:11.919Z"
   },
   {
    "duration": 21,
    "start_time": "2024-03-31T10:01:11.965Z"
   },
   {
    "duration": 21,
    "start_time": "2024-03-31T10:01:11.988Z"
   },
   {
    "duration": 4,
    "start_time": "2024-03-31T10:01:12.011Z"
   },
   {
    "duration": 14,
    "start_time": "2024-03-31T10:01:12.059Z"
   },
   {
    "duration": 7,
    "start_time": "2024-03-31T10:01:12.074Z"
   },
   {
    "duration": 4,
    "start_time": "2024-03-31T10:01:12.083Z"
   },
   {
    "duration": 15,
    "start_time": "2024-03-31T10:01:12.089Z"
   },
   {
    "duration": 4,
    "start_time": "2024-03-31T10:01:12.105Z"
   },
   {
    "duration": 13,
    "start_time": "2024-03-31T10:01:12.160Z"
   },
   {
    "duration": 12,
    "start_time": "2024-03-31T10:01:12.174Z"
   },
   {
    "duration": 1158,
    "start_time": "2024-03-31T10:01:12.188Z"
   },
   {
    "duration": 0,
    "start_time": "2024-03-31T10:01:13.348Z"
   },
   {
    "duration": 74,
    "start_time": "2024-03-31T10:05:03.459Z"
   },
   {
    "duration": 25,
    "start_time": "2024-03-31T10:05:03.535Z"
   },
   {
    "duration": 22,
    "start_time": "2024-03-31T10:05:03.561Z"
   },
   {
    "duration": 13,
    "start_time": "2024-03-31T10:05:03.585Z"
   },
   {
    "duration": 75,
    "start_time": "2024-03-31T10:05:03.600Z"
   },
   {
    "duration": 4,
    "start_time": "2024-03-31T10:05:03.677Z"
   },
   {
    "duration": 12,
    "start_time": "2024-03-31T10:05:03.682Z"
   },
   {
    "duration": 5,
    "start_time": "2024-03-31T10:05:03.696Z"
   },
   {
    "duration": 7,
    "start_time": "2024-03-31T10:05:03.703Z"
   },
   {
    "duration": 49,
    "start_time": "2024-03-31T10:05:03.713Z"
   },
   {
    "duration": 41,
    "start_time": "2024-03-31T10:05:03.763Z"
   },
   {
    "duration": 14,
    "start_time": "2024-03-31T10:05:03.805Z"
   },
   {
    "duration": 37,
    "start_time": "2024-03-31T10:05:03.822Z"
   },
   {
    "duration": 17,
    "start_time": "2024-03-31T10:05:03.861Z"
   },
   {
    "duration": 22,
    "start_time": "2024-03-31T10:05:03.880Z"
   },
   {
    "duration": 66,
    "start_time": "2024-03-31T10:05:03.904Z"
   },
   {
    "duration": 3,
    "start_time": "2024-03-31T10:05:03.972Z"
   },
   {
    "duration": 28,
    "start_time": "2024-03-31T10:05:03.977Z"
   },
   {
    "duration": 30,
    "start_time": "2024-03-31T10:05:04.007Z"
   },
   {
    "duration": 12,
    "start_time": "2024-03-31T10:05:04.038Z"
   },
   {
    "duration": 22,
    "start_time": "2024-03-31T10:05:04.051Z"
   },
   {
    "duration": 34,
    "start_time": "2024-03-31T10:05:04.075Z"
   },
   {
    "duration": 24,
    "start_time": "2024-03-31T10:05:04.110Z"
   },
   {
    "duration": 17,
    "start_time": "2024-03-31T10:05:04.136Z"
   },
   {
    "duration": 1142,
    "start_time": "2024-03-31T10:05:04.155Z"
   },
   {
    "duration": 0,
    "start_time": "2024-03-31T10:05:05.298Z"
   },
   {
    "duration": 76,
    "start_time": "2024-03-31T10:08:52.889Z"
   },
   {
    "duration": 15,
    "start_time": "2024-03-31T10:08:52.967Z"
   },
   {
    "duration": 17,
    "start_time": "2024-03-31T10:08:52.983Z"
   },
   {
    "duration": 10,
    "start_time": "2024-03-31T10:08:53.001Z"
   },
   {
    "duration": 66,
    "start_time": "2024-03-31T10:08:53.013Z"
   },
   {
    "duration": 3,
    "start_time": "2024-03-31T10:08:53.081Z"
   },
   {
    "duration": 9,
    "start_time": "2024-03-31T10:08:53.085Z"
   },
   {
    "duration": 4,
    "start_time": "2024-03-31T10:08:53.096Z"
   },
   {
    "duration": 6,
    "start_time": "2024-03-31T10:08:53.101Z"
   },
   {
    "duration": 4,
    "start_time": "2024-03-31T10:08:53.109Z"
   },
   {
    "duration": 81,
    "start_time": "2024-03-31T10:08:53.114Z"
   },
   {
    "duration": 11,
    "start_time": "2024-03-31T10:08:53.201Z"
   },
   {
    "duration": 4,
    "start_time": "2024-03-31T10:08:53.213Z"
   },
   {
    "duration": 44,
    "start_time": "2024-03-31T10:08:53.220Z"
   },
   {
    "duration": 18,
    "start_time": "2024-03-31T10:08:53.266Z"
   },
   {
    "duration": 18,
    "start_time": "2024-03-31T10:08:53.285Z"
   },
   {
    "duration": 3,
    "start_time": "2024-03-31T10:08:53.304Z"
   },
   {
    "duration": 11,
    "start_time": "2024-03-31T10:08:53.309Z"
   },
   {
    "duration": 38,
    "start_time": "2024-03-31T10:08:53.321Z"
   },
   {
    "duration": 9,
    "start_time": "2024-03-31T10:08:53.360Z"
   },
   {
    "duration": 18,
    "start_time": "2024-03-31T10:08:53.370Z"
   },
   {
    "duration": 10,
    "start_time": "2024-03-31T10:08:53.389Z"
   },
   {
    "duration": 11,
    "start_time": "2024-03-31T10:08:53.401Z"
   },
   {
    "duration": 7,
    "start_time": "2024-03-31T10:08:53.414Z"
   },
   {
    "duration": 1100,
    "start_time": "2024-03-31T10:08:53.458Z"
   },
   {
    "duration": 0,
    "start_time": "2024-03-31T10:08:54.559Z"
   },
   {
    "duration": 70,
    "start_time": "2024-03-31T10:08:59.318Z"
   },
   {
    "duration": 15,
    "start_time": "2024-03-31T10:08:59.390Z"
   },
   {
    "duration": 20,
    "start_time": "2024-03-31T10:08:59.406Z"
   },
   {
    "duration": 34,
    "start_time": "2024-03-31T10:08:59.428Z"
   },
   {
    "duration": 34,
    "start_time": "2024-03-31T10:08:59.464Z"
   },
   {
    "duration": 3,
    "start_time": "2024-03-31T10:08:59.500Z"
   },
   {
    "duration": 10,
    "start_time": "2024-03-31T10:08:59.504Z"
   },
   {
    "duration": 4,
    "start_time": "2024-03-31T10:08:59.515Z"
   },
   {
    "duration": 39,
    "start_time": "2024-03-31T10:08:59.520Z"
   },
   {
    "duration": 8,
    "start_time": "2024-03-31T10:08:59.561Z"
   },
   {
    "duration": 36,
    "start_time": "2024-03-31T10:08:59.570Z"
   },
   {
    "duration": 10,
    "start_time": "2024-03-31T10:08:59.607Z"
   },
   {
    "duration": 46,
    "start_time": "2024-03-31T10:08:59.618Z"
   },
   {
    "duration": 14,
    "start_time": "2024-03-31T10:08:59.667Z"
   },
   {
    "duration": 18,
    "start_time": "2024-03-31T10:08:59.683Z"
   },
   {
    "duration": 17,
    "start_time": "2024-03-31T10:08:59.702Z"
   },
   {
    "duration": 4,
    "start_time": "2024-03-31T10:08:59.720Z"
   },
   {
    "duration": 37,
    "start_time": "2024-03-31T10:08:59.725Z"
   },
   {
    "duration": 10,
    "start_time": "2024-03-31T10:08:59.763Z"
   },
   {
    "duration": 4,
    "start_time": "2024-03-31T10:08:59.774Z"
   },
   {
    "duration": 10,
    "start_time": "2024-03-31T10:08:59.779Z"
   },
   {
    "duration": 6,
    "start_time": "2024-03-31T10:08:59.790Z"
   },
   {
    "duration": 12,
    "start_time": "2024-03-31T10:08:59.797Z"
   },
   {
    "duration": 50,
    "start_time": "2024-03-31T10:08:59.810Z"
   },
   {
    "duration": 1132,
    "start_time": "2024-03-31T10:08:59.862Z"
   },
   {
    "duration": 0,
    "start_time": "2024-03-31T10:09:00.995Z"
   },
   {
    "duration": 79,
    "start_time": "2024-03-31T10:10:15.072Z"
   },
   {
    "duration": 17,
    "start_time": "2024-03-31T10:10:15.153Z"
   },
   {
    "duration": 43,
    "start_time": "2024-03-31T10:10:15.172Z"
   },
   {
    "duration": 22,
    "start_time": "2024-03-31T10:10:15.217Z"
   },
   {
    "duration": 59,
    "start_time": "2024-03-31T10:10:15.241Z"
   },
   {
    "duration": 3,
    "start_time": "2024-03-31T10:10:15.302Z"
   },
   {
    "duration": 34,
    "start_time": "2024-03-31T10:10:15.307Z"
   },
   {
    "duration": 23,
    "start_time": "2024-03-31T10:10:15.343Z"
   },
   {
    "duration": 15,
    "start_time": "2024-03-31T10:10:15.368Z"
   },
   {
    "duration": 32,
    "start_time": "2024-03-31T10:10:15.386Z"
   },
   {
    "duration": 88,
    "start_time": "2024-03-31T10:10:15.420Z"
   },
   {
    "duration": 10,
    "start_time": "2024-03-31T10:10:15.509Z"
   },
   {
    "duration": 42,
    "start_time": "2024-03-31T10:10:15.520Z"
   },
   {
    "duration": 19,
    "start_time": "2024-03-31T10:10:15.564Z"
   },
   {
    "duration": 48,
    "start_time": "2024-03-31T10:10:15.584Z"
   },
   {
    "duration": 19,
    "start_time": "2024-03-31T10:10:15.633Z"
   },
   {
    "duration": 6,
    "start_time": "2024-03-31T10:10:15.654Z"
   },
   {
    "duration": 20,
    "start_time": "2024-03-31T10:10:15.661Z"
   },
   {
    "duration": 15,
    "start_time": "2024-03-31T10:10:15.682Z"
   },
   {
    "duration": 4,
    "start_time": "2024-03-31T10:10:15.699Z"
   },
   {
    "duration": 17,
    "start_time": "2024-03-31T10:10:15.704Z"
   },
   {
    "duration": 29,
    "start_time": "2024-03-31T10:10:15.723Z"
   },
   {
    "duration": 15,
    "start_time": "2024-03-31T10:10:15.754Z"
   },
   {
    "duration": 5,
    "start_time": "2024-03-31T10:10:15.771Z"
   },
   {
    "duration": 1051,
    "start_time": "2024-03-31T10:10:15.777Z"
   },
   {
    "duration": 0,
    "start_time": "2024-03-31T10:10:16.829Z"
   },
   {
    "duration": 73,
    "start_time": "2024-03-31T10:16:07.866Z"
   },
   {
    "duration": 15,
    "start_time": "2024-03-31T10:16:07.941Z"
   },
   {
    "duration": 17,
    "start_time": "2024-03-31T10:16:07.957Z"
   },
   {
    "duration": 11,
    "start_time": "2024-03-31T10:16:07.975Z"
   },
   {
    "duration": 73,
    "start_time": "2024-03-31T10:16:07.987Z"
   },
   {
    "duration": 4,
    "start_time": "2024-03-31T10:16:08.061Z"
   },
   {
    "duration": 18,
    "start_time": "2024-03-31T10:16:08.066Z"
   },
   {
    "duration": 5,
    "start_time": "2024-03-31T10:16:08.086Z"
   },
   {
    "duration": 7,
    "start_time": "2024-03-31T10:16:08.092Z"
   },
   {
    "duration": 4,
    "start_time": "2024-03-31T10:16:08.101Z"
   },
   {
    "duration": 76,
    "start_time": "2024-03-31T10:16:08.106Z"
   },
   {
    "duration": 10,
    "start_time": "2024-03-31T10:16:08.184Z"
   },
   {
    "duration": 27,
    "start_time": "2024-03-31T10:16:08.195Z"
   },
   {
    "duration": 51,
    "start_time": "2024-03-31T10:16:08.225Z"
   },
   {
    "duration": 18,
    "start_time": "2024-03-31T10:16:08.278Z"
   },
   {
    "duration": 19,
    "start_time": "2024-03-31T10:16:08.297Z"
   },
   {
    "duration": 3,
    "start_time": "2024-03-31T10:16:08.318Z"
   },
   {
    "duration": 41,
    "start_time": "2024-03-31T10:16:08.323Z"
   },
   {
    "duration": 10,
    "start_time": "2024-03-31T10:16:08.366Z"
   },
   {
    "duration": 3,
    "start_time": "2024-03-31T10:16:08.378Z"
   },
   {
    "duration": 26,
    "start_time": "2024-03-31T10:16:08.383Z"
   },
   {
    "duration": 10,
    "start_time": "2024-03-31T10:16:08.411Z"
   },
   {
    "duration": 39,
    "start_time": "2024-03-31T10:16:08.423Z"
   },
   {
    "duration": 1155,
    "start_time": "2024-03-31T10:16:08.463Z"
   },
   {
    "duration": 0,
    "start_time": "2024-03-31T10:16:09.619Z"
   },
   {
    "duration": 75,
    "start_time": "2024-03-31T10:18:50.860Z"
   },
   {
    "duration": 15,
    "start_time": "2024-03-31T10:18:50.937Z"
   },
   {
    "duration": 16,
    "start_time": "2024-03-31T10:18:50.957Z"
   },
   {
    "duration": 34,
    "start_time": "2024-03-31T10:18:50.974Z"
   },
   {
    "duration": 49,
    "start_time": "2024-03-31T10:18:51.009Z"
   },
   {
    "duration": 4,
    "start_time": "2024-03-31T10:18:51.060Z"
   },
   {
    "duration": 21,
    "start_time": "2024-03-31T10:18:51.065Z"
   },
   {
    "duration": 5,
    "start_time": "2024-03-31T10:18:51.088Z"
   },
   {
    "duration": 16,
    "start_time": "2024-03-31T10:18:51.095Z"
   },
   {
    "duration": 4,
    "start_time": "2024-03-31T10:18:51.114Z"
   },
   {
    "duration": 75,
    "start_time": "2024-03-31T10:18:51.120Z"
   },
   {
    "duration": 10,
    "start_time": "2024-03-31T10:18:51.197Z"
   },
   {
    "duration": 20,
    "start_time": "2024-03-31T10:18:51.209Z"
   },
   {
    "duration": 23,
    "start_time": "2024-03-31T10:18:51.230Z"
   },
   {
    "duration": 39,
    "start_time": "2024-03-31T10:18:51.254Z"
   },
   {
    "duration": 20,
    "start_time": "2024-03-31T10:18:51.295Z"
   },
   {
    "duration": 5,
    "start_time": "2024-03-31T10:18:51.317Z"
   },
   {
    "duration": 25,
    "start_time": "2024-03-31T10:18:51.324Z"
   },
   {
    "duration": 16,
    "start_time": "2024-03-31T10:18:51.351Z"
   },
   {
    "duration": 5,
    "start_time": "2024-03-31T10:18:51.369Z"
   },
   {
    "duration": 20,
    "start_time": "2024-03-31T10:18:51.376Z"
   },
   {
    "duration": 8,
    "start_time": "2024-03-31T10:18:51.397Z"
   },
   {
    "duration": 14,
    "start_time": "2024-03-31T10:18:51.407Z"
   },
   {
    "duration": 42,
    "start_time": "2024-03-31T10:18:51.423Z"
   },
   {
    "duration": 0,
    "start_time": "2024-03-31T10:18:51.467Z"
   },
   {
    "duration": 73,
    "start_time": "2024-03-31T10:19:07.194Z"
   },
   {
    "duration": 15,
    "start_time": "2024-03-31T10:19:07.268Z"
   },
   {
    "duration": 22,
    "start_time": "2024-03-31T10:19:07.285Z"
   },
   {
    "duration": 13,
    "start_time": "2024-03-31T10:19:07.309Z"
   },
   {
    "duration": 68,
    "start_time": "2024-03-31T10:19:07.325Z"
   },
   {
    "duration": 4,
    "start_time": "2024-03-31T10:19:07.395Z"
   },
   {
    "duration": 13,
    "start_time": "2024-03-31T10:19:07.400Z"
   },
   {
    "duration": 5,
    "start_time": "2024-03-31T10:19:07.415Z"
   },
   {
    "duration": 40,
    "start_time": "2024-03-31T10:19:07.422Z"
   },
   {
    "duration": 11,
    "start_time": "2024-03-31T10:19:07.464Z"
   },
   {
    "duration": 39,
    "start_time": "2024-03-31T10:19:07.476Z"
   },
   {
    "duration": 48,
    "start_time": "2024-03-31T10:19:07.517Z"
   },
   {
    "duration": 5,
    "start_time": "2024-03-31T10:19:07.567Z"
   },
   {
    "duration": 14,
    "start_time": "2024-03-31T10:19:07.575Z"
   },
   {
    "duration": 20,
    "start_time": "2024-03-31T10:19:07.590Z"
   },
   {
    "duration": 61,
    "start_time": "2024-03-31T10:19:07.612Z"
   },
   {
    "duration": 5,
    "start_time": "2024-03-31T10:19:07.674Z"
   },
   {
    "duration": 15,
    "start_time": "2024-03-31T10:19:07.680Z"
   },
   {
    "duration": 7,
    "start_time": "2024-03-31T10:19:07.697Z"
   },
   {
    "duration": 4,
    "start_time": "2024-03-31T10:19:07.706Z"
   },
   {
    "duration": 24,
    "start_time": "2024-03-31T10:19:07.758Z"
   },
   {
    "duration": 4,
    "start_time": "2024-03-31T10:19:07.784Z"
   },
   {
    "duration": 11,
    "start_time": "2024-03-31T10:19:07.790Z"
   },
   {
    "duration": 11,
    "start_time": "2024-03-31T10:19:07.803Z"
   },
   {
    "duration": 0,
    "start_time": "2024-03-31T10:19:07.815Z"
   },
   {
    "duration": 75,
    "start_time": "2024-03-31T10:20:02.909Z"
   },
   {
    "duration": 15,
    "start_time": "2024-03-31T10:20:02.986Z"
   },
   {
    "duration": 18,
    "start_time": "2024-03-31T10:20:03.003Z"
   },
   {
    "duration": 37,
    "start_time": "2024-03-31T10:20:03.023Z"
   },
   {
    "duration": 37,
    "start_time": "2024-03-31T10:20:03.062Z"
   },
   {
    "duration": 4,
    "start_time": "2024-03-31T10:20:03.100Z"
   },
   {
    "duration": 22,
    "start_time": "2024-03-31T10:20:03.105Z"
   },
   {
    "duration": 34,
    "start_time": "2024-03-31T10:20:03.129Z"
   },
   {
    "duration": 17,
    "start_time": "2024-03-31T10:20:03.165Z"
   },
   {
    "duration": 12,
    "start_time": "2024-03-31T10:20:03.183Z"
   },
   {
    "duration": 64,
    "start_time": "2024-03-31T10:20:03.197Z"
   },
   {
    "duration": 11,
    "start_time": "2024-03-31T10:20:03.263Z"
   },
   {
    "duration": 9,
    "start_time": "2024-03-31T10:20:03.275Z"
   },
   {
    "duration": 21,
    "start_time": "2024-03-31T10:20:03.287Z"
   },
   {
    "duration": 28,
    "start_time": "2024-03-31T10:20:03.310Z"
   },
   {
    "duration": 37,
    "start_time": "2024-03-31T10:20:03.340Z"
   },
   {
    "duration": 4,
    "start_time": "2024-03-31T10:20:03.379Z"
   },
   {
    "duration": 14,
    "start_time": "2024-03-31T10:20:03.385Z"
   },
   {
    "duration": 6,
    "start_time": "2024-03-31T10:20:03.401Z"
   },
   {
    "duration": 3,
    "start_time": "2024-03-31T10:20:03.409Z"
   },
   {
    "duration": 50,
    "start_time": "2024-03-31T10:20:03.413Z"
   },
   {
    "duration": 6,
    "start_time": "2024-03-31T10:20:03.465Z"
   },
   {
    "duration": 17,
    "start_time": "2024-03-31T10:20:03.473Z"
   },
   {
    "duration": 4,
    "start_time": "2024-03-31T10:20:03.491Z"
   },
   {
    "duration": 24,
    "start_time": "2024-03-31T10:20:03.496Z"
   },
   {
    "duration": 0,
    "start_time": "2024-03-31T10:20:03.522Z"
   },
   {
    "duration": 74,
    "start_time": "2024-03-31T10:26:07.023Z"
   },
   {
    "duration": 16,
    "start_time": "2024-03-31T10:26:07.099Z"
   },
   {
    "duration": 42,
    "start_time": "2024-03-31T10:26:07.117Z"
   },
   {
    "duration": 12,
    "start_time": "2024-03-31T10:26:07.161Z"
   },
   {
    "duration": 36,
    "start_time": "2024-03-31T10:26:07.175Z"
   },
   {
    "duration": 3,
    "start_time": "2024-03-31T10:26:07.213Z"
   },
   {
    "duration": 49,
    "start_time": "2024-03-31T10:26:07.217Z"
   },
   {
    "duration": 4,
    "start_time": "2024-03-31T10:26:07.268Z"
   },
   {
    "duration": 6,
    "start_time": "2024-03-31T10:26:07.273Z"
   },
   {
    "duration": 4,
    "start_time": "2024-03-31T10:26:07.281Z"
   },
   {
    "duration": 41,
    "start_time": "2024-03-31T10:26:07.287Z"
   },
   {
    "duration": 11,
    "start_time": "2024-03-31T10:26:07.358Z"
   },
   {
    "duration": 3,
    "start_time": "2024-03-31T10:26:07.371Z"
   },
   {
    "duration": 11,
    "start_time": "2024-03-31T10:26:07.376Z"
   },
   {
    "duration": 26,
    "start_time": "2024-03-31T10:26:07.388Z"
   },
   {
    "duration": 53,
    "start_time": "2024-03-31T10:26:07.416Z"
   },
   {
    "duration": 4,
    "start_time": "2024-03-31T10:26:07.471Z"
   },
   {
    "duration": 33,
    "start_time": "2024-03-31T10:26:07.476Z"
   },
   {
    "duration": 6,
    "start_time": "2024-03-31T10:26:07.511Z"
   },
   {
    "duration": 5,
    "start_time": "2024-03-31T10:26:07.518Z"
   },
   {
    "duration": 28,
    "start_time": "2024-03-31T10:26:07.524Z"
   },
   {
    "duration": 25,
    "start_time": "2024-03-31T10:26:07.553Z"
   },
   {
    "duration": 36,
    "start_time": "2024-03-31T10:26:07.580Z"
   },
   {
    "duration": 4,
    "start_time": "2024-03-31T10:26:07.618Z"
   },
   {
    "duration": 52,
    "start_time": "2024-03-31T10:26:07.624Z"
   },
   {
    "duration": 0,
    "start_time": "2024-03-31T10:26:07.677Z"
   },
   {
    "duration": 73,
    "start_time": "2024-03-31T10:27:45.794Z"
   },
   {
    "duration": 14,
    "start_time": "2024-03-31T10:27:45.869Z"
   },
   {
    "duration": 19,
    "start_time": "2024-03-31T10:27:45.884Z"
   },
   {
    "duration": 12,
    "start_time": "2024-03-31T10:27:45.904Z"
   },
   {
    "duration": 65,
    "start_time": "2024-03-31T10:27:45.918Z"
   },
   {
    "duration": 3,
    "start_time": "2024-03-31T10:27:45.984Z"
   },
   {
    "duration": 14,
    "start_time": "2024-03-31T10:27:45.988Z"
   },
   {
    "duration": 4,
    "start_time": "2024-03-31T10:27:46.003Z"
   },
   {
    "duration": 8,
    "start_time": "2024-03-31T10:27:46.008Z"
   },
   {
    "duration": 42,
    "start_time": "2024-03-31T10:27:46.017Z"
   },
   {
    "duration": 34,
    "start_time": "2024-03-31T10:27:46.061Z"
   },
   {
    "duration": 9,
    "start_time": "2024-03-31T10:27:46.097Z"
   },
   {
    "duration": 64,
    "start_time": "2024-03-31T10:27:46.108Z"
   },
   {
    "duration": 11,
    "start_time": "2024-03-31T10:27:46.175Z"
   },
   {
    "duration": 20,
    "start_time": "2024-03-31T10:27:46.187Z"
   },
   {
    "duration": 18,
    "start_time": "2024-03-31T10:27:46.208Z"
   },
   {
    "duration": 3,
    "start_time": "2024-03-31T10:27:46.258Z"
   },
   {
    "duration": 16,
    "start_time": "2024-03-31T10:27:46.263Z"
   },
   {
    "duration": 18,
    "start_time": "2024-03-31T10:27:46.280Z"
   },
   {
    "duration": 11,
    "start_time": "2024-03-31T10:27:46.299Z"
   },
   {
    "duration": 17,
    "start_time": "2024-03-31T10:27:46.311Z"
   },
   {
    "duration": 5,
    "start_time": "2024-03-31T10:27:46.329Z"
   },
   {
    "duration": 30,
    "start_time": "2024-03-31T10:27:46.335Z"
   },
   {
    "duration": 43,
    "start_time": "2024-03-31T10:27:46.367Z"
   },
   {
    "duration": 0,
    "start_time": "2024-03-31T10:27:46.411Z"
   },
   {
    "duration": 501,
    "start_time": "2024-03-31T10:33:05.759Z"
   },
   {
    "duration": 21,
    "start_time": "2024-03-31T10:33:06.262Z"
   },
   {
    "duration": 58,
    "start_time": "2024-03-31T10:33:06.285Z"
   },
   {
    "duration": 53,
    "start_time": "2024-03-31T10:33:06.345Z"
   },
   {
    "duration": 51,
    "start_time": "2024-03-31T10:33:06.399Z"
   },
   {
    "duration": 8,
    "start_time": "2024-03-31T10:33:06.451Z"
   },
   {
    "duration": 15,
    "start_time": "2024-03-31T10:33:06.460Z"
   },
   {
    "duration": 4,
    "start_time": "2024-03-31T10:33:06.476Z"
   },
   {
    "duration": 21,
    "start_time": "2024-03-31T10:33:06.481Z"
   },
   {
    "duration": 60,
    "start_time": "2024-03-31T10:33:06.505Z"
   },
   {
    "duration": 80,
    "start_time": "2024-03-31T10:33:06.567Z"
   },
   {
    "duration": 11,
    "start_time": "2024-03-31T10:33:06.648Z"
   },
   {
    "duration": 12,
    "start_time": "2024-03-31T10:33:06.660Z"
   },
   {
    "duration": 50,
    "start_time": "2024-03-31T10:33:06.674Z"
   },
   {
    "duration": 76,
    "start_time": "2024-03-31T10:33:06.725Z"
   },
   {
    "duration": 83,
    "start_time": "2024-03-31T10:33:06.803Z"
   },
   {
    "duration": 36,
    "start_time": "2024-03-31T10:33:06.888Z"
   },
   {
    "duration": 56,
    "start_time": "2024-03-31T10:33:06.925Z"
   },
   {
    "duration": 15,
    "start_time": "2024-03-31T10:33:06.982Z"
   },
   {
    "duration": 49,
    "start_time": "2024-03-31T10:33:06.998Z"
   },
   {
    "duration": 92,
    "start_time": "2024-03-31T10:33:07.049Z"
   },
   {
    "duration": 9,
    "start_time": "2024-03-31T10:33:07.144Z"
   },
   {
    "duration": 14,
    "start_time": "2024-03-31T10:33:07.155Z"
   },
   {
    "duration": 47,
    "start_time": "2024-03-31T10:33:07.171Z"
   },
   {
    "duration": 0,
    "start_time": "2024-03-31T10:33:07.220Z"
   },
   {
    "duration": 78,
    "start_time": "2024-03-31T10:33:23.077Z"
   },
   {
    "duration": 20,
    "start_time": "2024-03-31T10:33:23.157Z"
   },
   {
    "duration": 16,
    "start_time": "2024-03-31T10:33:23.178Z"
   },
   {
    "duration": 12,
    "start_time": "2024-03-31T10:33:23.197Z"
   },
   {
    "duration": 73,
    "start_time": "2024-03-31T10:33:23.210Z"
   },
   {
    "duration": 3,
    "start_time": "2024-03-31T10:33:23.284Z"
   },
   {
    "duration": 12,
    "start_time": "2024-03-31T10:33:23.289Z"
   },
   {
    "duration": 4,
    "start_time": "2024-03-31T10:33:23.302Z"
   },
   {
    "duration": 7,
    "start_time": "2024-03-31T10:33:23.308Z"
   },
   {
    "duration": 43,
    "start_time": "2024-03-31T10:33:23.317Z"
   },
   {
    "duration": 41,
    "start_time": "2024-03-31T10:33:23.362Z"
   },
   {
    "duration": 11,
    "start_time": "2024-03-31T10:33:23.404Z"
   },
   {
    "duration": 4,
    "start_time": "2024-03-31T10:33:23.416Z"
   },
   {
    "duration": 46,
    "start_time": "2024-03-31T10:33:23.421Z"
   },
   {
    "duration": 33,
    "start_time": "2024-03-31T10:33:23.469Z"
   },
   {
    "duration": 15,
    "start_time": "2024-03-31T10:33:23.504Z"
   },
   {
    "duration": 4,
    "start_time": "2024-03-31T10:33:23.520Z"
   },
   {
    "duration": 11,
    "start_time": "2024-03-31T10:33:23.525Z"
   },
   {
    "duration": 5,
    "start_time": "2024-03-31T10:33:23.558Z"
   },
   {
    "duration": 3,
    "start_time": "2024-03-31T10:33:23.565Z"
   },
   {
    "duration": 14,
    "start_time": "2024-03-31T10:33:23.569Z"
   },
   {
    "duration": 5,
    "start_time": "2024-03-31T10:33:23.585Z"
   },
   {
    "duration": 11,
    "start_time": "2024-03-31T10:33:23.591Z"
   },
   {
    "duration": 57,
    "start_time": "2024-03-31T10:33:23.603Z"
   },
   {
    "duration": 0,
    "start_time": "2024-03-31T10:33:23.661Z"
   },
   {
    "duration": 485,
    "start_time": "2024-03-31T10:33:47.757Z"
   },
   {
    "duration": 27,
    "start_time": "2024-03-31T10:33:48.244Z"
   },
   {
    "duration": 31,
    "start_time": "2024-03-31T10:33:48.273Z"
   },
   {
    "duration": 14,
    "start_time": "2024-03-31T10:33:48.307Z"
   },
   {
    "duration": 62,
    "start_time": "2024-03-31T10:33:48.323Z"
   },
   {
    "duration": 3,
    "start_time": "2024-03-31T10:33:48.387Z"
   },
   {
    "duration": 11,
    "start_time": "2024-03-31T10:33:48.392Z"
   },
   {
    "duration": 5,
    "start_time": "2024-03-31T10:33:48.404Z"
   },
   {
    "duration": 16,
    "start_time": "2024-03-31T10:33:48.411Z"
   },
   {
    "duration": 5,
    "start_time": "2024-03-31T10:33:48.459Z"
   },
   {
    "duration": 40,
    "start_time": "2024-03-31T10:33:48.466Z"
   },
   {
    "duration": 10,
    "start_time": "2024-03-31T10:33:48.508Z"
   },
   {
    "duration": 3,
    "start_time": "2024-03-31T10:33:48.520Z"
   },
   {
    "duration": 42,
    "start_time": "2024-03-31T10:33:48.525Z"
   },
   {
    "duration": 19,
    "start_time": "2024-03-31T10:33:48.569Z"
   },
   {
    "duration": 17,
    "start_time": "2024-03-31T10:33:48.589Z"
   },
   {
    "duration": 4,
    "start_time": "2024-03-31T10:33:48.607Z"
   },
   {
    "duration": 47,
    "start_time": "2024-03-31T10:33:48.612Z"
   },
   {
    "duration": 6,
    "start_time": "2024-03-31T10:33:48.661Z"
   },
   {
    "duration": 8,
    "start_time": "2024-03-31T10:33:48.669Z"
   },
   {
    "duration": 18,
    "start_time": "2024-03-31T10:33:48.678Z"
   },
   {
    "duration": 3,
    "start_time": "2024-03-31T10:33:48.698Z"
   },
   {
    "duration": 33,
    "start_time": "2024-03-31T10:33:48.703Z"
   },
   {
    "duration": 47,
    "start_time": "2024-03-31T10:33:48.737Z"
   },
   {
    "duration": 0,
    "start_time": "2024-03-31T10:33:48.785Z"
   },
   {
    "duration": 79,
    "start_time": "2024-03-31T10:40:52.501Z"
   },
   {
    "duration": 15,
    "start_time": "2024-03-31T10:40:52.582Z"
   },
   {
    "duration": 19,
    "start_time": "2024-03-31T10:40:52.599Z"
   },
   {
    "duration": 47,
    "start_time": "2024-03-31T10:40:52.619Z"
   },
   {
    "duration": 42,
    "start_time": "2024-03-31T10:40:52.669Z"
   },
   {
    "duration": 4,
    "start_time": "2024-03-31T10:40:52.712Z"
   },
   {
    "duration": 42,
    "start_time": "2024-03-31T10:40:52.718Z"
   },
   {
    "duration": 6,
    "start_time": "2024-03-31T10:40:52.762Z"
   },
   {
    "duration": 16,
    "start_time": "2024-03-31T10:40:52.770Z"
   },
   {
    "duration": 18,
    "start_time": "2024-03-31T10:40:52.787Z"
   },
   {
    "duration": 62,
    "start_time": "2024-03-31T10:40:52.807Z"
   },
   {
    "duration": 13,
    "start_time": "2024-03-31T10:40:52.871Z"
   },
   {
    "duration": 21,
    "start_time": "2024-03-31T10:40:52.886Z"
   },
   {
    "duration": 13,
    "start_time": "2024-03-31T10:40:52.910Z"
   },
   {
    "duration": 49,
    "start_time": "2024-03-31T10:40:52.925Z"
   },
   {
    "duration": 20,
    "start_time": "2024-03-31T10:40:52.976Z"
   },
   {
    "duration": 20,
    "start_time": "2024-03-31T10:40:52.998Z"
   },
   {
    "duration": 14,
    "start_time": "2024-03-31T10:40:53.019Z"
   },
   {
    "duration": 25,
    "start_time": "2024-03-31T10:40:53.034Z"
   },
   {
    "duration": 3,
    "start_time": "2024-03-31T10:40:53.061Z"
   },
   {
    "duration": 14,
    "start_time": "2024-03-31T10:40:53.066Z"
   },
   {
    "duration": 5,
    "start_time": "2024-03-31T10:40:53.081Z"
   },
   {
    "duration": 13,
    "start_time": "2024-03-31T10:40:53.087Z"
   },
   {
    "duration": 74,
    "start_time": "2024-03-31T10:40:53.102Z"
   },
   {
    "duration": 0,
    "start_time": "2024-03-31T10:40:53.178Z"
   },
   {
    "duration": 71,
    "start_time": "2024-03-31T10:40:59.909Z"
   },
   {
    "duration": 16,
    "start_time": "2024-03-31T10:40:59.982Z"
   },
   {
    "duration": 60,
    "start_time": "2024-03-31T10:40:59.999Z"
   },
   {
    "duration": 30,
    "start_time": "2024-03-31T10:41:00.061Z"
   },
   {
    "duration": 63,
    "start_time": "2024-03-31T10:41:00.093Z"
   },
   {
    "duration": 32,
    "start_time": "2024-03-31T10:41:00.157Z"
   },
   {
    "duration": 90,
    "start_time": "2024-03-31T10:41:00.190Z"
   },
   {
    "duration": 71,
    "start_time": "2024-03-31T10:41:00.282Z"
   },
   {
    "duration": 85,
    "start_time": "2024-03-31T10:41:00.354Z"
   },
   {
    "duration": 52,
    "start_time": "2024-03-31T10:41:00.441Z"
   },
   {
    "duration": 171,
    "start_time": "2024-03-31T10:41:00.495Z"
   },
   {
    "duration": 43,
    "start_time": "2024-03-31T10:41:00.668Z"
   },
   {
    "duration": 116,
    "start_time": "2024-03-31T10:41:00.713Z"
   },
   {
    "duration": 153,
    "start_time": "2024-03-31T10:41:00.831Z"
   },
   {
    "duration": 108,
    "start_time": "2024-03-31T10:41:00.986Z"
   },
   {
    "duration": 60,
    "start_time": "2024-03-31T10:41:01.095Z"
   },
   {
    "duration": 22,
    "start_time": "2024-03-31T10:41:01.157Z"
   },
   {
    "duration": 41,
    "start_time": "2024-03-31T10:41:01.181Z"
   },
   {
    "duration": 64,
    "start_time": "2024-03-31T10:41:01.224Z"
   },
   {
    "duration": 97,
    "start_time": "2024-03-31T10:41:01.290Z"
   },
   {
    "duration": 133,
    "start_time": "2024-03-31T10:41:01.388Z"
   },
   {
    "duration": 131,
    "start_time": "2024-03-31T10:41:01.523Z"
   },
   {
    "duration": 123,
    "start_time": "2024-03-31T10:41:01.656Z"
   },
   {
    "duration": 261,
    "start_time": "2024-03-31T10:41:01.780Z"
   },
   {
    "duration": 0,
    "start_time": "2024-03-31T10:41:02.042Z"
   },
   {
    "duration": 52,
    "start_time": "2024-03-31T10:41:09.391Z"
   },
   {
    "duration": 73,
    "start_time": "2024-03-31T10:43:56.181Z"
   },
   {
    "duration": 15,
    "start_time": "2024-03-31T10:43:56.256Z"
   },
   {
    "duration": 23,
    "start_time": "2024-03-31T10:43:56.273Z"
   },
   {
    "duration": 11,
    "start_time": "2024-03-31T10:43:56.298Z"
   },
   {
    "duration": 64,
    "start_time": "2024-03-31T10:43:56.311Z"
   },
   {
    "duration": 4,
    "start_time": "2024-03-31T10:43:56.376Z"
   },
   {
    "duration": 15,
    "start_time": "2024-03-31T10:43:56.382Z"
   },
   {
    "duration": 4,
    "start_time": "2024-03-31T10:43:56.399Z"
   },
   {
    "duration": 12,
    "start_time": "2024-03-31T10:43:56.404Z"
   },
   {
    "duration": 47,
    "start_time": "2024-03-31T10:43:56.419Z"
   },
   {
    "duration": 40,
    "start_time": "2024-03-31T10:43:56.470Z"
   },
   {
    "duration": 10,
    "start_time": "2024-03-31T10:43:56.512Z"
   },
   {
    "duration": 12,
    "start_time": "2024-03-31T10:43:56.523Z"
   },
   {
    "duration": 26,
    "start_time": "2024-03-31T10:43:56.536Z"
   },
   {
    "duration": 21,
    "start_time": "2024-03-31T10:43:56.564Z"
   },
   {
    "duration": 20,
    "start_time": "2024-03-31T10:43:56.587Z"
   },
   {
    "duration": 5,
    "start_time": "2024-03-31T10:43:56.608Z"
   },
   {
    "duration": 49,
    "start_time": "2024-03-31T10:43:56.615Z"
   },
   {
    "duration": 27,
    "start_time": "2024-03-31T10:43:56.666Z"
   },
   {
    "duration": 5,
    "start_time": "2024-03-31T10:43:56.695Z"
   },
   {
    "duration": 23,
    "start_time": "2024-03-31T10:43:56.702Z"
   },
   {
    "duration": 8,
    "start_time": "2024-03-31T10:43:56.727Z"
   },
   {
    "duration": 15,
    "start_time": "2024-03-31T10:43:56.736Z"
   },
   {
    "duration": 44,
    "start_time": "2024-03-31T10:43:56.752Z"
   },
   {
    "duration": 0,
    "start_time": "2024-03-31T10:43:56.798Z"
   },
   {
    "duration": 42,
    "start_time": "2024-03-31T10:44:01.818Z"
   },
   {
    "duration": 39,
    "start_time": "2024-03-31T10:44:21.597Z"
   },
   {
    "duration": 41,
    "start_time": "2024-03-31T10:44:29.193Z"
   },
   {
    "duration": 41,
    "start_time": "2024-03-31T10:44:31.229Z"
   },
   {
    "duration": 49,
    "start_time": "2024-03-31T10:44:42.090Z"
   },
   {
    "duration": 77,
    "start_time": "2024-03-31T11:40:58.718Z"
   },
   {
    "duration": 17,
    "start_time": "2024-03-31T11:40:58.796Z"
   },
   {
    "duration": 44,
    "start_time": "2024-03-31T11:40:58.815Z"
   },
   {
    "duration": 12,
    "start_time": "2024-03-31T11:40:58.862Z"
   },
   {
    "duration": 41,
    "start_time": "2024-03-31T11:40:58.876Z"
   },
   {
    "duration": 4,
    "start_time": "2024-03-31T11:40:58.919Z"
   },
   {
    "duration": 11,
    "start_time": "2024-03-31T11:40:58.958Z"
   },
   {
    "duration": 5,
    "start_time": "2024-03-31T11:40:58.971Z"
   },
   {
    "duration": 8,
    "start_time": "2024-03-31T11:40:58.977Z"
   },
   {
    "duration": 7,
    "start_time": "2024-03-31T11:40:58.988Z"
   },
   {
    "duration": 92,
    "start_time": "2024-03-31T11:40:58.997Z"
   },
   {
    "duration": 11,
    "start_time": "2024-03-31T11:40:59.091Z"
   },
   {
    "duration": 4,
    "start_time": "2024-03-31T11:40:59.103Z"
   },
   {
    "duration": 50,
    "start_time": "2024-03-31T11:40:59.108Z"
   },
   {
    "duration": 30,
    "start_time": "2024-03-31T11:40:59.160Z"
   },
   {
    "duration": 21,
    "start_time": "2024-03-31T11:40:59.192Z"
   },
   {
    "duration": 3,
    "start_time": "2024-03-31T11:40:59.215Z"
   },
   {
    "duration": 45,
    "start_time": "2024-03-31T11:40:59.220Z"
   },
   {
    "duration": 6,
    "start_time": "2024-03-31T11:40:59.266Z"
   },
   {
    "duration": 11,
    "start_time": "2024-03-31T11:40:59.273Z"
   },
   {
    "duration": 10,
    "start_time": "2024-03-31T11:40:59.285Z"
   },
   {
    "duration": 9,
    "start_time": "2024-03-31T11:40:59.297Z"
   },
   {
    "duration": 8,
    "start_time": "2024-03-31T11:40:59.308Z"
   },
   {
    "duration": 100,
    "start_time": "2024-03-31T11:40:59.318Z"
   },
   {
    "duration": 1,
    "start_time": "2024-03-31T11:40:59.420Z"
   },
   {
    "duration": 13,
    "start_time": "2024-03-31T11:43:53.355Z"
   },
   {
    "duration": 73,
    "start_time": "2024-03-31T11:44:43.427Z"
   },
   {
    "duration": 15,
    "start_time": "2024-03-31T11:44:43.502Z"
   },
   {
    "duration": 45,
    "start_time": "2024-03-31T11:44:43.519Z"
   },
   {
    "duration": 10,
    "start_time": "2024-03-31T11:44:43.565Z"
   },
   {
    "duration": 34,
    "start_time": "2024-03-31T11:44:43.578Z"
   },
   {
    "duration": 3,
    "start_time": "2024-03-31T11:44:43.614Z"
   },
   {
    "duration": 46,
    "start_time": "2024-03-31T11:44:43.619Z"
   },
   {
    "duration": 4,
    "start_time": "2024-03-31T11:44:43.667Z"
   },
   {
    "duration": 6,
    "start_time": "2024-03-31T11:44:43.672Z"
   },
   {
    "duration": 5,
    "start_time": "2024-03-31T11:44:43.679Z"
   },
   {
    "duration": 97,
    "start_time": "2024-03-31T11:44:43.685Z"
   },
   {
    "duration": 11,
    "start_time": "2024-03-31T11:44:43.783Z"
   },
   {
    "duration": 16,
    "start_time": "2024-03-31T11:44:43.795Z"
   },
   {
    "duration": 18,
    "start_time": "2024-03-31T11:44:43.815Z"
   },
   {
    "duration": 36,
    "start_time": "2024-03-31T11:44:43.834Z"
   },
   {
    "duration": 20,
    "start_time": "2024-03-31T11:44:43.871Z"
   },
   {
    "duration": 4,
    "start_time": "2024-03-31T11:44:43.892Z"
   },
   {
    "duration": 14,
    "start_time": "2024-03-31T11:44:43.897Z"
   },
   {
    "duration": 51,
    "start_time": "2024-03-31T11:44:43.912Z"
   },
   {
    "duration": 4,
    "start_time": "2024-03-31T11:44:43.965Z"
   },
   {
    "duration": 10,
    "start_time": "2024-03-31T11:44:43.970Z"
   },
   {
    "duration": 6,
    "start_time": "2024-03-31T11:44:43.981Z"
   },
   {
    "duration": 10,
    "start_time": "2024-03-31T11:44:43.988Z"
   },
   {
    "duration": 62,
    "start_time": "2024-03-31T11:44:43.999Z"
   },
   {
    "duration": 55,
    "start_time": "2024-03-31T11:44:44.062Z"
   },
   {
    "duration": 15,
    "start_time": "2024-03-31T11:45:00.321Z"
   },
   {
    "duration": 96,
    "start_time": "2024-04-01T13:47:45.070Z"
   },
   {
    "duration": 526,
    "start_time": "2024-04-01T15:37:37.743Z"
   },
   {
    "duration": 18,
    "start_time": "2024-04-01T15:37:38.271Z"
   },
   {
    "duration": 22,
    "start_time": "2024-04-01T15:37:38.290Z"
   },
   {
    "duration": 8,
    "start_time": "2024-04-01T15:37:38.314Z"
   },
   {
    "duration": 39,
    "start_time": "2024-04-01T15:37:38.323Z"
   },
   {
    "duration": 2,
    "start_time": "2024-04-01T15:37:38.364Z"
   },
   {
    "duration": 32,
    "start_time": "2024-04-01T15:37:38.368Z"
   },
   {
    "duration": 5,
    "start_time": "2024-04-01T15:37:38.401Z"
   },
   {
    "duration": 20,
    "start_time": "2024-04-01T15:37:38.408Z"
   },
   {
    "duration": 7,
    "start_time": "2024-04-01T15:37:38.430Z"
   },
   {
    "duration": 34,
    "start_time": "2024-04-01T15:37:38.438Z"
   },
   {
    "duration": 8,
    "start_time": "2024-04-01T15:37:38.474Z"
   },
   {
    "duration": 22,
    "start_time": "2024-04-01T15:37:38.483Z"
   },
   {
    "duration": 15,
    "start_time": "2024-04-01T15:37:38.506Z"
   },
   {
    "duration": 41,
    "start_time": "2024-04-01T15:37:38.522Z"
   },
   {
    "duration": 15,
    "start_time": "2024-04-01T15:37:38.564Z"
   },
   {
    "duration": 3,
    "start_time": "2024-04-01T15:37:38.581Z"
   },
   {
    "duration": 13,
    "start_time": "2024-04-01T15:37:38.585Z"
   },
   {
    "duration": 5,
    "start_time": "2024-04-01T15:37:38.599Z"
   },
   {
    "duration": 7,
    "start_time": "2024-04-01T15:37:38.606Z"
   },
   {
    "duration": 15,
    "start_time": "2024-04-01T15:37:38.614Z"
   },
   {
    "duration": 8,
    "start_time": "2024-04-01T15:37:38.630Z"
   },
   {
    "duration": 22,
    "start_time": "2024-04-01T15:37:38.640Z"
   },
   {
    "duration": 33,
    "start_time": "2024-04-01T15:37:38.664Z"
   },
   {
    "duration": 11,
    "start_time": "2024-04-01T15:37:38.698Z"
   },
   {
    "duration": 8,
    "start_time": "2024-04-01T15:48:33.412Z"
   },
   {
    "duration": 49,
    "start_time": "2024-04-02T21:11:50.467Z"
   },
   {
    "duration": 716,
    "start_time": "2024-04-02T21:12:02.667Z"
   },
   {
    "duration": 24,
    "start_time": "2024-04-02T21:12:03.385Z"
   },
   {
    "duration": 50,
    "start_time": "2024-04-02T21:12:03.411Z"
   },
   {
    "duration": 20,
    "start_time": "2024-04-02T21:12:03.463Z"
   },
   {
    "duration": 57,
    "start_time": "2024-04-02T21:12:03.485Z"
   },
   {
    "duration": 4,
    "start_time": "2024-04-02T21:12:03.544Z"
   },
   {
    "duration": 21,
    "start_time": "2024-04-02T21:12:03.550Z"
   },
   {
    "duration": 15,
    "start_time": "2024-04-02T21:12:03.572Z"
   },
   {
    "duration": 32,
    "start_time": "2024-04-02T21:12:03.589Z"
   },
   {
    "duration": 48,
    "start_time": "2024-04-02T21:12:03.625Z"
   },
   {
    "duration": 39,
    "start_time": "2024-04-02T21:12:03.675Z"
   },
   {
    "duration": 11,
    "start_time": "2024-04-02T21:12:03.716Z"
   },
   {
    "duration": 15,
    "start_time": "2024-04-02T21:12:03.728Z"
   },
   {
    "duration": 33,
    "start_time": "2024-04-02T21:12:03.745Z"
   },
   {
    "duration": 44,
    "start_time": "2024-04-02T21:12:03.780Z"
   },
   {
    "duration": 18,
    "start_time": "2024-04-02T21:12:03.825Z"
   },
   {
    "duration": 7,
    "start_time": "2024-04-02T21:12:03.844Z"
   },
   {
    "duration": 29,
    "start_time": "2024-04-02T21:12:03.853Z"
   },
   {
    "duration": 14,
    "start_time": "2024-04-02T21:12:03.884Z"
   },
   {
    "duration": 5,
    "start_time": "2024-04-02T21:12:03.900Z"
   },
   {
    "duration": 29,
    "start_time": "2024-04-02T21:12:03.907Z"
   },
   {
    "duration": 26,
    "start_time": "2024-04-02T21:12:03.937Z"
   },
   {
    "duration": 13,
    "start_time": "2024-04-02T21:12:03.965Z"
   },
   {
    "duration": 27,
    "start_time": "2024-04-02T21:12:03.980Z"
   },
   {
    "duration": 16,
    "start_time": "2024-04-02T21:12:04.009Z"
   },
   {
    "duration": 74,
    "start_time": "2024-04-02T21:13:00.104Z"
   },
   {
    "duration": 23,
    "start_time": "2024-04-02T21:13:00.180Z"
   },
   {
    "duration": 89,
    "start_time": "2024-04-02T21:13:00.205Z"
   },
   {
    "duration": 106,
    "start_time": "2024-04-02T21:13:00.296Z"
   },
   {
    "duration": 831,
    "start_time": "2024-04-02T21:13:00.404Z"
   },
   {
    "duration": 131,
    "start_time": "2024-04-02T21:13:01.237Z"
   },
   {
    "duration": 176,
    "start_time": "2024-04-02T21:13:01.370Z"
   },
   {
    "duration": 585,
    "start_time": "2024-04-02T21:13:01.548Z"
   },
   {
    "duration": 558,
    "start_time": "2024-04-02T21:13:02.135Z"
   },
   {
    "duration": 260,
    "start_time": "2024-04-02T21:13:02.696Z"
   },
   {
    "duration": 132,
    "start_time": "2024-04-02T21:13:02.958Z"
   },
   {
    "duration": 11,
    "start_time": "2024-04-02T21:13:03.091Z"
   },
   {
    "duration": 81,
    "start_time": "2024-04-02T21:13:03.104Z"
   },
   {
    "duration": 27,
    "start_time": "2024-04-02T21:13:03.186Z"
   },
   {
    "duration": 47,
    "start_time": "2024-04-02T21:13:03.215Z"
   },
   {
    "duration": 66,
    "start_time": "2024-04-02T21:13:03.264Z"
   },
   {
    "duration": 11,
    "start_time": "2024-04-02T21:13:03.332Z"
   },
   {
    "duration": 48,
    "start_time": "2024-04-02T21:13:03.345Z"
   },
   {
    "duration": 213,
    "start_time": "2024-04-02T21:13:03.394Z"
   },
   {
    "duration": 33,
    "start_time": "2024-04-02T21:13:03.609Z"
   },
   {
    "duration": 27,
    "start_time": "2024-04-02T21:13:03.644Z"
   },
   {
    "duration": 16,
    "start_time": "2024-04-02T21:13:03.672Z"
   },
   {
    "duration": 14,
    "start_time": "2024-04-02T21:13:03.690Z"
   },
   {
    "duration": 18,
    "start_time": "2024-04-02T21:13:03.705Z"
   },
   {
    "duration": 14,
    "start_time": "2024-04-02T21:13:03.724Z"
   },
   {
    "duration": 3,
    "start_time": "2024-04-02T21:13:44.135Z"
   },
   {
    "duration": 455,
    "start_time": "2024-04-02T21:13:48.105Z"
   },
   {
    "duration": 24,
    "start_time": "2024-04-02T21:13:48.562Z"
   },
   {
    "duration": 15,
    "start_time": "2024-04-02T21:13:48.587Z"
   },
   {
    "duration": 10,
    "start_time": "2024-04-02T21:13:48.604Z"
   },
   {
    "duration": 38,
    "start_time": "2024-04-02T21:13:48.615Z"
   },
   {
    "duration": 26,
    "start_time": "2024-04-02T21:13:48.654Z"
   },
   {
    "duration": 10,
    "start_time": "2024-04-02T21:13:48.682Z"
   },
   {
    "duration": 18,
    "start_time": "2024-04-02T21:13:48.693Z"
   },
   {
    "duration": 10,
    "start_time": "2024-04-02T21:13:48.713Z"
   },
   {
    "duration": 7,
    "start_time": "2024-04-02T21:13:48.726Z"
   },
   {
    "duration": 48,
    "start_time": "2024-04-02T21:13:48.735Z"
   },
   {
    "duration": 11,
    "start_time": "2024-04-02T21:13:48.785Z"
   },
   {
    "duration": 10,
    "start_time": "2024-04-02T21:13:48.798Z"
   },
   {
    "duration": 12,
    "start_time": "2024-04-02T21:13:48.810Z"
   },
   {
    "duration": 22,
    "start_time": "2024-04-02T21:13:48.824Z"
   },
   {
    "duration": 32,
    "start_time": "2024-04-02T21:13:48.848Z"
   },
   {
    "duration": 4,
    "start_time": "2024-04-02T21:13:48.882Z"
   },
   {
    "duration": 18,
    "start_time": "2024-04-02T21:13:48.888Z"
   },
   {
    "duration": 13,
    "start_time": "2024-04-02T21:13:48.908Z"
   },
   {
    "duration": 3,
    "start_time": "2024-04-02T21:13:48.923Z"
   },
   {
    "duration": 11,
    "start_time": "2024-04-02T21:13:48.928Z"
   },
   {
    "duration": 10,
    "start_time": "2024-04-02T21:13:48.941Z"
   },
   {
    "duration": 16,
    "start_time": "2024-04-02T21:13:48.952Z"
   },
   {
    "duration": 36,
    "start_time": "2024-04-02T21:13:48.980Z"
   },
   {
    "duration": 16,
    "start_time": "2024-04-02T21:13:49.018Z"
   },
   {
    "duration": 11,
    "start_time": "2024-04-02T21:22:43.320Z"
   },
   {
    "duration": 633,
    "start_time": "2024-04-03T20:46:00.879Z"
   },
   {
    "duration": 22,
    "start_time": "2024-04-03T20:46:01.514Z"
   },
   {
    "duration": 67,
    "start_time": "2024-04-03T20:46:01.537Z"
   },
   {
    "duration": 76,
    "start_time": "2024-04-03T20:46:01.606Z"
   },
   {
    "duration": 157,
    "start_time": "2024-04-03T20:46:01.684Z"
   },
   {
    "duration": 126,
    "start_time": "2024-04-03T20:46:01.843Z"
   },
   {
    "duration": 56,
    "start_time": "2024-04-03T20:46:01.971Z"
   },
   {
    "duration": 26,
    "start_time": "2024-04-03T20:46:02.028Z"
   },
   {
    "duration": 44,
    "start_time": "2024-04-03T20:46:02.055Z"
   },
   {
    "duration": 44,
    "start_time": "2024-04-03T20:46:02.101Z"
   },
   {
    "duration": 66,
    "start_time": "2024-04-03T20:46:02.146Z"
   },
   {
    "duration": 51,
    "start_time": "2024-04-03T20:46:02.213Z"
   },
   {
    "duration": 16,
    "start_time": "2024-04-03T20:46:02.265Z"
   },
   {
    "duration": 40,
    "start_time": "2024-04-03T20:46:02.283Z"
   },
   {
    "duration": 60,
    "start_time": "2024-04-03T20:46:02.325Z"
   },
   {
    "duration": 16,
    "start_time": "2024-04-03T20:46:02.387Z"
   },
   {
    "duration": 13,
    "start_time": "2024-04-03T20:46:02.405Z"
   },
   {
    "duration": 43,
    "start_time": "2024-04-03T20:46:02.420Z"
   },
   {
    "duration": 17,
    "start_time": "2024-04-03T20:46:02.464Z"
   },
   {
    "duration": 30,
    "start_time": "2024-04-03T20:46:02.484Z"
   },
   {
    "duration": 36,
    "start_time": "2024-04-03T20:46:02.515Z"
   },
   {
    "duration": 24,
    "start_time": "2024-04-03T20:46:02.552Z"
   },
   {
    "duration": 46,
    "start_time": "2024-04-03T20:46:02.579Z"
   },
   {
    "duration": 15,
    "start_time": "2024-04-03T20:46:02.627Z"
   },
   {
    "duration": 13,
    "start_time": "2024-04-03T20:46:02.644Z"
   },
   {
    "duration": 54,
    "start_time": "2024-04-03T20:47:04.871Z"
   },
   {
    "duration": 9,
    "start_time": "2024-04-03T20:47:11.570Z"
   },
   {
    "duration": 9,
    "start_time": "2024-04-03T20:50:29.821Z"
   },
   {
    "duration": 18,
    "start_time": "2024-04-03T20:54:36.527Z"
   },
   {
    "duration": 18,
    "start_time": "2024-04-03T20:58:11.575Z"
   },
   {
    "duration": 54,
    "start_time": "2024-04-03T21:16:14.473Z"
   },
   {
    "duration": 15,
    "start_time": "2024-04-03T21:16:14.529Z"
   },
   {
    "duration": 32,
    "start_time": "2024-04-03T21:16:14.547Z"
   },
   {
    "duration": 10,
    "start_time": "2024-04-03T21:16:14.581Z"
   },
   {
    "duration": 38,
    "start_time": "2024-04-03T21:16:14.593Z"
   },
   {
    "duration": 4,
    "start_time": "2024-04-03T21:16:14.632Z"
   },
   {
    "duration": 44,
    "start_time": "2024-04-03T21:16:14.637Z"
   },
   {
    "duration": 20,
    "start_time": "2024-04-03T21:16:14.684Z"
   },
   {
    "duration": 13,
    "start_time": "2024-04-03T21:16:14.705Z"
   },
   {
    "duration": 9,
    "start_time": "2024-04-03T21:16:14.720Z"
   },
   {
    "duration": 73,
    "start_time": "2024-04-03T21:16:14.730Z"
   },
   {
    "duration": 10,
    "start_time": "2024-04-03T21:16:14.804Z"
   },
   {
    "duration": 6,
    "start_time": "2024-04-03T21:16:14.815Z"
   },
   {
    "duration": 15,
    "start_time": "2024-04-03T21:16:14.823Z"
   },
   {
    "duration": 46,
    "start_time": "2024-04-03T21:16:14.839Z"
   },
   {
    "duration": 18,
    "start_time": "2024-04-03T21:16:14.886Z"
   },
   {
    "duration": 4,
    "start_time": "2024-04-03T21:16:14.905Z"
   },
   {
    "duration": 30,
    "start_time": "2024-04-03T21:16:14.910Z"
   },
   {
    "duration": 41,
    "start_time": "2024-04-03T21:16:14.941Z"
   },
   {
    "duration": 55,
    "start_time": "2024-04-03T21:16:14.984Z"
   },
   {
    "duration": 90,
    "start_time": "2024-04-03T21:16:15.040Z"
   },
   {
    "duration": 55,
    "start_time": "2024-04-03T21:16:15.132Z"
   },
   {
    "duration": 51,
    "start_time": "2024-04-03T21:16:15.189Z"
   },
   {
    "duration": 45,
    "start_time": "2024-04-03T21:16:15.242Z"
   },
   {
    "duration": 75,
    "start_time": "2024-04-03T21:16:15.288Z"
   },
   {
    "duration": 622,
    "start_time": "2024-04-04T15:57:20.048Z"
   },
   {
    "duration": 22,
    "start_time": "2024-04-04T15:57:20.672Z"
   },
   {
    "duration": 38,
    "start_time": "2024-04-04T15:57:20.696Z"
   },
   {
    "duration": 27,
    "start_time": "2024-04-04T15:57:20.737Z"
   },
   {
    "duration": 56,
    "start_time": "2024-04-04T15:57:20.766Z"
   },
   {
    "duration": 4,
    "start_time": "2024-04-04T15:57:20.823Z"
   },
   {
    "duration": 38,
    "start_time": "2024-04-04T15:57:20.828Z"
   },
   {
    "duration": 9,
    "start_time": "2024-04-04T15:57:20.868Z"
   },
   {
    "duration": 20,
    "start_time": "2024-04-04T15:57:20.878Z"
   },
   {
    "duration": 12,
    "start_time": "2024-04-04T15:57:20.902Z"
   },
   {
    "duration": 65,
    "start_time": "2024-04-04T15:57:20.916Z"
   },
   {
    "duration": 11,
    "start_time": "2024-04-04T15:57:20.983Z"
   },
   {
    "duration": 13,
    "start_time": "2024-04-04T15:57:20.995Z"
   },
   {
    "duration": 21,
    "start_time": "2024-04-04T15:57:21.009Z"
   },
   {
    "duration": 41,
    "start_time": "2024-04-04T15:57:21.031Z"
   },
   {
    "duration": 16,
    "start_time": "2024-04-04T15:57:21.074Z"
   },
   {
    "duration": 18,
    "start_time": "2024-04-04T15:57:21.092Z"
   },
   {
    "duration": 51,
    "start_time": "2024-04-04T15:57:21.111Z"
   },
   {
    "duration": 7,
    "start_time": "2024-04-04T15:57:21.164Z"
   },
   {
    "duration": 17,
    "start_time": "2024-04-04T15:57:21.173Z"
   },
   {
    "duration": 45,
    "start_time": "2024-04-04T15:57:21.192Z"
   },
   {
    "duration": 32,
    "start_time": "2024-04-04T15:57:21.239Z"
   },
   {
    "duration": 27,
    "start_time": "2024-04-04T15:57:21.273Z"
   },
   {
    "duration": 29,
    "start_time": "2024-04-04T15:57:21.302Z"
   },
   {
    "duration": 17,
    "start_time": "2024-04-04T15:57:21.332Z"
   },
   {
    "duration": 633,
    "start_time": "2024-04-08T14:18:58.246Z"
   },
   {
    "duration": 19,
    "start_time": "2024-04-08T14:18:58.881Z"
   },
   {
    "duration": 62,
    "start_time": "2024-04-08T14:18:58.901Z"
   },
   {
    "duration": 22,
    "start_time": "2024-04-08T14:18:58.965Z"
   },
   {
    "duration": 60,
    "start_time": "2024-04-08T14:18:58.989Z"
   },
   {
    "duration": 3,
    "start_time": "2024-04-08T14:18:59.051Z"
   },
   {
    "duration": 47,
    "start_time": "2024-04-08T14:18:59.055Z"
   },
   {
    "duration": 29,
    "start_time": "2024-04-08T14:18:59.104Z"
   },
   {
    "duration": 31,
    "start_time": "2024-04-08T14:18:59.134Z"
   },
   {
    "duration": 22,
    "start_time": "2024-04-08T14:18:59.168Z"
   },
   {
    "duration": 40,
    "start_time": "2024-04-08T14:18:59.191Z"
   },
   {
    "duration": 9,
    "start_time": "2024-04-08T14:18:59.233Z"
   },
   {
    "duration": 33,
    "start_time": "2024-04-08T14:18:59.244Z"
   },
   {
    "duration": 34,
    "start_time": "2024-04-08T14:18:59.278Z"
   },
   {
    "duration": 30,
    "start_time": "2024-04-08T14:18:59.313Z"
   },
   {
    "duration": 58,
    "start_time": "2024-04-08T14:18:59.344Z"
   },
   {
    "duration": 22,
    "start_time": "2024-04-08T14:18:59.403Z"
   },
   {
    "duration": 49,
    "start_time": "2024-04-08T14:18:59.426Z"
   },
   {
    "duration": 41,
    "start_time": "2024-04-08T14:18:59.477Z"
   },
   {
    "duration": 13,
    "start_time": "2024-04-08T14:18:59.519Z"
   },
   {
    "duration": 31,
    "start_time": "2024-04-08T14:18:59.534Z"
   },
   {
    "duration": 27,
    "start_time": "2024-04-08T14:18:59.566Z"
   },
   {
    "duration": 41,
    "start_time": "2024-04-08T14:18:59.595Z"
   },
   {
    "duration": 30,
    "start_time": "2024-04-08T14:18:59.637Z"
   },
   {
    "duration": 46,
    "start_time": "2024-04-08T14:18:59.668Z"
   }
  ],
  "colab": {
   "provenance": []
  },
  "kernelspec": {
   "display_name": "Python 3 (ipykernel)",
   "language": "python",
   "name": "python3"
  },
  "language_info": {
   "codemirror_mode": {
    "name": "ipython",
    "version": 3
   },
   "file_extension": ".py",
   "mimetype": "text/x-python",
   "name": "python",
   "nbconvert_exporter": "python",
   "pygments_lexer": "ipython3",
   "version": "3.9.5"
  },
  "toc": {
   "base_numbering": 1,
   "nav_menu": {},
   "number_sections": true,
   "sideBar": true,
   "skip_h1_title": true,
   "title_cell": "Table of Contents",
   "title_sidebar": "Contents",
   "toc_cell": false,
   "toc_position": {},
   "toc_section_display": true,
   "toc_window_display": false
  }
 },
 "nbformat": 4,
 "nbformat_minor": 5
}
