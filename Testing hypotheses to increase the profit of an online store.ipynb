{
 "cells": [
  {
   "cell_type": "markdown",
   "metadata": {},
   "source": [
    "# Проверка гипотез для увеличения прибыли интернет-магазина "
   ]
  },
  {
   "cell_type": "markdown",
   "metadata": {},
   "source": [
    "**Описание проекта:** \n",
    "есть списоск гипотез, которые надо проверить и понять, принесут ли они нам увеличение выручки или нет. Задача приоритизировать гипотезы, запустить A/B-тест и проанализировать результаты. "
   ]
  },
  {
   "cell_type": "markdown",
   "metadata": {},
   "source": [
    "## План работы"
   ]
  },
  {
   "cell_type": "markdown",
   "metadata": {},
   "source": [
    "**Часть 1. Приоритизация гипотез.**\n",
    "- Применить фреймворк ICE для приоритизации гипотез. Отсортировать их по убыванию приоритета.\n",
    "- Применить фреймворк RICE для приоритизации гипотез. Отсортировать их по убыванию приоритета.\n",
    "- Указать, как изменилась приоритизация гипотез при применении RICE вместо ICE. Объяснить, почему так произошло.\n",
    "\n",
    "**Часть 2. Анализ A/B-теста.Проанализировать A/B-тест:**\n",
    "- Построить график кумулятивной выручки по группам. Сделать выводы и предположения.\n",
    "- Построить график кумулятивного среднего чека по группам. Сделать выводы и предположения.\n",
    "- Построить график относительного изменения кумулятивного среднего чека группы B к группе A. Сделать выводы и предположения.\n",
    "- Построить график кумулятивного среднего количества заказов на посетителя по группам. Сделать выводы и предположения.\n",
    "- Построить график относительного изменения кумулятивного среднего количества заказов на посетителя группы B к группе A. Сделать выводы и предположения.\n",
    "- Построить точечный график количества заказов по пользователям. Сделать выводы и предположения.\n",
    "- Посчитать 95-й и 99-й перцентили количества заказов на пользователя. Выбрать границу для определения аномальных пользователей.\n",
    "- Построить точечный график стоимостей заказов. Сделать выводы и предположения.\n",
    "- Посчитать 95-й и 99-й перцентили стоимости заказов. Выбрать границу для определения аномальных заказов.\n",
    "- Посчитать статистическую значимость различий в среднем количестве заказов на посетителя между группами по «сырым» данным. Сделать выводы и предположения.\n",
    "- Посчитать статистическую значимость различий в среднем чеке заказа между группами по «сырым» данным. Сделать выводы и предположения.\n",
    "- Посчитать статистическую значимость различий в среднем количестве заказов на посетителя между группами по «очищенным» данным. Сделать выводы и предположения.\n",
    "- Посчитать статистическую значимость различий в среднем чеке заказа между группами по «очищенным» данным. Сделать выводы и предположения.\n",
    "- Принять решение по результатам теста и объяснить его.\n",
    "\n",
    "**Сделать общий вывод**"
   ]
  },
  {
   "cell_type": "markdown",
   "metadata": {},
   "source": [
    "# Часть 1. Приоритизация гипотез."
   ]
  },
  {
   "cell_type": "code",
   "execution_count": 1,
   "metadata": {},
   "outputs": [],
   "source": [
    "import pandas as pd\n",
    "import matplotlib.pyplot as plt\n",
    "import datetime as dt\n",
    "import numpy as np\n",
    "import seaborn as sns\n",
    "import scipy.stats as stats"
   ]
  },
  {
   "cell_type": "code",
   "execution_count": 2,
   "metadata": {},
   "outputs": [
    {
     "data": {
      "text/html": [
       "<div>\n",
       "<style scoped>\n",
       "    .dataframe tbody tr th:only-of-type {\n",
       "        vertical-align: middle;\n",
       "    }\n",
       "\n",
       "    .dataframe tbody tr th {\n",
       "        vertical-align: top;\n",
       "    }\n",
       "\n",
       "    .dataframe thead th {\n",
       "        text-align: right;\n",
       "    }\n",
       "</style>\n",
       "<table border=\"1\" class=\"dataframe\">\n",
       "  <thead>\n",
       "    <tr style=\"text-align: right;\">\n",
       "      <th></th>\n",
       "      <th>Hypothesis</th>\n",
       "      <th>Reach</th>\n",
       "      <th>Impact</th>\n",
       "      <th>Confidence</th>\n",
       "      <th>Efforts</th>\n",
       "    </tr>\n",
       "  </thead>\n",
       "  <tbody>\n",
       "    <tr>\n",
       "      <th>0</th>\n",
       "      <td>Добавить два новых канала привлечения трафика, что позволит привлекать на 30% больше пользователей</td>\n",
       "      <td>3</td>\n",
       "      <td>10</td>\n",
       "      <td>8</td>\n",
       "      <td>6</td>\n",
       "    </tr>\n",
       "    <tr>\n",
       "      <th>1</th>\n",
       "      <td>Запустить собственную службу доставки, что сократит срок доставки заказов</td>\n",
       "      <td>2</td>\n",
       "      <td>5</td>\n",
       "      <td>4</td>\n",
       "      <td>10</td>\n",
       "    </tr>\n",
       "    <tr>\n",
       "      <th>2</th>\n",
       "      <td>Добавить блоки рекомендаций товаров на сайт интернет магазина, чтобы повысить конверсию и средний чек заказа</td>\n",
       "      <td>8</td>\n",
       "      <td>3</td>\n",
       "      <td>7</td>\n",
       "      <td>3</td>\n",
       "    </tr>\n",
       "    <tr>\n",
       "      <th>3</th>\n",
       "      <td>Изменить структура категорий, что увеличит конверсию, т.к. пользователи быстрее найдут нужный товар</td>\n",
       "      <td>8</td>\n",
       "      <td>3</td>\n",
       "      <td>3</td>\n",
       "      <td>8</td>\n",
       "    </tr>\n",
       "    <tr>\n",
       "      <th>4</th>\n",
       "      <td>Изменить цвет фона главной страницы, чтобы увеличить вовлеченность пользователей</td>\n",
       "      <td>3</td>\n",
       "      <td>1</td>\n",
       "      <td>1</td>\n",
       "      <td>1</td>\n",
       "    </tr>\n",
       "    <tr>\n",
       "      <th>5</th>\n",
       "      <td>Добавить страницу отзывов клиентов о магазине, что позволит увеличить количество заказов</td>\n",
       "      <td>3</td>\n",
       "      <td>2</td>\n",
       "      <td>2</td>\n",
       "      <td>3</td>\n",
       "    </tr>\n",
       "    <tr>\n",
       "      <th>6</th>\n",
       "      <td>Показать на главной странице баннеры с актуальными акциями и распродажами, чтобы увеличить конверсию</td>\n",
       "      <td>5</td>\n",
       "      <td>3</td>\n",
       "      <td>8</td>\n",
       "      <td>3</td>\n",
       "    </tr>\n",
       "    <tr>\n",
       "      <th>7</th>\n",
       "      <td>Добавить форму подписки на все основные страницы, чтобы собрать базу клиентов для email-рассылок</td>\n",
       "      <td>10</td>\n",
       "      <td>7</td>\n",
       "      <td>8</td>\n",
       "      <td>5</td>\n",
       "    </tr>\n",
       "    <tr>\n",
       "      <th>8</th>\n",
       "      <td>Запустить акцию, дающую скидку на товар в день рождения</td>\n",
       "      <td>1</td>\n",
       "      <td>9</td>\n",
       "      <td>9</td>\n",
       "      <td>5</td>\n",
       "    </tr>\n",
       "  </tbody>\n",
       "</table>\n",
       "</div>"
      ],
      "text/plain": [
       "                                                                                                     Hypothesis  \\\n",
       "0            Добавить два новых канала привлечения трафика, что позволит привлекать на 30% больше пользователей   \n",
       "1                                     Запустить собственную службу доставки, что сократит срок доставки заказов   \n",
       "2  Добавить блоки рекомендаций товаров на сайт интернет магазина, чтобы повысить конверсию и средний чек заказа   \n",
       "3           Изменить структура категорий, что увеличит конверсию, т.к. пользователи быстрее найдут нужный товар   \n",
       "4                              Изменить цвет фона главной страницы, чтобы увеличить вовлеченность пользователей   \n",
       "5                      Добавить страницу отзывов клиентов о магазине, что позволит увеличить количество заказов   \n",
       "6          Показать на главной странице баннеры с актуальными акциями и распродажами, чтобы увеличить конверсию   \n",
       "7              Добавить форму подписки на все основные страницы, чтобы собрать базу клиентов для email-рассылок   \n",
       "8                                                       Запустить акцию, дающую скидку на товар в день рождения   \n",
       "\n",
       "   Reach  Impact  Confidence  Efforts  \n",
       "0      3      10           8        6  \n",
       "1      2       5           4       10  \n",
       "2      8       3           7        3  \n",
       "3      8       3           3        8  \n",
       "4      3       1           1        1  \n",
       "5      3       2           2        3  \n",
       "6      5       3           8        3  \n",
       "7     10       7           8        5  \n",
       "8      1       9           9        5  "
      ]
     },
     "execution_count": 2,
     "metadata": {},
     "output_type": "execute_result"
    }
   ],
   "source": [
    "# прочитаем первый файл\n",
    "pd.options.display.max_colwidth = 150\n",
    "data = pd.read_csv('/datasets/hypothesis.csv')\n",
    "data "
   ]
  },
  {
   "cell_type": "markdown",
   "metadata": {},
   "source": [
    "**Применим фреймворк ICE для приоритизации гипотез. Отсортируем их по убыванию приоритета.**"
   ]
  },
  {
   "cell_type": "code",
   "execution_count": 3,
   "metadata": {},
   "outputs": [
    {
     "data": {
      "text/html": [
       "<div>\n",
       "<style scoped>\n",
       "    .dataframe tbody tr th:only-of-type {\n",
       "        vertical-align: middle;\n",
       "    }\n",
       "\n",
       "    .dataframe tbody tr th {\n",
       "        vertical-align: top;\n",
       "    }\n",
       "\n",
       "    .dataframe thead th {\n",
       "        text-align: right;\n",
       "    }\n",
       "</style>\n",
       "<table border=\"1\" class=\"dataframe\">\n",
       "  <thead>\n",
       "    <tr style=\"text-align: right;\">\n",
       "      <th></th>\n",
       "      <th>Hypothesis</th>\n",
       "      <th>Reach</th>\n",
       "      <th>Impact</th>\n",
       "      <th>Confidence</th>\n",
       "      <th>Efforts</th>\n",
       "      <th>ICE</th>\n",
       "    </tr>\n",
       "  </thead>\n",
       "  <tbody>\n",
       "    <tr>\n",
       "      <th>8</th>\n",
       "      <td>Запустить акцию, дающую скидку на товар в день рождения</td>\n",
       "      <td>1</td>\n",
       "      <td>9</td>\n",
       "      <td>9</td>\n",
       "      <td>5</td>\n",
       "      <td>16.200</td>\n",
       "    </tr>\n",
       "    <tr>\n",
       "      <th>0</th>\n",
       "      <td>Добавить два новых канала привлечения трафика, что позволит привлекать на 30% больше пользователей</td>\n",
       "      <td>3</td>\n",
       "      <td>10</td>\n",
       "      <td>8</td>\n",
       "      <td>6</td>\n",
       "      <td>13.333</td>\n",
       "    </tr>\n",
       "    <tr>\n",
       "      <th>7</th>\n",
       "      <td>Добавить форму подписки на все основные страницы, чтобы собрать базу клиентов для email-рассылок</td>\n",
       "      <td>10</td>\n",
       "      <td>7</td>\n",
       "      <td>8</td>\n",
       "      <td>5</td>\n",
       "      <td>11.200</td>\n",
       "    </tr>\n",
       "    <tr>\n",
       "      <th>6</th>\n",
       "      <td>Показать на главной странице баннеры с актуальными акциями и распродажами, чтобы увеличить конверсию</td>\n",
       "      <td>5</td>\n",
       "      <td>3</td>\n",
       "      <td>8</td>\n",
       "      <td>3</td>\n",
       "      <td>8.000</td>\n",
       "    </tr>\n",
       "    <tr>\n",
       "      <th>2</th>\n",
       "      <td>Добавить блоки рекомендаций товаров на сайт интернет магазина, чтобы повысить конверсию и средний чек заказа</td>\n",
       "      <td>8</td>\n",
       "      <td>3</td>\n",
       "      <td>7</td>\n",
       "      <td>3</td>\n",
       "      <td>7.000</td>\n",
       "    </tr>\n",
       "    <tr>\n",
       "      <th>1</th>\n",
       "      <td>Запустить собственную службу доставки, что сократит срок доставки заказов</td>\n",
       "      <td>2</td>\n",
       "      <td>5</td>\n",
       "      <td>4</td>\n",
       "      <td>10</td>\n",
       "      <td>2.000</td>\n",
       "    </tr>\n",
       "    <tr>\n",
       "      <th>5</th>\n",
       "      <td>Добавить страницу отзывов клиентов о магазине, что позволит увеличить количество заказов</td>\n",
       "      <td>3</td>\n",
       "      <td>2</td>\n",
       "      <td>2</td>\n",
       "      <td>3</td>\n",
       "      <td>1.333</td>\n",
       "    </tr>\n",
       "    <tr>\n",
       "      <th>3</th>\n",
       "      <td>Изменить структура категорий, что увеличит конверсию, т.к. пользователи быстрее найдут нужный товар</td>\n",
       "      <td>8</td>\n",
       "      <td>3</td>\n",
       "      <td>3</td>\n",
       "      <td>8</td>\n",
       "      <td>1.125</td>\n",
       "    </tr>\n",
       "    <tr>\n",
       "      <th>4</th>\n",
       "      <td>Изменить цвет фона главной страницы, чтобы увеличить вовлеченность пользователей</td>\n",
       "      <td>3</td>\n",
       "      <td>1</td>\n",
       "      <td>1</td>\n",
       "      <td>1</td>\n",
       "      <td>1.000</td>\n",
       "    </tr>\n",
       "  </tbody>\n",
       "</table>\n",
       "</div>"
      ],
      "text/plain": [
       "                                                                                                     Hypothesis  \\\n",
       "8                                                       Запустить акцию, дающую скидку на товар в день рождения   \n",
       "0            Добавить два новых канала привлечения трафика, что позволит привлекать на 30% больше пользователей   \n",
       "7              Добавить форму подписки на все основные страницы, чтобы собрать базу клиентов для email-рассылок   \n",
       "6          Показать на главной странице баннеры с актуальными акциями и распродажами, чтобы увеличить конверсию   \n",
       "2  Добавить блоки рекомендаций товаров на сайт интернет магазина, чтобы повысить конверсию и средний чек заказа   \n",
       "1                                     Запустить собственную службу доставки, что сократит срок доставки заказов   \n",
       "5                      Добавить страницу отзывов клиентов о магазине, что позволит увеличить количество заказов   \n",
       "3           Изменить структура категорий, что увеличит конверсию, т.к. пользователи быстрее найдут нужный товар   \n",
       "4                              Изменить цвет фона главной страницы, чтобы увеличить вовлеченность пользователей   \n",
       "\n",
       "   Reach  Impact  Confidence  Efforts     ICE  \n",
       "8      1       9           9        5  16.200  \n",
       "0      3      10           8        6  13.333  \n",
       "7     10       7           8        5  11.200  \n",
       "6      5       3           8        3   8.000  \n",
       "2      8       3           7        3   7.000  \n",
       "1      2       5           4       10   2.000  \n",
       "5      3       2           2        3   1.333  \n",
       "3      8       3           3        8   1.125  \n",
       "4      3       1           1        1   1.000  "
      ]
     },
     "execution_count": 3,
     "metadata": {},
     "output_type": "execute_result"
    }
   ],
   "source": [
    "# добавим столбец ICE\n",
    "data['ICE'] = (data['Impact'] * data['Confidence']) / data['Efforts']\n",
    "data.sort_values(by = 'ICE', ascending = False).round(3)"
   ]
  },
  {
   "cell_type": "markdown",
   "metadata": {},
   "source": [
    "Самый высокий приоритет по ICE у гипотезы \"Запустить акцию, дающую скидку на товар в день рождения\", на втором месте гипотеза \"Добавить два новых канала привлечения трафика,\", на третьем - \"Добавить форму подписки на все основные страницы, чтобы собрать базу клиентов для email-рассылок\t\". Последнее место занимает гипотеза об изменении цвета фона главной страницы."
   ]
  },
  {
   "cell_type": "markdown",
   "metadata": {},
   "source": [
    "**Применим фреймворк RICE для приоритизации гипотез. Отсортируем их по убыванию приоритета.**"
   ]
  },
  {
   "cell_type": "code",
   "execution_count": 4,
   "metadata": {},
   "outputs": [
    {
     "data": {
      "text/html": [
       "<div>\n",
       "<style scoped>\n",
       "    .dataframe tbody tr th:only-of-type {\n",
       "        vertical-align: middle;\n",
       "    }\n",
       "\n",
       "    .dataframe tbody tr th {\n",
       "        vertical-align: top;\n",
       "    }\n",
       "\n",
       "    .dataframe thead th {\n",
       "        text-align: right;\n",
       "    }\n",
       "</style>\n",
       "<table border=\"1\" class=\"dataframe\">\n",
       "  <thead>\n",
       "    <tr style=\"text-align: right;\">\n",
       "      <th></th>\n",
       "      <th>Hypothesis</th>\n",
       "      <th>Reach</th>\n",
       "      <th>Impact</th>\n",
       "      <th>Confidence</th>\n",
       "      <th>Efforts</th>\n",
       "      <th>ICE</th>\n",
       "      <th>RICE</th>\n",
       "    </tr>\n",
       "  </thead>\n",
       "  <tbody>\n",
       "    <tr>\n",
       "      <th>7</th>\n",
       "      <td>Добавить форму подписки на все основные страницы, чтобы собрать базу клиентов для email-рассылок</td>\n",
       "      <td>10</td>\n",
       "      <td>7</td>\n",
       "      <td>8</td>\n",
       "      <td>5</td>\n",
       "      <td>11.0</td>\n",
       "      <td>112.0</td>\n",
       "    </tr>\n",
       "    <tr>\n",
       "      <th>2</th>\n",
       "      <td>Добавить блоки рекомендаций товаров на сайт интернет магазина, чтобы повысить конверсию и средний чек заказа</td>\n",
       "      <td>8</td>\n",
       "      <td>3</td>\n",
       "      <td>7</td>\n",
       "      <td>3</td>\n",
       "      <td>7.0</td>\n",
       "      <td>56.0</td>\n",
       "    </tr>\n",
       "    <tr>\n",
       "      <th>0</th>\n",
       "      <td>Добавить два новых канала привлечения трафика, что позволит привлекать на 30% больше пользователей</td>\n",
       "      <td>3</td>\n",
       "      <td>10</td>\n",
       "      <td>8</td>\n",
       "      <td>6</td>\n",
       "      <td>13.0</td>\n",
       "      <td>40.0</td>\n",
       "    </tr>\n",
       "    <tr>\n",
       "      <th>6</th>\n",
       "      <td>Показать на главной странице баннеры с актуальными акциями и распродажами, чтобы увеличить конверсию</td>\n",
       "      <td>5</td>\n",
       "      <td>3</td>\n",
       "      <td>8</td>\n",
       "      <td>3</td>\n",
       "      <td>8.0</td>\n",
       "      <td>40.0</td>\n",
       "    </tr>\n",
       "    <tr>\n",
       "      <th>8</th>\n",
       "      <td>Запустить акцию, дающую скидку на товар в день рождения</td>\n",
       "      <td>1</td>\n",
       "      <td>9</td>\n",
       "      <td>9</td>\n",
       "      <td>5</td>\n",
       "      <td>16.0</td>\n",
       "      <td>16.0</td>\n",
       "    </tr>\n",
       "    <tr>\n",
       "      <th>3</th>\n",
       "      <td>Изменить структура категорий, что увеличит конверсию, т.к. пользователи быстрее найдут нужный товар</td>\n",
       "      <td>8</td>\n",
       "      <td>3</td>\n",
       "      <td>3</td>\n",
       "      <td>8</td>\n",
       "      <td>1.0</td>\n",
       "      <td>9.0</td>\n",
       "    </tr>\n",
       "    <tr>\n",
       "      <th>1</th>\n",
       "      <td>Запустить собственную службу доставки, что сократит срок доставки заказов</td>\n",
       "      <td>2</td>\n",
       "      <td>5</td>\n",
       "      <td>4</td>\n",
       "      <td>10</td>\n",
       "      <td>2.0</td>\n",
       "      <td>4.0</td>\n",
       "    </tr>\n",
       "    <tr>\n",
       "      <th>5</th>\n",
       "      <td>Добавить страницу отзывов клиентов о магазине, что позволит увеличить количество заказов</td>\n",
       "      <td>3</td>\n",
       "      <td>2</td>\n",
       "      <td>2</td>\n",
       "      <td>3</td>\n",
       "      <td>1.0</td>\n",
       "      <td>4.0</td>\n",
       "    </tr>\n",
       "    <tr>\n",
       "      <th>4</th>\n",
       "      <td>Изменить цвет фона главной страницы, чтобы увеличить вовлеченность пользователей</td>\n",
       "      <td>3</td>\n",
       "      <td>1</td>\n",
       "      <td>1</td>\n",
       "      <td>1</td>\n",
       "      <td>1.0</td>\n",
       "      <td>3.0</td>\n",
       "    </tr>\n",
       "  </tbody>\n",
       "</table>\n",
       "</div>"
      ],
      "text/plain": [
       "                                                                                                     Hypothesis  \\\n",
       "7              Добавить форму подписки на все основные страницы, чтобы собрать базу клиентов для email-рассылок   \n",
       "2  Добавить блоки рекомендаций товаров на сайт интернет магазина, чтобы повысить конверсию и средний чек заказа   \n",
       "0            Добавить два новых канала привлечения трафика, что позволит привлекать на 30% больше пользователей   \n",
       "6          Показать на главной странице баннеры с актуальными акциями и распродажами, чтобы увеличить конверсию   \n",
       "8                                                       Запустить акцию, дающую скидку на товар в день рождения   \n",
       "3           Изменить структура категорий, что увеличит конверсию, т.к. пользователи быстрее найдут нужный товар   \n",
       "1                                     Запустить собственную службу доставки, что сократит срок доставки заказов   \n",
       "5                      Добавить страницу отзывов клиентов о магазине, что позволит увеличить количество заказов   \n",
       "4                              Изменить цвет фона главной страницы, чтобы увеличить вовлеченность пользователей   \n",
       "\n",
       "   Reach  Impact  Confidence  Efforts   ICE   RICE  \n",
       "7     10       7           8        5  11.0  112.0  \n",
       "2      8       3           7        3   7.0   56.0  \n",
       "0      3      10           8        6  13.0   40.0  \n",
       "6      5       3           8        3   8.0   40.0  \n",
       "8      1       9           9        5  16.0   16.0  \n",
       "3      8       3           3        8   1.0    9.0  \n",
       "1      2       5           4       10   2.0    4.0  \n",
       "5      3       2           2        3   1.0    4.0  \n",
       "4      3       1           1        1   1.0    3.0  "
      ]
     },
     "execution_count": 4,
     "metadata": {},
     "output_type": "execute_result"
    }
   ],
   "source": [
    "# добавим столбец RICE\n",
    "data['RICE'] = (data['Impact'] * data['Confidence'] * data['Reach']) / data['Efforts']\n",
    "data.sort_values(by = 'RICE', ascending = False).round()"
   ]
  },
  {
   "cell_type": "markdown",
   "metadata": {},
   "source": [
    "По приоритизации по RICE на первом месте стоит гипотеза о добавлении формы подписки на все основные страницы, на втором месте - добавление блоков рекомендаций товаров, на третьем - добавление двух новых каналов привлечения трафика. На последнем месте опять стоит гипотеза об изменении цвета фона главной страницы."
   ]
  },
  {
   "cell_type": "markdown",
   "metadata": {},
   "source": [
    "**Вывод:**\n",
    "Самый высокий приоритет по ICE у гипотезы \"Запустить акцию, дающую скидку на товар в день... \", на втором месте гипотеза \"Добавить два новых канала привлечения трафика,\", на третьем - \"Добавить форму подписки на все основные страницы...\". Последнее место занимает гипотеза об изменении цвета фона главной страницы.\n",
    "\n",
    "По приоритизации по RICE на первом месте стоит гипотеза о добавлении формы подписки на все основные страницы, на втором месте - добавление блоков рекомендаций товаров, на третьем - добавление двух новых каналов привлечения трафика. На последнем месте опять стоит гипотеза об изменении цвета фона главной страницы.\n",
    "\n",
    "Сравнивая методы, видим, что при влиянии параметра охвата количества пользователей на первое место выходит гипотеза о добавлении формы подписки на все основные страницы. Она имеет максимальный охват - 10. Гипотеза о добавлении блоков рекомендаций имеет reach 8 и поэтому выходит на второе место. \n",
    "\n",
    "При оценки приоритетов по RICE, в отличие от методы ICE, мы учитываем фактор Reach, который влияет на приоритизацию."
   ]
  },
  {
   "cell_type": "markdown",
   "metadata": {},
   "source": [
    "# Часть 2. Анализ A/B-теста"
   ]
  },
  {
   "cell_type": "markdown",
   "metadata": {},
   "source": [
    "Ознакомимся с данными."
   ]
  },
  {
   "cell_type": "code",
   "execution_count": 5,
   "metadata": {},
   "outputs": [
    {
     "data": {
      "text/html": [
       "<div>\n",
       "<style scoped>\n",
       "    .dataframe tbody tr th:only-of-type {\n",
       "        vertical-align: middle;\n",
       "    }\n",
       "\n",
       "    .dataframe tbody tr th {\n",
       "        vertical-align: top;\n",
       "    }\n",
       "\n",
       "    .dataframe thead th {\n",
       "        text-align: right;\n",
       "    }\n",
       "</style>\n",
       "<table border=\"1\" class=\"dataframe\">\n",
       "  <thead>\n",
       "    <tr style=\"text-align: right;\">\n",
       "      <th></th>\n",
       "      <th>transactionId</th>\n",
       "      <th>visitorId</th>\n",
       "      <th>date</th>\n",
       "      <th>revenue</th>\n",
       "      <th>group</th>\n",
       "    </tr>\n",
       "  </thead>\n",
       "  <tbody>\n",
       "    <tr>\n",
       "      <th>0</th>\n",
       "      <td>3667963787</td>\n",
       "      <td>3312258926</td>\n",
       "      <td>2019-08-15</td>\n",
       "      <td>1650</td>\n",
       "      <td>B</td>\n",
       "    </tr>\n",
       "    <tr>\n",
       "      <th>1</th>\n",
       "      <td>2804400009</td>\n",
       "      <td>3642806036</td>\n",
       "      <td>2019-08-15</td>\n",
       "      <td>730</td>\n",
       "      <td>B</td>\n",
       "    </tr>\n",
       "    <tr>\n",
       "      <th>2</th>\n",
       "      <td>2961555356</td>\n",
       "      <td>4069496402</td>\n",
       "      <td>2019-08-15</td>\n",
       "      <td>400</td>\n",
       "      <td>A</td>\n",
       "    </tr>\n",
       "    <tr>\n",
       "      <th>3</th>\n",
       "      <td>3797467345</td>\n",
       "      <td>1196621759</td>\n",
       "      <td>2019-08-15</td>\n",
       "      <td>9759</td>\n",
       "      <td>B</td>\n",
       "    </tr>\n",
       "    <tr>\n",
       "      <th>4</th>\n",
       "      <td>2282983706</td>\n",
       "      <td>2322279887</td>\n",
       "      <td>2019-08-15</td>\n",
       "      <td>2308</td>\n",
       "      <td>B</td>\n",
       "    </tr>\n",
       "  </tbody>\n",
       "</table>\n",
       "</div>"
      ],
      "text/plain": [
       "   transactionId   visitorId       date  revenue group\n",
       "0     3667963787  3312258926 2019-08-15     1650     B\n",
       "1     2804400009  3642806036 2019-08-15      730     B\n",
       "2     2961555356  4069496402 2019-08-15      400     A\n",
       "3     3797467345  1196621759 2019-08-15     9759     B\n",
       "4     2282983706  2322279887 2019-08-15     2308     B"
      ]
     },
     "execution_count": 5,
     "metadata": {},
     "output_type": "execute_result"
    }
   ],
   "source": [
    "# загрузим данные из первого файла\n",
    "orders = pd.read_csv('/datasets/orders.csv')\n",
    "orders['date'] = orders['date'].map(\n",
    "    lambda x: dt.datetime.strptime(x, '%Y-%m-%d')\n",
    ")\n",
    "orders.head()"
   ]
  },
  {
   "cell_type": "code",
   "execution_count": 6,
   "metadata": {},
   "outputs": [
    {
     "data": {
      "text/html": [
       "<div>\n",
       "<style scoped>\n",
       "    .dataframe tbody tr th:only-of-type {\n",
       "        vertical-align: middle;\n",
       "    }\n",
       "\n",
       "    .dataframe tbody tr th {\n",
       "        vertical-align: top;\n",
       "    }\n",
       "\n",
       "    .dataframe thead th {\n",
       "        text-align: right;\n",
       "    }\n",
       "</style>\n",
       "<table border=\"1\" class=\"dataframe\">\n",
       "  <thead>\n",
       "    <tr style=\"text-align: right;\">\n",
       "      <th></th>\n",
       "      <th>date</th>\n",
       "      <th>group</th>\n",
       "      <th>visitors</th>\n",
       "    </tr>\n",
       "  </thead>\n",
       "  <tbody>\n",
       "    <tr>\n",
       "      <th>0</th>\n",
       "      <td>2019-08-01</td>\n",
       "      <td>A</td>\n",
       "      <td>719</td>\n",
       "    </tr>\n",
       "    <tr>\n",
       "      <th>1</th>\n",
       "      <td>2019-08-02</td>\n",
       "      <td>A</td>\n",
       "      <td>619</td>\n",
       "    </tr>\n",
       "    <tr>\n",
       "      <th>2</th>\n",
       "      <td>2019-08-03</td>\n",
       "      <td>A</td>\n",
       "      <td>507</td>\n",
       "    </tr>\n",
       "    <tr>\n",
       "      <th>3</th>\n",
       "      <td>2019-08-04</td>\n",
       "      <td>A</td>\n",
       "      <td>717</td>\n",
       "    </tr>\n",
       "    <tr>\n",
       "      <th>4</th>\n",
       "      <td>2019-08-05</td>\n",
       "      <td>A</td>\n",
       "      <td>756</td>\n",
       "    </tr>\n",
       "  </tbody>\n",
       "</table>\n",
       "</div>"
      ],
      "text/plain": [
       "        date group  visitors\n",
       "0 2019-08-01     A       719\n",
       "1 2019-08-02     A       619\n",
       "2 2019-08-03     A       507\n",
       "3 2019-08-04     A       717\n",
       "4 2019-08-05     A       756"
      ]
     },
     "execution_count": 6,
     "metadata": {},
     "output_type": "execute_result"
    }
   ],
   "source": [
    "# загрузим данные из второго файла\n",
    "visitors = pd.read_csv('/datasets/visitors.csv')\n",
    "visitors['date'] = visitors['date'].map(\n",
    "    lambda x: dt.datetime.strptime(x, '%Y-%m-%d')\n",
    ")\n",
    "visitors.head()"
   ]
  },
  {
   "cell_type": "code",
   "execution_count": 7,
   "metadata": {},
   "outputs": [
    {
     "data": {
      "text/plain": [
       "array(['A', 'B'], dtype=object)"
      ]
     },
     "execution_count": 7,
     "metadata": {},
     "output_type": "execute_result"
    }
   ],
   "source": [
    "# найдем количество групп в А/В тесте\n",
    "visitors['group'].unique()"
   ]
  },
  {
   "cell_type": "markdown",
   "metadata": {},
   "source": [
    "В тесте участвует всего две группы."
   ]
  },
  {
   "cell_type": "markdown",
   "metadata": {},
   "source": [
    "Найдем дату начала и окончания теста."
   ]
  },
  {
   "cell_type": "code",
   "execution_count": 8,
   "metadata": {},
   "outputs": [
    {
     "data": {
      "text/plain": [
       "Timestamp('2019-08-01 00:00:00')"
      ]
     },
     "execution_count": 8,
     "metadata": {},
     "output_type": "execute_result"
    }
   ],
   "source": [
    "# найдем дату начала\n",
    "visitors['date'].min()"
   ]
  },
  {
   "cell_type": "code",
   "execution_count": 9,
   "metadata": {},
   "outputs": [
    {
     "data": {
      "text/plain": [
       "Timestamp('2019-08-31 00:00:00')"
      ]
     },
     "execution_count": 9,
     "metadata": {},
     "output_type": "execute_result"
    }
   ],
   "source": [
    "# найдем дату окончания теста\n",
    "visitors['date'].max()"
   ]
  },
  {
   "cell_type": "markdown",
   "metadata": {},
   "source": [
    "Тест длился один месяц. Начало 1 августа 2019 года и конец 31 августа 2019 года."
   ]
  },
  {
   "cell_type": "markdown",
   "metadata": {},
   "source": [
    "Посмотрим, сколько пользователей содержится в каждой группе.\n"
   ]
  },
  {
   "cell_type": "code",
   "execution_count": 10,
   "metadata": {},
   "outputs": [
    {
     "data": {
      "text/html": [
       "<div>\n",
       "<style scoped>\n",
       "    .dataframe tbody tr th:only-of-type {\n",
       "        vertical-align: middle;\n",
       "    }\n",
       "\n",
       "    .dataframe tbody tr th {\n",
       "        vertical-align: top;\n",
       "    }\n",
       "\n",
       "    .dataframe thead th {\n",
       "        text-align: right;\n",
       "    }\n",
       "</style>\n",
       "<table border=\"1\" class=\"dataframe\">\n",
       "  <thead>\n",
       "    <tr style=\"text-align: right;\">\n",
       "      <th></th>\n",
       "      <th>visitorId</th>\n",
       "    </tr>\n",
       "    <tr>\n",
       "      <th>group</th>\n",
       "      <th></th>\n",
       "    </tr>\n",
       "  </thead>\n",
       "  <tbody>\n",
       "    <tr>\n",
       "      <th>A</th>\n",
       "      <td>557</td>\n",
       "    </tr>\n",
       "    <tr>\n",
       "      <th>B</th>\n",
       "      <td>640</td>\n",
       "    </tr>\n",
       "  </tbody>\n",
       "</table>\n",
       "</div>"
      ],
      "text/plain": [
       "       visitorId\n",
       "group           \n",
       "A            557\n",
       "B            640"
      ]
     },
     "execution_count": 10,
     "metadata": {},
     "output_type": "execute_result"
    }
   ],
   "source": [
    "# количество пользователей по группам\n",
    "orders[['visitorId', 'group']].groupby('group').agg({'visitorId':'count'})"
   ]
  },
  {
   "cell_type": "markdown",
   "metadata": {},
   "source": [
    "В группе А 557 пользователей, в группе B - 640."
   ]
  },
  {
   "cell_type": "markdown",
   "metadata": {},
   "source": [
    "Вычислим вероятность попадания пользователей в обе группы."
   ]
  },
  {
   "cell_type": "code",
   "execution_count": 11,
   "metadata": {},
   "outputs": [
    {
     "data": {
      "text/plain": [
       "group    58\n",
       "dtype: int64"
      ]
     },
     "execution_count": 11,
     "metadata": {},
     "output_type": "execute_result"
    }
   ],
   "source": [
    "orders.groupby('visitorId').agg({'group' : 'nunique'}).query('group>1').count()"
   ]
  },
  {
   "cell_type": "code",
   "execution_count": 12,
   "metadata": {},
   "outputs": [
    {
     "data": {
      "text/plain": [
       "array([   8300375,  199603092,  232979603,  237748145,  276558944,\n",
       "        351125977,  393266494,  457167155,  471551937,  477780734,\n",
       "        818047933,  963407295, 1230306981, 1294878855, 1316129916,\n",
       "       1333886533, 1404934699, 1602967004, 1614305549, 1648269707,\n",
       "       1668030113, 1738359350, 1801183820, 1959144690, 2038680547,\n",
       "       2044997962, 2378935119, 2458001652, 2579882178, 2587333274,\n",
       "       2600415354, 2654030115, 2686716486, 2712142231, 2716752286,\n",
       "       2780786433, 2927087541, 2949041841, 2954449915, 3062433592,\n",
       "       3202540741, 3234906277, 3656415546, 3717692402, 3766097110,\n",
       "       3803269165, 3891541246, 3941795274, 3951559397, 3957174400,\n",
       "       3963646447, 3972127743, 3984495233, 4069496402, 4120364173,\n",
       "       4186807279, 4256040402, 4266935830])"
      ]
     },
     "execution_count": 12,
     "metadata": {},
     "output_type": "execute_result"
    }
   ],
   "source": [
    "# создаем список пользователей с уникальными visitorId:\n",
    "double_users = orders.groupby('visitorId').agg({'group' : 'nunique'}).reset_index().query('group>1')['visitorId'].unique()\n",
    "double_users"
   ]
  },
  {
   "cell_type": "code",
   "execution_count": 13,
   "metadata": {},
   "outputs": [],
   "source": [
    "# удаляем этих пользователей из таблицы\n",
    "orders = orders.query('visitorId not in @double_users')"
   ]
  },
  {
   "cell_type": "code",
   "execution_count": 14,
   "metadata": {},
   "outputs": [
    {
     "name": "stdout",
     "output_type": "stream",
     "text": [
      "<class 'pandas.core.frame.DataFrame'>\n",
      "Int64Index: 1016 entries, 0 to 1196\n",
      "Data columns (total 5 columns):\n",
      " #   Column         Non-Null Count  Dtype         \n",
      "---  ------         --------------  -----         \n",
      " 0   transactionId  1016 non-null   int64         \n",
      " 1   visitorId      1016 non-null   int64         \n",
      " 2   date           1016 non-null   datetime64[ns]\n",
      " 3   revenue        1016 non-null   int64         \n",
      " 4   group          1016 non-null   object        \n",
      "dtypes: datetime64[ns](1), int64(3), object(1)\n",
      "memory usage: 47.6+ KB\n"
     ]
    }
   ],
   "source": [
    "# смотрим, как изменилась таблица\n",
    "orders.info()"
   ]
  },
  {
   "cell_type": "markdown",
   "metadata": {},
   "source": [
    "Всего 1 пользователь был в двух гурппах одновременно, это не повлияет на результаты анализа."
   ]
  },
  {
   "cell_type": "markdown",
   "metadata": {},
   "source": [
    "**1. Построим график кумулятивной выручки по группам.**"
   ]
  },
  {
   "cell_type": "code",
   "execution_count": 15,
   "metadata": {},
   "outputs": [],
   "source": [
    "# создаем массив уникальных пар значений дат и групп теста\n",
    "datesGroups = orders[['date','group']].drop_duplicates()"
   ]
  },
  {
   "cell_type": "code",
   "execution_count": 16,
   "metadata": {},
   "outputs": [],
   "source": [
    "ordersAggregated = datesGroups.apply(lambda x: orders[np.logical_and(orders['date'] <= x['date'], orders['group'] == x['group'])]\\\n",
    ".agg({'date' : 'max', 'group' : 'max', 'visitorId' : 'nunique', 'transactionId' : 'nunique', 'revenue' : 'sum'}), axis=1).sort_values(by=['date','group'])"
   ]
  },
  {
   "cell_type": "code",
   "execution_count": 17,
   "metadata": {},
   "outputs": [],
   "source": [
    "visitorsAggregated = datesGroups.apply(lambda x: visitors[np.logical_and(visitors['date'] <= x['date'], visitors['group'] == x['group'])].agg({'date' : 'max', 'group' : 'max', 'visitors' : 'sum'}), axis=1).sort_values(by=['date','group'])"
   ]
  },
  {
   "cell_type": "code",
   "execution_count": 18,
   "metadata": {},
   "outputs": [
    {
     "data": {
      "text/html": [
       "<div>\n",
       "<style scoped>\n",
       "    .dataframe tbody tr th:only-of-type {\n",
       "        vertical-align: middle;\n",
       "    }\n",
       "\n",
       "    .dataframe tbody tr th {\n",
       "        vertical-align: top;\n",
       "    }\n",
       "\n",
       "    .dataframe thead th {\n",
       "        text-align: right;\n",
       "    }\n",
       "</style>\n",
       "<table border=\"1\" class=\"dataframe\">\n",
       "  <thead>\n",
       "    <tr style=\"text-align: right;\">\n",
       "      <th></th>\n",
       "      <th>date</th>\n",
       "      <th>group</th>\n",
       "      <th>orders</th>\n",
       "      <th>buyers</th>\n",
       "      <th>revenue</th>\n",
       "      <th>visitors</th>\n",
       "    </tr>\n",
       "  </thead>\n",
       "  <tbody>\n",
       "    <tr>\n",
       "      <th>0</th>\n",
       "      <td>2019-08-01</td>\n",
       "      <td>A</td>\n",
       "      <td>23</td>\n",
       "      <td>19</td>\n",
       "      <td>142779</td>\n",
       "      <td>719</td>\n",
       "    </tr>\n",
       "    <tr>\n",
       "      <th>1</th>\n",
       "      <td>2019-08-01</td>\n",
       "      <td>B</td>\n",
       "      <td>17</td>\n",
       "      <td>17</td>\n",
       "      <td>59758</td>\n",
       "      <td>713</td>\n",
       "    </tr>\n",
       "    <tr>\n",
       "      <th>2</th>\n",
       "      <td>2019-08-02</td>\n",
       "      <td>A</td>\n",
       "      <td>42</td>\n",
       "      <td>36</td>\n",
       "      <td>234381</td>\n",
       "      <td>1338</td>\n",
       "    </tr>\n",
       "    <tr>\n",
       "      <th>3</th>\n",
       "      <td>2019-08-02</td>\n",
       "      <td>B</td>\n",
       "      <td>40</td>\n",
       "      <td>39</td>\n",
       "      <td>221801</td>\n",
       "      <td>1294</td>\n",
       "    </tr>\n",
       "    <tr>\n",
       "      <th>4</th>\n",
       "      <td>2019-08-03</td>\n",
       "      <td>A</td>\n",
       "      <td>66</td>\n",
       "      <td>60</td>\n",
       "      <td>346854</td>\n",
       "      <td>1845</td>\n",
       "    </tr>\n",
       "  </tbody>\n",
       "</table>\n",
       "</div>"
      ],
      "text/plain": [
       "        date group  orders  buyers  revenue  visitors\n",
       "0 2019-08-01     A      23      19   142779       719\n",
       "1 2019-08-01     B      17      17    59758       713\n",
       "2 2019-08-02     A      42      36   234381      1338\n",
       "3 2019-08-02     B      40      39   221801      1294\n",
       "4 2019-08-03     A      66      60   346854      1845"
      ]
     },
     "execution_count": 18,
     "metadata": {},
     "output_type": "execute_result"
    }
   ],
   "source": [
    "# создаем массив уникальных пар значений дат и групп теста\n",
    "datesGroups = orders[['date','group']].drop_duplicates()\n",
    "\n",
    "# получаем агрегированные кумулятивные по дням данные о заказах \n",
    "ordersAggregated = datesGroups.apply(lambda x: orders[np.logical_and(orders['date'] <= x['date'], orders['group'] == x['group'])].agg({'date' : 'max', 'group' : 'max', 'transactionId' : 'nunique', 'visitorId' : 'nunique', 'revenue' : 'sum'}), axis=1).sort_values(by=['date','group'])\n",
    "\n",
    "# получаем агрегированные кумулятивные по дням данные о посетителях интернет-магазина \n",
    "visitorsAggregated = datesGroups.apply(lambda x: visitors[np.logical_and(visitors['date'] <= x['date'], visitors['group'] == x['group'])].agg({'date' : 'max', 'group' : 'max', 'visitors' : 'sum'}), axis=1).sort_values(by=['date','group'])\n",
    "\n",
    "# объединяем кумулятивные данные в одной таблице и присваиваем ее столбцам понятные названия\n",
    "cumulativeData = ordersAggregated.merge(visitorsAggregated, left_on=['date', 'group'], right_on=['date', 'group'])\n",
    "cumulativeData.columns = ['date', 'group', 'orders', 'buyers', 'revenue', 'visitors']\n",
    "\n",
    "cumulativeData.head()"
   ]
  },
  {
   "cell_type": "code",
   "execution_count": 19,
   "metadata": {},
   "outputs": [
    {
     "data": {
      "text/plain": [
       "Text(0.5, 1.0, 'График кумулятивной выручки по группам')"
      ]
     },
     "execution_count": 19,
     "metadata": {},
     "output_type": "execute_result"
    },
    {
     "data": {
      "image/png": "[encoded data removed]",
      "text/plain": [
       "<Figure size 432x288 with 1 Axes>"
      ]
     },
     "metadata": {
      "needs_background": "light"
     },
     "output_type": "display_data"
    }
   ],
   "source": [
    "# датафрейм с кумулятивным количеством заказов и кумулятивной выручкой по дням в группе А\n",
    "cumulativeRevenueA = cumulativeData[cumulativeData['group']=='A'][['date','revenue', 'orders']]\n",
    "\n",
    "# датафрейм с кумулятивным количеством заказов и кумулятивной выручкой по дням в группе B\n",
    "cumulativeRevenueB = cumulativeData[cumulativeData['group']=='B'][['date','revenue', 'orders']]\n",
    "\n",
    "# Строим график выручки группы А\n",
    "plt.plot(cumulativeRevenueA['date'], cumulativeRevenueA['revenue'], label='A')\n",
    "\n",
    "# Строим график выручки группы B\n",
    "plt.plot(cumulativeRevenueB['date'], cumulativeRevenueB['revenue'], label='B')\n",
    "\n",
    "plt.legend()\n",
    "plt.xticks(rotation=45)\n",
    "plt.xlabel('Дата')\n",
    "plt.ylabel('Выручка')\n",
    "plt.title('График кумулятивной выручки по группам')"
   ]
  },
  {
   "cell_type": "markdown",
   "metadata": {},
   "source": [
    "В течение всего периода выручка растет, это хорошо. На графике видно, что больший доход приносит группа B, однако у нее есть резкий скачок 17 августа, на это следует обратить внимание при дальнейшем анализе."
   ]
  },
  {
   "cell_type": "markdown",
   "metadata": {},
   "source": [
    "**2. Построим график кумулятивного среднего чека по группам.**"
   ]
  },
  {
   "cell_type": "code",
   "execution_count": 20,
   "metadata": {},
   "outputs": [
    {
     "data": {
      "text/plain": [
       "Text(0.5, 1.0, 'График кумулятивного среднего чека по группам')"
      ]
     },
     "execution_count": 20,
     "metadata": {},
     "output_type": "execute_result"
    },
    {
     "data": {
      "image/png": "[encoded data removed]",
      "text/plain": [
       "<Figure size 432x288 with 1 Axes>"
      ]
     },
     "metadata": {
      "needs_background": "light"
     },
     "output_type": "display_data"
    }
   ],
   "source": [
    "plt.plot(cumulativeRevenueA['date'], cumulativeRevenueA['revenue']/cumulativeRevenueA['orders'], label='A')\n",
    "plt.plot(cumulativeRevenueB['date'], cumulativeRevenueB['revenue']/cumulativeRevenueB['orders'], label='B')\n",
    "plt.legend()\n",
    "plt.xticks(rotation=45)\n",
    "plt.xlabel('Дата')\n",
    "plt.ylabel('Средний чек')\n",
    "plt.title('График кумулятивного среднего чека по группам')"
   ]
  },
  {
   "cell_type": "markdown",
   "metadata": {},
   "source": [
    "Видим резкий скачок после 17 августа в группе B. Почему-то пользователи стали делать более дорогие заказы, либо количество заказов резко возросло. В группе А к концу теста постепенно средний чек выравнивается."
   ]
  },
  {
   "cell_type": "markdown",
   "metadata": {},
   "source": [
    "**3. Построим график относительного изменения кумулятивного среднего чека группы B к группе A.**"
   ]
  },
  {
   "cell_type": "code",
   "execution_count": 21,
   "metadata": {},
   "outputs": [
    {
     "data": {
      "text/plain": [
       "Text(0.5, 1.0, 'График относительного изменения кумулятивного среднего чека группы B к группе A')"
      ]
     },
     "execution_count": 21,
     "metadata": {},
     "output_type": "execute_result"
    },
    {
     "data": {
      "image/png": "[encoded data removed]",
      "text/plain": [
       "<Figure size 432x288 with 1 Axes>"
      ]
     },
     "metadata": {
      "needs_background": "light"
     },
     "output_type": "display_data"
    }
   ],
   "source": [
    "# собираем данные в одном датафрейме\n",
    "mergedCumulativeRevenue = cumulativeRevenueA.merge(cumulativeRevenueB, left_on='date', right_on='date', how='left', suffixes=['A', 'B'])\n",
    "\n",
    "# cтроим отношение средних чеков\n",
    "plt.plot(mergedCumulativeRevenue['date'], (mergedCumulativeRevenue['revenueB']/mergedCumulativeRevenue['ordersB'])/(mergedCumulativeRevenue['revenueA']/mergedCumulativeRevenue['ordersA'])-1)\n",
    "\n",
    "# добавляем ось X\n",
    "plt.axhline(y=0, color='black', linestyle='--')\n",
    "plt.xticks(rotation=45)\n",
    "plt.xlabel('Дата')\n",
    "plt.ylabel('Средний чек')\n",
    "plt.title('График относительного изменения кумулятивного среднего чека группы B к группе A')"
   ]
  },
  {
   "cell_type": "markdown",
   "metadata": {},
   "source": [
    "График неравномерный, значит есть скачки крупных заказов или выбросов."
   ]
  },
  {
   "cell_type": "markdown",
   "metadata": {},
   "source": [
    "**4. Построим график кумулятивного среднего количества заказов на посетителя по группам.**"
   ]
  },
  {
   "cell_type": "code",
   "execution_count": 22,
   "metadata": {},
   "outputs": [
    {
     "data": {
      "text/plain": [
       "(18109.0, 18140.0, 0.0, 0.038)"
      ]
     },
     "execution_count": 22,
     "metadata": {},
     "output_type": "execute_result"
    },
    {
     "data": {
      "image/png": "[encoded data removed]",
      "text/plain": [
       "<Figure size 432x288 with 1 Axes>"
      ]
     },
     "metadata": {
      "needs_background": "light"
     },
     "output_type": "display_data"
    }
   ],
   "source": [
    "# считаем среднее количество заказов на посетителя\n",
    "cumulativeData['conversion'] = cumulativeData['orders']/cumulativeData['visitors']\n",
    "\n",
    "# отделяем данные по группе A\n",
    "cumulativeDataA = cumulativeData[cumulativeData['group']=='A']\n",
    "\n",
    "# отделяем данные по группе B\n",
    "cumulativeDataB = cumulativeData[cumulativeData['group']=='B']\n",
    "\n",
    "# строим графики\n",
    "plt.plot(cumulativeDataA['date'], cumulativeDataA['conversion'], label='A')\n",
    "plt.plot(cumulativeDataB['date'], cumulativeDataB['conversion'], label='B')\n",
    "plt.legend()\n",
    "plt.xticks(rotation=45)\n",
    "plt.xlabel('Дата')\n",
    "plt.ylabel('Среднее количество заказов')\n",
    "plt.title('График кумулятивного среднего количества заказов на посетителя по группам')\n",
    "\n",
    "# задаем масштаб осей\n",
    "plt.axis([pd.Timestamp('2019-08-01'), pd.Timestamp('2019-09-01'), 0, 0.038])"
   ]
  },
  {
   "cell_type": "markdown",
   "metadata": {},
   "source": [
    "В начале теста у обеих групп были скачки, к концу теста значения шли практически параллельно, но среднее количество заказов у группы B выше, чем у группы А."
   ]
  },
  {
   "cell_type": "markdown",
   "metadata": {},
   "source": [
    "**5. Построим график относительного изменения кумулятивного среднего количества заказов на посетителя группы B к группе A.**"
   ]
  },
  {
   "cell_type": "code",
   "execution_count": 42,
   "metadata": {},
   "outputs": [
    {
     "data": {
      "text/plain": [
       "(18109.0, 18140.0, -0.6, 0.6)"
      ]
     },
     "execution_count": 42,
     "metadata": {},
     "output_type": "execute_result"
    },
    {
     "data": {
      "image/png": "[encoded data removed]",
      "text/plain": [
       "<Figure size 432x288 with 1 Axes>"
      ]
     },
     "metadata": {
      "needs_background": "light"
     },
     "output_type": "display_data"
    }
   ],
   "source": [
    "mergedCumulativeConversions = cumulativeDataA[['date','conversion']].merge(cumulativeDataB[['date','conversion']], left_on='date', right_on='date', how='left', suffixes=['A', 'B'])\n",
    "\n",
    "plt.plot(mergedCumulativeConversions['date'], mergedCumulativeConversions['conversionB']/mergedCumulativeConversions['conversionA']-1, label=\"Относительный прирост кумулятивного среднего количества заказов на посетителя группы B относительно группы A\")\n",
    "plt.xticks(rotation=45)\n",
    "plt.xlabel('Дата')\n",
    "plt.ylabel('Среднее количество заказов')\n",
    "plt.title('График относительного изменения кумулятивного среднего количества заказов на посетителя группы B к группе A')\n",
    "plt.axhline(y=0, color='black', linestyle='--')\n",
    "plt.axhline(y=-0.1, color='grey', linestyle='--')\n",
    "plt.axis([pd.Timestamp('2019-08-01'), pd.Timestamp('2019-09-01'), -0.6, 0.6])"
   ]
  },
  {
   "cell_type": "markdown",
   "metadata": {},
   "source": [
    "В начале были провалы у группы В в среднем количестве заказов, но дальше был постоянный рост с небольшим уменьшением, к конце теста график снова начал возрастать. Пока что рано делать какие-либо выводы, сначала стоит разобраться с аномалиями."
   ]
  },
  {
   "cell_type": "markdown",
   "metadata": {},
   "source": [
    "**6. Построим точечный график количества заказов по пользователям.**"
   ]
  },
  {
   "cell_type": "code",
   "execution_count": 24,
   "metadata": {},
   "outputs": [],
   "source": [
    "# посчитаем количество заказов по пользователям\n",
    "orders_by_users = (\n",
    "    orders.groupby('visitorId', as_index=False)\n",
    "    .agg({'transactionId': 'nunique'})\n",
    ")\n",
    "orders_by_users.columns =  ['visitorId', 'orders']"
   ]
  },
  {
   "cell_type": "code",
   "execution_count": 25,
   "metadata": {},
   "outputs": [
    {
     "data": {
      "text/plain": [
       "Text(0, 0.5, 'Количество заказов')"
      ]
     },
     "execution_count": 25,
     "metadata": {},
     "output_type": "execute_result"
    },
    {
     "data": {
      "image/png": "[encoded data removed]",
      "text/plain": [
       "<Figure size 432x288 with 1 Axes>"
      ]
     },
     "metadata": {
      "needs_background": "light"
     },
     "output_type": "display_data"
    }
   ],
   "source": [
    "# построим точечный график\n",
    "x_values = pd.Series(range(0,len(orders_by_users)))\n",
    "plt.scatter(x_values, orders_by_users['orders'])\n",
    "plt.title('Точечный график количества заказов по пользователям.')\n",
    "plt.xlabel('Количество пользователей')\n",
    "plt.ylabel('Количество заказов')"
   ]
  },
  {
   "cell_type": "markdown",
   "metadata": {},
   "source": [
    "Чаще всего заказ делали единично и достаточно часто - 2 раза. "
   ]
  },
  {
   "cell_type": "markdown",
   "metadata": {},
   "source": [
    "**7. Посчитаем 95-й и 99-й перцентили количества заказов на пользователя.**"
   ]
  },
  {
   "cell_type": "code",
   "execution_count": 26,
   "metadata": {},
   "outputs": [
    {
     "data": {
      "text/plain": [
       "array([3.82496640e+09, 4.18419384e+09])"
      ]
     },
     "execution_count": 26,
     "metadata": {},
     "output_type": "execute_result"
    }
   ],
   "source": [
    "np.percentile(orders_by_users, [95, 99])"
   ]
  },
  {
   "cell_type": "markdown",
   "metadata": {},
   "source": [
    "Не более 5% пользователей делало 3 заказа и не более 1% - 4 заказа.   "
   ]
  },
  {
   "cell_type": "markdown",
   "metadata": {},
   "source": [
    "**8. Построим точечный график стоимостей заказов.**"
   ]
  },
  {
   "cell_type": "code",
   "execution_count": 27,
   "metadata": {},
   "outputs": [
    {
     "data": {
      "text/plain": [
       "Text(0.5, 1.0, 'Точечный график стоимостей заказов')"
      ]
     },
     "execution_count": 27,
     "metadata": {},
     "output_type": "execute_result"
    },
    {
     "data": {
      "image/png": "[encoded data removed]",
      "text/plain": [
       "<Figure size 432x288 with 1 Axes>"
      ]
     },
     "metadata": {
      "needs_background": "light"
     },
     "output_type": "display_data"
    }
   ],
   "source": [
    "x_values = pd.Series(range(0,len(orders['revenue'])))\n",
    "plt.scatter(x_values, orders['revenue'])\n",
    "plt.title('Точечный график стоимостей заказов')"
   ]
  },
  {
   "cell_type": "markdown",
   "metadata": {},
   "source": [
    "Видно, что присутствуют явные аномалии в общем графике."
   ]
  },
  {
   "cell_type": "markdown",
   "metadata": {},
   "source": [
    "**9. Посчитаем 95-й и 99-й перцентили стоимости заказов.**"
   ]
  },
  {
   "cell_type": "code",
   "execution_count": 28,
   "metadata": {},
   "outputs": [
    {
     "data": {
      "text/plain": [
       "array([26785., 53904.])"
      ]
     },
     "execution_count": 28,
     "metadata": {},
     "output_type": "execute_result"
    }
   ],
   "source": [
    "np.percentile(orders['revenue'], [95, 99])"
   ]
  },
  {
   "cell_type": "markdown",
   "metadata": {},
   "source": [
    "Не более 5% стоимости заказов составляют менее 28 000 и не более 1% - 58 233. За порог возьмем сумму 35 000. Все, что выше будем считать аномалиями."
   ]
  },
  {
   "cell_type": "markdown",
   "metadata": {},
   "source": [
    "**10. Посчитаем статистическую значимость различий в среднем количестве заказов на посетителя между группами по «сырым» данным.**"
   ]
  },
  {
   "cell_type": "markdown",
   "metadata": {},
   "source": [
    "Сформулируем гипотезы. \n",
    "\n",
    "**Нулевая:** различий в среднем количестве заказов между группами нет.   \n",
    "**Альтернативная:** различия в среднем между группами есть."
   ]
  },
  {
   "cell_type": "markdown",
   "metadata": {},
   "source": [
    "Подготовим данные:  \n",
    "`date` — дата;  \n",
    "`ordersPerDateA` — количество заказов в выбранную дату в группе A;    \n",
    "`revenuePerDateA` — суммарная выручка в выбранную дату в группе A;  \n",
    "`ordersPerDateB` — количество заказов в выбранную дату в группе B;  \n",
    "`revenuePerDateB` — суммарная выручка в выбранную дату в группе B;  \n",
    "`ordersCummulativeA` — суммарное число заказов до выбранной даты включительно в группе A;  \n",
    "`revenueCummulativeA` — суммарная выручка до выбранной даты включительно в группе A;  \n",
    "`ordersCummulativeB` — суммарное количество заказов до выбранной даты включительно в группе B;  \n",
    "`revenueCummulativeB` — суммарная выручка до выбранной даты включительно в группе B;  \n",
    "`visitorsPerDateA` — количество пользователей в выбранную дату в группе A;  \n",
    "`visitorsPerDateB` — количество пользователей в выбранную дату в группе B;  \n",
    "`visitorsCummulativeA` — количество пользователей до выбранной даты включительно в группе A;  \n",
    "`visitorsCummulativeB` — количество пользователей до выбранной даты включительно в группе B. "
   ]
  },
  {
   "cell_type": "code",
   "execution_count": 29,
   "metadata": {},
   "outputs": [
    {
     "data": {
      "text/html": [
       "<div>\n",
       "<style scoped>\n",
       "    .dataframe tbody tr th:only-of-type {\n",
       "        vertical-align: middle;\n",
       "    }\n",
       "\n",
       "    .dataframe tbody tr th {\n",
       "        vertical-align: top;\n",
       "    }\n",
       "\n",
       "    .dataframe thead th {\n",
       "        text-align: right;\n",
       "    }\n",
       "</style>\n",
       "<table border=\"1\" class=\"dataframe\">\n",
       "  <thead>\n",
       "    <tr style=\"text-align: right;\">\n",
       "      <th></th>\n",
       "      <th>date</th>\n",
       "      <th>ordersPerDateA</th>\n",
       "      <th>revenuePerDateA</th>\n",
       "      <th>ordersPerDateB</th>\n",
       "      <th>revenuePerDateB</th>\n",
       "      <th>ordersCummulativeA</th>\n",
       "      <th>revenueCummulativeA</th>\n",
       "      <th>ordersCummulativeB</th>\n",
       "      <th>revenueCummulativeB</th>\n",
       "      <th>visitorsPerDateA</th>\n",
       "      <th>visitorsPerDateB</th>\n",
       "      <th>visitorsCummulativeA</th>\n",
       "      <th>visitorsCummulativeB</th>\n",
       "    </tr>\n",
       "  </thead>\n",
       "  <tbody>\n",
       "    <tr>\n",
       "      <th>0</th>\n",
       "      <td>2019-08-01</td>\n",
       "      <td>23</td>\n",
       "      <td>142779</td>\n",
       "      <td>17</td>\n",
       "      <td>59758</td>\n",
       "      <td>23</td>\n",
       "      <td>142779</td>\n",
       "      <td>17</td>\n",
       "      <td>59758</td>\n",
       "      <td>719</td>\n",
       "      <td>713</td>\n",
       "      <td>719</td>\n",
       "      <td>713</td>\n",
       "    </tr>\n",
       "    <tr>\n",
       "      <th>1</th>\n",
       "      <td>2019-08-02</td>\n",
       "      <td>19</td>\n",
       "      <td>91602</td>\n",
       "      <td>23</td>\n",
       "      <td>162043</td>\n",
       "      <td>42</td>\n",
       "      <td>234381</td>\n",
       "      <td>40</td>\n",
       "      <td>221801</td>\n",
       "      <td>619</td>\n",
       "      <td>581</td>\n",
       "      <td>1338</td>\n",
       "      <td>1294</td>\n",
       "    </tr>\n",
       "    <tr>\n",
       "      <th>2</th>\n",
       "      <td>2019-08-03</td>\n",
       "      <td>24</td>\n",
       "      <td>112473</td>\n",
       "      <td>14</td>\n",
       "      <td>67049</td>\n",
       "      <td>66</td>\n",
       "      <td>346854</td>\n",
       "      <td>54</td>\n",
       "      <td>288850</td>\n",
       "      <td>507</td>\n",
       "      <td>509</td>\n",
       "      <td>1845</td>\n",
       "      <td>1803</td>\n",
       "    </tr>\n",
       "    <tr>\n",
       "      <th>3</th>\n",
       "      <td>2019-08-04</td>\n",
       "      <td>11</td>\n",
       "      <td>41176</td>\n",
       "      <td>14</td>\n",
       "      <td>96890</td>\n",
       "      <td>77</td>\n",
       "      <td>388030</td>\n",
       "      <td>68</td>\n",
       "      <td>385740</td>\n",
       "      <td>717</td>\n",
       "      <td>770</td>\n",
       "      <td>2562</td>\n",
       "      <td>2573</td>\n",
       "    </tr>\n",
       "    <tr>\n",
       "      <th>4</th>\n",
       "      <td>2019-08-05</td>\n",
       "      <td>22</td>\n",
       "      <td>86383</td>\n",
       "      <td>21</td>\n",
       "      <td>89908</td>\n",
       "      <td>99</td>\n",
       "      <td>474413</td>\n",
       "      <td>89</td>\n",
       "      <td>475648</td>\n",
       "      <td>756</td>\n",
       "      <td>707</td>\n",
       "      <td>3318</td>\n",
       "      <td>3280</td>\n",
       "    </tr>\n",
       "  </tbody>\n",
       "</table>\n",
       "</div>"
      ],
      "text/plain": [
       "        date  ordersPerDateA  revenuePerDateA  ordersPerDateB  \\\n",
       "0 2019-08-01              23           142779              17   \n",
       "1 2019-08-02              19            91602              23   \n",
       "2 2019-08-03              24           112473              14   \n",
       "3 2019-08-04              11            41176              14   \n",
       "4 2019-08-05              22            86383              21   \n",
       "\n",
       "   revenuePerDateB  ordersCummulativeA  revenueCummulativeA  \\\n",
       "0            59758                  23               142779   \n",
       "1           162043                  42               234381   \n",
       "2            67049                  66               346854   \n",
       "3            96890                  77               388030   \n",
       "4            89908                  99               474413   \n",
       "\n",
       "   ordersCummulativeB  revenueCummulativeB  visitorsPerDateA  \\\n",
       "0                  17                59758               719   \n",
       "1                  40               221801               619   \n",
       "2                  54               288850               507   \n",
       "3                  68               385740               717   \n",
       "4                  89               475648               756   \n",
       "\n",
       "   visitorsPerDateB  visitorsCummulativeA  visitorsCummulativeB  \n",
       "0               713                   719                   713  \n",
       "1               581                  1338                  1294  \n",
       "2               509                  1845                  1803  \n",
       "3               770                  2562                  2573  \n",
       "4               707                  3318                  3280  "
      ]
     },
     "execution_count": 29,
     "metadata": {},
     "output_type": "execute_result"
    }
   ],
   "source": [
    "visitorsADaily = visitors[visitors['group'] == 'A'][['date', 'visitors']]\n",
    "visitorsADaily.columns = ['date', 'visitorsPerDateA']\n",
    "\n",
    "visitorsACummulative = visitorsADaily.apply(\n",
    "    lambda x: visitorsADaily[visitorsADaily['date'] <= x['date']].agg(\n",
    "        {'date': 'max', 'visitorsPerDateA': 'sum'}\n",
    "    ),\n",
    "    axis=1,\n",
    ")\n",
    "visitorsACummulative.columns = ['date', 'visitorsCummulativeA']\n",
    "\n",
    "visitorsBDaily = visitors[visitors['group'] == 'B'][['date', 'visitors']]\n",
    "visitorsBDaily.columns = ['date', 'visitorsPerDateB']\n",
    "\n",
    "visitorsBCummulative = visitorsBDaily.apply(\n",
    "    lambda x: visitorsBDaily[visitorsBDaily['date'] <= x['date']].agg(\n",
    "        {'date': 'max', 'visitorsPerDateB': 'sum'}\n",
    "    ),\n",
    "    axis=1,\n",
    ")\n",
    "visitorsBCummulative.columns = ['date', 'visitorsCummulativeB']\n",
    "\n",
    "ordersADaily = (\n",
    "    orders[orders['group'] == 'A'][['date', 'transactionId', 'visitorId', 'revenue']]\n",
    "    .groupby('date', as_index=False)\n",
    "    .agg({'transactionId': pd.Series.nunique, 'revenue': 'sum'})\n",
    ")\n",
    "ordersADaily.columns = ['date', 'ordersPerDateA', 'revenuePerDateA']\n",
    "\n",
    "ordersACummulative = ordersADaily.apply(\n",
    "    lambda x: ordersADaily[ordersADaily['date'] <= x['date']].agg(\n",
    "        {'date': 'max', 'ordersPerDateA': 'sum', 'revenuePerDateA': 'sum'}\n",
    "    ),\n",
    "    axis=1,\n",
    ").sort_values(by=['date'])\n",
    "ordersACummulative.columns = [\n",
    "    'date',\n",
    "    'ordersCummulativeA',\n",
    "    'revenueCummulativeA',\n",
    "]\n",
    "\n",
    "ordersBDaily = (\n",
    "    orders[orders['group'] == 'B'][['date', 'transactionId', 'visitorId', 'revenue']]\n",
    "    .groupby('date', as_index=False)\n",
    "    .agg({'transactionId': pd.Series.nunique, 'revenue': 'sum'})\n",
    ")\n",
    "ordersBDaily.columns = ['date', 'ordersPerDateB', 'revenuePerDateB']\n",
    "\n",
    "ordersBCummulative = ordersBDaily.apply(\n",
    "    lambda x: ordersBDaily[ordersBDaily['date'] <= x['date']].agg(\n",
    "        {'date': 'max', 'ordersPerDateB': 'sum', 'revenuePerDateB': 'sum'}\n",
    "    ),\n",
    "    axis=1,\n",
    ").sort_values(by=['date'])\n",
    "ordersBCummulative.columns = [\n",
    "    'date',\n",
    "    'ordersCummulativeB',\n",
    "    'revenueCummulativeB',\n",
    "]\n",
    "\n",
    "data = (\n",
    "    ordersADaily.merge(\n",
    "        ordersBDaily, left_on='date', right_on='date', how='left'\n",
    "    )\n",
    "    .merge(ordersACummulative, left_on='date', right_on='date', how='left')\n",
    "    .merge(ordersBCummulative, left_on='date', right_on='date', how='left')\n",
    "    .merge(visitorsADaily, left_on='date', right_on='date', how='left')\n",
    "    .merge(visitorsBDaily, left_on='date', right_on='date', how='left')\n",
    "    .merge(visitorsACummulative, left_on='date', right_on='date', how='left')\n",
    "    .merge(visitorsBCummulative, left_on='date', right_on='date', how='left')\n",
    ")\n",
    "\n",
    "data.head()"
   ]
  },
  {
   "cell_type": "markdown",
   "metadata": {},
   "source": [
    "Создадим переменные `ordersByUsersA` и `ordersByUsersB` со столбцами `['userId', 'orders']`. В них для пользователей, которые заказывали хотя бы 1 раз, укажем число совершённых заказов. "
   ]
  },
  {
   "cell_type": "code",
   "execution_count": 30,
   "metadata": {},
   "outputs": [],
   "source": [
    "ordersByUsersA = (\n",
    "    orders[orders['group'] == 'A']\n",
    "    .groupby('visitorId', as_index=False)\n",
    "    .agg({'transactionId': pd.Series.nunique})\n",
    ")\n",
    "ordersByUsersA.columns = ['visitorId', 'orders']\n",
    "\n",
    "ordersByUsersB = (\n",
    "    orders[orders['group'] == 'B']\n",
    "    .groupby('visitorId', as_index=False)\n",
    "    .agg({'transactionId': pd.Series.nunique})\n",
    ")\n",
    "ordersByUsersB.columns = ['visitorId', 'orders']"
   ]
  },
  {
   "cell_type": "markdown",
   "metadata": {},
   "source": [
    "Объявим переменные `sampleA` и `sampleB`, в которых пользователям из разных групп будет соответствовать количество заказов.  \n",
    "\n",
    "`ordersByUsersA['orders']` - cписок с количеством заказов для каждого из пользователей.  \n",
    "Нули для пользователей, которые ничего не заказывали. Их количество равно разнице между суммой посетителей и количеством записей о заказах. Создадим объект pd.Series нужной длины."
   ]
  },
  {
   "cell_type": "code",
   "execution_count": 31,
   "metadata": {},
   "outputs": [
    {
     "data": {
      "text/plain": [
       "0        0\n",
       "1        0\n",
       "2        0\n",
       "3        0\n",
       "4        0\n",
       "        ..\n",
       "18286    0\n",
       "18287    0\n",
       "18288    0\n",
       "18289    0\n",
       "18290    0\n",
       "Name: orders, Length: 18291, dtype: int64"
      ]
     },
     "execution_count": 31,
     "metadata": {},
     "output_type": "execute_result"
    }
   ],
   "source": [
    "pd.Series(0, index=np.arange(data['visitorsPerDateA'].sum() - len(ordersByUsersA['orders'])), name='orders')"
   ]
  },
  {
   "cell_type": "markdown",
   "metadata": {},
   "source": [
    "Объединим последовательности."
   ]
  },
  {
   "cell_type": "code",
   "execution_count": 32,
   "metadata": {},
   "outputs": [
    {
     "data": {
      "text/plain": [
       "[0      1\n",
       " 1      1\n",
       " 2      1\n",
       " 3      1\n",
       " 4      1\n",
       "       ..\n",
       " 440    1\n",
       " 441    1\n",
       " 442    1\n",
       " 443    1\n",
       " 444    1\n",
       " Name: orders, Length: 445, dtype: int64,\n",
       " 0        0\n",
       " 1        0\n",
       " 2        0\n",
       " 3        0\n",
       " 4        0\n",
       "         ..\n",
       " 18286    0\n",
       " 18287    0\n",
       " 18288    0\n",
       " 18289    0\n",
       " 18290    0\n",
       " Name: orders, Length: 18291, dtype: int64]"
      ]
     },
     "execution_count": 32,
     "metadata": {},
     "output_type": "execute_result"
    }
   ],
   "source": [
    "[ordersByUsersA['orders'],pd.Series(0, index=np.arange(data['visitorsPerDateA'].sum() - len(ordersByUsersA['orders'])), name='orders')]"
   ]
  },
  {
   "cell_type": "code",
   "execution_count": 33,
   "metadata": {},
   "outputs": [],
   "source": [
    "sampleA = pd.concat([ordersByUsersA['orders'],pd.Series(0, index=np.arange(data['visitorsPerDateA'].sum() - len(ordersByUsersA['orders'])), name='orders')],axis=0)\n",
    "\n",
    "sampleB = pd.concat([ordersByUsersB['orders'],pd.Series(0, index=np.arange(data['visitorsPerDateB'].sum() - len(ordersByUsersB['orders'])), name='orders')],axis=0)"
   ]
  },
  {
   "cell_type": "markdown",
   "metadata": {},
   "source": [
    "Выведем относительный прирост среднего числа заказов группы B."
   ]
  },
  {
   "cell_type": "code",
   "execution_count": 34,
   "metadata": {},
   "outputs": [
    {
     "name": "stdout",
     "output_type": "stream",
     "text": [
      "Значение p-value для конверсий: 0.011\n",
      "Относительный прирост конверсии группы B:0.160\n"
     ]
    }
   ],
   "source": [
    "ordersByUsersA = (\n",
    "    orders[orders['group'] == 'A']\n",
    "    .groupby('visitorId', as_index=False)\n",
    "    .agg({'transactionId': pd.Series.nunique})\n",
    ")\n",
    "ordersByUsersA.columns = ['visitorId', 'orders']\n",
    "\n",
    "ordersByUsersB = (\n",
    "    orders[orders['group'] == 'B']\n",
    "    .groupby('visitorId', as_index=False)\n",
    "    .agg({'transactionId': pd.Series.nunique})\n",
    ")\n",
    "ordersByUsersB.columns = ['visitorId', 'orders']\n",
    "\n",
    "sampleA = pd.concat(\n",
    "    [\n",
    "        ordersByUsersA['orders'],\n",
    "        pd.Series(\n",
    "            0,\n",
    "            index=np.arange(\n",
    "                data['visitorsPerDateA'].sum() - len(ordersByUsersA['orders'])\n",
    "            ),\n",
    "            name='orders',\n",
    "        ),\n",
    "    ],\n",
    "    axis=0,\n",
    ")\n",
    "\n",
    "sampleB = pd.concat(\n",
    "    [\n",
    "        ordersByUsersB['orders'],\n",
    "        pd.Series(\n",
    "            0,\n",
    "            index=np.arange(\n",
    "                data['visitorsPerDateB'].sum() - len(ordersByUsersB['orders'])\n",
    "            ),\n",
    "            name='orders',\n",
    "        ),\n",
    "    ],\n",
    "    axis=0,\n",
    ")\n",
    "print(\"Значение p-value для конверсий: {0:.3f}\".format(stats.mannwhitneyu(sampleA, sampleB)[1]))\n",
    "\n",
    "print(\"Относительный прирост конверсии группы B:{0:.3f}\".format(sampleB.mean() / sampleA.mean() - 1))"
   ]
  },
  {
   "cell_type": "markdown",
   "metadata": {},
   "source": [
    "Первое число `p-value = 0.017` меньше 0.05. Значит, нулевую гипотезу о том, что статистически значимых различий в среднем числе заказов между группами нет, отвергаем. Относительный прирост группы B равен 13.8%."
   ]
  },
  {
   "cell_type": "markdown",
   "metadata": {},
   "source": [
    "**11. Посчитаем статистическую значимость различий в среднем чеке заказа между группами по «сырым» данным.**"
   ]
  },
  {
   "cell_type": "markdown",
   "metadata": {},
   "source": [
    "Проверим статистическую значимость различий в среднем чеке между сегментами.\n",
    "\n",
    "**Нулевая гипотеза:** различий в среднем чеке между группами нет.   \n",
    "**Альтернативная гипотеза:** различия в среднем чеке между группами есть. "
   ]
  },
  {
   "cell_type": "code",
   "execution_count": 35,
   "metadata": {},
   "outputs": [
    {
     "name": "stdout",
     "output_type": "stream",
     "text": [
      "Значение p-value для среднего чека: 0.829\n",
      "Относительный прирост среднего чека группы B: 0.287\n"
     ]
    }
   ],
   "source": [
    "print('Значение p-value для среднего чека: {0:.3f}'.format(stats.mannwhitneyu(orders[orders['group']=='A']['revenue'], orders[orders['group']=='B']['revenue'])[1]))\n",
    "print('Относительный прирост среднего чека группы B: {0:.3f}'.format(orders[orders['group']=='B']['revenue'].mean()/orders[orders['group']=='A']['revenue'].mean()-1))"
   ]
  },
  {
   "cell_type": "markdown",
   "metadata": {},
   "source": [
    "P-value значительно больше 0.05. Значит, причин отвергать нулевую гипотезу и считать, что в среднем чеке есть различия, нет."
   ]
  },
  {
   "cell_type": "markdown",
   "metadata": {},
   "source": [
    "<div class=\"alert alert-success\">\n",
    "<h2> Комментарий ревьюера v2<a class=\"tocSkip\"> </h2>\n",
    "\n",
    "<b>Отлично!✅:</b> Согласна!\n",
    "\n",
    "</div>"
   ]
  },
  {
   "cell_type": "markdown",
   "metadata": {},
   "source": [
    "**12. Посчитаем статистическую значимость различий в среднем количестве заказов на посетителя между группами по «очищенным» данным.**"
   ]
  },
  {
   "cell_type": "markdown",
   "metadata": {},
   "source": [
    "В прошлых выводах 95-й и 99-й перцентили средних чеков равны 28 000 и 58 233 рублям.  \n",
    "95-й и 99-й перцентили количества заказов на одного пользователя равны 3 и 4 заказа на пользователя."
   ]
  },
  {
   "cell_type": "markdown",
   "metadata": {},
   "source": [
    "Примем за аномальных пользователей тех, кто совершил от 5 заказов или совершил заказ дороже 35 000 рублей. Так мы уберём 5% пользователей с наибольшим числом заказов и от 1% до 5% пользователей с дорогими заказами. Сделаем срезы пользователей с числом заказов больше 4 — `usersWithManyOrders` и пользователей, совершивших заказы дороже 35 000 — `usersWithExpensiveOrders`. Объединим их в таблице `abnormalUsers`. "
   ]
  },
  {
   "cell_type": "code",
   "execution_count": 36,
   "metadata": {},
   "outputs": [
    {
     "data": {
      "text/plain": [
       "30"
      ]
     },
     "execution_count": 36,
     "metadata": {},
     "output_type": "execute_result"
    }
   ],
   "source": [
    "usersWithManyOrders = pd.concat(\n",
    "    [\n",
    "        ordersByUsersA[ordersByUsersA['orders'] > 4]['visitorId'],\n",
    "        ordersByUsersB[ordersByUsersB['orders'] > 4]['visitorId'],\n",
    "    ],\n",
    "    axis=0,\n",
    ")\n",
    "usersWithExpensiveOrders = orders[orders['revenue'] > 35000]['visitorId']\n",
    "abnormalUsers = (\n",
    "    pd.concat([usersWithManyOrders, usersWithExpensiveOrders], axis=0)\n",
    "    .drop_duplicates()\n",
    "    .sort_values()\n",
    ")\n",
    "abnormalUsers.head(5)\n",
    "abnormalUsers.shape[0]"
   ]
  },
  {
   "cell_type": "markdown",
   "metadata": {},
   "source": [
    "Вычислили 30 аномальных пользователей."
   ]
  },
  {
   "cell_type": "markdown",
   "metadata": {},
   "source": [
    "Узнаем, как их действия повлияли на результаты теста. Посчитаем статистическую значимость различий в среднем количестве заказов между группами теста по очищенным данным. "
   ]
  },
  {
   "cell_type": "code",
   "execution_count": 37,
   "metadata": {},
   "outputs": [],
   "source": [
    "# подготовим выборки количества заказов по пользователям по группам теста\n",
    "sampleAFiltered = pd.concat(\n",
    "    [\n",
    "        ordersByUsersA[\n",
    "            np.logical_not(ordersByUsersA['visitorId'].isin(abnormalUsers))\n",
    "        ]['orders'],\n",
    "        pd.Series(\n",
    "            0,\n",
    "            index=np.arange(\n",
    "                data['visitorsPerDateA'].sum() - len(ordersByUsersA['orders'])\n",
    "            ),\n",
    "            name='orders',\n",
    "        ),\n",
    "    ],\n",
    "    axis=0,\n",
    ")\n",
    "\n",
    "sampleBFiltered = pd.concat(\n",
    "    [\n",
    "        ordersByUsersB[\n",
    "            np.logical_not(ordersByUsersB['visitorId'].isin(abnormalUsers))\n",
    "        ]['orders'],\n",
    "        pd.Series(\n",
    "            0,\n",
    "            index=np.arange(\n",
    "                data['visitorsPerDateB'].sum() - len(ordersByUsersB['orders'])\n",
    "            ),\n",
    "            name='orders',\n",
    "        ),\n",
    "    ],\n",
    "    axis=0,\n",
    ")"
   ]
  },
  {
   "cell_type": "code",
   "execution_count": 38,
   "metadata": {},
   "outputs": [
    {
     "name": "stdout",
     "output_type": "stream",
     "text": [
      "Значение p-value для конверсий: 0.010\n",
      "Относительный прирост конверсии группы B: 0.168\n"
     ]
    }
   ],
   "source": [
    "print('Значение p-value для конверсий: {0:.3f}'.format(stats.mannwhitneyu(sampleAFiltered, sampleBFiltered)[1]))\n",
    "print('Относительный прирост конверсии группы B: {0:.3f}'.format(sampleBFiltered.mean()/sampleAFiltered.mean()-1))"
   ]
  },
  {
   "cell_type": "markdown",
   "metadata": {},
   "source": [
    "Результаты сильно отличаются от \"сырых\" данных. Аномалии сильно влияют на картину статистической значимости различий в среднем количестве заказов между группами теста."
   ]
  },
  {
   "cell_type": "markdown",
   "metadata": {},
   "source": [
    "<div class=\"alert alert-success\">\n",
    "<h2> Комментарий ревьюера v2<a class=\"tocSkip\"> </h2>\n",
    "\n",
    "<b>Отлично!✅:</b> Супер, двигаемся дальше!\n",
    "\n",
    "</div>"
   ]
  },
  {
   "cell_type": "markdown",
   "metadata": {},
   "source": [
    "**13. Посчитаем статистическую значимость различий в среднем чеке заказа между группами по «очищенным» данным.**"
   ]
  },
  {
   "cell_type": "code",
   "execution_count": 39,
   "metadata": {},
   "outputs": [
    {
     "name": "stdout",
     "output_type": "stream",
     "text": [
      "Значение p-value для среднего чека: 0.976\n",
      "Относительный прирост среднего чека группы B: -0.000\n"
     ]
    }
   ],
   "source": [
    "print(\n",
    "    'Значение p-value для среднего чека: {0:.3f}'.format(\n",
    "        stats.mannwhitneyu(\n",
    "            orders[\n",
    "                np.logical_and(\n",
    "                    orders['group'] == 'A',\n",
    "                    np.logical_not(orders['visitorId'].isin(abnormalUsers)),\n",
    "                )\n",
    "            ]['revenue'],\n",
    "            orders[\n",
    "                np.logical_and(\n",
    "                    orders['group'] == 'B',\n",
    "                    np.logical_not(orders['visitorId'].isin(abnormalUsers)),\n",
    "                )\n",
    "            ]['revenue'],\n",
    "        )[1]\n",
    "    )\n",
    ")\n",
    "\n",
    "print(\n",
    "    \"Относительный прирост среднего чека группы B: {0:.3f}\".format(\n",
    "        orders[\n",
    "            np.logical_and(\n",
    "                orders['group'] == 'B',\n",
    "                np.logical_not(orders['visitorId'].isin(abnormalUsers)),\n",
    "            )\n",
    "        ]['revenue'].mean()\n",
    "        / orders[\n",
    "            np.logical_and(\n",
    "                orders['group'] == 'A',\n",
    "                np.logical_not(orders['visitorId'].isin(abnormalUsers)),\n",
    "            )\n",
    "        ]['revenue'].mean()\n",
    "        - 1\n",
    "    )\n",
    ")"
   ]
  },
  {
   "cell_type": "markdown",
   "metadata": {},
   "source": [
    "P-value немного увеличился, разница между сегментами сократилась примерно на 28%."
   ]
  },
  {
   "cell_type": "markdown",
   "metadata": {},
   "source": [
    "**14. Примем решение по результатам теста.**"
   ]
  },
  {
   "cell_type": "markdown",
   "metadata": {},
   "source": [
    "По результатам теста выявили существенные различия по среднему количеству заказов: группа В показывает лучше результаты, чем группа А. Различия в среднем чеке не обнаружены. Это значит, что надо остановить тест."
   ]
  },
  {
   "cell_type": "markdown",
   "metadata": {},
   "source": [
    "<div class=\"alert alert-success\">\n",
    "<h2> Комментарий ревьюера v2<a class=\"tocSkip\"> </h2>\n",
    "\n",
    "<b>Отлично!✅:</b> Такой результат намного лучше!\n",
    "\n",
    "</div>"
   ]
  },
  {
   "cell_type": "markdown",
   "metadata": {},
   "source": [
    "# Выводы:"
   ]
  },
  {
   "cell_type": "markdown",
   "metadata": {},
   "source": [
    "Первым делом мы ознакомились с предоставленными данными. Для приоритизации гипотез использовали методы ICE и RICE. \n",
    "\n",
    "Выяснили, что самый высокий приоритет по ICE у гипотезы \"Запустить акцию, дающую скидку на товар в день... \", на втором месте гипотеза \"Добавить два новых канала привлечения трафика,\", на третьем - \"Добавить форму подписки на все основные страницы...\". Последнее место занимает гипотеза об изменении цвета фона главной страницы.\n",
    "\n",
    "По приоритизации по RICE на первом месте стоит гипотеза о добавлении формы подписки на все основные страницы, на втором месте - добавление блоков рекомендаций товаров, на третьем - добавление двух новых каналов привлечения трафика. На последнем месте опять стоит гипотеза об изменении цвета фона главной страницы.\n",
    "\n",
    "Сравнивая методы, видим, что при влиянии параметра охвата количества пользователей на первое место выходит гипотеза о добавлении формы подписки на все основные страницы. Она имеет максимальный охват - 10. Гипотеза о добавлении блоков рекомендаций имеет reach 8 и поэтому выходит на второе место. \n",
    "\n",
    "При оценки приоритетов по RICE, в отличие от методы ICE, мы учитываем фактор Reach, который влияет на приоритизацию.\n",
    "\n",
    "Вторая асть проекта была посвящена A/В анализу.\n",
    "\n",
    "Мы ознакомились с данными, построили график кумулятивной выручки по группам. Увидели, что в течение всего периода выручка растет, это хорошо. На графике видно, что больший доход приносит группа B, однако у нее есть резкий скачок 17 августа, на это следует обратить внимание при дальнейшем анализе.\n",
    "\n",
    "Далее построили график кумулятивного среднего чека по группам. Резкий скачок после 17 августа в группе B. Почему-то пользователи стали делать более дорогие заказы, либо количество заказов резко возросло. В группе А к концу теста постепенно средний чек выравнивается.\n",
    "\n",
    "Построили график относительного изменения кумулятивного среднего чека группы B к группе A. График неравномерный, значит есть скачки крупных заказов или выбросов.\n",
    "\n",
    "Построили график кумулятивного среднего количества заказов на посетителя по группам. В начале теста у обеих групп были скачки, к концу теста значения шли практически параллельно, но среднее количество заказов у группы B выше, чем у группы А.\n",
    "\n",
    "\n",
    "Построили график относительного изменения кумулятивного среднего количества заказов на посетителя группы B к группе A.  В начале были провалы у группы В в среднем количестве заказов, но дальше был постоянный рост с небольшим уменьшением, к конце теста график снова начал возрастать. Пока что рано делать какие-либо выводы, сначала стоит разобраться с аномалиями.\n",
    "\n",
    "Построили точечный график количества заказов по пользователям. Чаще всего заказ делали единично и достаточно часто - 2 раза. \n",
    "\n",
    "По данным 95-го и 99-го перцентилей не более 5% пользователей делало 3 заказа и не более 1% - 4 заказа. В общем графике присутствуют аномалии,\n",
    "\n",
    "По данным 95-го и 99-го перцентилей не более 5% стоимости заказов составляют менее 28 000 и не более 1% - 58 233. Возьмем за гарницу отметку в 35 000.\n",
    "\n",
    "По данным теста отвергли гиоптезу о том, что статистически значимых различий в среднем числе заказов между группами нет. Относительный прирост группы B равен 13.8%.\n",
    "Проверили статистическую значимость различий в среднем чеке между сегментами и выяснили, что различий в среднем чеке между группами нет. \n",
    "\n",
    "В группе по сырым  данным выявили 30 аномалий, которые влияют на итоговые выводы. Результаты \"очищенных\" сильно отличаются от \"сырых\" данных.\n",
    "\n",
    "По результатам теста выявили существенные различия по среднему количеству заказов: группа В показывает лучше результаты, чем группа А. Различия в среднем чеке это подтверждают. Это значит, что надо остановить тест."
   ]
  },
  {
   "cell_type": "markdown",
   "metadata": {},
   "source": [
    "<div class=\"alert alert-success\">\n",
    "<h2> Комментарий ревьюера v2<a class=\"tocSkip\"> </h2>\n",
    "\n",
    "<b>Отлично!✅:</b> Саша, привет! Молодец, оперативно и верно доработала проект. Благодарю за обратную связь, работа принята, удачи в обучении!)\n",
    "\n",
    "</div>"
   ]
  },
  {
   "cell_type": "markdown",
   "metadata": {},
   "source": [
    "<div style=\"border:solid Chocolate 2px; padding: 40px\">\n",
    "Саша, давай подведем итоги. Ты большая молодец, что старалась и проделала такую большую работу. Мне понравилось, что ты наполнила проект развернутыми выводами и наглядно продемонстрировала каждое задание:) \n",
    "    \n",
    "    Разберем над чем стоит поработать:\n",
    "\n",
    "    1. Рекомендую:\n",
    "    - вывести гипотезы полностью;\n",
    "    - провести доп. исследование датафреймов;\n",
    "    - дополнить выводы;\n",
    "    - указать границы нормальных и аномальных заказов;\n",
    "    - подписать p-value и статистическую значимость.\n",
    "        \n",
    "    Пересмотри работу и исправь ошибки. Обязательно пиши, если я могу тебе еще чем-то помочь. Удачи!)\n",
    "  "
   ]
  },
  {
   "cell_type": "markdown",
   "metadata": {},
   "source": [
    "<div class = \"alert alert-info\"> <b> Комментарий студента: </b> спасибо за полезные советы и рекомендации! Постаралась все исправить. </div>"
   ]
  }
 ],
 "metadata": {
  "ExecuteTimeLog": [
   {
    "duration": 518,
    "start_time": "2024-11-27T11:59:55.733Z"
   },
   {
    "duration": 72,
    "start_time": "2024-11-27T12:00:11.310Z"
   },
   {
    "duration": 44,
    "start_time": "2024-11-27T12:00:15.847Z"
   },
   {
    "duration": 31,
    "start_time": "2024-11-27T12:00:41.591Z"
   },
   {
    "duration": 23,
    "start_time": "2024-11-27T12:03:32.188Z"
   },
   {
    "duration": 16,
    "start_time": "2024-11-27T12:03:36.873Z"
   },
   {
    "duration": 17,
    "start_time": "2024-11-27T12:03:56.095Z"
   },
   {
    "duration": 14,
    "start_time": "2024-11-27T12:04:01.286Z"
   },
   {
    "duration": 17,
    "start_time": "2024-11-27T12:04:17.917Z"
   },
   {
    "duration": 73,
    "start_time": "2024-11-27T12:04:41.381Z"
   },
   {
    "duration": 19,
    "start_time": "2024-11-27T12:04:55.347Z"
   },
   {
    "duration": 19,
    "start_time": "2024-11-27T12:05:10.876Z"
   },
   {
    "duration": 17,
    "start_time": "2024-11-27T12:43:06.813Z"
   },
   {
    "duration": 25,
    "start_time": "2024-11-27T12:43:32.274Z"
   },
   {
    "duration": 93,
    "start_time": "2024-11-27T12:47:27.851Z"
   },
   {
    "duration": 109,
    "start_time": "2024-11-27T13:32:01.525Z"
   },
   {
    "duration": 52,
    "start_time": "2024-11-27T13:32:14.516Z"
   },
   {
    "duration": 458,
    "start_time": "2024-11-27T13:32:28.179Z"
   },
   {
    "duration": 49,
    "start_time": "2024-11-27T13:32:28.639Z"
   },
   {
    "duration": 22,
    "start_time": "2024-11-27T13:32:28.690Z"
   },
   {
    "duration": 23,
    "start_time": "2024-11-27T13:32:28.714Z"
   },
   {
    "duration": 101,
    "start_time": "2024-11-27T13:32:28.740Z"
   },
   {
    "duration": 51,
    "start_time": "2024-11-27T13:32:34.041Z"
   },
   {
    "duration": 63,
    "start_time": "2024-11-27T13:32:46.321Z"
   },
   {
    "duration": 54,
    "start_time": "2024-11-27T13:32:56.560Z"
   },
   {
    "duration": 91,
    "start_time": "2024-11-27T13:33:52.254Z"
   },
   {
    "duration": 43,
    "start_time": "2024-11-27T13:33:56.750Z"
   },
   {
    "duration": 41,
    "start_time": "2024-11-27T13:34:14.294Z"
   },
   {
    "duration": 35,
    "start_time": "2024-11-27T13:34:21.764Z"
   },
   {
    "duration": 54,
    "start_time": "2024-11-27T13:34:26.834Z"
   },
   {
    "duration": 12,
    "start_time": "2024-11-27T13:35:25.112Z"
   },
   {
    "duration": 449,
    "start_time": "2024-11-27T13:43:51.150Z"
   },
   {
    "duration": 22,
    "start_time": "2024-11-27T13:44:29.829Z"
   },
   {
    "duration": 36,
    "start_time": "2024-11-27T14:08:32.884Z"
   },
   {
    "duration": 3,
    "start_time": "2024-11-27T14:09:00.416Z"
   },
   {
    "duration": 1650,
    "start_time": "2024-11-27T14:09:06.146Z"
   },
   {
    "duration": 1699,
    "start_time": "2024-11-27T14:09:14.456Z"
   },
   {
    "duration": 88,
    "start_time": "2024-11-27T14:11:51.931Z"
   },
   {
    "duration": 14,
    "start_time": "2024-11-27T14:12:07.464Z"
   },
   {
    "duration": 1500,
    "start_time": "2024-11-27T14:13:23.334Z"
   },
   {
    "duration": 134,
    "start_time": "2024-11-27T14:13:47.809Z"
   },
   {
    "duration": 13,
    "start_time": "2024-11-27T14:16:06.624Z"
   },
   {
    "duration": 12,
    "start_time": "2024-11-27T14:17:57.995Z"
   },
   {
    "duration": 20,
    "start_time": "2024-11-27T14:18:20.362Z"
   },
   {
    "duration": 12,
    "start_time": "2024-11-27T14:18:24.748Z"
   },
   {
    "duration": 1662,
    "start_time": "2024-11-27T14:19:09.417Z"
   },
   {
    "duration": 2176,
    "start_time": "2024-11-27T14:19:23.799Z"
   },
   {
    "duration": 2258,
    "start_time": "2024-11-27T14:19:30.375Z"
   },
   {
    "duration": 2454,
    "start_time": "2024-11-27T14:20:42.453Z"
   },
   {
    "duration": 13,
    "start_time": "2024-11-27T14:23:09.071Z"
   },
   {
    "duration": 15,
    "start_time": "2024-11-27T14:24:16.134Z"
   },
   {
    "duration": 126,
    "start_time": "2024-11-27T14:24:36.708Z"
   },
   {
    "duration": 146,
    "start_time": "2024-11-27T14:28:02.855Z"
   },
   {
    "duration": 15,
    "start_time": "2024-11-27T14:40:01.270Z"
   },
   {
    "duration": 2513,
    "start_time": "2024-11-27T14:40:35.550Z"
   },
   {
    "duration": 161,
    "start_time": "2024-11-27T14:40:45.692Z"
   },
   {
    "duration": 130,
    "start_time": "2024-11-27T14:43:26.189Z"
   },
   {
    "duration": 2454,
    "start_time": "2024-11-27T14:45:20.721Z"
   },
   {
    "duration": 2547,
    "start_time": "2024-11-27T14:45:27.359Z"
   },
   {
    "duration": 170,
    "start_time": "2024-11-27T14:45:29.908Z"
   },
   {
    "duration": 53,
    "start_time": "2024-11-27T14:48:25.998Z"
   },
   {
    "duration": 13,
    "start_time": "2024-11-27T14:48:29.113Z"
   },
   {
    "duration": 35,
    "start_time": "2024-11-27T14:48:31.145Z"
   },
   {
    "duration": 371,
    "start_time": "2024-11-27T14:48:51.503Z"
   },
   {
    "duration": 71,
    "start_time": "2024-11-27T14:49:55.462Z"
   },
   {
    "duration": 75,
    "start_time": "2024-11-27T14:50:00.750Z"
   },
   {
    "duration": 433,
    "start_time": "2024-11-27T14:50:15.076Z"
   },
   {
    "duration": 34,
    "start_time": "2024-11-27T14:50:30.645Z"
   },
   {
    "duration": 15,
    "start_time": "2024-11-27T14:50:33.877Z"
   },
   {
    "duration": 2709,
    "start_time": "2024-11-27T14:50:35.798Z"
   },
   {
    "duration": 260,
    "start_time": "2024-11-27T14:50:38.509Z"
   },
   {
    "duration": 7,
    "start_time": "2024-11-27T14:51:57.079Z"
   },
   {
    "duration": 7,
    "start_time": "2024-11-27T14:53:51.268Z"
   },
   {
    "duration": 23,
    "start_time": "2024-11-27T14:54:13.531Z"
   },
   {
    "duration": 266,
    "start_time": "2024-11-27T14:55:20.026Z"
   },
   {
    "duration": 124,
    "start_time": "2024-11-27T14:55:51.516Z"
   },
   {
    "duration": 27,
    "start_time": "2024-11-27T14:56:18.261Z"
   },
   {
    "duration": 289,
    "start_time": "2024-11-27T14:57:19.406Z"
   },
   {
    "duration": 291,
    "start_time": "2024-11-27T14:57:27.366Z"
   },
   {
    "duration": 193,
    "start_time": "2024-11-27T14:57:44.226Z"
   },
   {
    "duration": 240,
    "start_time": "2024-11-27T14:57:59.090Z"
   },
   {
    "duration": 217,
    "start_time": "2024-11-27T14:58:11.467Z"
   },
   {
    "duration": 211,
    "start_time": "2024-11-27T14:59:09.447Z"
   },
   {
    "duration": 233,
    "start_time": "2024-11-27T14:59:15.790Z"
   },
   {
    "duration": 182,
    "start_time": "2024-11-27T14:59:23.062Z"
   },
   {
    "duration": 243,
    "start_time": "2024-11-27T14:59:25.848Z"
   },
   {
    "duration": 211,
    "start_time": "2024-11-27T14:59:28.454Z"
   },
   {
    "duration": 234,
    "start_time": "2024-11-27T15:10:11.437Z"
   },
   {
    "duration": 225,
    "start_time": "2024-11-27T15:10:48.484Z"
   },
   {
    "duration": 211,
    "start_time": "2024-11-27T15:11:35.234Z"
   },
   {
    "duration": 244,
    "start_time": "2024-11-27T15:11:46.697Z"
   },
   {
    "duration": 276,
    "start_time": "2024-11-27T15:32:34.719Z"
   },
   {
    "duration": 205,
    "start_time": "2024-11-27T15:32:46.247Z"
   },
   {
    "duration": 193,
    "start_time": "2024-11-27T15:33:54.204Z"
   },
   {
    "duration": 208,
    "start_time": "2024-11-27T15:34:07.667Z"
   },
   {
    "duration": 357,
    "start_time": "2024-11-27T15:37:01.835Z"
   },
   {
    "duration": 308,
    "start_time": "2024-11-27T15:37:15.763Z"
   },
   {
    "duration": 313,
    "start_time": "2024-11-27T15:37:31.030Z"
   },
   {
    "duration": 237,
    "start_time": "2024-11-27T15:39:57.253Z"
   },
   {
    "duration": 218,
    "start_time": "2024-11-27T15:40:11.116Z"
   },
   {
    "duration": 238,
    "start_time": "2024-11-27T15:40:49.677Z"
   },
   {
    "duration": 213,
    "start_time": "2024-11-27T15:41:04.637Z"
   },
   {
    "duration": 208,
    "start_time": "2024-11-27T15:41:24.128Z"
   },
   {
    "duration": 262,
    "start_time": "2024-11-27T15:42:16.229Z"
   },
   {
    "duration": 340,
    "start_time": "2024-11-27T15:42:30.793Z"
   },
   {
    "duration": 232,
    "start_time": "2024-11-27T15:43:31.102Z"
   },
   {
    "duration": 281,
    "start_time": "2024-11-27T15:43:48.566Z"
   },
   {
    "duration": 248,
    "start_time": "2024-11-27T15:44:45.348Z"
   },
   {
    "duration": 17,
    "start_time": "2024-11-27T15:45:05.773Z"
   },
   {
    "duration": 329,
    "start_time": "2024-11-27T16:01:42.010Z"
   },
   {
    "duration": 392,
    "start_time": "2024-11-27T16:02:09.338Z"
   },
   {
    "duration": 398,
    "start_time": "2024-11-27T16:02:24.650Z"
   },
   {
    "duration": 384,
    "start_time": "2024-11-27T16:03:03.256Z"
   },
   {
    "duration": 268,
    "start_time": "2024-11-27T16:03:35.816Z"
   },
   {
    "duration": 241,
    "start_time": "2024-11-27T16:05:38.842Z"
   },
   {
    "duration": 240,
    "start_time": "2024-11-27T16:05:58.640Z"
   },
   {
    "duration": 357,
    "start_time": "2024-11-27T16:06:46.184Z"
   },
   {
    "duration": 33,
    "start_time": "2024-11-27T16:07:03.061Z"
   },
   {
    "duration": 62,
    "start_time": "2024-11-27T16:07:12.941Z"
   },
   {
    "duration": 346,
    "start_time": "2024-11-27T16:07:28.791Z"
   },
   {
    "duration": 392,
    "start_time": "2024-11-27T16:07:33.366Z"
   },
   {
    "duration": 551,
    "start_time": "2024-11-27T16:08:19.951Z"
   },
   {
    "duration": 428,
    "start_time": "2024-11-27T16:08:32.131Z"
   },
   {
    "duration": 399,
    "start_time": "2024-11-27T16:10:23.520Z"
   },
   {
    "duration": 406,
    "start_time": "2024-11-27T16:11:01.117Z"
   },
   {
    "duration": 418,
    "start_time": "2024-11-27T16:11:29.540Z"
   },
   {
    "duration": 356,
    "start_time": "2024-11-27T16:11:46.980Z"
   },
   {
    "duration": 423,
    "start_time": "2024-11-27T16:11:55.808Z"
   },
   {
    "duration": 392,
    "start_time": "2024-11-27T16:12:03.330Z"
   },
   {
    "duration": 261,
    "start_time": "2024-11-27T16:13:13.642Z"
   },
   {
    "duration": 336,
    "start_time": "2024-11-27T16:15:11.089Z"
   },
   {
    "duration": 43,
    "start_time": "2024-11-27T21:16:09.887Z"
   },
   {
    "duration": 786,
    "start_time": "2024-11-27T21:16:17.695Z"
   },
   {
    "duration": 97,
    "start_time": "2024-11-27T21:16:18.483Z"
   },
   {
    "duration": 4390,
    "start_time": "2024-11-27T21:16:18.581Z"
   },
   {
    "duration": 4269,
    "start_time": "2024-11-27T21:16:22.973Z"
   },
   {
    "duration": 151,
    "start_time": "2024-11-27T21:16:27.244Z"
   },
   {
    "duration": 72,
    "start_time": "2024-11-27T21:16:27.397Z"
   },
   {
    "duration": 6,
    "start_time": "2024-11-27T21:16:27.471Z"
   },
   {
    "duration": 150,
    "start_time": "2024-11-27T21:16:27.478Z"
   },
   {
    "duration": 113,
    "start_time": "2024-11-27T21:16:27.629Z"
   },
   {
    "duration": 253,
    "start_time": "2024-11-27T21:16:27.744Z"
   },
   {
    "duration": 263,
    "start_time": "2024-11-27T21:16:27.998Z"
   },
   {
    "duration": 179,
    "start_time": "2024-11-27T21:16:28.262Z"
   },
   {
    "duration": 324,
    "start_time": "2024-11-27T21:16:28.442Z"
   },
   {
    "duration": 257,
    "start_time": "2024-11-27T21:16:28.768Z"
   },
   {
    "duration": 317,
    "start_time": "2024-11-27T21:16:29.027Z"
   },
   {
    "duration": 850,
    "start_time": "2024-11-27T21:16:29.345Z"
   },
   {
    "duration": 803,
    "start_time": "2024-11-27T21:18:26.292Z"
   },
   {
    "duration": 126,
    "start_time": "2024-11-27T21:18:31.821Z"
   },
   {
    "duration": 424,
    "start_time": "2024-11-27T21:23:40.054Z"
   },
   {
    "duration": 178,
    "start_time": "2024-11-27T21:25:40.670Z"
   },
   {
    "duration": 837,
    "start_time": "2024-11-27T21:29:09.821Z"
   },
   {
    "duration": 1084,
    "start_time": "2024-11-27T21:29:21.842Z"
   },
   {
    "duration": 39,
    "start_time": "2024-11-27T21:29:22.928Z"
   },
   {
    "duration": 13,
    "start_time": "2024-11-27T21:29:22.969Z"
   },
   {
    "duration": 28,
    "start_time": "2024-11-27T21:29:22.983Z"
   },
   {
    "duration": 66,
    "start_time": "2024-11-27T21:29:23.013Z"
   },
   {
    "duration": 20,
    "start_time": "2024-11-27T21:29:23.081Z"
   },
   {
    "duration": 51,
    "start_time": "2024-11-27T21:29:23.103Z"
   },
   {
    "duration": 159,
    "start_time": "2024-11-27T21:29:23.156Z"
   },
   {
    "duration": 124,
    "start_time": "2024-11-27T21:29:23.320Z"
   },
   {
    "duration": 260,
    "start_time": "2024-11-27T21:29:23.446Z"
   },
   {
    "duration": 260,
    "start_time": "2024-11-27T21:29:23.707Z"
   },
   {
    "duration": 181,
    "start_time": "2024-11-27T21:29:23.969Z"
   },
   {
    "duration": 280,
    "start_time": "2024-11-27T21:29:24.151Z"
   },
   {
    "duration": 196,
    "start_time": "2024-11-27T21:29:24.433Z"
   },
   {
    "duration": 318,
    "start_time": "2024-11-27T21:29:24.631Z"
   },
   {
    "duration": 1152,
    "start_time": "2024-11-27T21:29:24.950Z"
   },
   {
    "duration": 728,
    "start_time": "2024-11-27T21:29:28.960Z"
   },
   {
    "duration": 123,
    "start_time": "2024-11-27T21:29:40.500Z"
   },
   {
    "duration": 115,
    "start_time": "2024-11-27T21:30:09.461Z"
   },
   {
    "duration": 171,
    "start_time": "2024-11-27T21:30:23.642Z"
   },
   {
    "duration": 121,
    "start_time": "2024-11-27T21:33:19.365Z"
   },
   {
    "duration": 127,
    "start_time": "2024-11-27T21:34:02.624Z"
   },
   {
    "duration": 123,
    "start_time": "2024-11-27T21:34:22.369Z"
   },
   {
    "duration": 59,
    "start_time": "2024-11-27T21:34:56.022Z"
   },
   {
    "duration": 817,
    "start_time": "2024-11-27T21:37:10.913Z"
   },
   {
    "duration": 4,
    "start_time": "2024-11-27T21:37:22.705Z"
   },
   {
    "duration": 66,
    "start_time": "2024-11-27T21:38:40.670Z"
   },
   {
    "duration": 5,
    "start_time": "2024-11-27T21:45:50.835Z"
   },
   {
    "duration": 15,
    "start_time": "2024-11-27T21:47:24.401Z"
   },
   {
    "duration": 63,
    "start_time": "2024-11-27T21:47:33.250Z"
   },
   {
    "duration": 9,
    "start_time": "2024-11-27T21:49:17.785Z"
   },
   {
    "duration": 106,
    "start_time": "2024-11-27T21:49:24.381Z"
   },
   {
    "duration": 98,
    "start_time": "2024-11-27T21:49:56.586Z"
   },
   {
    "duration": 104,
    "start_time": "2024-11-27T21:50:08.134Z"
   },
   {
    "duration": 58,
    "start_time": "2024-11-27T21:51:16.977Z"
   },
   {
    "duration": 60,
    "start_time": "2024-11-27T21:51:24.169Z"
   },
   {
    "duration": 786,
    "start_time": "2024-11-27T21:51:28.148Z"
   },
   {
    "duration": 62,
    "start_time": "2024-11-27T21:52:02.103Z"
   },
   {
    "duration": 261,
    "start_time": "2024-11-27T21:52:35.614Z"
   },
   {
    "duration": 287,
    "start_time": "2024-11-27T21:52:42.353Z"
   },
   {
    "duration": 12,
    "start_time": "2024-11-27T21:52:57.534Z"
   },
   {
    "duration": 118,
    "start_time": "2024-11-27T21:53:33.093Z"
   },
   {
    "duration": 835,
    "start_time": "2024-11-27T21:53:59.976Z"
   },
   {
    "duration": 120,
    "start_time": "2024-11-27T21:54:03.914Z"
   },
   {
    "duration": 14,
    "start_time": "2024-11-27T21:54:11.772Z"
   },
   {
    "duration": 6,
    "start_time": "2024-11-27T21:54:18.621Z"
   },
   {
    "duration": 120,
    "start_time": "2024-11-27T21:54:48.814Z"
   },
   {
    "duration": 107,
    "start_time": "2024-11-27T21:54:51.475Z"
   },
   {
    "duration": 114,
    "start_time": "2024-11-27T21:55:23.301Z"
   },
   {
    "duration": 5,
    "start_time": "2024-11-27T21:57:51.722Z"
   },
   {
    "duration": 5,
    "start_time": "2024-11-27T21:57:59.166Z"
   },
   {
    "duration": 114,
    "start_time": "2024-11-27T22:01:57.373Z"
   },
   {
    "duration": 141,
    "start_time": "2024-11-27T22:02:27.298Z"
   },
   {
    "duration": 51,
    "start_time": "2024-11-29T13:38:21.385Z"
   },
   {
    "duration": 1432,
    "start_time": "2024-11-29T13:38:26.070Z"
   },
   {
    "duration": 116,
    "start_time": "2024-11-29T13:38:27.504Z"
   },
   {
    "duration": 15,
    "start_time": "2024-11-29T13:38:27.622Z"
   },
   {
    "duration": 16,
    "start_time": "2024-11-29T13:38:27.638Z"
   },
   {
    "duration": 118,
    "start_time": "2024-11-29T13:38:27.656Z"
   },
   {
    "duration": 77,
    "start_time": "2024-11-29T13:38:27.776Z"
   },
   {
    "duration": 6,
    "start_time": "2024-11-29T13:38:27.855Z"
   },
   {
    "duration": 179,
    "start_time": "2024-11-29T13:38:27.863Z"
   },
   {
    "duration": 130,
    "start_time": "2024-11-29T13:38:28.044Z"
   },
   {
    "duration": 297,
    "start_time": "2024-11-29T13:38:28.176Z"
   },
   {
    "duration": 321,
    "start_time": "2024-11-29T13:38:28.474Z"
   },
   {
    "duration": 212,
    "start_time": "2024-11-29T13:38:28.796Z"
   },
   {
    "duration": 395,
    "start_time": "2024-11-29T13:38:29.010Z"
   },
   {
    "duration": 237,
    "start_time": "2024-11-29T13:38:29.407Z"
   },
   {
    "duration": 348,
    "start_time": "2024-11-29T13:38:29.646Z"
   },
   {
    "duration": 7,
    "start_time": "2024-11-29T13:38:29.995Z"
   },
   {
    "duration": 193,
    "start_time": "2024-11-29T13:38:30.003Z"
   },
   {
    "duration": 6,
    "start_time": "2024-11-29T13:38:30.197Z"
   },
   {
    "duration": 223,
    "start_time": "2024-11-29T13:38:30.384Z"
   },
   {
    "duration": 4,
    "start_time": "2024-11-29T13:40:32.587Z"
   },
   {
    "duration": 116,
    "start_time": "2024-11-29T13:46:21.747Z"
   },
   {
    "duration": 9,
    "start_time": "2024-11-29T13:47:26.321Z"
   },
   {
    "duration": 21,
    "start_time": "2024-11-29T13:47:45.444Z"
   },
   {
    "duration": 135,
    "start_time": "2024-11-29T13:48:32.534Z"
   },
   {
    "duration": 881,
    "start_time": "2024-11-29T13:48:32.671Z"
   },
   {
    "duration": 1038,
    "start_time": "2024-11-29T13:48:44.079Z"
   },
   {
    "duration": 137,
    "start_time": "2024-11-29T13:48:49.908Z"
   },
   {
    "duration": 140,
    "start_time": "2024-11-29T13:48:52.494Z"
   },
   {
    "duration": 351,
    "start_time": "2024-11-29T13:49:32.353Z"
   },
   {
    "duration": 220,
    "start_time": "2024-11-29T13:49:34.684Z"
   },
   {
    "duration": 224,
    "start_time": "2024-11-29T13:49:38.373Z"
   },
   {
    "duration": 15,
    "start_time": "2024-11-29T13:49:42.244Z"
   },
   {
    "duration": 3,
    "start_time": "2024-11-29T13:50:17.366Z"
   },
   {
    "duration": 218,
    "start_time": "2024-11-29T13:50:25.200Z"
   },
   {
    "duration": 14,
    "start_time": "2024-11-29T13:50:30.191Z"
   },
   {
    "duration": 184,
    "start_time": "2024-11-29T13:50:47.000Z"
   },
   {
    "duration": 13,
    "start_time": "2024-11-29T13:50:49.205Z"
   },
   {
    "duration": 7,
    "start_time": "2024-11-29T13:51:59.878Z"
   },
   {
    "duration": 14,
    "start_time": "2024-11-29T13:52:05.098Z"
   },
   {
    "duration": 88,
    "start_time": "2024-11-29T13:52:53.632Z"
   },
   {
    "duration": 84,
    "start_time": "2024-11-29T13:53:32.241Z"
   },
   {
    "duration": 5,
    "start_time": "2024-11-29T13:53:41.173Z"
   },
   {
    "duration": 1186,
    "start_time": "2024-11-29T13:53:47.793Z"
   },
   {
    "duration": 40,
    "start_time": "2024-11-29T13:53:48.981Z"
   },
   {
    "duration": 15,
    "start_time": "2024-11-29T13:53:49.023Z"
   },
   {
    "duration": 15,
    "start_time": "2024-11-29T13:53:49.040Z"
   },
   {
    "duration": 60,
    "start_time": "2024-11-29T13:53:49.057Z"
   },
   {
    "duration": 25,
    "start_time": "2024-11-29T13:53:49.119Z"
   },
   {
    "duration": 20,
    "start_time": "2024-11-29T13:53:49.146Z"
   },
   {
    "duration": 175,
    "start_time": "2024-11-29T13:53:49.168Z"
   },
   {
    "duration": 129,
    "start_time": "2024-11-29T13:53:49.345Z"
   },
   {
    "duration": 303,
    "start_time": "2024-11-29T13:53:49.475Z"
   },
   {
    "duration": 303,
    "start_time": "2024-11-29T13:53:49.779Z"
   },
   {
    "duration": 214,
    "start_time": "2024-11-29T13:53:50.084Z"
   },
   {
    "duration": 297,
    "start_time": "2024-11-29T13:53:50.299Z"
   },
   {
    "duration": 235,
    "start_time": "2024-11-29T13:53:50.598Z"
   },
   {
    "duration": 369,
    "start_time": "2024-11-29T13:53:50.834Z"
   },
   {
    "duration": 8,
    "start_time": "2024-11-29T13:53:51.205Z"
   },
   {
    "duration": 163,
    "start_time": "2024-11-29T13:53:51.215Z"
   },
   {
    "duration": 7,
    "start_time": "2024-11-29T13:53:51.380Z"
   },
   {
    "duration": 167,
    "start_time": "2024-11-29T13:53:51.389Z"
   },
   {
    "duration": 5,
    "start_time": "2024-11-29T13:53:51.558Z"
   },
   {
    "duration": 299,
    "start_time": "2024-11-29T13:53:51.565Z"
   },
   {
    "duration": 1,
    "start_time": "2024-11-29T13:53:51.866Z"
   },
   {
    "duration": 0,
    "start_time": "2024-11-29T13:53:51.868Z"
   },
   {
    "duration": 0,
    "start_time": "2024-11-29T13:53:51.869Z"
   },
   {
    "duration": 0,
    "start_time": "2024-11-29T13:53:51.870Z"
   },
   {
    "duration": 108,
    "start_time": "2024-11-29T13:54:05.933Z"
   },
   {
    "duration": 228,
    "start_time": "2024-11-29T13:54:20.199Z"
   },
   {
    "duration": 150,
    "start_time": "2024-11-29T13:54:22.824Z"
   },
   {
    "duration": 6,
    "start_time": "2024-11-29T13:54:25.093Z"
   },
   {
    "duration": 7,
    "start_time": "2024-11-29T13:54:27.433Z"
   },
   {
    "duration": 6,
    "start_time": "2024-11-29T13:54:33.172Z"
   },
   {
    "duration": 23,
    "start_time": "2024-11-29T13:55:17.701Z"
   },
   {
    "duration": 182,
    "start_time": "2024-11-29T13:55:56.716Z"
   },
   {
    "duration": 83,
    "start_time": "2024-11-29T13:56:08.504Z"
   },
   {
    "duration": 74,
    "start_time": "2024-11-29T13:56:12.331Z"
   },
   {
    "duration": 61,
    "start_time": "2024-11-29T13:56:20.072Z"
   },
   {
    "duration": 72,
    "start_time": "2024-11-29T13:56:23.670Z"
   },
   {
    "duration": 81,
    "start_time": "2024-11-29T13:56:29.948Z"
   },
   {
    "duration": 83,
    "start_time": "2024-11-29T13:56:35.888Z"
   },
   {
    "duration": 64,
    "start_time": "2024-11-29T13:56:44.550Z"
   },
   {
    "duration": 63,
    "start_time": "2024-11-29T13:56:54.176Z"
   },
   {
    "duration": 68,
    "start_time": "2024-11-29T13:57:03.314Z"
   },
   {
    "duration": 163,
    "start_time": "2024-11-29T13:57:18.639Z"
   },
   {
    "duration": 257,
    "start_time": "2024-11-29T14:03:05.648Z"
   },
   {
    "duration": 129,
    "start_time": "2024-11-29T14:03:44.968Z"
   },
   {
    "duration": 7,
    "start_time": "2024-11-29T14:05:38.061Z"
   },
   {
    "duration": 6,
    "start_time": "2024-11-29T14:06:10.627Z"
   },
   {
    "duration": 11,
    "start_time": "2024-11-29T14:10:53.755Z"
   },
   {
    "duration": 849,
    "start_time": "2024-11-29T14:15:59.104Z"
   },
   {
    "duration": 10,
    "start_time": "2024-11-29T14:16:19.804Z"
   },
   {
    "duration": 8,
    "start_time": "2024-11-29T14:17:41.007Z"
   },
   {
    "duration": 27,
    "start_time": "2024-11-29T14:17:51.469Z"
   },
   {
    "duration": 10,
    "start_time": "2024-11-29T14:18:43.357Z"
   },
   {
    "duration": 10,
    "start_time": "2024-11-29T14:18:48.372Z"
   },
   {
    "duration": 9,
    "start_time": "2024-11-29T14:18:51.345Z"
   },
   {
    "duration": 108,
    "start_time": "2024-11-29T14:20:51.268Z"
   },
   {
    "duration": 13,
    "start_time": "2024-11-29T14:21:20.901Z"
   },
   {
    "duration": 65,
    "start_time": "2024-11-29T14:21:59.242Z"
   },
   {
    "duration": 15,
    "start_time": "2024-11-29T14:24:24.165Z"
   },
   {
    "duration": 80,
    "start_time": "2024-11-29T14:41:53.755Z"
   },
   {
    "duration": 57,
    "start_time": "2024-11-30T09:22:37.718Z"
   },
   {
    "duration": 1511,
    "start_time": "2024-11-30T09:22:47.286Z"
   },
   {
    "duration": 72,
    "start_time": "2024-11-30T09:22:48.799Z"
   },
   {
    "duration": 19,
    "start_time": "2024-11-30T09:22:48.872Z"
   },
   {
    "duration": 16,
    "start_time": "2024-11-30T09:22:48.893Z"
   },
   {
    "duration": 106,
    "start_time": "2024-11-30T09:22:48.911Z"
   },
   {
    "duration": 76,
    "start_time": "2024-11-30T09:22:49.019Z"
   },
   {
    "duration": 6,
    "start_time": "2024-11-30T09:22:49.096Z"
   },
   {
    "duration": 174,
    "start_time": "2024-11-30T09:22:49.104Z"
   },
   {
    "duration": 149,
    "start_time": "2024-11-30T09:22:49.279Z"
   },
   {
    "duration": 306,
    "start_time": "2024-11-30T09:22:49.431Z"
   },
   {
    "duration": 336,
    "start_time": "2024-11-30T09:22:49.739Z"
   },
   {
    "duration": 238,
    "start_time": "2024-11-30T09:22:50.077Z"
   },
   {
    "duration": 365,
    "start_time": "2024-11-30T09:22:50.316Z"
   },
   {
    "duration": 246,
    "start_time": "2024-11-30T09:22:50.683Z"
   },
   {
    "duration": 352,
    "start_time": "2024-11-30T09:22:50.931Z"
   },
   {
    "duration": 7,
    "start_time": "2024-11-30T09:22:51.285Z"
   },
   {
    "duration": 173,
    "start_time": "2024-11-30T09:22:51.293Z"
   },
   {
    "duration": 6,
    "start_time": "2024-11-30T09:22:51.468Z"
   },
   {
    "duration": 200,
    "start_time": "2024-11-30T09:22:51.475Z"
   },
   {
    "duration": 6,
    "start_time": "2024-11-30T09:22:51.677Z"
   },
   {
    "duration": 357,
    "start_time": "2024-11-30T09:22:51.684Z"
   },
   {
    "duration": 147,
    "start_time": "2024-11-30T09:22:52.042Z"
   },
   {
    "duration": 6,
    "start_time": "2024-11-30T09:22:52.191Z"
   },
   {
    "duration": 21,
    "start_time": "2024-11-30T09:22:52.199Z"
   },
   {
    "duration": 6,
    "start_time": "2024-11-30T09:22:52.222Z"
   },
   {
    "duration": 174,
    "start_time": "2024-11-30T09:22:52.230Z"
   },
   {
    "duration": 18,
    "start_time": "2024-11-30T09:22:52.405Z"
   },
   {
    "duration": 10,
    "start_time": "2024-11-30T09:22:52.426Z"
   },
   {
    "duration": 23,
    "start_time": "2024-11-30T09:22:52.438Z"
   },
   {
    "duration": 25,
    "start_time": "2024-11-30T09:22:52.462Z"
   },
   {
    "duration": 14,
    "start_time": "2024-11-30T09:22:52.489Z"
   },
   {
    "duration": 28,
    "start_time": "2024-11-30T09:26:29.137Z"
   },
   {
    "duration": 26,
    "start_time": "2024-11-30T09:26:49.207Z"
   },
   {
    "duration": 32,
    "start_time": "2024-11-30T09:26:55.192Z"
   },
   {
    "duration": 27,
    "start_time": "2024-11-30T09:27:06.757Z"
   },
   {
    "duration": 29,
    "start_time": "2024-11-30T09:27:13.905Z"
   },
   {
    "duration": 90,
    "start_time": "2024-11-30T09:27:23.834Z"
   },
   {
    "duration": 27,
    "start_time": "2024-11-30T09:27:27.413Z"
   },
   {
    "duration": 32,
    "start_time": "2024-11-30T09:28:00.624Z"
   },
   {
    "duration": 32,
    "start_time": "2024-11-30T09:28:09.310Z"
   },
   {
    "duration": 33,
    "start_time": "2024-11-30T09:28:15.112Z"
   },
   {
    "duration": 32,
    "start_time": "2024-11-30T09:28:17.992Z"
   },
   {
    "duration": 388,
    "start_time": "2024-11-30T09:28:42.361Z"
   },
   {
    "duration": 15,
    "start_time": "2024-11-30T09:30:18.009Z"
   },
   {
    "duration": 18,
    "start_time": "2024-11-30T09:31:00.017Z"
   },
   {
    "duration": 16,
    "start_time": "2024-11-30T09:31:04.608Z"
   },
   {
    "duration": 15,
    "start_time": "2024-11-30T09:31:09.917Z"
   },
   {
    "duration": 33,
    "start_time": "2024-11-30T09:31:49.349Z"
   },
   {
    "duration": 105,
    "start_time": "2024-11-30T09:32:32.562Z"
   },
   {
    "duration": 5,
    "start_time": "2024-11-30T09:32:38.703Z"
   },
   {
    "duration": 4,
    "start_time": "2024-11-30T09:32:50.314Z"
   },
   {
    "duration": 4,
    "start_time": "2024-11-30T09:32:56.479Z"
   },
   {
    "duration": 98,
    "start_time": "2024-11-30T09:33:06.649Z"
   },
   {
    "duration": 5,
    "start_time": "2024-11-30T09:34:03.395Z"
   },
   {
    "duration": 5,
    "start_time": "2024-11-30T09:34:26.570Z"
   },
   {
    "duration": 4,
    "start_time": "2024-11-30T09:34:30.104Z"
   },
   {
    "duration": 4,
    "start_time": "2024-11-30T09:34:35.481Z"
   },
   {
    "duration": 4,
    "start_time": "2024-11-30T09:34:37.123Z"
   },
   {
    "duration": 4,
    "start_time": "2024-11-30T09:34:38.226Z"
   },
   {
    "duration": 4,
    "start_time": "2024-11-30T09:34:39.783Z"
   },
   {
    "duration": 6,
    "start_time": "2024-11-30T09:36:05.383Z"
   },
   {
    "duration": 93,
    "start_time": "2024-11-30T09:38:38.283Z"
   },
   {
    "duration": 14,
    "start_time": "2024-11-30T09:38:48.677Z"
   },
   {
    "duration": 6,
    "start_time": "2024-11-30T09:38:58.952Z"
   },
   {
    "duration": 9,
    "start_time": "2024-11-30T09:39:31.471Z"
   },
   {
    "duration": 9,
    "start_time": "2024-11-30T09:39:34.690Z"
   },
   {
    "duration": 8,
    "start_time": "2024-11-30T09:39:46.344Z"
   },
   {
    "duration": 21,
    "start_time": "2024-11-30T09:41:23.411Z"
   },
   {
    "duration": 10,
    "start_time": "2024-11-30T09:41:50.950Z"
   },
   {
    "duration": 6,
    "start_time": "2024-11-30T09:41:56.800Z"
   },
   {
    "duration": 11,
    "start_time": "2024-11-30T09:42:29.450Z"
   },
   {
    "duration": 11,
    "start_time": "2024-11-30T09:42:35.592Z"
   },
   {
    "duration": 9,
    "start_time": "2024-11-30T09:42:47.997Z"
   },
   {
    "duration": 5,
    "start_time": "2024-11-30T09:43:27.027Z"
   },
   {
    "duration": 109,
    "start_time": "2024-11-30T09:44:27.823Z"
   },
   {
    "duration": 12,
    "start_time": "2024-11-30T09:47:07.981Z"
   },
   {
    "duration": 10,
    "start_time": "2024-11-30T09:47:23.557Z"
   },
   {
    "duration": 117,
    "start_time": "2024-11-30T09:47:48.572Z"
   },
   {
    "duration": 8,
    "start_time": "2024-11-30T09:47:53.047Z"
   },
   {
    "duration": 9,
    "start_time": "2024-11-30T09:47:56.107Z"
   },
   {
    "duration": 11,
    "start_time": "2024-11-30T09:47:59.595Z"
   },
   {
    "duration": 11,
    "start_time": "2024-11-30T09:48:06.751Z"
   },
   {
    "duration": 6,
    "start_time": "2024-11-30T09:48:25.444Z"
   },
   {
    "duration": 6,
    "start_time": "2024-11-30T09:48:27.855Z"
   },
   {
    "duration": 14,
    "start_time": "2024-11-30T09:48:44.416Z"
   },
   {
    "duration": 11,
    "start_time": "2024-11-30T09:48:55.835Z"
   },
   {
    "duration": 11,
    "start_time": "2024-11-30T09:49:05.340Z"
   },
   {
    "duration": 93,
    "start_time": "2024-11-30T09:49:51.442Z"
   },
   {
    "duration": 54,
    "start_time": "2024-12-02T15:14:45.174Z"
   },
   {
    "duration": 1508,
    "start_time": "2024-12-02T15:14:53.072Z"
   },
   {
    "duration": 105,
    "start_time": "2024-12-02T15:14:54.583Z"
   },
   {
    "duration": 16,
    "start_time": "2024-12-02T15:14:54.691Z"
   },
   {
    "duration": 17,
    "start_time": "2024-12-02T15:14:54.710Z"
   },
   {
    "duration": 116,
    "start_time": "2024-12-02T15:14:54.728Z"
   },
   {
    "duration": 77,
    "start_time": "2024-12-02T15:14:54.846Z"
   },
   {
    "duration": 5,
    "start_time": "2024-12-02T15:14:54.925Z"
   },
   {
    "duration": 8,
    "start_time": "2024-12-02T15:14:54.932Z"
   },
   {
    "duration": 19,
    "start_time": "2024-12-02T15:14:54.942Z"
   },
   {
    "duration": 26,
    "start_time": "2024-12-02T15:14:54.962Z"
   },
   {
    "duration": 16,
    "start_time": "2024-12-02T15:14:54.990Z"
   },
   {
    "duration": 13,
    "start_time": "2024-12-02T15:14:55.008Z"
   },
   {
    "duration": 10,
    "start_time": "2024-12-02T15:14:55.025Z"
   },
   {
    "duration": 26,
    "start_time": "2024-12-02T15:14:55.036Z"
   },
   {
    "duration": 24,
    "start_time": "2024-12-02T15:14:55.064Z"
   },
   {
    "duration": 192,
    "start_time": "2024-12-02T15:14:55.090Z"
   },
   {
    "duration": 144,
    "start_time": "2024-12-02T15:14:55.284Z"
   },
   {
    "duration": 326,
    "start_time": "2024-12-02T15:14:55.430Z"
   },
   {
    "duration": 332,
    "start_time": "2024-12-02T15:14:55.758Z"
   },
   {
    "duration": 229,
    "start_time": "2024-12-02T15:14:56.092Z"
   },
   {
    "duration": 397,
    "start_time": "2024-12-02T15:14:56.323Z"
   },
   {
    "duration": 267,
    "start_time": "2024-12-02T15:14:56.722Z"
   },
   {
    "duration": 331,
    "start_time": "2024-12-02T15:14:56.991Z"
   },
   {
    "duration": 6,
    "start_time": "2024-12-02T15:14:57.324Z"
   },
   {
    "duration": 179,
    "start_time": "2024-12-02T15:14:57.332Z"
   },
   {
    "duration": 5,
    "start_time": "2024-12-02T15:14:57.513Z"
   },
   {
    "duration": 164,
    "start_time": "2024-12-02T15:14:57.520Z"
   },
   {
    "duration": 5,
    "start_time": "2024-12-02T15:14:57.686Z"
   },
   {
    "duration": 323,
    "start_time": "2024-12-02T15:14:57.693Z"
   },
   {
    "duration": 146,
    "start_time": "2024-12-02T15:14:58.018Z"
   },
   {
    "duration": 8,
    "start_time": "2024-12-02T15:14:58.166Z"
   },
   {
    "duration": 35,
    "start_time": "2024-12-02T15:14:58.176Z"
   },
   {
    "duration": 31,
    "start_time": "2024-12-02T15:14:58.212Z"
   },
   {
    "duration": 196,
    "start_time": "2024-12-02T15:14:58.246Z"
   },
   {
    "duration": 19,
    "start_time": "2024-12-02T15:14:58.444Z"
   },
   {
    "duration": 15,
    "start_time": "2024-12-02T15:14:58.464Z"
   },
   {
    "duration": 46,
    "start_time": "2024-12-02T15:14:58.481Z"
   },
   {
    "duration": 42,
    "start_time": "2024-12-02T15:14:58.529Z"
   },
   {
    "duration": 40,
    "start_time": "2024-12-02T15:14:58.573Z"
   },
   {
    "duration": 337,
    "start_time": "2024-12-02T15:15:09.223Z"
   },
   {
    "duration": 297,
    "start_time": "2024-12-02T15:15:11.812Z"
   },
   {
    "duration": 68,
    "start_time": "2024-12-02T15:15:31.296Z"
   },
   {
    "duration": 70,
    "start_time": "2024-12-02T15:17:49.474Z"
   },
   {
    "duration": 162,
    "start_time": "2024-12-02T15:21:37.892Z"
   },
   {
    "duration": 155,
    "start_time": "2024-12-02T15:21:51.819Z"
   },
   {
    "duration": 12,
    "start_time": "2024-12-02T15:23:19.419Z"
   },
   {
    "duration": 12,
    "start_time": "2024-12-02T15:23:28.525Z"
   },
   {
    "duration": 10,
    "start_time": "2024-12-02T15:23:33.789Z"
   },
   {
    "duration": 11,
    "start_time": "2024-12-02T15:23:36.693Z"
   },
   {
    "duration": 9,
    "start_time": "2024-12-02T15:23:52.174Z"
   },
   {
    "duration": 27,
    "start_time": "2024-12-02T15:24:13.705Z"
   },
   {
    "duration": 27,
    "start_time": "2024-12-02T15:24:21.243Z"
   },
   {
    "duration": 26,
    "start_time": "2024-12-02T15:24:34.157Z"
   },
   {
    "duration": 13,
    "start_time": "2024-12-02T15:24:49.525Z"
   },
   {
    "duration": 13,
    "start_time": "2024-12-02T15:25:24.134Z"
   },
   {
    "duration": 65,
    "start_time": "2024-12-03T17:23:53.327Z"
   },
   {
    "duration": 1449,
    "start_time": "2024-12-03T17:24:01.561Z"
   },
   {
    "duration": 88,
    "start_time": "2024-12-03T17:24:03.013Z"
   },
   {
    "duration": 21,
    "start_time": "2024-12-03T17:24:03.103Z"
   },
   {
    "duration": 25,
    "start_time": "2024-12-03T17:24:03.127Z"
   },
   {
    "duration": 123,
    "start_time": "2024-12-03T17:24:03.155Z"
   },
   {
    "duration": 73,
    "start_time": "2024-12-03T17:24:03.280Z"
   },
   {
    "duration": 5,
    "start_time": "2024-12-03T17:24:03.355Z"
   },
   {
    "duration": 45,
    "start_time": "2024-12-03T17:24:03.362Z"
   },
   {
    "duration": 7,
    "start_time": "2024-12-03T17:24:03.408Z"
   },
   {
    "duration": 54,
    "start_time": "2024-12-03T17:24:03.418Z"
   },
   {
    "duration": 27,
    "start_time": "2024-12-03T17:24:03.474Z"
   },
   {
    "duration": 48,
    "start_time": "2024-12-03T17:24:03.502Z"
   },
   {
    "duration": 56,
    "start_time": "2024-12-03T17:24:03.552Z"
   },
   {
    "duration": 30,
    "start_time": "2024-12-03T17:24:03.610Z"
   },
   {
    "duration": 21,
    "start_time": "2024-12-03T17:24:03.642Z"
   },
   {
    "duration": 197,
    "start_time": "2024-12-03T17:24:03.664Z"
   },
   {
    "duration": 133,
    "start_time": "2024-12-03T17:24:03.863Z"
   },
   {
    "duration": 291,
    "start_time": "2024-12-03T17:24:03.998Z"
   },
   {
    "duration": 297,
    "start_time": "2024-12-03T17:24:04.290Z"
   },
   {
    "duration": 237,
    "start_time": "2024-12-03T17:24:04.589Z"
   },
   {
    "duration": 363,
    "start_time": "2024-12-03T17:24:04.828Z"
   },
   {
    "duration": 233,
    "start_time": "2024-12-03T17:24:05.192Z"
   },
   {
    "duration": 338,
    "start_time": "2024-12-03T17:24:05.427Z"
   },
   {
    "duration": 7,
    "start_time": "2024-12-03T17:24:05.768Z"
   },
   {
    "duration": 185,
    "start_time": "2024-12-03T17:24:05.777Z"
   },
   {
    "duration": 6,
    "start_time": "2024-12-03T17:24:05.964Z"
   },
   {
    "duration": 157,
    "start_time": "2024-12-03T17:24:05.971Z"
   },
   {
    "duration": 10,
    "start_time": "2024-12-03T17:24:06.132Z"
   },
   {
    "duration": 309,
    "start_time": "2024-12-03T17:24:06.144Z"
   },
   {
    "duration": 135,
    "start_time": "2024-12-03T17:24:06.455Z"
   },
   {
    "duration": 51,
    "start_time": "2024-12-03T17:24:06.592Z"
   },
   {
    "duration": 45,
    "start_time": "2024-12-03T17:24:06.645Z"
   },
   {
    "duration": 28,
    "start_time": "2024-12-03T17:24:06.692Z"
   },
   {
    "duration": 215,
    "start_time": "2024-12-03T17:24:06.722Z"
   },
   {
    "duration": 37,
    "start_time": "2024-12-03T17:24:06.943Z"
   },
   {
    "duration": 12,
    "start_time": "2024-12-03T17:24:06.982Z"
   },
   {
    "duration": 15,
    "start_time": "2024-12-03T17:24:06.995Z"
   },
   {
    "duration": 60,
    "start_time": "2024-12-03T17:24:07.012Z"
   },
   {
    "duration": 28,
    "start_time": "2024-12-03T17:24:07.074Z"
   },
   {
    "duration": 312,
    "start_time": "2024-12-03T17:24:15.062Z"
   },
   {
    "duration": 226,
    "start_time": "2024-12-03T17:24:30.142Z"
   },
   {
    "duration": 342,
    "start_time": "2024-12-03T17:24:37.090Z"
   }
  ],
  "kernelspec": {
   "display_name": "Python 3 (ipykernel)",
   "language": "python",
   "name": "python3"
  },
  "language_info": {
   "codemirror_mode": {
    "name": "ipython",
    "version": 3
   },
   "file_extension": ".py",
   "mimetype": "text/x-python",
   "name": "python",
   "nbconvert_exporter": "python",
   "pygments_lexer": "ipython3",
   "version": "3.12.7"
  },
  "toc": {
   "base_numbering": 1,
   "nav_menu": {},
   "number_sections": true,
   "sideBar": true,
   "skip_h1_title": true,
   "title_cell": "Table of Contents",
   "title_sidebar": "Contents",
   "toc_cell": false,
   "toc_position": {},
   "toc_section_display": true,
   "toc_window_display": false
  }
 },
 "nbformat": 4,
 "nbformat_minor": 4
}
